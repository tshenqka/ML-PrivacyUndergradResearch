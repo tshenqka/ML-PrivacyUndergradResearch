{
 "cells": [
  {
   "cell_type": "code",
   "execution_count": 23,
   "id": "bd6bcae8",
   "metadata": {},
   "outputs": [
    {
     "name": "stdout",
     "output_type": "stream",
     "text": [
      "Baseline Logistic Regression F1 Score: 0.761904761904762\n"
     ]
    }
   ],
   "source": [
    "from sdv.datasets.demo import download_demo\n",
    "from sdmetrics.single_table import BinaryLogisticRegression\n",
    "\n",
    "real_data, _ = download_demo(\n",
    "    modality='single_table',\n",
    "    dataset_name='fake_hotel_guests'\n",
    ")\n",
    "\n",
    "# define columns to be dropped - for simplicity\n",
    "columns_to_drop = ['guest_email', 'billing_address', 'credit_card_number', 'checkin_date', 'checkout_date']\n",
    "\n",
    "\n",
    "# drop the specified columns\n",
    "real_data_cleaned = real_data.drop(columns=columns_to_drop)\n",
    "\n",
    "# generate updated metadata\n",
    "from sdv.metadata import SingleTableMetadata\n",
    "metadata = SingleTableMetadata()\n",
    "metadata.detect_from_dataframe(data=real_data_cleaned)\n",
    "\n",
    "# split data into training and test sets\n",
    "from sklearn.model_selection import train_test_split\n",
    "real_data_train, real_data_test = train_test_split(\n",
    "    real_data_cleaned,\n",
    "    test_size=0.2, # reserves 20% for testing\n",
    "    random_state=42\n",
    ")\n",
    "\n",
    "# define target columns\n",
    "target_column = 'has_rewards'\n",
    "\n",
    "# compute baseline\n",
    "baseline_score = BinaryLogisticRegression.compute(\n",
    "    test_data=real_data_test,\n",
    "    train_data=real_data_train,\n",
    "    target=target_column,\n",
    ")\n",
    "\n",
    "print(f'Baseline Logistic Regression F1 Score: {baseline_score}')"
   ]
  },
  {
   "cell_type": "code",
   "execution_count": 24,
   "id": "4cdf1d87",
   "metadata": {
    "scrolled": false
   },
   "outputs": [],
   "source": [
    "# here we start synthesizing data\n",
    "from sdv.lite import SingleTablePreset\n",
    "\n",
    "synthesizer = SingleTablePreset(\n",
    "    metadata,\n",
    "    name='FAST_ML'\n",
    ")\n",
    "\n",
    "# make sure to only use the train set to prevent data leakage\n",
    "synthesizer.fit(\n",
    "    data=real_data_train\n",
    ")\n",
    "\n",
    "synthetic_data = synthesizer.sample(\n",
    "    num_rows=500\n",
    ")"
   ]
  },
  {
   "cell_type": "code",
   "execution_count": 27,
   "id": "11232f8e",
   "metadata": {},
   "outputs": [
    {
     "name": "stdout",
     "output_type": "stream",
     "text": [
      "Logistic regression score is 0.45714285714285713\n"
     ]
    }
   ],
   "source": [
    "# here we compute efficacy of our synthetic data in binary classification prediction\n",
    "\n",
    "logistic_regression_score = BinaryLogisticRegression.compute(\n",
    "    test_data=real_data_test,\n",
    "    train_data=synthetic_data,\n",
    "    target='has_rewards',\n",
    "    metadata=metadata\n",
    ")\n",
    "\n",
    "print(f'Logistic regression score is {logistic_regression_score}')"
   ]
  },
  {
   "cell_type": "markdown",
   "id": "085b5f57",
   "metadata": {},
   "source": [
    "We could derive other metrics to evaluate the synthetic data:\n",
    "\n",
    "- Ratio: Close to 1 means synthetic data is almost as good. >1 could indicate overfitting. <1 indicates missing characteristics\n",
    "- Absolute Difference: Measure performance decrease\n",
    "- Cross validation:\n",
    "- Learnign curves: Plot learning curves by training models on increasing amounts of synthetic data and plotting the performance on the real test set\n",
    "- Model interpretation: Use tools like SHAP or LIME to compare explanations for predictions on real and syn data"
   ]
  }
 ],
 "metadata": {
  "kernelspec": {
   "display_name": "Python 3 (ipykernel)",
   "language": "python",
   "name": "python3"
  },
  "language_info": {
   "codemirror_mode": {
    "name": "ipython",
    "version": 3
   },
   "file_extension": ".py",
   "mimetype": "text/x-python",
   "name": "python",
   "nbconvert_exporter": "python",
   "pygments_lexer": "ipython3",
   "version": "3.11.4"
  }
 },
 "nbformat": 4,
 "nbformat_minor": 5
}
