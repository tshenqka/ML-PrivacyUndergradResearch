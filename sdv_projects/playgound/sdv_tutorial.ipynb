{
 "cells": [
  {
   "cell_type": "code",
   "execution_count": 1,
   "id": "ca1a28e8",
   "metadata": {},
   "outputs": [],
   "source": [
    "from sdv.datasets.demo import download_demo\n",
    "\n",
    "real_data, metadata = download_demo(\n",
    "    modality='single_table',\n",
    "    dataset_name='fake_hotel_guests'\n",
    ")\n"
   ]
  },
  {
   "cell_type": "code",
   "execution_count": 2,
   "id": "81755e69",
   "metadata": {},
   "outputs": [
    {
     "data": {
      "text/html": [
       "<div>\n",
       "<style scoped>\n",
       "    .dataframe tbody tr th:only-of-type {\n",
       "        vertical-align: middle;\n",
       "    }\n",
       "\n",
       "    .dataframe tbody tr th {\n",
       "        vertical-align: top;\n",
       "    }\n",
       "\n",
       "    .dataframe thead th {\n",
       "        text-align: right;\n",
       "    }\n",
       "</style>\n",
       "<table border=\"1\" class=\"dataframe\">\n",
       "  <thead>\n",
       "    <tr style=\"text-align: right;\">\n",
       "      <th></th>\n",
       "      <th>guest_email</th>\n",
       "      <th>has_rewards</th>\n",
       "      <th>room_type</th>\n",
       "      <th>amenities_fee</th>\n",
       "      <th>checkin_date</th>\n",
       "      <th>checkout_date</th>\n",
       "      <th>room_rate</th>\n",
       "      <th>billing_address</th>\n",
       "      <th>credit_card_number</th>\n",
       "    </tr>\n",
       "  </thead>\n",
       "  <tbody>\n",
       "    <tr>\n",
       "      <th>0</th>\n",
       "      <td>michaelsanders@shaw.net</td>\n",
       "      <td>False</td>\n",
       "      <td>BASIC</td>\n",
       "      <td>37.89</td>\n",
       "      <td>27 Dec 2020</td>\n",
       "      <td>29 Dec 2020</td>\n",
       "      <td>131.23</td>\n",
       "      <td>49380 Rivers Street\\nSpencerville, AK 68265</td>\n",
       "      <td>4075084747483975747</td>\n",
       "    </tr>\n",
       "    <tr>\n",
       "      <th>1</th>\n",
       "      <td>randy49@brown.biz</td>\n",
       "      <td>False</td>\n",
       "      <td>BASIC</td>\n",
       "      <td>24.37</td>\n",
       "      <td>30 Dec 2020</td>\n",
       "      <td>02 Jan 2021</td>\n",
       "      <td>114.43</td>\n",
       "      <td>88394 Boyle Meadows\\nConleyberg, TN 22063</td>\n",
       "      <td>180072822063468</td>\n",
       "    </tr>\n",
       "    <tr>\n",
       "      <th>2</th>\n",
       "      <td>webermelissa@neal.com</td>\n",
       "      <td>True</td>\n",
       "      <td>DELUXE</td>\n",
       "      <td>0.00</td>\n",
       "      <td>17 Sep 2020</td>\n",
       "      <td>18 Sep 2020</td>\n",
       "      <td>368.33</td>\n",
       "      <td>0323 Lisa Station Apt. 208\\nPort Thomas, LA 82585</td>\n",
       "      <td>38983476971380</td>\n",
       "    </tr>\n",
       "    <tr>\n",
       "      <th>3</th>\n",
       "      <td>gsims@terry.com</td>\n",
       "      <td>False</td>\n",
       "      <td>BASIC</td>\n",
       "      <td>NaN</td>\n",
       "      <td>28 Dec 2020</td>\n",
       "      <td>31 Dec 2020</td>\n",
       "      <td>115.61</td>\n",
       "      <td>77 Massachusetts Ave\\nCambridge, MA 02139</td>\n",
       "      <td>4969551998845740</td>\n",
       "    </tr>\n",
       "    <tr>\n",
       "      <th>4</th>\n",
       "      <td>misty33@smith.biz</td>\n",
       "      <td>False</td>\n",
       "      <td>BASIC</td>\n",
       "      <td>16.45</td>\n",
       "      <td>05 Apr 2020</td>\n",
       "      <td>NaN</td>\n",
       "      <td>122.41</td>\n",
       "      <td>1234 Corporate Drive\\nBoston, MA 02116</td>\n",
       "      <td>3558512986488983</td>\n",
       "    </tr>\n",
       "  </tbody>\n",
       "</table>\n",
       "</div>"
      ],
      "text/plain": [
       "               guest_email  has_rewards room_type  amenities_fee checkin_date  \\\n",
       "0  michaelsanders@shaw.net        False     BASIC          37.89  27 Dec 2020   \n",
       "1        randy49@brown.biz        False     BASIC          24.37  30 Dec 2020   \n",
       "2    webermelissa@neal.com         True    DELUXE           0.00  17 Sep 2020   \n",
       "3          gsims@terry.com        False     BASIC            NaN  28 Dec 2020   \n",
       "4        misty33@smith.biz        False     BASIC          16.45  05 Apr 2020   \n",
       "\n",
       "  checkout_date  room_rate                                    billing_address  \\\n",
       "0   29 Dec 2020     131.23        49380 Rivers Street\\nSpencerville, AK 68265   \n",
       "1   02 Jan 2021     114.43          88394 Boyle Meadows\\nConleyberg, TN 22063   \n",
       "2   18 Sep 2020     368.33  0323 Lisa Station Apt. 208\\nPort Thomas, LA 82585   \n",
       "3   31 Dec 2020     115.61          77 Massachusetts Ave\\nCambridge, MA 02139   \n",
       "4           NaN     122.41             1234 Corporate Drive\\nBoston, MA 02116   \n",
       "\n",
       "    credit_card_number  \n",
       "0  4075084747483975747  \n",
       "1      180072822063468  \n",
       "2       38983476971380  \n",
       "3     4969551998845740  \n",
       "4     3558512986488983  "
      ]
     },
     "execution_count": 2,
     "metadata": {},
     "output_type": "execute_result"
    }
   ],
   "source": [
    "real_data.head()"
   ]
  },
  {
   "cell_type": "code",
   "execution_count": 3,
   "id": "bce208f1",
   "metadata": {},
   "outputs": [
    {
     "data": {
      "image/svg+xml": [
       "<?xml version=\"1.0\" encoding=\"UTF-8\" standalone=\"no\"?>\n",
       "<!DOCTYPE svg PUBLIC \"-//W3C//DTD SVG 1.1//EN\"\n",
       " \"http://www.w3.org/Graphics/SVG/1.1/DTD/svg11.dtd\">\n",
       "<!-- Generated by graphviz version 9.0.0 (20230911.1827)\n",
       " -->\n",
       "<!-- Title: Metadata Pages: 1 -->\n",
       "<svg width=\"254pt\" height=\"190pt\"\n",
       " viewBox=\"0.00 0.00 254.25 190.00\" xmlns=\"http://www.w3.org/2000/svg\" xmlns:xlink=\"http://www.w3.org/1999/xlink\">\n",
       "<g id=\"graph0\" class=\"graph\" transform=\"scale(1 1) rotate(0) translate(4 186)\">\n",
       "<title>Metadata</title>\n",
       "<polygon fill=\"white\" stroke=\"none\" points=\"-4,4 -4,-186 250.25,-186 250.25,4 -4,4\"/>\n",
       "<g id=\"node1\" class=\"node\">\n",
       "<title></title>\n",
       "<path fill=\"#ffec8b\" stroke=\"black\" d=\"M12,-0.5C12,-0.5 234.25,-0.5 234.25,-0.5 240.25,-0.5 246.25,-6.5 246.25,-12.5 246.25,-12.5 246.25,-169.5 246.25,-169.5 246.25,-175.5 240.25,-181.5 234.25,-181.5 234.25,-181.5 12,-181.5 12,-181.5 6,-181.5 0,-175.5 0,-169.5 0,-169.5 0,-12.5 0,-12.5 0,-6.5 6,-0.5 12,-0.5\"/>\n",
       "<text text-anchor=\"start\" x=\"8\" y=\"-164.2\" font-family=\"Times,serif\" font-size=\"14.00\">guest_email : email</text>\n",
       "<text text-anchor=\"start\" x=\"8\" y=\"-147.7\" font-family=\"Times,serif\" font-size=\"14.00\">has_rewards : boolean</text>\n",
       "<text text-anchor=\"start\" x=\"8\" y=\"-131.2\" font-family=\"Times,serif\" font-size=\"14.00\">room_type : categorical</text>\n",
       "<text text-anchor=\"start\" x=\"8\" y=\"-114.7\" font-family=\"Times,serif\" font-size=\"14.00\">amenities_fee : numerical</text>\n",
       "<text text-anchor=\"start\" x=\"8\" y=\"-98.2\" font-family=\"Times,serif\" font-size=\"14.00\">checkin_date : datetime</text>\n",
       "<text text-anchor=\"start\" x=\"8\" y=\"-81.7\" font-family=\"Times,serif\" font-size=\"14.00\">checkout_date : datetime</text>\n",
       "<text text-anchor=\"start\" x=\"8\" y=\"-65.2\" font-family=\"Times,serif\" font-size=\"14.00\">room_rate : numerical</text>\n",
       "<text text-anchor=\"start\" x=\"8\" y=\"-48.7\" font-family=\"Times,serif\" font-size=\"14.00\">billing_address : address</text>\n",
       "<text text-anchor=\"start\" x=\"8\" y=\"-32.2\" font-family=\"Times,serif\" font-size=\"14.00\">credit_card_number : credit_card_number</text>\n",
       "<polyline fill=\"none\" stroke=\"black\" points=\"0,-25 246.25,-25\"/>\n",
       "<text text-anchor=\"start\" x=\"8\" y=\"-7.7\" font-family=\"Times,serif\" font-size=\"14.00\">Primary key: guest_email</text>\n",
       "</g>\n",
       "</g>\n",
       "</svg>\n"
      ],
      "text/plain": [
       "<graphviz.graphs.Digraph at 0x284c40a50>"
      ]
     },
     "execution_count": 3,
     "metadata": {},
     "output_type": "execute_result"
    }
   ],
   "source": [
    "metadata.visualize()"
   ]
  },
  {
   "cell_type": "code",
   "execution_count": 4,
   "id": "9349bf73",
   "metadata": {},
   "outputs": [],
   "source": [
    "from sdv.lite import SingleTablePreset\n",
    "\n",
    "synthesizer = SingleTablePreset(\n",
    "    metadata,\n",
    "    name='FAST_ML'\n",
    ")"
   ]
  },
  {
   "cell_type": "code",
   "execution_count": 5,
   "id": "14f4072d",
   "metadata": {},
   "outputs": [],
   "source": [
    "synthesizer.fit(\n",
    "    data=real_data\n",
    ")"
   ]
  },
  {
   "cell_type": "code",
   "execution_count": 6,
   "id": "7981d703",
   "metadata": {},
   "outputs": [
    {
     "data": {
      "text/html": [
       "<div>\n",
       "<style scoped>\n",
       "    .dataframe tbody tr th:only-of-type {\n",
       "        vertical-align: middle;\n",
       "    }\n",
       "\n",
       "    .dataframe tbody tr th {\n",
       "        vertical-align: top;\n",
       "    }\n",
       "\n",
       "    .dataframe thead th {\n",
       "        text-align: right;\n",
       "    }\n",
       "</style>\n",
       "<table border=\"1\" class=\"dataframe\">\n",
       "  <thead>\n",
       "    <tr style=\"text-align: right;\">\n",
       "      <th></th>\n",
       "      <th>guest_email</th>\n",
       "      <th>has_rewards</th>\n",
       "      <th>room_type</th>\n",
       "      <th>amenities_fee</th>\n",
       "      <th>checkin_date</th>\n",
       "      <th>checkout_date</th>\n",
       "      <th>room_rate</th>\n",
       "      <th>billing_address</th>\n",
       "      <th>credit_card_number</th>\n",
       "    </tr>\n",
       "  </thead>\n",
       "  <tbody>\n",
       "    <tr>\n",
       "      <th>0</th>\n",
       "      <td>dsullivan@example.net</td>\n",
       "      <td>False</td>\n",
       "      <td>BASIC</td>\n",
       "      <td>9.752814</td>\n",
       "      <td>31 Mar 2020</td>\n",
       "      <td>19 Apr 2020</td>\n",
       "      <td>151.871782</td>\n",
       "      <td>90469 Karla Knolls Apt. 781\\nSusanberg, NC 28401</td>\n",
       "      <td>5161033759518983</td>\n",
       "    </tr>\n",
       "    <tr>\n",
       "      <th>1</th>\n",
       "      <td>steven59@example.org</td>\n",
       "      <td>False</td>\n",
       "      <td>BASIC</td>\n",
       "      <td>NaN</td>\n",
       "      <td>25 Jun 2020</td>\n",
       "      <td>14 Aug 2020</td>\n",
       "      <td>181.481346</td>\n",
       "      <td>1080 Ashley Creek Apt. 622\\nWest Amy, NM 25058</td>\n",
       "      <td>4133047413145475690</td>\n",
       "    </tr>\n",
       "    <tr>\n",
       "      <th>2</th>\n",
       "      <td>brandon15@example.net</td>\n",
       "      <td>False</td>\n",
       "      <td>BASIC</td>\n",
       "      <td>22.554106</td>\n",
       "      <td>14 Apr 2020</td>\n",
       "      <td>07 Apr 2020</td>\n",
       "      <td>143.655477</td>\n",
       "      <td>99923 Anderson Trace Suite 861\\nNorth Haley, T...</td>\n",
       "      <td>4977328103788</td>\n",
       "    </tr>\n",
       "    <tr>\n",
       "      <th>3</th>\n",
       "      <td>humphreyjennifer@example.net</td>\n",
       "      <td>False</td>\n",
       "      <td>BASIC</td>\n",
       "      <td>24.324111</td>\n",
       "      <td>25 May 2020</td>\n",
       "      <td>11 Jun 2020</td>\n",
       "      <td>178.353772</td>\n",
       "      <td>9301 John Parkways\\nThomasland, OH 61350</td>\n",
       "      <td>3524946844839485</td>\n",
       "    </tr>\n",
       "    <tr>\n",
       "      <th>4</th>\n",
       "      <td>joshuabrown@example.net</td>\n",
       "      <td>False</td>\n",
       "      <td>BASIC</td>\n",
       "      <td>20.523800</td>\n",
       "      <td>13 Nov 2019</td>\n",
       "      <td>25 Oct 2019</td>\n",
       "      <td>183.572274</td>\n",
       "      <td>126 George Tunnel\\nDuranstad, MS 95176</td>\n",
       "      <td>4446905799576890978</td>\n",
       "    </tr>\n",
       "  </tbody>\n",
       "</table>\n",
       "</div>"
      ],
      "text/plain": [
       "                    guest_email  has_rewards room_type  amenities_fee  \\\n",
       "0         dsullivan@example.net        False     BASIC       9.752814   \n",
       "1          steven59@example.org        False     BASIC            NaN   \n",
       "2         brandon15@example.net        False     BASIC      22.554106   \n",
       "3  humphreyjennifer@example.net        False     BASIC      24.324111   \n",
       "4       joshuabrown@example.net        False     BASIC      20.523800   \n",
       "\n",
       "  checkin_date checkout_date   room_rate  \\\n",
       "0  31 Mar 2020   19 Apr 2020  151.871782   \n",
       "1  25 Jun 2020   14 Aug 2020  181.481346   \n",
       "2  14 Apr 2020   07 Apr 2020  143.655477   \n",
       "3  25 May 2020   11 Jun 2020  178.353772   \n",
       "4  13 Nov 2019   25 Oct 2019  183.572274   \n",
       "\n",
       "                                     billing_address   credit_card_number  \n",
       "0   90469 Karla Knolls Apt. 781\\nSusanberg, NC 28401     5161033759518983  \n",
       "1     1080 Ashley Creek Apt. 622\\nWest Amy, NM 25058  4133047413145475690  \n",
       "2  99923 Anderson Trace Suite 861\\nNorth Haley, T...        4977328103788  \n",
       "3           9301 John Parkways\\nThomasland, OH 61350     3524946844839485  \n",
       "4             126 George Tunnel\\nDuranstad, MS 95176  4446905799576890978  "
      ]
     },
     "execution_count": 6,
     "metadata": {},
     "output_type": "execute_result"
    }
   ],
   "source": [
    "synthetic_data = synthesizer.sample(\n",
    "    num_rows=500\n",
    ")\n",
    "\n",
    "synthetic_data.head()"
   ]
  },
  {
   "cell_type": "code",
   "execution_count": 7,
   "id": "10047b65",
   "metadata": {},
   "outputs": [
    {
     "data": {
      "text/html": [
       "<div>\n",
       "<style scoped>\n",
       "    .dataframe tbody tr th:only-of-type {\n",
       "        vertical-align: middle;\n",
       "    }\n",
       "\n",
       "    .dataframe tbody tr th {\n",
       "        vertical-align: top;\n",
       "    }\n",
       "\n",
       "    .dataframe thead th {\n",
       "        text-align: right;\n",
       "    }\n",
       "</style>\n",
       "<table border=\"1\" class=\"dataframe\">\n",
       "  <thead>\n",
       "    <tr style=\"text-align: right;\">\n",
       "      <th></th>\n",
       "      <th>guest_email</th>\n",
       "      <th>billing_address</th>\n",
       "      <th>credit_card_number</th>\n",
       "    </tr>\n",
       "  </thead>\n",
       "  <tbody>\n",
       "    <tr>\n",
       "      <th>0</th>\n",
       "      <td>michaelsanders@shaw.net</td>\n",
       "      <td>49380 Rivers Street\\nSpencerville, AK 68265</td>\n",
       "      <td>4075084747483975747</td>\n",
       "    </tr>\n",
       "    <tr>\n",
       "      <th>1</th>\n",
       "      <td>randy49@brown.biz</td>\n",
       "      <td>88394 Boyle Meadows\\nConleyberg, TN 22063</td>\n",
       "      <td>180072822063468</td>\n",
       "    </tr>\n",
       "    <tr>\n",
       "      <th>2</th>\n",
       "      <td>webermelissa@neal.com</td>\n",
       "      <td>0323 Lisa Station Apt. 208\\nPort Thomas, LA 82585</td>\n",
       "      <td>38983476971380</td>\n",
       "    </tr>\n",
       "  </tbody>\n",
       "</table>\n",
       "</div>"
      ],
      "text/plain": [
       "               guest_email                                    billing_address  \\\n",
       "0  michaelsanders@shaw.net        49380 Rivers Street\\nSpencerville, AK 68265   \n",
       "1        randy49@brown.biz          88394 Boyle Meadows\\nConleyberg, TN 22063   \n",
       "2    webermelissa@neal.com  0323 Lisa Station Apt. 208\\nPort Thomas, LA 82585   \n",
       "\n",
       "    credit_card_number  \n",
       "0  4075084747483975747  \n",
       "1      180072822063468  \n",
       "2       38983476971380  "
      ]
     },
     "execution_count": 7,
     "metadata": {},
     "output_type": "execute_result"
    }
   ],
   "source": [
    "sensitive_column_names = ['guest_email', 'billing_address', 'credit_card_number']\n",
    "\n",
    "real_data[sensitive_column_names].head(3)"
   ]
  },
  {
   "cell_type": "code",
   "execution_count": 8,
   "id": "83a184cb",
   "metadata": {},
   "outputs": [
    {
     "data": {
      "text/html": [
       "<div>\n",
       "<style scoped>\n",
       "    .dataframe tbody tr th:only-of-type {\n",
       "        vertical-align: middle;\n",
       "    }\n",
       "\n",
       "    .dataframe tbody tr th {\n",
       "        vertical-align: top;\n",
       "    }\n",
       "\n",
       "    .dataframe thead th {\n",
       "        text-align: right;\n",
       "    }\n",
       "</style>\n",
       "<table border=\"1\" class=\"dataframe\">\n",
       "  <thead>\n",
       "    <tr style=\"text-align: right;\">\n",
       "      <th></th>\n",
       "      <th>guest_email</th>\n",
       "      <th>billing_address</th>\n",
       "      <th>credit_card_number</th>\n",
       "    </tr>\n",
       "  </thead>\n",
       "  <tbody>\n",
       "    <tr>\n",
       "      <th>0</th>\n",
       "      <td>dsullivan@example.net</td>\n",
       "      <td>90469 Karla Knolls Apt. 781\\nSusanberg, NC 28401</td>\n",
       "      <td>5161033759518983</td>\n",
       "    </tr>\n",
       "    <tr>\n",
       "      <th>1</th>\n",
       "      <td>steven59@example.org</td>\n",
       "      <td>1080 Ashley Creek Apt. 622\\nWest Amy, NM 25058</td>\n",
       "      <td>4133047413145475690</td>\n",
       "    </tr>\n",
       "    <tr>\n",
       "      <th>2</th>\n",
       "      <td>brandon15@example.net</td>\n",
       "      <td>99923 Anderson Trace Suite 861\\nNorth Haley, T...</td>\n",
       "      <td>4977328103788</td>\n",
       "    </tr>\n",
       "  </tbody>\n",
       "</table>\n",
       "</div>"
      ],
      "text/plain": [
       "             guest_email                                    billing_address  \\\n",
       "0  dsullivan@example.net   90469 Karla Knolls Apt. 781\\nSusanberg, NC 28401   \n",
       "1   steven59@example.org     1080 Ashley Creek Apt. 622\\nWest Amy, NM 25058   \n",
       "2  brandon15@example.net  99923 Anderson Trace Suite 861\\nNorth Haley, T...   \n",
       "\n",
       "    credit_card_number  \n",
       "0     5161033759518983  \n",
       "1  4133047413145475690  \n",
       "2        4977328103788  "
      ]
     },
     "execution_count": 8,
     "metadata": {},
     "output_type": "execute_result"
    }
   ],
   "source": [
    "synthetic_data[sensitive_column_names].head(3)"
   ]
  },
  {
   "cell_type": "code",
   "execution_count": 9,
   "id": "ec31c308",
   "metadata": {},
   "outputs": [
    {
     "name": "stdout",
     "output_type": "stream",
     "text": [
      "Generating report ...\n",
      "(1/2) Evaluating Column Shapes: : 100%|███████████████████████████████████████████████████████████████████████████████████████████████████████████████████████| 9/9 [00:00<00:00, 2815.18it/s]\n",
      "(2/2) Evaluating Column Pair Trends: : 100%|█████████████████████████████████████████████████████████████████████████████████████████████████████████████████| 36/36 [00:00<00:00, 500.81it/s]\n",
      "\n",
      "Overall Quality Score: 86.57%\n",
      "\n",
      "Properties:\n",
      "- Column Shapes: 91.67%\n",
      "- Column Pair Trends: 81.47%\n"
     ]
    }
   ],
   "source": [
    "from sdv.evaluation.single_table import evaluate_quality\n",
    "\n",
    "quality_report = evaluate_quality(\n",
    "    real_data,\n",
    "    synthetic_data,\n",
    "    metadata\n",
    ")"
   ]
  },
  {
   "cell_type": "code",
   "execution_count": 16,
   "id": "40a17797",
   "metadata": {},
   "outputs": [
    {
     "data": {
      "application/vnd.plotly.v1+json": {
       "config": {
        "plotlyServerURL": "https://plot.ly"
       },
       "data": [
        {
         "alignmentgroup": "True",
         "customdata": [
          [
           "TVComplement"
          ],
          [
           "TVComplement"
          ]
         ],
         "hovertemplate": "<b>%{hovertext}</b><br><br>Metric=%{customdata[0]}<br>Score=%{y}<extra></extra>",
         "hovertext": [
          "has_rewards",
          "room_type"
         ],
         "legendgroup": "TVComplement",
         "marker": {
          "color": "#03AFF1",
          "pattern": {
           "shape": ""
          }
         },
         "name": "TVComplement",
         "offsetgroup": "TVComplement",
         "orientation": "v",
         "showlegend": true,
         "textposition": "auto",
         "type": "bar",
         "x": [
          "has_rewards",
          "room_type"
         ],
         "xaxis": "x",
         "y": [
          0.996,
          0.88
         ],
         "yaxis": "y"
        },
        {
         "alignmentgroup": "True",
         "customdata": [
          [
           "KSComplement"
          ],
          [
           "KSComplement"
          ],
          [
           "KSComplement"
          ],
          [
           "KSComplement"
          ]
         ],
         "hovertemplate": "<b>%{hovertext}</b><br><br>Metric=%{customdata[0]}<br>Score=%{y}<extra></extra>",
         "hovertext": [
          "amenities_fee",
          "checkin_date",
          "checkout_date",
          "room_rate"
         ],
         "legendgroup": "KSComplement",
         "marker": {
          "color": "#000036",
          "pattern": {
           "shape": "/"
          }
         },
         "name": "KSComplement",
         "offsetgroup": "KSComplement",
         "orientation": "v",
         "showlegend": true,
         "textposition": "auto",
         "type": "bar",
         "x": [
          "amenities_fee",
          "checkin_date",
          "checkout_date",
          "room_rate"
         ],
         "xaxis": "x",
         "y": [
          0.9333000333000333,
          0.928,
          0.9270833333333334,
          0.836
         ],
         "yaxis": "y"
        }
       ],
       "layout": {
        "barmode": "relative",
        "font": {
         "size": 18
        },
        "legend": {
         "title": {
          "text": "Metric"
         },
         "tracegroupgap": 0
        },
        "margin": {
         "t": 150
        },
        "plot_bgcolor": "#F5F5F8",
        "template": {
         "data": {
          "bar": [
           {
            "error_x": {
             "color": "#2a3f5f"
            },
            "error_y": {
             "color": "#2a3f5f"
            },
            "marker": {
             "line": {
              "color": "#E5ECF6",
              "width": 0.5
             },
             "pattern": {
              "fillmode": "overlay",
              "size": 10,
              "solidity": 0.2
             }
            },
            "type": "bar"
           }
          ],
          "barpolar": [
           {
            "marker": {
             "line": {
              "color": "#E5ECF6",
              "width": 0.5
             },
             "pattern": {
              "fillmode": "overlay",
              "size": 10,
              "solidity": 0.2
             }
            },
            "type": "barpolar"
           }
          ],
          "carpet": [
           {
            "aaxis": {
             "endlinecolor": "#2a3f5f",
             "gridcolor": "white",
             "linecolor": "white",
             "minorgridcolor": "white",
             "startlinecolor": "#2a3f5f"
            },
            "baxis": {
             "endlinecolor": "#2a3f5f",
             "gridcolor": "white",
             "linecolor": "white",
             "minorgridcolor": "white",
             "startlinecolor": "#2a3f5f"
            },
            "type": "carpet"
           }
          ],
          "choropleth": [
           {
            "colorbar": {
             "outlinewidth": 0,
             "ticks": ""
            },
            "type": "choropleth"
           }
          ],
          "contour": [
           {
            "colorbar": {
             "outlinewidth": 0,
             "ticks": ""
            },
            "colorscale": [
             [
              0,
              "#0d0887"
             ],
             [
              0.1111111111111111,
              "#46039f"
             ],
             [
              0.2222222222222222,
              "#7201a8"
             ],
             [
              0.3333333333333333,
              "#9c179e"
             ],
             [
              0.4444444444444444,
              "#bd3786"
             ],
             [
              0.5555555555555556,
              "#d8576b"
             ],
             [
              0.6666666666666666,
              "#ed7953"
             ],
             [
              0.7777777777777778,
              "#fb9f3a"
             ],
             [
              0.8888888888888888,
              "#fdca26"
             ],
             [
              1,
              "#f0f921"
             ]
            ],
            "type": "contour"
           }
          ],
          "contourcarpet": [
           {
            "colorbar": {
             "outlinewidth": 0,
             "ticks": ""
            },
            "type": "contourcarpet"
           }
          ],
          "heatmap": [
           {
            "colorbar": {
             "outlinewidth": 0,
             "ticks": ""
            },
            "colorscale": [
             [
              0,
              "#0d0887"
             ],
             [
              0.1111111111111111,
              "#46039f"
             ],
             [
              0.2222222222222222,
              "#7201a8"
             ],
             [
              0.3333333333333333,
              "#9c179e"
             ],
             [
              0.4444444444444444,
              "#bd3786"
             ],
             [
              0.5555555555555556,
              "#d8576b"
             ],
             [
              0.6666666666666666,
              "#ed7953"
             ],
             [
              0.7777777777777778,
              "#fb9f3a"
             ],
             [
              0.8888888888888888,
              "#fdca26"
             ],
             [
              1,
              "#f0f921"
             ]
            ],
            "type": "heatmap"
           }
          ],
          "heatmapgl": [
           {
            "colorbar": {
             "outlinewidth": 0,
             "ticks": ""
            },
            "colorscale": [
             [
              0,
              "#0d0887"
             ],
             [
              0.1111111111111111,
              "#46039f"
             ],
             [
              0.2222222222222222,
              "#7201a8"
             ],
             [
              0.3333333333333333,
              "#9c179e"
             ],
             [
              0.4444444444444444,
              "#bd3786"
             ],
             [
              0.5555555555555556,
              "#d8576b"
             ],
             [
              0.6666666666666666,
              "#ed7953"
             ],
             [
              0.7777777777777778,
              "#fb9f3a"
             ],
             [
              0.8888888888888888,
              "#fdca26"
             ],
             [
              1,
              "#f0f921"
             ]
            ],
            "type": "heatmapgl"
           }
          ],
          "histogram": [
           {
            "marker": {
             "pattern": {
              "fillmode": "overlay",
              "size": 10,
              "solidity": 0.2
             }
            },
            "type": "histogram"
           }
          ],
          "histogram2d": [
           {
            "colorbar": {
             "outlinewidth": 0,
             "ticks": ""
            },
            "colorscale": [
             [
              0,
              "#0d0887"
             ],
             [
              0.1111111111111111,
              "#46039f"
             ],
             [
              0.2222222222222222,
              "#7201a8"
             ],
             [
              0.3333333333333333,
              "#9c179e"
             ],
             [
              0.4444444444444444,
              "#bd3786"
             ],
             [
              0.5555555555555556,
              "#d8576b"
             ],
             [
              0.6666666666666666,
              "#ed7953"
             ],
             [
              0.7777777777777778,
              "#fb9f3a"
             ],
             [
              0.8888888888888888,
              "#fdca26"
             ],
             [
              1,
              "#f0f921"
             ]
            ],
            "type": "histogram2d"
           }
          ],
          "histogram2dcontour": [
           {
            "colorbar": {
             "outlinewidth": 0,
             "ticks": ""
            },
            "colorscale": [
             [
              0,
              "#0d0887"
             ],
             [
              0.1111111111111111,
              "#46039f"
             ],
             [
              0.2222222222222222,
              "#7201a8"
             ],
             [
              0.3333333333333333,
              "#9c179e"
             ],
             [
              0.4444444444444444,
              "#bd3786"
             ],
             [
              0.5555555555555556,
              "#d8576b"
             ],
             [
              0.6666666666666666,
              "#ed7953"
             ],
             [
              0.7777777777777778,
              "#fb9f3a"
             ],
             [
              0.8888888888888888,
              "#fdca26"
             ],
             [
              1,
              "#f0f921"
             ]
            ],
            "type": "histogram2dcontour"
           }
          ],
          "mesh3d": [
           {
            "colorbar": {
             "outlinewidth": 0,
             "ticks": ""
            },
            "type": "mesh3d"
           }
          ],
          "parcoords": [
           {
            "line": {
             "colorbar": {
              "outlinewidth": 0,
              "ticks": ""
             }
            },
            "type": "parcoords"
           }
          ],
          "pie": [
           {
            "automargin": true,
            "type": "pie"
           }
          ],
          "scatter": [
           {
            "fillpattern": {
             "fillmode": "overlay",
             "size": 10,
             "solidity": 0.2
            },
            "type": "scatter"
           }
          ],
          "scatter3d": [
           {
            "line": {
             "colorbar": {
              "outlinewidth": 0,
              "ticks": ""
             }
            },
            "marker": {
             "colorbar": {
              "outlinewidth": 0,
              "ticks": ""
             }
            },
            "type": "scatter3d"
           }
          ],
          "scattercarpet": [
           {
            "marker": {
             "colorbar": {
              "outlinewidth": 0,
              "ticks": ""
             }
            },
            "type": "scattercarpet"
           }
          ],
          "scattergeo": [
           {
            "marker": {
             "colorbar": {
              "outlinewidth": 0,
              "ticks": ""
             }
            },
            "type": "scattergeo"
           }
          ],
          "scattergl": [
           {
            "marker": {
             "colorbar": {
              "outlinewidth": 0,
              "ticks": ""
             }
            },
            "type": "scattergl"
           }
          ],
          "scattermapbox": [
           {
            "marker": {
             "colorbar": {
              "outlinewidth": 0,
              "ticks": ""
             }
            },
            "type": "scattermapbox"
           }
          ],
          "scatterpolar": [
           {
            "marker": {
             "colorbar": {
              "outlinewidth": 0,
              "ticks": ""
             }
            },
            "type": "scatterpolar"
           }
          ],
          "scatterpolargl": [
           {
            "marker": {
             "colorbar": {
              "outlinewidth": 0,
              "ticks": ""
             }
            },
            "type": "scatterpolargl"
           }
          ],
          "scatterternary": [
           {
            "marker": {
             "colorbar": {
              "outlinewidth": 0,
              "ticks": ""
             }
            },
            "type": "scatterternary"
           }
          ],
          "surface": [
           {
            "colorbar": {
             "outlinewidth": 0,
             "ticks": ""
            },
            "colorscale": [
             [
              0,
              "#0d0887"
             ],
             [
              0.1111111111111111,
              "#46039f"
             ],
             [
              0.2222222222222222,
              "#7201a8"
             ],
             [
              0.3333333333333333,
              "#9c179e"
             ],
             [
              0.4444444444444444,
              "#bd3786"
             ],
             [
              0.5555555555555556,
              "#d8576b"
             ],
             [
              0.6666666666666666,
              "#ed7953"
             ],
             [
              0.7777777777777778,
              "#fb9f3a"
             ],
             [
              0.8888888888888888,
              "#fdca26"
             ],
             [
              1,
              "#f0f921"
             ]
            ],
            "type": "surface"
           }
          ],
          "table": [
           {
            "cells": {
             "fill": {
              "color": "#EBF0F8"
             },
             "line": {
              "color": "white"
             }
            },
            "header": {
             "fill": {
              "color": "#C8D4E3"
             },
             "line": {
              "color": "white"
             }
            },
            "type": "table"
           }
          ]
         },
         "layout": {
          "annotationdefaults": {
           "arrowcolor": "#2a3f5f",
           "arrowhead": 0,
           "arrowwidth": 1
          },
          "autotypenumbers": "strict",
          "coloraxis": {
           "colorbar": {
            "outlinewidth": 0,
            "ticks": ""
           }
          },
          "colorscale": {
           "diverging": [
            [
             0,
             "#8e0152"
            ],
            [
             0.1,
             "#c51b7d"
            ],
            [
             0.2,
             "#de77ae"
            ],
            [
             0.3,
             "#f1b6da"
            ],
            [
             0.4,
             "#fde0ef"
            ],
            [
             0.5,
             "#f7f7f7"
            ],
            [
             0.6,
             "#e6f5d0"
            ],
            [
             0.7,
             "#b8e186"
            ],
            [
             0.8,
             "#7fbc41"
            ],
            [
             0.9,
             "#4d9221"
            ],
            [
             1,
             "#276419"
            ]
           ],
           "sequential": [
            [
             0,
             "#0d0887"
            ],
            [
             0.1111111111111111,
             "#46039f"
            ],
            [
             0.2222222222222222,
             "#7201a8"
            ],
            [
             0.3333333333333333,
             "#9c179e"
            ],
            [
             0.4444444444444444,
             "#bd3786"
            ],
            [
             0.5555555555555556,
             "#d8576b"
            ],
            [
             0.6666666666666666,
             "#ed7953"
            ],
            [
             0.7777777777777778,
             "#fb9f3a"
            ],
            [
             0.8888888888888888,
             "#fdca26"
            ],
            [
             1,
             "#f0f921"
            ]
           ],
           "sequentialminus": [
            [
             0,
             "#0d0887"
            ],
            [
             0.1111111111111111,
             "#46039f"
            ],
            [
             0.2222222222222222,
             "#7201a8"
            ],
            [
             0.3333333333333333,
             "#9c179e"
            ],
            [
             0.4444444444444444,
             "#bd3786"
            ],
            [
             0.5555555555555556,
             "#d8576b"
            ],
            [
             0.6666666666666666,
             "#ed7953"
            ],
            [
             0.7777777777777778,
             "#fb9f3a"
            ],
            [
             0.8888888888888888,
             "#fdca26"
            ],
            [
             1,
             "#f0f921"
            ]
           ]
          },
          "colorway": [
           "#636efa",
           "#EF553B",
           "#00cc96",
           "#ab63fa",
           "#FFA15A",
           "#19d3f3",
           "#FF6692",
           "#B6E880",
           "#FF97FF",
           "#FECB52"
          ],
          "font": {
           "color": "#2a3f5f"
          },
          "geo": {
           "bgcolor": "white",
           "lakecolor": "white",
           "landcolor": "#E5ECF6",
           "showlakes": true,
           "showland": true,
           "subunitcolor": "white"
          },
          "hoverlabel": {
           "align": "left"
          },
          "hovermode": "closest",
          "mapbox": {
           "style": "light"
          },
          "paper_bgcolor": "white",
          "plot_bgcolor": "#E5ECF6",
          "polar": {
           "angularaxis": {
            "gridcolor": "white",
            "linecolor": "white",
            "ticks": ""
           },
           "bgcolor": "#E5ECF6",
           "radialaxis": {
            "gridcolor": "white",
            "linecolor": "white",
            "ticks": ""
           }
          },
          "scene": {
           "xaxis": {
            "backgroundcolor": "#E5ECF6",
            "gridcolor": "white",
            "gridwidth": 2,
            "linecolor": "white",
            "showbackground": true,
            "ticks": "",
            "zerolinecolor": "white"
           },
           "yaxis": {
            "backgroundcolor": "#E5ECF6",
            "gridcolor": "white",
            "gridwidth": 2,
            "linecolor": "white",
            "showbackground": true,
            "ticks": "",
            "zerolinecolor": "white"
           },
           "zaxis": {
            "backgroundcolor": "#E5ECF6",
            "gridcolor": "white",
            "gridwidth": 2,
            "linecolor": "white",
            "showbackground": true,
            "ticks": "",
            "zerolinecolor": "white"
           }
          },
          "shapedefaults": {
           "line": {
            "color": "#2a3f5f"
           }
          },
          "ternary": {
           "aaxis": {
            "gridcolor": "white",
            "linecolor": "white",
            "ticks": ""
           },
           "baxis": {
            "gridcolor": "white",
            "linecolor": "white",
            "ticks": ""
           },
           "bgcolor": "#E5ECF6",
           "caxis": {
            "gridcolor": "white",
            "linecolor": "white",
            "ticks": ""
           }
          },
          "title": {
           "x": 0.05
          },
          "xaxis": {
           "automargin": true,
           "gridcolor": "white",
           "linecolor": "white",
           "ticks": "",
           "title": {
            "standoff": 15
           },
           "zerolinecolor": "white",
           "zerolinewidth": 2
          },
          "yaxis": {
           "automargin": true,
           "gridcolor": "white",
           "linecolor": "white",
           "ticks": "",
           "title": {
            "standoff": 15
           },
           "zerolinecolor": "white",
           "zerolinewidth": 2
          }
         }
        },
        "title": {
         "text": "Data Quality: Column Shapes (Average Score=0.92)"
        },
        "xaxis": {
         "anchor": "y",
         "categoryorder": "total ascending",
         "domain": [
          0,
          1
         ],
         "title": {
          "text": "Column"
         }
        },
        "yaxis": {
         "anchor": "x",
         "domain": [
          0,
          1
         ],
         "range": [
          0,
          1
         ],
         "title": {
          "text": "Score"
         }
        }
       }
      },
      "text/html": [
       "<div>                            <div id=\"e0de9a8f-d52a-468c-a088-9c72bfc30749\" class=\"plotly-graph-div\" style=\"height:525px; width:100%;\"></div>            <script type=\"text/javascript\">                require([\"plotly\"], function(Plotly) {                    window.PLOTLYENV=window.PLOTLYENV || {};                                    if (document.getElementById(\"e0de9a8f-d52a-468c-a088-9c72bfc30749\")) {                    Plotly.newPlot(                        \"e0de9a8f-d52a-468c-a088-9c72bfc30749\",                        [{\"alignmentgroup\":\"True\",\"customdata\":[[\"TVComplement\"],[\"TVComplement\"]],\"hovertemplate\":\"\\u003cb\\u003e%{hovertext}\\u003c\\u002fb\\u003e\\u003cbr\\u003e\\u003cbr\\u003eMetric=%{customdata[0]}\\u003cbr\\u003eScore=%{y}\\u003cextra\\u003e\\u003c\\u002fextra\\u003e\",\"hovertext\":[\"has_rewards\",\"room_type\"],\"legendgroup\":\"TVComplement\",\"marker\":{\"color\":\"#03AFF1\",\"pattern\":{\"shape\":\"\"}},\"name\":\"TVComplement\",\"offsetgroup\":\"TVComplement\",\"orientation\":\"v\",\"showlegend\":true,\"textposition\":\"auto\",\"x\":[\"has_rewards\",\"room_type\"],\"xaxis\":\"x\",\"y\":[0.996,0.88],\"yaxis\":\"y\",\"type\":\"bar\"},{\"alignmentgroup\":\"True\",\"customdata\":[[\"KSComplement\"],[\"KSComplement\"],[\"KSComplement\"],[\"KSComplement\"]],\"hovertemplate\":\"\\u003cb\\u003e%{hovertext}\\u003c\\u002fb\\u003e\\u003cbr\\u003e\\u003cbr\\u003eMetric=%{customdata[0]}\\u003cbr\\u003eScore=%{y}\\u003cextra\\u003e\\u003c\\u002fextra\\u003e\",\"hovertext\":[\"amenities_fee\",\"checkin_date\",\"checkout_date\",\"room_rate\"],\"legendgroup\":\"KSComplement\",\"marker\":{\"color\":\"#000036\",\"pattern\":{\"shape\":\"\\u002f\"}},\"name\":\"KSComplement\",\"offsetgroup\":\"KSComplement\",\"orientation\":\"v\",\"showlegend\":true,\"textposition\":\"auto\",\"x\":[\"amenities_fee\",\"checkin_date\",\"checkout_date\",\"room_rate\"],\"xaxis\":\"x\",\"y\":[0.9333000333000333,0.928,0.9270833333333334,0.836],\"yaxis\":\"y\",\"type\":\"bar\"}],                        {\"template\":{\"data\":{\"histogram2dcontour\":[{\"type\":\"histogram2dcontour\",\"colorbar\":{\"outlinewidth\":0,\"ticks\":\"\"},\"colorscale\":[[0.0,\"#0d0887\"],[0.1111111111111111,\"#46039f\"],[0.2222222222222222,\"#7201a8\"],[0.3333333333333333,\"#9c179e\"],[0.4444444444444444,\"#bd3786\"],[0.5555555555555556,\"#d8576b\"],[0.6666666666666666,\"#ed7953\"],[0.7777777777777778,\"#fb9f3a\"],[0.8888888888888888,\"#fdca26\"],[1.0,\"#f0f921\"]]}],\"choropleth\":[{\"type\":\"choropleth\",\"colorbar\":{\"outlinewidth\":0,\"ticks\":\"\"}}],\"histogram2d\":[{\"type\":\"histogram2d\",\"colorbar\":{\"outlinewidth\":0,\"ticks\":\"\"},\"colorscale\":[[0.0,\"#0d0887\"],[0.1111111111111111,\"#46039f\"],[0.2222222222222222,\"#7201a8\"],[0.3333333333333333,\"#9c179e\"],[0.4444444444444444,\"#bd3786\"],[0.5555555555555556,\"#d8576b\"],[0.6666666666666666,\"#ed7953\"],[0.7777777777777778,\"#fb9f3a\"],[0.8888888888888888,\"#fdca26\"],[1.0,\"#f0f921\"]]}],\"heatmap\":[{\"type\":\"heatmap\",\"colorbar\":{\"outlinewidth\":0,\"ticks\":\"\"},\"colorscale\":[[0.0,\"#0d0887\"],[0.1111111111111111,\"#46039f\"],[0.2222222222222222,\"#7201a8\"],[0.3333333333333333,\"#9c179e\"],[0.4444444444444444,\"#bd3786\"],[0.5555555555555556,\"#d8576b\"],[0.6666666666666666,\"#ed7953\"],[0.7777777777777778,\"#fb9f3a\"],[0.8888888888888888,\"#fdca26\"],[1.0,\"#f0f921\"]]}],\"heatmapgl\":[{\"type\":\"heatmapgl\",\"colorbar\":{\"outlinewidth\":0,\"ticks\":\"\"},\"colorscale\":[[0.0,\"#0d0887\"],[0.1111111111111111,\"#46039f\"],[0.2222222222222222,\"#7201a8\"],[0.3333333333333333,\"#9c179e\"],[0.4444444444444444,\"#bd3786\"],[0.5555555555555556,\"#d8576b\"],[0.6666666666666666,\"#ed7953\"],[0.7777777777777778,\"#fb9f3a\"],[0.8888888888888888,\"#fdca26\"],[1.0,\"#f0f921\"]]}],\"contourcarpet\":[{\"type\":\"contourcarpet\",\"colorbar\":{\"outlinewidth\":0,\"ticks\":\"\"}}],\"contour\":[{\"type\":\"contour\",\"colorbar\":{\"outlinewidth\":0,\"ticks\":\"\"},\"colorscale\":[[0.0,\"#0d0887\"],[0.1111111111111111,\"#46039f\"],[0.2222222222222222,\"#7201a8\"],[0.3333333333333333,\"#9c179e\"],[0.4444444444444444,\"#bd3786\"],[0.5555555555555556,\"#d8576b\"],[0.6666666666666666,\"#ed7953\"],[0.7777777777777778,\"#fb9f3a\"],[0.8888888888888888,\"#fdca26\"],[1.0,\"#f0f921\"]]}],\"surface\":[{\"type\":\"surface\",\"colorbar\":{\"outlinewidth\":0,\"ticks\":\"\"},\"colorscale\":[[0.0,\"#0d0887\"],[0.1111111111111111,\"#46039f\"],[0.2222222222222222,\"#7201a8\"],[0.3333333333333333,\"#9c179e\"],[0.4444444444444444,\"#bd3786\"],[0.5555555555555556,\"#d8576b\"],[0.6666666666666666,\"#ed7953\"],[0.7777777777777778,\"#fb9f3a\"],[0.8888888888888888,\"#fdca26\"],[1.0,\"#f0f921\"]]}],\"mesh3d\":[{\"type\":\"mesh3d\",\"colorbar\":{\"outlinewidth\":0,\"ticks\":\"\"}}],\"scatter\":[{\"fillpattern\":{\"fillmode\":\"overlay\",\"size\":10,\"solidity\":0.2},\"type\":\"scatter\"}],\"parcoords\":[{\"type\":\"parcoords\",\"line\":{\"colorbar\":{\"outlinewidth\":0,\"ticks\":\"\"}}}],\"scatterpolargl\":[{\"type\":\"scatterpolargl\",\"marker\":{\"colorbar\":{\"outlinewidth\":0,\"ticks\":\"\"}}}],\"bar\":[{\"error_x\":{\"color\":\"#2a3f5f\"},\"error_y\":{\"color\":\"#2a3f5f\"},\"marker\":{\"line\":{\"color\":\"#E5ECF6\",\"width\":0.5},\"pattern\":{\"fillmode\":\"overlay\",\"size\":10,\"solidity\":0.2}},\"type\":\"bar\"}],\"scattergeo\":[{\"type\":\"scattergeo\",\"marker\":{\"colorbar\":{\"outlinewidth\":0,\"ticks\":\"\"}}}],\"scatterpolar\":[{\"type\":\"scatterpolar\",\"marker\":{\"colorbar\":{\"outlinewidth\":0,\"ticks\":\"\"}}}],\"histogram\":[{\"marker\":{\"pattern\":{\"fillmode\":\"overlay\",\"size\":10,\"solidity\":0.2}},\"type\":\"histogram\"}],\"scattergl\":[{\"type\":\"scattergl\",\"marker\":{\"colorbar\":{\"outlinewidth\":0,\"ticks\":\"\"}}}],\"scatter3d\":[{\"type\":\"scatter3d\",\"line\":{\"colorbar\":{\"outlinewidth\":0,\"ticks\":\"\"}},\"marker\":{\"colorbar\":{\"outlinewidth\":0,\"ticks\":\"\"}}}],\"scattermapbox\":[{\"type\":\"scattermapbox\",\"marker\":{\"colorbar\":{\"outlinewidth\":0,\"ticks\":\"\"}}}],\"scatterternary\":[{\"type\":\"scatterternary\",\"marker\":{\"colorbar\":{\"outlinewidth\":0,\"ticks\":\"\"}}}],\"scattercarpet\":[{\"type\":\"scattercarpet\",\"marker\":{\"colorbar\":{\"outlinewidth\":0,\"ticks\":\"\"}}}],\"carpet\":[{\"aaxis\":{\"endlinecolor\":\"#2a3f5f\",\"gridcolor\":\"white\",\"linecolor\":\"white\",\"minorgridcolor\":\"white\",\"startlinecolor\":\"#2a3f5f\"},\"baxis\":{\"endlinecolor\":\"#2a3f5f\",\"gridcolor\":\"white\",\"linecolor\":\"white\",\"minorgridcolor\":\"white\",\"startlinecolor\":\"#2a3f5f\"},\"type\":\"carpet\"}],\"table\":[{\"cells\":{\"fill\":{\"color\":\"#EBF0F8\"},\"line\":{\"color\":\"white\"}},\"header\":{\"fill\":{\"color\":\"#C8D4E3\"},\"line\":{\"color\":\"white\"}},\"type\":\"table\"}],\"barpolar\":[{\"marker\":{\"line\":{\"color\":\"#E5ECF6\",\"width\":0.5},\"pattern\":{\"fillmode\":\"overlay\",\"size\":10,\"solidity\":0.2}},\"type\":\"barpolar\"}],\"pie\":[{\"automargin\":true,\"type\":\"pie\"}]},\"layout\":{\"autotypenumbers\":\"strict\",\"colorway\":[\"#636efa\",\"#EF553B\",\"#00cc96\",\"#ab63fa\",\"#FFA15A\",\"#19d3f3\",\"#FF6692\",\"#B6E880\",\"#FF97FF\",\"#FECB52\"],\"font\":{\"color\":\"#2a3f5f\"},\"hovermode\":\"closest\",\"hoverlabel\":{\"align\":\"left\"},\"paper_bgcolor\":\"white\",\"plot_bgcolor\":\"#E5ECF6\",\"polar\":{\"bgcolor\":\"#E5ECF6\",\"angularaxis\":{\"gridcolor\":\"white\",\"linecolor\":\"white\",\"ticks\":\"\"},\"radialaxis\":{\"gridcolor\":\"white\",\"linecolor\":\"white\",\"ticks\":\"\"}},\"ternary\":{\"bgcolor\":\"#E5ECF6\",\"aaxis\":{\"gridcolor\":\"white\",\"linecolor\":\"white\",\"ticks\":\"\"},\"baxis\":{\"gridcolor\":\"white\",\"linecolor\":\"white\",\"ticks\":\"\"},\"caxis\":{\"gridcolor\":\"white\",\"linecolor\":\"white\",\"ticks\":\"\"}},\"coloraxis\":{\"colorbar\":{\"outlinewidth\":0,\"ticks\":\"\"}},\"colorscale\":{\"sequential\":[[0.0,\"#0d0887\"],[0.1111111111111111,\"#46039f\"],[0.2222222222222222,\"#7201a8\"],[0.3333333333333333,\"#9c179e\"],[0.4444444444444444,\"#bd3786\"],[0.5555555555555556,\"#d8576b\"],[0.6666666666666666,\"#ed7953\"],[0.7777777777777778,\"#fb9f3a\"],[0.8888888888888888,\"#fdca26\"],[1.0,\"#f0f921\"]],\"sequentialminus\":[[0.0,\"#0d0887\"],[0.1111111111111111,\"#46039f\"],[0.2222222222222222,\"#7201a8\"],[0.3333333333333333,\"#9c179e\"],[0.4444444444444444,\"#bd3786\"],[0.5555555555555556,\"#d8576b\"],[0.6666666666666666,\"#ed7953\"],[0.7777777777777778,\"#fb9f3a\"],[0.8888888888888888,\"#fdca26\"],[1.0,\"#f0f921\"]],\"diverging\":[[0,\"#8e0152\"],[0.1,\"#c51b7d\"],[0.2,\"#de77ae\"],[0.3,\"#f1b6da\"],[0.4,\"#fde0ef\"],[0.5,\"#f7f7f7\"],[0.6,\"#e6f5d0\"],[0.7,\"#b8e186\"],[0.8,\"#7fbc41\"],[0.9,\"#4d9221\"],[1,\"#276419\"]]},\"xaxis\":{\"gridcolor\":\"white\",\"linecolor\":\"white\",\"ticks\":\"\",\"title\":{\"standoff\":15},\"zerolinecolor\":\"white\",\"automargin\":true,\"zerolinewidth\":2},\"yaxis\":{\"gridcolor\":\"white\",\"linecolor\":\"white\",\"ticks\":\"\",\"title\":{\"standoff\":15},\"zerolinecolor\":\"white\",\"automargin\":true,\"zerolinewidth\":2},\"scene\":{\"xaxis\":{\"backgroundcolor\":\"#E5ECF6\",\"gridcolor\":\"white\",\"linecolor\":\"white\",\"showbackground\":true,\"ticks\":\"\",\"zerolinecolor\":\"white\",\"gridwidth\":2},\"yaxis\":{\"backgroundcolor\":\"#E5ECF6\",\"gridcolor\":\"white\",\"linecolor\":\"white\",\"showbackground\":true,\"ticks\":\"\",\"zerolinecolor\":\"white\",\"gridwidth\":2},\"zaxis\":{\"backgroundcolor\":\"#E5ECF6\",\"gridcolor\":\"white\",\"linecolor\":\"white\",\"showbackground\":true,\"ticks\":\"\",\"zerolinecolor\":\"white\",\"gridwidth\":2}},\"shapedefaults\":{\"line\":{\"color\":\"#2a3f5f\"}},\"annotationdefaults\":{\"arrowcolor\":\"#2a3f5f\",\"arrowhead\":0,\"arrowwidth\":1},\"geo\":{\"bgcolor\":\"white\",\"landcolor\":\"#E5ECF6\",\"subunitcolor\":\"white\",\"showland\":true,\"showlakes\":true,\"lakecolor\":\"white\"},\"title\":{\"x\":0.05},\"mapbox\":{\"style\":\"light\"}}},\"xaxis\":{\"anchor\":\"y\",\"domain\":[0.0,1.0],\"title\":{\"text\":\"Column\"},\"categoryorder\":\"total ascending\"},\"yaxis\":{\"anchor\":\"x\",\"domain\":[0.0,1.0],\"title\":{\"text\":\"Score\"},\"range\":[0,1]},\"legend\":{\"title\":{\"text\":\"Metric\"},\"tracegroupgap\":0},\"title\":{\"text\":\"Data Quality: Column Shapes (Average Score=0.92)\"},\"barmode\":\"relative\",\"margin\":{\"t\":150},\"font\":{\"size\":18},\"plot_bgcolor\":\"#F5F5F8\"},                        {\"responsive\": true}                    ).then(function(){\n",
       "                            \n",
       "var gd = document.getElementById('e0de9a8f-d52a-468c-a088-9c72bfc30749');\n",
       "var x = new MutationObserver(function (mutations, observer) {{\n",
       "        var display = window.getComputedStyle(gd).display;\n",
       "        if (!display || display === 'none') {{\n",
       "            console.log([gd, 'removed!']);\n",
       "            Plotly.purge(gd);\n",
       "            observer.disconnect();\n",
       "        }}\n",
       "}});\n",
       "\n",
       "// Listen for the removal of the full notebook cells\n",
       "var notebookContainer = gd.closest('#notebook-container');\n",
       "if (notebookContainer) {{\n",
       "    x.observe(notebookContainer, {childList: true});\n",
       "}}\n",
       "\n",
       "// Listen for the clearing of the current output cell\n",
       "var outputEl = gd.closest('.output');\n",
       "if (outputEl) {{\n",
       "    x.observe(outputEl, {childList: true});\n",
       "}}\n",
       "\n",
       "                        })                };                });            </script>        </div>"
      ]
     },
     "metadata": {},
     "output_type": "display_data"
    }
   ],
   "source": [
    "quality_report.get_visualization('Column Shapes')"
   ]
  },
  {
   "cell_type": "code",
   "execution_count": 11,
   "id": "78205d41",
   "metadata": {},
   "outputs": [
    {
     "data": {
      "application/vnd.plotly.v1+json": {
       "config": {
        "plotlyServerURL": "https://plot.ly"
       },
       "data": [
        {
         "fill": "tozeroy",
         "hovertemplate": "<b>Real</b><br>Value: %{x}<br>Frequency: %{y}<extra></extra>",
         "legendgroup": "Real",
         "marker": {
          "color": "#000036"
         },
         "mode": "lines",
         "name": "Real",
         "showlegend": true,
         "type": "scatter",
         "x": [
          0,
          0.09623999999999999,
          0.19247999999999998,
          0.28872,
          0.38495999999999997,
          0.48119999999999996,
          0.57744,
          0.67368,
          0.7699199999999999,
          0.8661599999999999,
          0.9623999999999999,
          1.0586399999999998,
          1.15488,
          1.2511199999999998,
          1.34736,
          1.4436,
          1.5398399999999999,
          1.63608,
          1.7323199999999999,
          1.82856,
          1.9247999999999998,
          2.02104,
          2.1172799999999996,
          2.21352,
          2.30976,
          2.406,
          2.5022399999999996,
          2.59848,
          2.69472,
          2.79096,
          2.8872,
          2.98344,
          3.0796799999999998,
          3.1759199999999996,
          3.27216,
          3.3684,
          3.4646399999999997,
          3.5608799999999996,
          3.65712,
          3.75336,
          3.8495999999999997,
          3.9458399999999996,
          4.04208,
          4.138319999999999,
          4.234559999999999,
          4.3308,
          4.42704,
          4.52328,
          4.61952,
          4.7157599999999995,
          4.812,
          4.90824,
          5.004479999999999,
          5.100719999999999,
          5.19696,
          5.2932,
          5.38944,
          5.4856799999999994,
          5.58192,
          5.67816,
          5.7744,
          5.87064,
          5.96688,
          6.06312,
          6.1593599999999995,
          6.255599999999999,
          6.351839999999999,
          6.44808,
          6.54432,
          6.64056,
          6.7368,
          6.83304,
          6.929279999999999,
          7.025519999999999,
          7.121759999999999,
          7.218,
          7.31424,
          7.41048,
          7.50672,
          7.60296,
          7.699199999999999,
          7.795439999999999,
          7.891679999999999,
          7.987919999999999,
          8.08416,
          8.180399999999999,
          8.276639999999999,
          8.372879999999999,
          8.469119999999998,
          8.565359999999998,
          8.6616,
          8.75784,
          8.85408,
          8.95032,
          9.04656,
          9.1428,
          9.23904,
          9.33528,
          9.431519999999999,
          9.52776,
          9.624,
          9.72024,
          9.81648,
          9.91272,
          10.008959999999998,
          10.105199999999998,
          10.201439999999998,
          10.29768,
          10.39392,
          10.49016,
          10.5864,
          10.68264,
          10.77888,
          10.875119999999999,
          10.971359999999999,
          11.067599999999999,
          11.16384,
          11.26008,
          11.35632,
          11.45256,
          11.5488,
          11.64504,
          11.74128,
          11.837519999999998,
          11.93376,
          12.03,
          12.12624,
          12.22248,
          12.318719999999999,
          12.414959999999999,
          12.511199999999999,
          12.607439999999999,
          12.703679999999999,
          12.79992,
          12.89616,
          12.9924,
          13.08864,
          13.18488,
          13.28112,
          13.37736,
          13.4736,
          13.569840000000001,
          13.66608,
          13.762319999999999,
          13.858559999999999,
          13.954799999999999,
          14.051039999999999,
          14.147279999999999,
          14.243519999999998,
          14.339759999999998,
          14.436,
          14.53224,
          14.62848,
          14.72472,
          14.82096,
          14.9172,
          15.01344,
          15.109679999999999,
          15.20592,
          15.30216,
          15.398399999999999,
          15.494639999999999,
          15.590879999999999,
          15.687119999999998,
          15.783359999999998,
          15.879599999999998,
          15.975839999999998,
          16.07208,
          16.16832,
          16.26456,
          16.360799999999998,
          16.45704,
          16.553279999999997,
          16.64952,
          16.745759999999997,
          16.842,
          16.938239999999997,
          17.03448,
          17.130719999999997,
          17.22696,
          17.3232,
          17.419439999999998,
          17.51568,
          17.611919999999998,
          17.70816,
          17.804399999999998,
          17.90064,
          17.996879999999997,
          18.09312,
          18.18936,
          18.2856,
          18.38184,
          18.47808,
          18.57432,
          18.67056,
          18.7668,
          18.863039999999998,
          18.95928,
          19.05552,
          19.15176,
          19.248,
          19.34424,
          19.44048,
          19.53672,
          19.63296,
          19.729200000000002,
          19.82544,
          19.921680000000002,
          20.017919999999997,
          20.11416,
          20.210399999999996,
          20.306639999999998,
          20.402879999999996,
          20.499119999999998,
          20.59536,
          20.691599999999998,
          20.78784,
          20.884079999999997,
          20.98032,
          21.076559999999997,
          21.1728,
          21.269039999999997,
          21.36528,
          21.46152,
          21.55776,
          21.654,
          21.750239999999998,
          21.84648,
          21.942719999999998,
          22.03896,
          22.135199999999998,
          22.23144,
          22.32768,
          22.42392,
          22.52016,
          22.6164,
          22.71264,
          22.80888,
          22.90512,
          23.001360000000002,
          23.0976,
          23.19384,
          23.29008,
          23.38632,
          23.48256,
          23.578799999999998,
          23.675039999999996,
          23.771279999999997,
          23.86752,
          23.963759999999997,
          24.06,
          24.156239999999997,
          24.25248,
          24.348719999999997,
          24.44496,
          24.541199999999996,
          24.637439999999998,
          24.73368,
          24.829919999999998,
          24.92616,
          25.022399999999998,
          25.11864,
          25.214879999999997,
          25.31112,
          25.407359999999997,
          25.5036,
          25.59984,
          25.69608,
          25.79232,
          25.88856,
          25.9848,
          26.081039999999998,
          26.17728,
          26.273519999999998,
          26.36976,
          26.466,
          26.56224,
          26.65848,
          26.75472,
          26.85096,
          26.9472,
          27.04344,
          27.139680000000002,
          27.235919999999997,
          27.33216,
          27.428399999999996,
          27.524639999999998,
          27.620879999999996,
          27.717119999999998,
          27.813359999999996,
          27.909599999999998,
          28.00584,
          28.102079999999997,
          28.19832,
          28.294559999999997,
          28.3908,
          28.487039999999997,
          28.58328,
          28.679519999999997,
          28.77576,
          28.872,
          28.968239999999998,
          29.06448,
          29.160719999999998,
          29.25696,
          29.353199999999998,
          29.44944,
          29.545679999999997,
          29.64192,
          29.73816,
          29.8344,
          29.93064,
          30.02688,
          30.12312,
          30.219359999999998,
          30.3156,
          30.41184,
          30.50808,
          30.60432,
          30.70056,
          30.796799999999998,
          30.893039999999996,
          30.989279999999997,
          31.085519999999995,
          31.181759999999997,
          31.278,
          31.374239999999997,
          31.47048,
          31.566719999999997,
          31.662959999999998,
          31.759199999999996,
          31.855439999999998,
          31.951679999999996,
          32.04792,
          32.14416,
          32.2404,
          32.33664,
          32.43288,
          32.52912,
          32.62535999999999,
          32.721599999999995,
          32.81784,
          32.91408,
          33.01032,
          33.106559999999995,
          33.202799999999996,
          33.29904,
          33.39528,
          33.491519999999994,
          33.587759999999996,
          33.684,
          33.78024,
          33.876479999999994,
          33.97272,
          34.06896,
          34.1652,
          34.26143999999999,
          34.35768,
          34.45392,
          34.55016,
          34.6464,
          34.74264,
          34.838879999999996,
          34.93512,
          35.03136,
          35.1276,
          35.223839999999996,
          35.320080000000004,
          35.41632,
          35.51256,
          35.608799999999995,
          35.705040000000004,
          35.80128,
          35.89752,
          35.993759999999995,
          36.09,
          36.18624,
          36.28247999999999,
          36.37872,
          36.474959999999996,
          36.5712,
          36.66743999999999,
          36.76368,
          36.859919999999995,
          36.95616,
          37.0524,
          37.14864,
          37.244879999999995,
          37.34112,
          37.43736,
          37.5336,
          37.629839999999994,
          37.726079999999996,
          37.82232,
          37.91856,
          38.014799999999994,
          38.11104,
          38.20728,
          38.30352,
          38.39975999999999,
          38.496,
          38.59224,
          38.68848,
          38.78472,
          38.88096,
          38.977199999999996,
          39.07344,
          39.16968,
          39.26592,
          39.362159999999996,
          39.458400000000005,
          39.55464,
          39.65088,
          39.747119999999995,
          39.843360000000004,
          39.9396,
          40.03583999999999,
          40.132079999999995,
          40.22832,
          40.32456,
          40.42079999999999,
          40.51704,
          40.613279999999996,
          40.70952,
          40.80575999999999,
          40.902,
          40.998239999999996,
          41.09448,
          41.19072,
          41.28696,
          41.383199999999995,
          41.47944,
          41.57568,
          41.67192,
          41.768159999999995,
          41.864399999999996,
          41.96064,
          42.05688,
          42.153119999999994,
          42.24936,
          42.3456,
          42.44184,
          42.538079999999994,
          42.63432,
          42.73056,
          42.8268,
          42.92304,
          43.01928,
          43.11552,
          43.21176,
          43.308,
          43.40424,
          43.500479999999996,
          43.59672,
          43.69296,
          43.789199999999994,
          43.885439999999996,
          43.98168,
          44.07792,
          44.17415999999999,
          44.270399999999995,
          44.36664,
          44.46288,
          44.55911999999999,
          44.65536,
          44.751599999999996,
          44.84784,
          44.94407999999999,
          45.04032,
          45.136559999999996,
          45.2328,
          45.32904,
          45.42528,
          45.521519999999995,
          45.61776,
          45.714,
          45.81024,
          45.906479999999995,
          46.002720000000004,
          46.09896,
          46.1952,
          46.291439999999994,
          46.38768,
          46.48392,
          46.58016,
          46.676399999999994,
          46.77264,
          46.86888,
          46.96512,
          47.06136,
          47.157599999999995,
          47.25384,
          47.35007999999999,
          47.44632,
          47.542559999999995,
          47.638799999999996,
          47.73504,
          47.83128,
          47.927519999999994,
          48.023759999999996
         ],
         "xaxis": "x",
         "y": [
          0.01751157773273591,
          0.017604707809214807,
          0.017686940878632637,
          0.017758335777264003,
          0.01781898650545314,
          0.017869022004252135,
          0.01790860577819474,
          0.01793793536593227,
          0.017957241661334805,
          0.017966788088522048,
          0.01796686963511642,
          0.017957811748811302,
          0.017939969103106385,
          0.01791372423877729,
          0.017879486088314182,
          0.017837688391178445,
          0.017788788008281223,
          0.01773326314458758,
          0.01767161148917993,
          0.01760434828248519,
          0.017532004320669828,
          0.017455123907441288,
          0.017374262763658076,
          0.017289985905248162,
          0.017202865499964238,
          0.017113478713466954,
          0.017022405555125027,
          0.016930226733757103,
          0.016837521533316153,
          0.01674486571823651,
          0.016652829477829693,
          0.01656197541873223,
          0.016472856613980146,
          0.0163860147168162,
          0.016301978146828565,
          0.016221260355483987,
          0.016144358177552415,
          0.016071750274333954,
          0.016003895673993674,
          0.015941232413693406,
          0.015884176287583172,
          0.015833119704085633,
          0.01578843065527893,
          0.015750451800557688,
          0.015719499666138042,
          0.015695863961367254,
          0.01567980701221272,
          0.015671563311733763,
          0.015671339186793323,
          0.01567931257974184,
          0.015695632943307513,
          0.015720421246456364,
          0.015753770088545307,
          0.015795743918679432,
          0.015846379356805603,
          0.015905685612727004,
          0.015973644998907324,
          0.01605021353265047,
          0.016135321622989432,
          0.016228874837400115,
          0.016330754743264963,
          0.01644081981885591,
          0.016558906428474175,
          0.016684829856287234,
          0.016818385393326613,
          0.016959349472066343,
          0.017107480842976332,
          0.017262521787447735,
          0.017424199361509032,
          0.017592226664796,
          0.017766304129300966,
          0.01794612082250789,
          0.018131355759617447,
          0.018321679219680097,
          0.01851675406058175,
          0.018716237027968475,
          0.018919780053349676,
          0.01912703153678319,
          0.019337637609721056,
          0.01955124337377903,
          0.019767494111385557,
          0.01998603646446817,
          0.020206519577542152,
          0.02042859620178399,
          0.020651923756891205,
          0.020876165347759355,
          0.021100990733238754,
          0.021326077244470637,
          0.02155111065054269,
          0.021775785969451747,
          0.02199980822260557,
          0.02222289313135025,
          0.02244476775425915,
          0.022665171064177005,
          0.022883854464264504,
          0.0231005822425472,
          0.023315131964725063,
          0.02352729480525419,
          0.023736875816962273,
          0.023943694139709062,
          0.02414758314884712,
          0.024348390544478227,
          0.024545978382733567,
          0.024740223050536213,
          0.024931015185519035,
          0.025118259542985837,
          0.02530187481200135,
          0.025481793382886263,
          0.025657961068569074,
          0.025830336782412727,
          0.02599889217528214,
          0.0261636112347531,
          0.02632448984948403,
          0.02648153534187033,
          0.026634765972189584,
          0.026784210417506935,
          0.026929907228661294,
          0.027071904268679076,
          0.0272102581359704,
          0.027345033575652235,
          0.027476302882310823,
          0.027604145297466742,
          0.02772864640493299,
          0.027849897527170923,
          0.027967995125637773,
          0.028083040207996467,
          0.02819513774491469,
          0.028304396099023358,
          0.02841092646843003,
          0.028514842346997565,
          0.02861625900339906,
          0.02871529298075089,
          0.028812061618407797,
          0.028906682597278414,
          0.02899927350978775,
          0.02908995145538032,
          0.029178832662219007,
          0.029266032135500372,
          0.02935166333257279,
          0.029435837864811264,
          0.029518665225983554,
          0.02960025254662046,
          0.029680704373701367,
          0.02976012247476671,
          0.029838605665391333,
          0.029916249658780456,
          0.029993146936102135,
          0.03006938663603437,
          0.030145054461887755,
          0.030220232604571722,
          0.030294999679591882,
          0.030369430676212807,
          0.03044359691688699,
          0.030517566025034495,
          0.030591401899270287,
          0.03066516469220278,
          0.030738910791979653,
          0.0308126928048275,
          0.03088655953692221,
          0.030960555974036522,
          0.031034723257538182,
          0.031109098655453755,
          0.031183715527473378,
          0.03125860328293948,
          0.03133378733104738,
          0.031409289022676395,
          0.03148512558346931,
          0.03156131003798446,
          0.03163785112495207,
          0.031714753203877274,
          0.031792016153442,
          0.03186963526236314,
          0.03194760111356688,
          0.03202589946273432,
          0.03210451111245546,
          0.03218341178340648,
          0.032262571984123425,
          0.032341956881093314,
          0.03242152617101229,
          0.03250123395717284,
          0.03258102863203571,
          0.03266085276811191,
          0.03274064301933434,
          0.03282033003512437,
          0.03289983838936717,
          0.03297908652649016,
          0.033057986726801734,
          0.03313644509318022,
          0.03321436156111979,
          0.0332916299340295,
          0.03336813794555168,
          0.0334437673505137,
          0.033518394045956974,
          0.03359188822349711,
          0.03366411455406146,
          0.033734932405829914,
          0.03380419609596828,
          0.03387175517649633,
          0.033937454754376144,
          0.03400113584564235,
          0.03406263576312431,
          0.03412178853704211,
          0.03417842536747949,
          0.03423237510747008,
          0.03428346477516407,
          0.034331520093281304,
          0.03437636605380592,
          0.034417827505635316,
          0.03445572976266935,
          0.03448989922961111,
          0.03452016404255863,
          0.03454635472128401,
          0.034568304829947584,
          0.034585851642854375,
          0.03459883681175292,
          0.034607107031089275,
          0.03461051469756683,
          0.034608918560330104,
          0.03460218435807904,
          0.03459018543944179,
          0.034572803362975475,
          0.034549928473239774,
          0.03452146044948198,
          0.034487308823597906,
          0.03444739346417993,
          0.034401645023633326,
          0.03435000534553789,
          0.0342924278296437,
          0.03422887775212445,
          0.0341593325389628,
          0.03408378199060731,
          0.03400222845632157,
          0.03391468695693607,
          0.03382118525501442,
          0.03372176387175243,
          0.03361647605023932,
          0.03350538766502405,
          0.03338857707824557,
          0.03326613494289293,
          0.03313816395407024,
          0.03300477854944027,
          0.03286610456030948,
          0.032722278815097025,
          0.032573448697196576,
          0.032419771659488616,
          0.032261414697998404,
          0.03209855378740766,
          0.031931373281327585,
          0.031760065280416035,
          0.0315848289715762,
          0.03140586994160824,
          0.031223399468793177,
          0.0310376337959763,
          0.03084879338877927,
          0.030657102182611327,
          0.03046278682216352,
          0.03026607589706641,
          0.03006719917735906,
          0.029866386852370634,
          0.029663868776538295,
          0.029459873725600074,
          0.029254628666485077,
          0.029048358044098832,
          0.028841283088055652,
          0.02863362114225111,
          0.028425585019995172,
          0.02821738238724137,
          0.028009215176253918,
          0.027801279031848616,
          0.027593762792136472,
          0.02738684800547863,
          0.027180708485144558,
          0.02697550990294055,
          0.026771409422853307,
          0.02656855537552994,
          0.026367086974194424,
          0.0261671340723832,
          0.025968816963668578,
          0.025772246223330464,
          0.02557752259173517,
          0.025384736898987195,
          0.025193970030232285,
          0.025005292930814122,
          0.024818766650320536,
          0.024634442424396448,
          0.02445236179305577,
          0.024272556754088688,
          0.024095049950035634,
          0.02391985488708764,
          0.02374697618417015,
          0.023576409850377712,
          0.02340814358884842,
          0.023242157125099076,
          0.0230784225577857,
          0.02291690472980908,
          0.0227575616176492,
          0.02260034473678816,
          0.022445199561066817,
          0.02229206595381458,
          0.02214087860859672,
          0.021991567497436304,
          0.021844058324389508,
          0.021698272982383023,
          0.02155413001125986,
          0.021411545055024666,
          0.021270431316331877,
          0.02113070000631871,
          0.020992260787949964,
          0.02085502221111264,
          0.02071889213777541,
          0.02058377815560906,
          0.02044958797855219,
          0.02031622983289701,
          0.020183612827566526,
          0.020051647307354682,
          0.0199202451880031,
          0.019789320272097313,
          0.01965878854487295,
          0.019528568449136176,
          0.01939858113861648,
          0.019268750709187377,
          0.01913900440750637,
          0.019009272816747157,
          0.018879490019213446,
          0.018749593735744193,
          0.018619525441939313,
          0.018489230461351213,
          0.018358658035904307,
          0.01822776137391892,
          0.018096497676225964,
          0.017964828140968336,
          0.01783271794778774,
          0.01770013622219572,
          0.01756705598102312,
          0.017433454059929444,
          0.017299311024038495,
          0.017164611062841534,
          0.017029341870578748,
          0.016893494513371087,
          0.016757063284428452,
          0.01662004554870363,
          0.016482441578399187,
          0.016344254380759878,
          0.016205489519601813,
          0.016066154932037013,
          0.015926260741850475,
          0.015785819070976613,
          0.01564484385049991,
          0.015503350632575288,
          0.015361356404624415,
          0.01521887940711526,
          0.015075938956175266,
          0.014932555272224153,
          0.014788749315737896,
          0.014644542631177147,
          0.014499957200025093,
          0.014355015303788545,
          0.014209739397717637,
          0.014064151995898307,
          0.013918275568264998,
          0.013772132449974658,
          0.013625744763471165,
          0.013479134353459763,
          0.013332322734899212,
          0.01318533105400955,
          0.013038180062184547,
          0.01289089010259213,
          0.012743481109143215,
          0.012595972617411423,
          0.012448383786991566,
          0.012300733434698258,
          0.012153040077923095,
          0.01200532198739473,
          0.011857597248518282,
          0.011709883830411353,
          0.01156219966170156,
          0.011414562712108585,
          0.011266991078797988,
          0.011119503076469858,
          0.010972117330127528,
          0.010824852869464264,
          0.01067772922380652,
          0.010530766516561846,
          0.01038398555813695,
          0.010237407936317248,
          0.010091056103132611,
          0.009944953457274279,
          0.009799124421174832,
          0.009653594511916662,
          0.009508390405193136,
          0.009363539991609994,
          0.009219072424682988,
          0.009075018159959324,
          0.00893140898476506,
          0.008788278038157826,
          0.008645659820742954,
          0.008503590194090329,
          0.00836210636957032,
          0.008221246886505558,
          0.008081051579615786,
          0.0079415615358089,
          0.007802819040448465,
          0.007664867513299211,
          0.0075277514344237705,
          0.007391516260369624,
          0.0072562083310484015,
          0.007121874767768961,
          0.006988563362940177,
          0.006856322462009211,
          0.006725200838246792,
          0.006595247561031112,
          0.006466511858318039,
          0.006339042974014878,
          0.006212890021001554,
          0.006088101830562331,
          0.005964726799007688,
          0.005842812732275738,
          0.005722406689309095,
          0.005603554825004036,
          0.005486302233525589,
          0.005370692792775132,
          0.005256769010785121,
          0.005144571874801012,
          0.00503414070379047,
          0.004925513005099088,
          0.004818724335945117,
          0.004713808170418309,
          0.00461079577261642,
          0.004509716076520077,
          0.0044105955731703035,
          0.004313458205676371,
          0.0042183252725412285,
          0.0041252153397518705,
          0.004034144162038932,
          0.003945124613666932,
          0.0038581666290719205,
          0.003773277153618542,
          0.0036904601047023327,
          0.0036097163433774903,
          0.0035310436566435574,
          0.0034544367504783908,
          0.0033798872536579755,
          0.003307383732357909,
          0.003236911715485238,
          0.003168453730644293,
          0.003101989350595169,
          0.003037495250020238,
          0.0029749452723704735,
          0.002914310506522171,
          0.0028555593729336364,
          0.00279865771895243,
          0.0027435689228858923,
          0.002690254006411661,
          0.0026386717548705415,
          0.00258877884495186,
          0.002540529979250867,
          0.0024938780271498966,
          0.002448774171448974,
          0.0024051680601483074,
          0.0023630079627642727,
          0.0023222409305422983,
          0.002282812959914792,
          0.002244669158539648,
          0.002207753913245373,
          0.0021720110592023307,
          0.00213738404963612,
          0.002103816125398757,
          0.002071250483716206,
          0.0020396304454365966,
          0.002008899620112885,
          0.001979002068265596,
          0.0019498824601870172,
          0.0019214862306663656,
          0.0018937597290368713,
          0.0018666503639700282,
          0.0018401067424692029,
          0.0018140788025443795,
          0.0017885179390820368,
          0.0017633771224584613,
          0.0017386110094815,
          0.001714176046284115,
          0.0016900305628335171,
          0.0016661348587613065,
          0.0016424512802631775,
          0.0016189442878607498,
          0.001595580514863173,
          0.0015723288164113307,
          0.0015491603090334537,
          0.0015260484006865177,
          0.0015029688113033792,
          0.0014798995839106612,
          0.001456821086426531,
          0.0014337160042909034,
          0.0014105693241225031,
          0.001387368308637763,
          0.0013641024631053404,
          0.0013407634936468964,
          0.001317345257729552,
          0.0012938437072278189,
          0.0012702568244628177
         ],
         "yaxis": "y"
        },
        {
         "fill": "tozeroy",
         "hovertemplate": "<b>Synthetic</b><br>Value: %{x}<br>Frequency: %{y}<extra></extra>",
         "legendgroup": "Synthetic",
         "marker": {
          "color": "#01E0C9"
         },
         "mode": "lines",
         "name": "Synthetic",
         "showlegend": true,
         "type": "scatter",
         "x": [
          0,
          0.09623999999999999,
          0.19247999999999998,
          0.28872,
          0.38495999999999997,
          0.48119999999999996,
          0.57744,
          0.67368,
          0.7699199999999999,
          0.8661599999999999,
          0.9623999999999999,
          1.0586399999999998,
          1.15488,
          1.2511199999999998,
          1.34736,
          1.4436,
          1.5398399999999999,
          1.63608,
          1.7323199999999999,
          1.82856,
          1.9247999999999998,
          2.02104,
          2.1172799999999996,
          2.21352,
          2.30976,
          2.406,
          2.5022399999999996,
          2.59848,
          2.69472,
          2.79096,
          2.8872,
          2.98344,
          3.0796799999999998,
          3.1759199999999996,
          3.27216,
          3.3684,
          3.4646399999999997,
          3.5608799999999996,
          3.65712,
          3.75336,
          3.8495999999999997,
          3.9458399999999996,
          4.04208,
          4.138319999999999,
          4.234559999999999,
          4.3308,
          4.42704,
          4.52328,
          4.61952,
          4.7157599999999995,
          4.812,
          4.90824,
          5.004479999999999,
          5.100719999999999,
          5.19696,
          5.2932,
          5.38944,
          5.4856799999999994,
          5.58192,
          5.67816,
          5.7744,
          5.87064,
          5.96688,
          6.06312,
          6.1593599999999995,
          6.255599999999999,
          6.351839999999999,
          6.44808,
          6.54432,
          6.64056,
          6.7368,
          6.83304,
          6.929279999999999,
          7.025519999999999,
          7.121759999999999,
          7.218,
          7.31424,
          7.41048,
          7.50672,
          7.60296,
          7.699199999999999,
          7.795439999999999,
          7.891679999999999,
          7.987919999999999,
          8.08416,
          8.180399999999999,
          8.276639999999999,
          8.372879999999999,
          8.469119999999998,
          8.565359999999998,
          8.6616,
          8.75784,
          8.85408,
          8.95032,
          9.04656,
          9.1428,
          9.23904,
          9.33528,
          9.431519999999999,
          9.52776,
          9.624,
          9.72024,
          9.81648,
          9.91272,
          10.008959999999998,
          10.105199999999998,
          10.201439999999998,
          10.29768,
          10.39392,
          10.49016,
          10.5864,
          10.68264,
          10.77888,
          10.875119999999999,
          10.971359999999999,
          11.067599999999999,
          11.16384,
          11.26008,
          11.35632,
          11.45256,
          11.5488,
          11.64504,
          11.74128,
          11.837519999999998,
          11.93376,
          12.03,
          12.12624,
          12.22248,
          12.318719999999999,
          12.414959999999999,
          12.511199999999999,
          12.607439999999999,
          12.703679999999999,
          12.79992,
          12.89616,
          12.9924,
          13.08864,
          13.18488,
          13.28112,
          13.37736,
          13.4736,
          13.569840000000001,
          13.66608,
          13.762319999999999,
          13.858559999999999,
          13.954799999999999,
          14.051039999999999,
          14.147279999999999,
          14.243519999999998,
          14.339759999999998,
          14.436,
          14.53224,
          14.62848,
          14.72472,
          14.82096,
          14.9172,
          15.01344,
          15.109679999999999,
          15.20592,
          15.30216,
          15.398399999999999,
          15.494639999999999,
          15.590879999999999,
          15.687119999999998,
          15.783359999999998,
          15.879599999999998,
          15.975839999999998,
          16.07208,
          16.16832,
          16.26456,
          16.360799999999998,
          16.45704,
          16.553279999999997,
          16.64952,
          16.745759999999997,
          16.842,
          16.938239999999997,
          17.03448,
          17.130719999999997,
          17.22696,
          17.3232,
          17.419439999999998,
          17.51568,
          17.611919999999998,
          17.70816,
          17.804399999999998,
          17.90064,
          17.996879999999997,
          18.09312,
          18.18936,
          18.2856,
          18.38184,
          18.47808,
          18.57432,
          18.67056,
          18.7668,
          18.863039999999998,
          18.95928,
          19.05552,
          19.15176,
          19.248,
          19.34424,
          19.44048,
          19.53672,
          19.63296,
          19.729200000000002,
          19.82544,
          19.921680000000002,
          20.017919999999997,
          20.11416,
          20.210399999999996,
          20.306639999999998,
          20.402879999999996,
          20.499119999999998,
          20.59536,
          20.691599999999998,
          20.78784,
          20.884079999999997,
          20.98032,
          21.076559999999997,
          21.1728,
          21.269039999999997,
          21.36528,
          21.46152,
          21.55776,
          21.654,
          21.750239999999998,
          21.84648,
          21.942719999999998,
          22.03896,
          22.135199999999998,
          22.23144,
          22.32768,
          22.42392,
          22.52016,
          22.6164,
          22.71264,
          22.80888,
          22.90512,
          23.001360000000002,
          23.0976,
          23.19384,
          23.29008,
          23.38632,
          23.48256,
          23.578799999999998,
          23.675039999999996,
          23.771279999999997,
          23.86752,
          23.963759999999997,
          24.06,
          24.156239999999997,
          24.25248,
          24.348719999999997,
          24.44496,
          24.541199999999996,
          24.637439999999998,
          24.73368,
          24.829919999999998,
          24.92616,
          25.022399999999998,
          25.11864,
          25.214879999999997,
          25.31112,
          25.407359999999997,
          25.5036,
          25.59984,
          25.69608,
          25.79232,
          25.88856,
          25.9848,
          26.081039999999998,
          26.17728,
          26.273519999999998,
          26.36976,
          26.466,
          26.56224,
          26.65848,
          26.75472,
          26.85096,
          26.9472,
          27.04344,
          27.139680000000002,
          27.235919999999997,
          27.33216,
          27.428399999999996,
          27.524639999999998,
          27.620879999999996,
          27.717119999999998,
          27.813359999999996,
          27.909599999999998,
          28.00584,
          28.102079999999997,
          28.19832,
          28.294559999999997,
          28.3908,
          28.487039999999997,
          28.58328,
          28.679519999999997,
          28.77576,
          28.872,
          28.968239999999998,
          29.06448,
          29.160719999999998,
          29.25696,
          29.353199999999998,
          29.44944,
          29.545679999999997,
          29.64192,
          29.73816,
          29.8344,
          29.93064,
          30.02688,
          30.12312,
          30.219359999999998,
          30.3156,
          30.41184,
          30.50808,
          30.60432,
          30.70056,
          30.796799999999998,
          30.893039999999996,
          30.989279999999997,
          31.085519999999995,
          31.181759999999997,
          31.278,
          31.374239999999997,
          31.47048,
          31.566719999999997,
          31.662959999999998,
          31.759199999999996,
          31.855439999999998,
          31.951679999999996,
          32.04792,
          32.14416,
          32.2404,
          32.33664,
          32.43288,
          32.52912,
          32.62535999999999,
          32.721599999999995,
          32.81784,
          32.91408,
          33.01032,
          33.106559999999995,
          33.202799999999996,
          33.29904,
          33.39528,
          33.491519999999994,
          33.587759999999996,
          33.684,
          33.78024,
          33.876479999999994,
          33.97272,
          34.06896,
          34.1652,
          34.26143999999999,
          34.35768,
          34.45392,
          34.55016,
          34.6464,
          34.74264,
          34.838879999999996,
          34.93512,
          35.03136,
          35.1276,
          35.223839999999996,
          35.320080000000004,
          35.41632,
          35.51256,
          35.608799999999995,
          35.705040000000004,
          35.80128,
          35.89752,
          35.993759999999995,
          36.09,
          36.18624,
          36.28247999999999,
          36.37872,
          36.474959999999996,
          36.5712,
          36.66743999999999,
          36.76368,
          36.859919999999995,
          36.95616,
          37.0524,
          37.14864,
          37.244879999999995,
          37.34112,
          37.43736,
          37.5336,
          37.629839999999994,
          37.726079999999996,
          37.82232,
          37.91856,
          38.014799999999994,
          38.11104,
          38.20728,
          38.30352,
          38.39975999999999,
          38.496,
          38.59224,
          38.68848,
          38.78472,
          38.88096,
          38.977199999999996,
          39.07344,
          39.16968,
          39.26592,
          39.362159999999996,
          39.458400000000005,
          39.55464,
          39.65088,
          39.747119999999995,
          39.843360000000004,
          39.9396,
          40.03583999999999,
          40.132079999999995,
          40.22832,
          40.32456,
          40.42079999999999,
          40.51704,
          40.613279999999996,
          40.70952,
          40.80575999999999,
          40.902,
          40.998239999999996,
          41.09448,
          41.19072,
          41.28696,
          41.383199999999995,
          41.47944,
          41.57568,
          41.67192,
          41.768159999999995,
          41.864399999999996,
          41.96064,
          42.05688,
          42.153119999999994,
          42.24936,
          42.3456,
          42.44184,
          42.538079999999994,
          42.63432,
          42.73056,
          42.8268,
          42.92304,
          43.01928,
          43.11552,
          43.21176,
          43.308,
          43.40424,
          43.500479999999996,
          43.59672,
          43.69296,
          43.789199999999994,
          43.885439999999996,
          43.98168,
          44.07792,
          44.17415999999999,
          44.270399999999995,
          44.36664,
          44.46288,
          44.55911999999999,
          44.65536,
          44.751599999999996,
          44.84784,
          44.94407999999999,
          45.04032,
          45.136559999999996,
          45.2328,
          45.32904,
          45.42528,
          45.521519999999995,
          45.61776,
          45.714,
          45.81024,
          45.906479999999995,
          46.002720000000004,
          46.09896,
          46.1952,
          46.291439999999994,
          46.38768,
          46.48392,
          46.58016,
          46.676399999999994,
          46.77264,
          46.86888,
          46.96512,
          47.06136,
          47.157599999999995,
          47.25384,
          47.35007999999999,
          47.44632,
          47.542559999999995,
          47.638799999999996,
          47.73504,
          47.83128,
          47.927519999999994,
          48.023759999999996
         ],
         "xaxis": "x",
         "y": [
          0.012872599155426155,
          0.013068497482962458,
          0.013259656744584512,
          0.013445996813609177,
          0.013627457038250844,
          0.01380399609359471,
          0.013975591712889961,
          0.014142240301345196,
          0.014303956436609864,
          0.014460772261087218,
          0.01461273677213433,
          0.014759915017054585,
          0.014902387200569795,
          0.01504024771316269,
          0.015173604089301398,
          0.015302575905088121,
          0.015427293625308747,
          0.015547897410198087,
          0.015664535892468752,
          0.015777364935283835,
          0.015886546381880393,
          0.015992246807474676,
          0.01609463628390262,
          0.01619388716717237,
          0.016290172917734935,
          0.016383666962818285,
          0.016474541609625373,
          0.016562967017575207,
          0.016649110237074858,
          0.016733134321557607,
          0.016815197518717576,
          0.016895452546022354,
          0.0169740459547028,
          0.017051117585513136,
          0.017126800118632213,
          0.017201218719153002,
          0.01727449077868557,
          0.017346725752694282,
          0.017418025092306895,
          0.01748848226848346,
          0.01755818288562403,
          0.01762720488093124,
          0.017695618805136766,
          0.017763488179553914,
          0.01783086992383656,
          0.017897814848313202,
          0.017964368204326276,
          0.018030570285644372,
          0.018096457073729758,
          0.018162060919434397,
          0.018227411253570736,
          0.01829253531874708,
          0.018357458914881167,
          0.01842220715089722,
          0.01848680519527417,
          0.0185512790183387,
          0.01861565611948181,
          0.018679966232817834,
          0.01874424200519328,
          0.01880851964088294,
          0.018872839507779064,
          0.018937246700374298,
          0.019001791555359995,
          0.01906653011619629,
          0.01913152454355572,
          0.01919684346909162,
          0.019262562290525868,
          0.019328763406589514,
          0.019395536390869845,
          0.01946297810412032,
          0.019531192745067837,
          0.019600291840201494,
          0.01967039417344402,
          0.01974162565699073,
          0.0198141191449465,
          0.019888014191697466,
          0.019963456757223264,
          0.020040598861781108,
          0.020119598192581824,
          0.02020061766522612,
          0.020283824942780297,
          0.02036939191544697,
          0.020457494143827824,
          0.020548310268789748,
          0.02064202139092894,
          0.02073881042259213,
          0.020838861415355635,
          0.02094235886578987,
          0.021049487002254695,
          0.021160429055376604,
          0.021275366514767073,
          0.021394478374444276,
          0.021517940369332487,
          0.021645924205130493,
          0.021778596783768884,
          0.021916119426619043,
          0.02205864709757432,
          0.022206327628100736,
          0.022359300946348373,
          0.022517698312431323,
          0.02268164156201731,
          0.022851242360424507,
          0.023026601469494545,
          0.023207808029604066,
          0.023394938859280557,
          0.023588057775009,
          0.023787214933943097,
          0.023992446202370423,
          0.02420377255291761,
          0.02442119949361791,
          0.024644716532093228,
          0.024874296678221646,
          0.02510989598876654,
          0.025351453157528646,
          0.025598889154642066,
          0.02585210691866875,
          0.026110991105146388,
          0.02637540789520596,
          0.02664520486780352,
          0.026920210938987756,
          0.027200236371465358,
          0.027485072857514267,
          0.027774493678037776,
          0.028068253940247853,
          0.028366090896109787,
          0.028667724343283615,
          0.02897285710984809,
          0.029281175623609376,
          0.02959235056626575,
          0.029906037612139474,
          0.03022187825059405,
          0.030539500690635036,
          0.030858520845557295,
          0.031178543394848893,
          0.0314991629199061,
          0.031819965109456866,
          0.03214052802994236,
          0.03246042345547429,
          0.032779218251375704,
          0.03309647580473529,
          0.0334117574948654,
          0.03372462419605852,
          0.03403463780459554,
          0.034341362781572946,
          0.034644367702798856,
          0.03494322680675405,
          0.03523752153143996,
          0.03552684203083396,
          0.035810788661654186,
          0.03608897343119858,
          0.03636102139716799,
          0.036626572010612916,
          0.03688528039345482,
          0.03713681854242196,
          0.037380876451712286,
          0.03761716314723355,
          0.03784540762588668,
          0.038065359694027814,
          0.03827679069998103,
          0.03847949415625172,
          0.038673286247915835,
          0.03885800622451852,
          0.039033516673700565,
          0.039199703675668655,
          0.039356476838538705,
          0.039503769215483514,
          0.03964153710551494,
          0.03976975974060593,
          0.03988843886270454,
          0.03999759819500287,
          0.040097282812587065,
          0.040187558418306485,
          0.04026851053035135,
          0.040340243588613926,
          0.04040287998741962,
          0.04045655904265523,
          0.04050143590167477,
          0.04053768040464097,
          0.04056547590614973,
          0.04058501806608774,
          0.04059651361869593,
          0.04060017912874366,
          0.04059623974357415,
          0.04058492794955298,
          0.04056648234115334,
          0.04054114641053545,
          0.040509167365044334,
          0.04047079497954844,
          0.040426280489995414,
          0.04037587553396341,
          0.04031983114335181,
          0.040258396793692273,
          0.040191819513871706,
          0.0401203430593575,
          0.0400442071513071,
          0.039963646783235655,
          0.03987889159621951,
          0.039790165322930046,
          0.03969768530013647,
          0.03960166204868807,
          0.03950229891939765,
          0.039399791802697655,
          0.03929432889944188,
          0.03918609054977367,
          0.03907524911658785,
          0.03896196891977659,
          0.03884640621717014,
          0.03872870922786828,
          0.038609018193500114,
          0.03848746547285701,
          0.038364175665307,
          0.03823926575842241,
          0.038112845295329524,
          0.037985016557422716,
          0.03785587475826355,
          0.037725508244709695,
          0.037593998701587444,
          0.037461421356517616,
          0.03732784518184026,
          0.03719333309093678,
          0.03705794212662543,
          0.0369217236396944,
          0.03678472345603503,
          0.03664698203123817,
          0.03650853459191289,
          0.03636941126337784,
          0.03622963718375269,
          0.03608923260483491,
          0.0359482129804871,
          0.03580658904357228,
          0.035664366872758334,
          0.035521547950765425,
          0.03537812921584971,
          0.03523410310849958,
          0.035089457615466085,
          0.03494417631335904,
          0.03479823841410841,
          0.03465161881462699,
          0.034504288153000634,
          0.03435621287349675,
          0.03420735530260291,
          0.03405767373820348,
          0.03390712255386083,
          0.03375565232000664,
          0.03360320994365537,
          0.03344973882804298,
          0.03329517905336334,
          0.03313946757952903,
          0.03298253847162748,
          0.032824323148478336,
          0.03266475065442633,
          0.032503747954234365,
          0.03234124025066988,
          0.03217715132411135,
          0.03201140389324473,
          0.03184391999566977,
          0.03167462138700058,
          0.03150342995682326,
          0.03133026815966703,
          0.031155059458959234,
          0.030977728781765426,
          0.030798202981967494,
          0.03061641130940781,
          0.03043228588241916,
          0.030245762161079277,
          0.030056779418465154,
          0.029865281207143102,
          0.029671215818110944,
          0.029474536729409993,
          0.02927520304164587,
          0.02907317989769759,
          0.028868438883951773,
          0.028660958410474318,
          0.028450724067622883,
          0.02823772895670836,
          0.028021973992433457,
          0.027803468174966973,
          0.02758222882965689,
          0.027358281812536696,
          0.02713166167994336,
          0.026902411820735068,
          0.026670584549776603,
          0.02643624116154297,
          0.02619945194288549,
          0.025960296144198272,
          0.025718861908425067,
          0.025475246157550546,
          0.02522955443642903,
          0.02498190071401273,
          0.024732407142257884,
          0.02448120377319967,
          0.02422842823490498,
          0.02397422536722881,
          0.023718746818517347,
          0.023462150604617746,
          0.023204600631769667,
          0.022946266185166986,
          0.022687321385187174,
          0.022427944613492935,
          0.022168317911409097,
          0.021908626353173137,
          0.021649057396841732,
          0.02138980021581418,
          0.021131045014096586,
          0.020872982328586573,
          0.020615802321795083,
          0.02035969406854783,
          0.020104844840313236,
          0.01985143939089375,
          0.019599659247282915,
          0.019349682009537753,
          0.01910168066353722,
          0.018855822910496697,
          0.0186122705170801,
          0.01837117868989762,
          0.018132695478095578,
          0.01789696120763685,
          0.01766410795073192,
          0.01743425903371764,
          0.01720752858648732,
          0.016984021136356362,
          0.016763831249002804,
          0.01654704321885147,
          0.01633373081097601,
          0.016123957056278535,
          0.01591777410137124,
          0.015715223114232176,
          0.015516334246341423,
          0.01532112665162493,
          0.015129608562147344,
          0.01494177742010267,
          0.014757620065258234,
          0.014577112976614723,
          0.014400222566658306,
          0.014226905526202609,
          0.014057109217452655,
          0.0138907721125727,
          0.013727824274709716,
          0.013568187878116447,
          0.013411777763735982,
          0.013258502026356148,
          0.013108262629220954,
          0.012960956041796808,
          0.01281647389623939,
          0.012674703657991754,
          0.01253552930586698,
          0.012398832016932034,
          0.01226449085151203,
          0.012132383433676895,
          0.012002386622654938,
          0.011874377170739515,
          0.01174823236341372,
          0.011623830637613315,
          0.011501052174277866,
          0.01137977946160122,
          0.01125989782568194,
          0.011141295925592425,
          0.011023866210223577,
          0.010907505334621433,
          0.010792114533906631,
          0.010677599953254813,
          0.010563872932809953,
          0.010450850246802522,
          0.010338454296542319,
          0.010226613257351864,
          0.010115261179892893,
          0.0100043380467149,
          0.009893789785215336,
          0.009783568238543303,
          0.00967363109629977,
          0.009563941787183382,
          0.009454469336000406,
          0.009345188187697176,
          0.009236078001282934,
          0.009127123416686275,
          0.009018313797731962,
          0.00890964295453193,
          0.008801108848657802,
          0.008692713284500246,
          0.008584461590224546,
          0.00847636229170084,
          0.008368426782726281,
          0.008260668994761309,
          0.008153105069280383,
          0.008045753035686309,
          0.007938632497562518,
          0.007831764329839843,
          0.007725170389236241,
          0.0076188732400943125,
          0.007512895897492311,
          0.007407261589245096,
          0.00730199353814483,
          0.007197114765518546,
          0.007092647916906841,
          0.0069886151103950266,
          0.0068850378078603855,
          0.006781936709137688,
          0.006679331668853731,
          0.006577241635441417,
          0.006475684611618903,
          0.0063746776354092856,
          0.0062742367805849256,
          0.006174377175247925,
          0.006075113037106886,
          0.005976457723879179,
          0.005878423797140224,
          0.005781023097855645,
          0.005684266831769297,
          0.005588165662779806,
          0.005492729812420674,
          0.005397969163562281,
          0.005303893366479134,
          0.005210511945469712,
          0.005117834404279695,
          0.005025870328659524,
          0.004934629484483496,
          0.004844121909967807,
          0.0047543580006481345,
          0.004665348585910242,
          0.0045771049960101305,
          0.004489639118668899,
          0.004402963444482497,
          0.004317091100543906,
          0.004232035871834413,
          0.00414781221009981,
          0.0040644352300836725,
          0.003981920693143592,
          0.0039002849784237808,
          0.003819545041899803,
          0.003739718363744043,
          0.0036608228845864373,
          0.003582876931359242,
          0.003505899133519454,
          0.0034299083305349884,
          0.0033549234716017595,
          0.003280963508627135,
          0.003208047283571213,
          0.003136193411280009,
          0.003065420158975189,
          0.002995745323582369,
          0.0029271861080853324,
          0.002859758998086588,
          0.002793479639736778,
          0.002728362720165884,
          0.0026644218515102813,
          0.0026016694595803413,
          0.0025401166781562354,
          0.0024797732498338556,
          0.00242064743427071,
          0.002362745924603285,
          0.0023060737727242002,
          0.002250634324019877,
          0.002196429162079141,
          0.002143458063790388,
          0.0020917189651510227,
          0.0020412079380185658,
          0.0019919191779390268,
          0.0019438450030957765,
          0.0018969758643316184,
          0.0018513003661093904,
          0.0018068052981922782,
          0.001763475677745154,
          0.001721294801482805,
          0.0016802443074208286,
          0.001640304245720172,
          0.0016014531580575146,
          0.0015636681649008623,
          0.0015269250600235605,
          0.0014911984115497606,
          0.001456461668791397,
          0.0014226872741097284,
          0.0013898467790146377,
          0.0013579109637011084,
          0.0013268499592150697,
          0.0012966333714397827,
          0.0012672304060988404,
          0.001238609993982428,
          0.0012107409156196323,
          0.0011835919246407747,
          0.0011571318690996703,
          0.0011313298100561232,
          0.0011061551367534963,
          0.001081577677764131,
          0.001057567807516948,
          0.0010340965476655767,
          0.0010111356628022164,
          0.0009886577500709897,
          0.0009666363222850061,
          0.0009450458842028691,
          0.0009238620016728614,
          0.0009030613634059682,
          0.0008826218351918674,
          0.0008625225064248572,
          0.0008427437288588919,
          0.0008232671475620996,
          0.0008040757240913002,
          0.0007851537519555725,
          0.0007664868644846427,
          0.0007480620352626775,
          0.0007298675713304886
         ],
         "yaxis": "y"
        }
       ],
       "layout": {
        "annotations": [
         {
          "showarrow": false,
          "text": "*Missing Values: Real Data (9.0%), Synthetic Data (7.6%)",
          "x": 1,
          "xref": "paper",
          "y": 1.05,
          "yref": "paper"
         }
        ],
        "barmode": "overlay",
        "font": {
         "size": 18
        },
        "hovermode": "closest",
        "legend": {
         "traceorder": "reversed"
        },
        "plot_bgcolor": "#F5F5F8",
        "template": {
         "data": {
          "bar": [
           {
            "error_x": {
             "color": "#2a3f5f"
            },
            "error_y": {
             "color": "#2a3f5f"
            },
            "marker": {
             "line": {
              "color": "#E5ECF6",
              "width": 0.5
             },
             "pattern": {
              "fillmode": "overlay",
              "size": 10,
              "solidity": 0.2
             }
            },
            "type": "bar"
           }
          ],
          "barpolar": [
           {
            "marker": {
             "line": {
              "color": "#E5ECF6",
              "width": 0.5
             },
             "pattern": {
              "fillmode": "overlay",
              "size": 10,
              "solidity": 0.2
             }
            },
            "type": "barpolar"
           }
          ],
          "carpet": [
           {
            "aaxis": {
             "endlinecolor": "#2a3f5f",
             "gridcolor": "white",
             "linecolor": "white",
             "minorgridcolor": "white",
             "startlinecolor": "#2a3f5f"
            },
            "baxis": {
             "endlinecolor": "#2a3f5f",
             "gridcolor": "white",
             "linecolor": "white",
             "minorgridcolor": "white",
             "startlinecolor": "#2a3f5f"
            },
            "type": "carpet"
           }
          ],
          "choropleth": [
           {
            "colorbar": {
             "outlinewidth": 0,
             "ticks": ""
            },
            "type": "choropleth"
           }
          ],
          "contour": [
           {
            "colorbar": {
             "outlinewidth": 0,
             "ticks": ""
            },
            "colorscale": [
             [
              0,
              "#0d0887"
             ],
             [
              0.1111111111111111,
              "#46039f"
             ],
             [
              0.2222222222222222,
              "#7201a8"
             ],
             [
              0.3333333333333333,
              "#9c179e"
             ],
             [
              0.4444444444444444,
              "#bd3786"
             ],
             [
              0.5555555555555556,
              "#d8576b"
             ],
             [
              0.6666666666666666,
              "#ed7953"
             ],
             [
              0.7777777777777778,
              "#fb9f3a"
             ],
             [
              0.8888888888888888,
              "#fdca26"
             ],
             [
              1,
              "#f0f921"
             ]
            ],
            "type": "contour"
           }
          ],
          "contourcarpet": [
           {
            "colorbar": {
             "outlinewidth": 0,
             "ticks": ""
            },
            "type": "contourcarpet"
           }
          ],
          "heatmap": [
           {
            "colorbar": {
             "outlinewidth": 0,
             "ticks": ""
            },
            "colorscale": [
             [
              0,
              "#0d0887"
             ],
             [
              0.1111111111111111,
              "#46039f"
             ],
             [
              0.2222222222222222,
              "#7201a8"
             ],
             [
              0.3333333333333333,
              "#9c179e"
             ],
             [
              0.4444444444444444,
              "#bd3786"
             ],
             [
              0.5555555555555556,
              "#d8576b"
             ],
             [
              0.6666666666666666,
              "#ed7953"
             ],
             [
              0.7777777777777778,
              "#fb9f3a"
             ],
             [
              0.8888888888888888,
              "#fdca26"
             ],
             [
              1,
              "#f0f921"
             ]
            ],
            "type": "heatmap"
           }
          ],
          "heatmapgl": [
           {
            "colorbar": {
             "outlinewidth": 0,
             "ticks": ""
            },
            "colorscale": [
             [
              0,
              "#0d0887"
             ],
             [
              0.1111111111111111,
              "#46039f"
             ],
             [
              0.2222222222222222,
              "#7201a8"
             ],
             [
              0.3333333333333333,
              "#9c179e"
             ],
             [
              0.4444444444444444,
              "#bd3786"
             ],
             [
              0.5555555555555556,
              "#d8576b"
             ],
             [
              0.6666666666666666,
              "#ed7953"
             ],
             [
              0.7777777777777778,
              "#fb9f3a"
             ],
             [
              0.8888888888888888,
              "#fdca26"
             ],
             [
              1,
              "#f0f921"
             ]
            ],
            "type": "heatmapgl"
           }
          ],
          "histogram": [
           {
            "marker": {
             "pattern": {
              "fillmode": "overlay",
              "size": 10,
              "solidity": 0.2
             }
            },
            "type": "histogram"
           }
          ],
          "histogram2d": [
           {
            "colorbar": {
             "outlinewidth": 0,
             "ticks": ""
            },
            "colorscale": [
             [
              0,
              "#0d0887"
             ],
             [
              0.1111111111111111,
              "#46039f"
             ],
             [
              0.2222222222222222,
              "#7201a8"
             ],
             [
              0.3333333333333333,
              "#9c179e"
             ],
             [
              0.4444444444444444,
              "#bd3786"
             ],
             [
              0.5555555555555556,
              "#d8576b"
             ],
             [
              0.6666666666666666,
              "#ed7953"
             ],
             [
              0.7777777777777778,
              "#fb9f3a"
             ],
             [
              0.8888888888888888,
              "#fdca26"
             ],
             [
              1,
              "#f0f921"
             ]
            ],
            "type": "histogram2d"
           }
          ],
          "histogram2dcontour": [
           {
            "colorbar": {
             "outlinewidth": 0,
             "ticks": ""
            },
            "colorscale": [
             [
              0,
              "#0d0887"
             ],
             [
              0.1111111111111111,
              "#46039f"
             ],
             [
              0.2222222222222222,
              "#7201a8"
             ],
             [
              0.3333333333333333,
              "#9c179e"
             ],
             [
              0.4444444444444444,
              "#bd3786"
             ],
             [
              0.5555555555555556,
              "#d8576b"
             ],
             [
              0.6666666666666666,
              "#ed7953"
             ],
             [
              0.7777777777777778,
              "#fb9f3a"
             ],
             [
              0.8888888888888888,
              "#fdca26"
             ],
             [
              1,
              "#f0f921"
             ]
            ],
            "type": "histogram2dcontour"
           }
          ],
          "mesh3d": [
           {
            "colorbar": {
             "outlinewidth": 0,
             "ticks": ""
            },
            "type": "mesh3d"
           }
          ],
          "parcoords": [
           {
            "line": {
             "colorbar": {
              "outlinewidth": 0,
              "ticks": ""
             }
            },
            "type": "parcoords"
           }
          ],
          "pie": [
           {
            "automargin": true,
            "type": "pie"
           }
          ],
          "scatter": [
           {
            "fillpattern": {
             "fillmode": "overlay",
             "size": 10,
             "solidity": 0.2
            },
            "type": "scatter"
           }
          ],
          "scatter3d": [
           {
            "line": {
             "colorbar": {
              "outlinewidth": 0,
              "ticks": ""
             }
            },
            "marker": {
             "colorbar": {
              "outlinewidth": 0,
              "ticks": ""
             }
            },
            "type": "scatter3d"
           }
          ],
          "scattercarpet": [
           {
            "marker": {
             "colorbar": {
              "outlinewidth": 0,
              "ticks": ""
             }
            },
            "type": "scattercarpet"
           }
          ],
          "scattergeo": [
           {
            "marker": {
             "colorbar": {
              "outlinewidth": 0,
              "ticks": ""
             }
            },
            "type": "scattergeo"
           }
          ],
          "scattergl": [
           {
            "marker": {
             "colorbar": {
              "outlinewidth": 0,
              "ticks": ""
             }
            },
            "type": "scattergl"
           }
          ],
          "scattermapbox": [
           {
            "marker": {
             "colorbar": {
              "outlinewidth": 0,
              "ticks": ""
             }
            },
            "type": "scattermapbox"
           }
          ],
          "scatterpolar": [
           {
            "marker": {
             "colorbar": {
              "outlinewidth": 0,
              "ticks": ""
             }
            },
            "type": "scatterpolar"
           }
          ],
          "scatterpolargl": [
           {
            "marker": {
             "colorbar": {
              "outlinewidth": 0,
              "ticks": ""
             }
            },
            "type": "scatterpolargl"
           }
          ],
          "scatterternary": [
           {
            "marker": {
             "colorbar": {
              "outlinewidth": 0,
              "ticks": ""
             }
            },
            "type": "scatterternary"
           }
          ],
          "surface": [
           {
            "colorbar": {
             "outlinewidth": 0,
             "ticks": ""
            },
            "colorscale": [
             [
              0,
              "#0d0887"
             ],
             [
              0.1111111111111111,
              "#46039f"
             ],
             [
              0.2222222222222222,
              "#7201a8"
             ],
             [
              0.3333333333333333,
              "#9c179e"
             ],
             [
              0.4444444444444444,
              "#bd3786"
             ],
             [
              0.5555555555555556,
              "#d8576b"
             ],
             [
              0.6666666666666666,
              "#ed7953"
             ],
             [
              0.7777777777777778,
              "#fb9f3a"
             ],
             [
              0.8888888888888888,
              "#fdca26"
             ],
             [
              1,
              "#f0f921"
             ]
            ],
            "type": "surface"
           }
          ],
          "table": [
           {
            "cells": {
             "fill": {
              "color": "#EBF0F8"
             },
             "line": {
              "color": "white"
             }
            },
            "header": {
             "fill": {
              "color": "#C8D4E3"
             },
             "line": {
              "color": "white"
             }
            },
            "type": "table"
           }
          ]
         },
         "layout": {
          "annotationdefaults": {
           "arrowcolor": "#2a3f5f",
           "arrowhead": 0,
           "arrowwidth": 1
          },
          "autotypenumbers": "strict",
          "coloraxis": {
           "colorbar": {
            "outlinewidth": 0,
            "ticks": ""
           }
          },
          "colorscale": {
           "diverging": [
            [
             0,
             "#8e0152"
            ],
            [
             0.1,
             "#c51b7d"
            ],
            [
             0.2,
             "#de77ae"
            ],
            [
             0.3,
             "#f1b6da"
            ],
            [
             0.4,
             "#fde0ef"
            ],
            [
             0.5,
             "#f7f7f7"
            ],
            [
             0.6,
             "#e6f5d0"
            ],
            [
             0.7,
             "#b8e186"
            ],
            [
             0.8,
             "#7fbc41"
            ],
            [
             0.9,
             "#4d9221"
            ],
            [
             1,
             "#276419"
            ]
           ],
           "sequential": [
            [
             0,
             "#0d0887"
            ],
            [
             0.1111111111111111,
             "#46039f"
            ],
            [
             0.2222222222222222,
             "#7201a8"
            ],
            [
             0.3333333333333333,
             "#9c179e"
            ],
            [
             0.4444444444444444,
             "#bd3786"
            ],
            [
             0.5555555555555556,
             "#d8576b"
            ],
            [
             0.6666666666666666,
             "#ed7953"
            ],
            [
             0.7777777777777778,
             "#fb9f3a"
            ],
            [
             0.8888888888888888,
             "#fdca26"
            ],
            [
             1,
             "#f0f921"
            ]
           ],
           "sequentialminus": [
            [
             0,
             "#0d0887"
            ],
            [
             0.1111111111111111,
             "#46039f"
            ],
            [
             0.2222222222222222,
             "#7201a8"
            ],
            [
             0.3333333333333333,
             "#9c179e"
            ],
            [
             0.4444444444444444,
             "#bd3786"
            ],
            [
             0.5555555555555556,
             "#d8576b"
            ],
            [
             0.6666666666666666,
             "#ed7953"
            ],
            [
             0.7777777777777778,
             "#fb9f3a"
            ],
            [
             0.8888888888888888,
             "#fdca26"
            ],
            [
             1,
             "#f0f921"
            ]
           ]
          },
          "colorway": [
           "#636efa",
           "#EF553B",
           "#00cc96",
           "#ab63fa",
           "#FFA15A",
           "#19d3f3",
           "#FF6692",
           "#B6E880",
           "#FF97FF",
           "#FECB52"
          ],
          "font": {
           "color": "#2a3f5f"
          },
          "geo": {
           "bgcolor": "white",
           "lakecolor": "white",
           "landcolor": "#E5ECF6",
           "showlakes": true,
           "showland": true,
           "subunitcolor": "white"
          },
          "hoverlabel": {
           "align": "left"
          },
          "hovermode": "closest",
          "mapbox": {
           "style": "light"
          },
          "paper_bgcolor": "white",
          "plot_bgcolor": "#E5ECF6",
          "polar": {
           "angularaxis": {
            "gridcolor": "white",
            "linecolor": "white",
            "ticks": ""
           },
           "bgcolor": "#E5ECF6",
           "radialaxis": {
            "gridcolor": "white",
            "linecolor": "white",
            "ticks": ""
           }
          },
          "scene": {
           "xaxis": {
            "backgroundcolor": "#E5ECF6",
            "gridcolor": "white",
            "gridwidth": 2,
            "linecolor": "white",
            "showbackground": true,
            "ticks": "",
            "zerolinecolor": "white"
           },
           "yaxis": {
            "backgroundcolor": "#E5ECF6",
            "gridcolor": "white",
            "gridwidth": 2,
            "linecolor": "white",
            "showbackground": true,
            "ticks": "",
            "zerolinecolor": "white"
           },
           "zaxis": {
            "backgroundcolor": "#E5ECF6",
            "gridcolor": "white",
            "gridwidth": 2,
            "linecolor": "white",
            "showbackground": true,
            "ticks": "",
            "zerolinecolor": "white"
           }
          },
          "shapedefaults": {
           "line": {
            "color": "#2a3f5f"
           }
          },
          "ternary": {
           "aaxis": {
            "gridcolor": "white",
            "linecolor": "white",
            "ticks": ""
           },
           "baxis": {
            "gridcolor": "white",
            "linecolor": "white",
            "ticks": ""
           },
           "bgcolor": "#E5ECF6",
           "caxis": {
            "gridcolor": "white",
            "linecolor": "white",
            "ticks": ""
           }
          },
          "title": {
           "x": 0.05
          },
          "xaxis": {
           "automargin": true,
           "gridcolor": "white",
           "linecolor": "white",
           "ticks": "",
           "title": {
            "standoff": 15
           },
           "zerolinecolor": "white",
           "zerolinewidth": 2
          },
          "yaxis": {
           "automargin": true,
           "gridcolor": "white",
           "linecolor": "white",
           "ticks": "",
           "title": {
            "standoff": 15
           },
           "zerolinecolor": "white",
           "zerolinewidth": 2
          }
         }
        },
        "title": {
         "text": "Real vs. Synthetic Data for column amenities_fee"
        },
        "xaxis": {
         "anchor": "y2",
         "domain": [
          0,
          1
         ],
         "title": {
          "text": "Value"
         },
         "zeroline": false
        },
        "yaxis": {
         "anchor": "free",
         "domain": [
          0,
          1
         ],
         "position": 0,
         "title": {
          "text": "Frequency"
         }
        }
       }
      },
      "text/html": [
       "<div>                            <div id=\"ca667963-84e2-4619-b102-e05921290bf5\" class=\"plotly-graph-div\" style=\"height:525px; width:100%;\"></div>            <script type=\"text/javascript\">                require([\"plotly\"], function(Plotly) {                    window.PLOTLYENV=window.PLOTLYENV || {};                                    if (document.getElementById(\"ca667963-84e2-4619-b102-e05921290bf5\")) {                    Plotly.newPlot(                        \"ca667963-84e2-4619-b102-e05921290bf5\",                        [{\"legendgroup\":\"Real\",\"marker\":{\"color\":\"#000036\"},\"mode\":\"lines\",\"name\":\"Real\",\"showlegend\":true,\"x\":[0.0,0.09623999999999999,0.19247999999999998,0.28872,0.38495999999999997,0.48119999999999996,0.57744,0.67368,0.7699199999999999,0.8661599999999999,0.9623999999999999,1.0586399999999998,1.15488,1.2511199999999998,1.34736,1.4436,1.5398399999999999,1.63608,1.7323199999999999,1.82856,1.9247999999999998,2.02104,2.1172799999999996,2.21352,2.30976,2.406,2.5022399999999996,2.59848,2.69472,2.79096,2.8872,2.98344,3.0796799999999998,3.1759199999999996,3.27216,3.3684,3.4646399999999997,3.5608799999999996,3.65712,3.75336,3.8495999999999997,3.9458399999999996,4.04208,4.138319999999999,4.234559999999999,4.3308,4.42704,4.52328,4.61952,4.7157599999999995,4.812,4.90824,5.004479999999999,5.100719999999999,5.19696,5.2932,5.38944,5.4856799999999994,5.58192,5.67816,5.7744,5.87064,5.96688,6.06312,6.1593599999999995,6.255599999999999,6.351839999999999,6.44808,6.54432,6.64056,6.7368,6.83304,6.929279999999999,7.025519999999999,7.121759999999999,7.218,7.31424,7.41048,7.50672,7.60296,7.699199999999999,7.795439999999999,7.891679999999999,7.987919999999999,8.08416,8.180399999999999,8.276639999999999,8.372879999999999,8.469119999999998,8.565359999999998,8.6616,8.75784,8.85408,8.95032,9.04656,9.1428,9.23904,9.33528,9.431519999999999,9.52776,9.624,9.72024,9.81648,9.91272,10.008959999999998,10.105199999999998,10.201439999999998,10.29768,10.39392,10.49016,10.5864,10.68264,10.77888,10.875119999999999,10.971359999999999,11.067599999999999,11.16384,11.26008,11.35632,11.45256,11.5488,11.64504,11.74128,11.837519999999998,11.93376,12.03,12.12624,12.22248,12.318719999999999,12.414959999999999,12.511199999999999,12.607439999999999,12.703679999999999,12.79992,12.89616,12.9924,13.08864,13.18488,13.28112,13.37736,13.4736,13.569840000000001,13.66608,13.762319999999999,13.858559999999999,13.954799999999999,14.051039999999999,14.147279999999999,14.243519999999998,14.339759999999998,14.436,14.53224,14.62848,14.72472,14.82096,14.9172,15.01344,15.109679999999999,15.20592,15.30216,15.398399999999999,15.494639999999999,15.590879999999999,15.687119999999998,15.783359999999998,15.879599999999998,15.975839999999998,16.07208,16.16832,16.26456,16.360799999999998,16.45704,16.553279999999997,16.64952,16.745759999999997,16.842,16.938239999999997,17.03448,17.130719999999997,17.22696,17.3232,17.419439999999998,17.51568,17.611919999999998,17.70816,17.804399999999998,17.90064,17.996879999999997,18.09312,18.18936,18.2856,18.38184,18.47808,18.57432,18.67056,18.7668,18.863039999999998,18.95928,19.05552,19.15176,19.248,19.34424,19.44048,19.53672,19.63296,19.729200000000002,19.82544,19.921680000000002,20.017919999999997,20.11416,20.210399999999996,20.306639999999998,20.402879999999996,20.499119999999998,20.59536,20.691599999999998,20.78784,20.884079999999997,20.98032,21.076559999999997,21.1728,21.269039999999997,21.36528,21.46152,21.55776,21.654,21.750239999999998,21.84648,21.942719999999998,22.03896,22.135199999999998,22.23144,22.32768,22.42392,22.52016,22.6164,22.71264,22.80888,22.90512,23.001360000000002,23.0976,23.19384,23.29008,23.38632,23.48256,23.578799999999998,23.675039999999996,23.771279999999997,23.86752,23.963759999999997,24.06,24.156239999999997,24.25248,24.348719999999997,24.44496,24.541199999999996,24.637439999999998,24.73368,24.829919999999998,24.92616,25.022399999999998,25.11864,25.214879999999997,25.31112,25.407359999999997,25.5036,25.59984,25.69608,25.79232,25.88856,25.9848,26.081039999999998,26.17728,26.273519999999998,26.36976,26.466,26.56224,26.65848,26.75472,26.85096,26.9472,27.04344,27.139680000000002,27.235919999999997,27.33216,27.428399999999996,27.524639999999998,27.620879999999996,27.717119999999998,27.813359999999996,27.909599999999998,28.00584,28.102079999999997,28.19832,28.294559999999997,28.3908,28.487039999999997,28.58328,28.679519999999997,28.77576,28.872,28.968239999999998,29.06448,29.160719999999998,29.25696,29.353199999999998,29.44944,29.545679999999997,29.64192,29.73816,29.8344,29.93064,30.02688,30.12312,30.219359999999998,30.3156,30.41184,30.50808,30.60432,30.70056,30.796799999999998,30.893039999999996,30.989279999999997,31.085519999999995,31.181759999999997,31.278,31.374239999999997,31.47048,31.566719999999997,31.662959999999998,31.759199999999996,31.855439999999998,31.951679999999996,32.04792,32.14416,32.2404,32.33664,32.43288,32.52912,32.62535999999999,32.721599999999995,32.81784,32.91408,33.01032,33.106559999999995,33.202799999999996,33.29904,33.39528,33.491519999999994,33.587759999999996,33.684,33.78024,33.876479999999994,33.97272,34.06896,34.1652,34.26143999999999,34.35768,34.45392,34.55016,34.6464,34.74264,34.838879999999996,34.93512,35.03136,35.1276,35.223839999999996,35.320080000000004,35.41632,35.51256,35.608799999999995,35.705040000000004,35.80128,35.89752,35.993759999999995,36.09,36.18624,36.28247999999999,36.37872,36.474959999999996,36.5712,36.66743999999999,36.76368,36.859919999999995,36.95616,37.0524,37.14864,37.244879999999995,37.34112,37.43736,37.5336,37.629839999999994,37.726079999999996,37.82232,37.91856,38.014799999999994,38.11104,38.20728,38.30352,38.39975999999999,38.496,38.59224,38.68848,38.78472,38.88096,38.977199999999996,39.07344,39.16968,39.26592,39.362159999999996,39.458400000000005,39.55464,39.65088,39.747119999999995,39.843360000000004,39.9396,40.03583999999999,40.132079999999995,40.22832,40.32456,40.42079999999999,40.51704,40.613279999999996,40.70952,40.80575999999999,40.902,40.998239999999996,41.09448,41.19072,41.28696,41.383199999999995,41.47944,41.57568,41.67192,41.768159999999995,41.864399999999996,41.96064,42.05688,42.153119999999994,42.24936,42.3456,42.44184,42.538079999999994,42.63432,42.73056,42.8268,42.92304,43.01928,43.11552,43.21176,43.308,43.40424,43.500479999999996,43.59672,43.69296,43.789199999999994,43.885439999999996,43.98168,44.07792,44.17415999999999,44.270399999999995,44.36664,44.46288,44.55911999999999,44.65536,44.751599999999996,44.84784,44.94407999999999,45.04032,45.136559999999996,45.2328,45.32904,45.42528,45.521519999999995,45.61776,45.714,45.81024,45.906479999999995,46.002720000000004,46.09896,46.1952,46.291439999999994,46.38768,46.48392,46.58016,46.676399999999994,46.77264,46.86888,46.96512,47.06136,47.157599999999995,47.25384,47.35007999999999,47.44632,47.542559999999995,47.638799999999996,47.73504,47.83128,47.927519999999994,48.023759999999996],\"xaxis\":\"x\",\"y\":[0.01751157773273591,0.017604707809214807,0.017686940878632637,0.017758335777264003,0.01781898650545314,0.017869022004252135,0.01790860577819474,0.01793793536593227,0.017957241661334805,0.017966788088522048,0.01796686963511642,0.017957811748811302,0.017939969103106385,0.01791372423877729,0.017879486088314182,0.017837688391178445,0.017788788008281223,0.01773326314458758,0.01767161148917993,0.01760434828248519,0.017532004320669828,0.017455123907441288,0.017374262763658076,0.017289985905248162,0.017202865499964238,0.017113478713466954,0.017022405555125027,0.016930226733757103,0.016837521533316153,0.01674486571823651,0.016652829477829693,0.01656197541873223,0.016472856613980146,0.0163860147168162,0.016301978146828565,0.016221260355483987,0.016144358177552415,0.016071750274333954,0.016003895673993674,0.015941232413693406,0.015884176287583172,0.015833119704085633,0.01578843065527893,0.015750451800557688,0.015719499666138042,0.015695863961367254,0.01567980701221272,0.015671563311733763,0.015671339186793323,0.01567931257974184,0.015695632943307513,0.015720421246456364,0.015753770088545307,0.015795743918679432,0.015846379356805603,0.015905685612727004,0.015973644998907324,0.01605021353265047,0.016135321622989432,0.016228874837400115,0.016330754743264963,0.01644081981885591,0.016558906428474175,0.016684829856287234,0.016818385393326613,0.016959349472066343,0.017107480842976332,0.017262521787447735,0.017424199361509032,0.017592226664796,0.017766304129300966,0.01794612082250789,0.018131355759617447,0.018321679219680097,0.01851675406058175,0.018716237027968475,0.018919780053349676,0.01912703153678319,0.019337637609721056,0.01955124337377903,0.019767494111385557,0.01998603646446817,0.020206519577542152,0.02042859620178399,0.020651923756891205,0.020876165347759355,0.021100990733238754,0.021326077244470637,0.02155111065054269,0.021775785969451747,0.02199980822260557,0.02222289313135025,0.02244476775425915,0.022665171064177005,0.022883854464264504,0.0231005822425472,0.023315131964725063,0.02352729480525419,0.023736875816962273,0.023943694139709062,0.02414758314884712,0.024348390544478227,0.024545978382733567,0.024740223050536213,0.024931015185519035,0.025118259542985837,0.02530187481200135,0.025481793382886263,0.025657961068569074,0.025830336782412727,0.02599889217528214,0.0261636112347531,0.02632448984948403,0.02648153534187033,0.026634765972189584,0.026784210417506935,0.026929907228661294,0.027071904268679076,0.0272102581359704,0.027345033575652235,0.027476302882310823,0.027604145297466742,0.02772864640493299,0.027849897527170923,0.027967995125637773,0.028083040207996467,0.02819513774491469,0.028304396099023358,0.02841092646843003,0.028514842346997565,0.02861625900339906,0.02871529298075089,0.028812061618407797,0.028906682597278414,0.02899927350978775,0.02908995145538032,0.029178832662219007,0.029266032135500372,0.02935166333257279,0.029435837864811264,0.029518665225983554,0.02960025254662046,0.029680704373701367,0.02976012247476671,0.029838605665391333,0.029916249658780456,0.029993146936102135,0.03006938663603437,0.030145054461887755,0.030220232604571722,0.030294999679591882,0.030369430676212807,0.03044359691688699,0.030517566025034495,0.030591401899270287,0.03066516469220278,0.030738910791979653,0.0308126928048275,0.03088655953692221,0.030960555974036522,0.031034723257538182,0.031109098655453755,0.031183715527473378,0.03125860328293948,0.03133378733104738,0.031409289022676395,0.03148512558346931,0.03156131003798446,0.03163785112495207,0.031714753203877274,0.031792016153442,0.03186963526236314,0.03194760111356688,0.03202589946273432,0.03210451111245546,0.03218341178340648,0.032262571984123425,0.032341956881093314,0.03242152617101229,0.03250123395717284,0.03258102863203571,0.03266085276811191,0.03274064301933434,0.03282033003512437,0.03289983838936717,0.03297908652649016,0.033057986726801734,0.03313644509318022,0.03321436156111979,0.0332916299340295,0.03336813794555168,0.0334437673505137,0.033518394045956974,0.03359188822349711,0.03366411455406146,0.033734932405829914,0.03380419609596828,0.03387175517649633,0.033937454754376144,0.03400113584564235,0.03406263576312431,0.03412178853704211,0.03417842536747949,0.03423237510747008,0.03428346477516407,0.034331520093281304,0.03437636605380592,0.034417827505635316,0.03445572976266935,0.03448989922961111,0.03452016404255863,0.03454635472128401,0.034568304829947584,0.034585851642854375,0.03459883681175292,0.034607107031089275,0.03461051469756683,0.034608918560330104,0.03460218435807904,0.03459018543944179,0.034572803362975475,0.034549928473239774,0.03452146044948198,0.034487308823597906,0.03444739346417993,0.034401645023633326,0.03435000534553789,0.0342924278296437,0.03422887775212445,0.0341593325389628,0.03408378199060731,0.03400222845632157,0.03391468695693607,0.03382118525501442,0.03372176387175243,0.03361647605023932,0.03350538766502405,0.03338857707824557,0.03326613494289293,0.03313816395407024,0.03300477854944027,0.03286610456030948,0.032722278815097025,0.032573448697196576,0.032419771659488616,0.032261414697998404,0.03209855378740766,0.031931373281327585,0.031760065280416035,0.0315848289715762,0.03140586994160824,0.031223399468793177,0.0310376337959763,0.03084879338877927,0.030657102182611327,0.03046278682216352,0.03026607589706641,0.03006719917735906,0.029866386852370634,0.029663868776538295,0.029459873725600074,0.029254628666485077,0.029048358044098832,0.028841283088055652,0.02863362114225111,0.028425585019995172,0.02821738238724137,0.028009215176253918,0.027801279031848616,0.027593762792136472,0.02738684800547863,0.027180708485144558,0.02697550990294055,0.026771409422853307,0.02656855537552994,0.026367086974194424,0.0261671340723832,0.025968816963668578,0.025772246223330464,0.02557752259173517,0.025384736898987195,0.025193970030232285,0.025005292930814122,0.024818766650320536,0.024634442424396448,0.02445236179305577,0.024272556754088688,0.024095049950035634,0.02391985488708764,0.02374697618417015,0.023576409850377712,0.02340814358884842,0.023242157125099076,0.0230784225577857,0.02291690472980908,0.0227575616176492,0.02260034473678816,0.022445199561066817,0.02229206595381458,0.02214087860859672,0.021991567497436304,0.021844058324389508,0.021698272982383023,0.02155413001125986,0.021411545055024666,0.021270431316331877,0.02113070000631871,0.020992260787949964,0.02085502221111264,0.02071889213777541,0.02058377815560906,0.02044958797855219,0.02031622983289701,0.020183612827566526,0.020051647307354682,0.0199202451880031,0.019789320272097313,0.01965878854487295,0.019528568449136176,0.01939858113861648,0.019268750709187377,0.01913900440750637,0.019009272816747157,0.018879490019213446,0.018749593735744193,0.018619525441939313,0.018489230461351213,0.018358658035904307,0.01822776137391892,0.018096497676225964,0.017964828140968336,0.01783271794778774,0.01770013622219572,0.01756705598102312,0.017433454059929444,0.017299311024038495,0.017164611062841534,0.017029341870578748,0.016893494513371087,0.016757063284428452,0.01662004554870363,0.016482441578399187,0.016344254380759878,0.016205489519601813,0.016066154932037013,0.015926260741850475,0.015785819070976613,0.01564484385049991,0.015503350632575288,0.015361356404624415,0.01521887940711526,0.015075938956175266,0.014932555272224153,0.014788749315737896,0.014644542631177147,0.014499957200025093,0.014355015303788545,0.014209739397717637,0.014064151995898307,0.013918275568264998,0.013772132449974658,0.013625744763471165,0.013479134353459763,0.013332322734899212,0.01318533105400955,0.013038180062184547,0.01289089010259213,0.012743481109143215,0.012595972617411423,0.012448383786991566,0.012300733434698258,0.012153040077923095,0.01200532198739473,0.011857597248518282,0.011709883830411353,0.01156219966170156,0.011414562712108585,0.011266991078797988,0.011119503076469858,0.010972117330127528,0.010824852869464264,0.01067772922380652,0.010530766516561846,0.01038398555813695,0.010237407936317248,0.010091056103132611,0.009944953457274279,0.009799124421174832,0.009653594511916662,0.009508390405193136,0.009363539991609994,0.009219072424682988,0.009075018159959324,0.00893140898476506,0.008788278038157826,0.008645659820742954,0.008503590194090329,0.00836210636957032,0.008221246886505558,0.008081051579615786,0.0079415615358089,0.007802819040448465,0.007664867513299211,0.0075277514344237705,0.007391516260369624,0.0072562083310484015,0.007121874767768961,0.006988563362940177,0.006856322462009211,0.006725200838246792,0.006595247561031112,0.006466511858318039,0.006339042974014878,0.006212890021001554,0.006088101830562331,0.005964726799007688,0.005842812732275738,0.005722406689309095,0.005603554825004036,0.005486302233525589,0.005370692792775132,0.005256769010785121,0.005144571874801012,0.00503414070379047,0.004925513005099088,0.004818724335945117,0.004713808170418309,0.00461079577261642,0.004509716076520077,0.0044105955731703035,0.004313458205676371,0.0042183252725412285,0.0041252153397518705,0.004034144162038932,0.003945124613666932,0.0038581666290719205,0.003773277153618542,0.0036904601047023327,0.0036097163433774903,0.0035310436566435574,0.0034544367504783908,0.0033798872536579755,0.003307383732357909,0.003236911715485238,0.003168453730644293,0.003101989350595169,0.003037495250020238,0.0029749452723704735,0.002914310506522171,0.0028555593729336364,0.00279865771895243,0.0027435689228858923,0.002690254006411661,0.0026386717548705415,0.00258877884495186,0.002540529979250867,0.0024938780271498966,0.002448774171448974,0.0024051680601483074,0.0023630079627642727,0.0023222409305422983,0.002282812959914792,0.002244669158539648,0.002207753913245373,0.0021720110592023307,0.00213738404963612,0.002103816125398757,0.002071250483716206,0.0020396304454365966,0.002008899620112885,0.001979002068265596,0.0019498824601870172,0.0019214862306663656,0.0018937597290368713,0.0018666503639700282,0.0018401067424692029,0.0018140788025443795,0.0017885179390820368,0.0017633771224584613,0.0017386110094815,0.001714176046284115,0.0016900305628335171,0.0016661348587613065,0.0016424512802631775,0.0016189442878607498,0.001595580514863173,0.0015723288164113307,0.0015491603090334537,0.0015260484006865177,0.0015029688113033792,0.0014798995839106612,0.001456821086426531,0.0014337160042909034,0.0014105693241225031,0.001387368308637763,0.0013641024631053404,0.0013407634936468964,0.001317345257729552,0.0012938437072278189,0.0012702568244628177],\"yaxis\":\"y\",\"type\":\"scatter\",\"fill\":\"tozeroy\",\"hovertemplate\":\"\\u003cb\\u003eReal\\u003c\\u002fb\\u003e\\u003cbr\\u003eValue: %{x}\\u003cbr\\u003eFrequency: %{y}\\u003cextra\\u003e\\u003c\\u002fextra\\u003e\"},{\"legendgroup\":\"Synthetic\",\"marker\":{\"color\":\"#01E0C9\"},\"mode\":\"lines\",\"name\":\"Synthetic\",\"showlegend\":true,\"x\":[0.0,0.09623999999999999,0.19247999999999998,0.28872,0.38495999999999997,0.48119999999999996,0.57744,0.67368,0.7699199999999999,0.8661599999999999,0.9623999999999999,1.0586399999999998,1.15488,1.2511199999999998,1.34736,1.4436,1.5398399999999999,1.63608,1.7323199999999999,1.82856,1.9247999999999998,2.02104,2.1172799999999996,2.21352,2.30976,2.406,2.5022399999999996,2.59848,2.69472,2.79096,2.8872,2.98344,3.0796799999999998,3.1759199999999996,3.27216,3.3684,3.4646399999999997,3.5608799999999996,3.65712,3.75336,3.8495999999999997,3.9458399999999996,4.04208,4.138319999999999,4.234559999999999,4.3308,4.42704,4.52328,4.61952,4.7157599999999995,4.812,4.90824,5.004479999999999,5.100719999999999,5.19696,5.2932,5.38944,5.4856799999999994,5.58192,5.67816,5.7744,5.87064,5.96688,6.06312,6.1593599999999995,6.255599999999999,6.351839999999999,6.44808,6.54432,6.64056,6.7368,6.83304,6.929279999999999,7.025519999999999,7.121759999999999,7.218,7.31424,7.41048,7.50672,7.60296,7.699199999999999,7.795439999999999,7.891679999999999,7.987919999999999,8.08416,8.180399999999999,8.276639999999999,8.372879999999999,8.469119999999998,8.565359999999998,8.6616,8.75784,8.85408,8.95032,9.04656,9.1428,9.23904,9.33528,9.431519999999999,9.52776,9.624,9.72024,9.81648,9.91272,10.008959999999998,10.105199999999998,10.201439999999998,10.29768,10.39392,10.49016,10.5864,10.68264,10.77888,10.875119999999999,10.971359999999999,11.067599999999999,11.16384,11.26008,11.35632,11.45256,11.5488,11.64504,11.74128,11.837519999999998,11.93376,12.03,12.12624,12.22248,12.318719999999999,12.414959999999999,12.511199999999999,12.607439999999999,12.703679999999999,12.79992,12.89616,12.9924,13.08864,13.18488,13.28112,13.37736,13.4736,13.569840000000001,13.66608,13.762319999999999,13.858559999999999,13.954799999999999,14.051039999999999,14.147279999999999,14.243519999999998,14.339759999999998,14.436,14.53224,14.62848,14.72472,14.82096,14.9172,15.01344,15.109679999999999,15.20592,15.30216,15.398399999999999,15.494639999999999,15.590879999999999,15.687119999999998,15.783359999999998,15.879599999999998,15.975839999999998,16.07208,16.16832,16.26456,16.360799999999998,16.45704,16.553279999999997,16.64952,16.745759999999997,16.842,16.938239999999997,17.03448,17.130719999999997,17.22696,17.3232,17.419439999999998,17.51568,17.611919999999998,17.70816,17.804399999999998,17.90064,17.996879999999997,18.09312,18.18936,18.2856,18.38184,18.47808,18.57432,18.67056,18.7668,18.863039999999998,18.95928,19.05552,19.15176,19.248,19.34424,19.44048,19.53672,19.63296,19.729200000000002,19.82544,19.921680000000002,20.017919999999997,20.11416,20.210399999999996,20.306639999999998,20.402879999999996,20.499119999999998,20.59536,20.691599999999998,20.78784,20.884079999999997,20.98032,21.076559999999997,21.1728,21.269039999999997,21.36528,21.46152,21.55776,21.654,21.750239999999998,21.84648,21.942719999999998,22.03896,22.135199999999998,22.23144,22.32768,22.42392,22.52016,22.6164,22.71264,22.80888,22.90512,23.001360000000002,23.0976,23.19384,23.29008,23.38632,23.48256,23.578799999999998,23.675039999999996,23.771279999999997,23.86752,23.963759999999997,24.06,24.156239999999997,24.25248,24.348719999999997,24.44496,24.541199999999996,24.637439999999998,24.73368,24.829919999999998,24.92616,25.022399999999998,25.11864,25.214879999999997,25.31112,25.407359999999997,25.5036,25.59984,25.69608,25.79232,25.88856,25.9848,26.081039999999998,26.17728,26.273519999999998,26.36976,26.466,26.56224,26.65848,26.75472,26.85096,26.9472,27.04344,27.139680000000002,27.235919999999997,27.33216,27.428399999999996,27.524639999999998,27.620879999999996,27.717119999999998,27.813359999999996,27.909599999999998,28.00584,28.102079999999997,28.19832,28.294559999999997,28.3908,28.487039999999997,28.58328,28.679519999999997,28.77576,28.872,28.968239999999998,29.06448,29.160719999999998,29.25696,29.353199999999998,29.44944,29.545679999999997,29.64192,29.73816,29.8344,29.93064,30.02688,30.12312,30.219359999999998,30.3156,30.41184,30.50808,30.60432,30.70056,30.796799999999998,30.893039999999996,30.989279999999997,31.085519999999995,31.181759999999997,31.278,31.374239999999997,31.47048,31.566719999999997,31.662959999999998,31.759199999999996,31.855439999999998,31.951679999999996,32.04792,32.14416,32.2404,32.33664,32.43288,32.52912,32.62535999999999,32.721599999999995,32.81784,32.91408,33.01032,33.106559999999995,33.202799999999996,33.29904,33.39528,33.491519999999994,33.587759999999996,33.684,33.78024,33.876479999999994,33.97272,34.06896,34.1652,34.26143999999999,34.35768,34.45392,34.55016,34.6464,34.74264,34.838879999999996,34.93512,35.03136,35.1276,35.223839999999996,35.320080000000004,35.41632,35.51256,35.608799999999995,35.705040000000004,35.80128,35.89752,35.993759999999995,36.09,36.18624,36.28247999999999,36.37872,36.474959999999996,36.5712,36.66743999999999,36.76368,36.859919999999995,36.95616,37.0524,37.14864,37.244879999999995,37.34112,37.43736,37.5336,37.629839999999994,37.726079999999996,37.82232,37.91856,38.014799999999994,38.11104,38.20728,38.30352,38.39975999999999,38.496,38.59224,38.68848,38.78472,38.88096,38.977199999999996,39.07344,39.16968,39.26592,39.362159999999996,39.458400000000005,39.55464,39.65088,39.747119999999995,39.843360000000004,39.9396,40.03583999999999,40.132079999999995,40.22832,40.32456,40.42079999999999,40.51704,40.613279999999996,40.70952,40.80575999999999,40.902,40.998239999999996,41.09448,41.19072,41.28696,41.383199999999995,41.47944,41.57568,41.67192,41.768159999999995,41.864399999999996,41.96064,42.05688,42.153119999999994,42.24936,42.3456,42.44184,42.538079999999994,42.63432,42.73056,42.8268,42.92304,43.01928,43.11552,43.21176,43.308,43.40424,43.500479999999996,43.59672,43.69296,43.789199999999994,43.885439999999996,43.98168,44.07792,44.17415999999999,44.270399999999995,44.36664,44.46288,44.55911999999999,44.65536,44.751599999999996,44.84784,44.94407999999999,45.04032,45.136559999999996,45.2328,45.32904,45.42528,45.521519999999995,45.61776,45.714,45.81024,45.906479999999995,46.002720000000004,46.09896,46.1952,46.291439999999994,46.38768,46.48392,46.58016,46.676399999999994,46.77264,46.86888,46.96512,47.06136,47.157599999999995,47.25384,47.35007999999999,47.44632,47.542559999999995,47.638799999999996,47.73504,47.83128,47.927519999999994,48.023759999999996],\"xaxis\":\"x\",\"y\":[0.012872599155426155,0.013068497482962458,0.013259656744584512,0.013445996813609177,0.013627457038250844,0.01380399609359471,0.013975591712889961,0.014142240301345196,0.014303956436609864,0.014460772261087218,0.01461273677213433,0.014759915017054585,0.014902387200569795,0.01504024771316269,0.015173604089301398,0.015302575905088121,0.015427293625308747,0.015547897410198087,0.015664535892468752,0.015777364935283835,0.015886546381880393,0.015992246807474676,0.01609463628390262,0.01619388716717237,0.016290172917734935,0.016383666962818285,0.016474541609625373,0.016562967017575207,0.016649110237074858,0.016733134321557607,0.016815197518717576,0.016895452546022354,0.0169740459547028,0.017051117585513136,0.017126800118632213,0.017201218719153002,0.01727449077868557,0.017346725752694282,0.017418025092306895,0.01748848226848346,0.01755818288562403,0.01762720488093124,0.017695618805136766,0.017763488179553914,0.01783086992383656,0.017897814848313202,0.017964368204326276,0.018030570285644372,0.018096457073729758,0.018162060919434397,0.018227411253570736,0.01829253531874708,0.018357458914881167,0.01842220715089722,0.01848680519527417,0.0185512790183387,0.01861565611948181,0.018679966232817834,0.01874424200519328,0.01880851964088294,0.018872839507779064,0.018937246700374298,0.019001791555359995,0.01906653011619629,0.01913152454355572,0.01919684346909162,0.019262562290525868,0.019328763406589514,0.019395536390869845,0.01946297810412032,0.019531192745067837,0.019600291840201494,0.01967039417344402,0.01974162565699073,0.0198141191449465,0.019888014191697466,0.019963456757223264,0.020040598861781108,0.020119598192581824,0.02020061766522612,0.020283824942780297,0.02036939191544697,0.020457494143827824,0.020548310268789748,0.02064202139092894,0.02073881042259213,0.020838861415355635,0.02094235886578987,0.021049487002254695,0.021160429055376604,0.021275366514767073,0.021394478374444276,0.021517940369332487,0.021645924205130493,0.021778596783768884,0.021916119426619043,0.02205864709757432,0.022206327628100736,0.022359300946348373,0.022517698312431323,0.02268164156201731,0.022851242360424507,0.023026601469494545,0.023207808029604066,0.023394938859280557,0.023588057775009,0.023787214933943097,0.023992446202370423,0.02420377255291761,0.02442119949361791,0.024644716532093228,0.024874296678221646,0.02510989598876654,0.025351453157528646,0.025598889154642066,0.02585210691866875,0.026110991105146388,0.02637540789520596,0.02664520486780352,0.026920210938987756,0.027200236371465358,0.027485072857514267,0.027774493678037776,0.028068253940247853,0.028366090896109787,0.028667724343283615,0.02897285710984809,0.029281175623609376,0.02959235056626575,0.029906037612139474,0.03022187825059405,0.030539500690635036,0.030858520845557295,0.031178543394848893,0.0314991629199061,0.031819965109456866,0.03214052802994236,0.03246042345547429,0.032779218251375704,0.03309647580473529,0.0334117574948654,0.03372462419605852,0.03403463780459554,0.034341362781572946,0.034644367702798856,0.03494322680675405,0.03523752153143996,0.03552684203083396,0.035810788661654186,0.03608897343119858,0.03636102139716799,0.036626572010612916,0.03688528039345482,0.03713681854242196,0.037380876451712286,0.03761716314723355,0.03784540762588668,0.038065359694027814,0.03827679069998103,0.03847949415625172,0.038673286247915835,0.03885800622451852,0.039033516673700565,0.039199703675668655,0.039356476838538705,0.039503769215483514,0.03964153710551494,0.03976975974060593,0.03988843886270454,0.03999759819500287,0.040097282812587065,0.040187558418306485,0.04026851053035135,0.040340243588613926,0.04040287998741962,0.04045655904265523,0.04050143590167477,0.04053768040464097,0.04056547590614973,0.04058501806608774,0.04059651361869593,0.04060017912874366,0.04059623974357415,0.04058492794955298,0.04056648234115334,0.04054114641053545,0.040509167365044334,0.04047079497954844,0.040426280489995414,0.04037587553396341,0.04031983114335181,0.040258396793692273,0.040191819513871706,0.0401203430593575,0.0400442071513071,0.039963646783235655,0.03987889159621951,0.039790165322930046,0.03969768530013647,0.03960166204868807,0.03950229891939765,0.039399791802697655,0.03929432889944188,0.03918609054977367,0.03907524911658785,0.03896196891977659,0.03884640621717014,0.03872870922786828,0.038609018193500114,0.03848746547285701,0.038364175665307,0.03823926575842241,0.038112845295329524,0.037985016557422716,0.03785587475826355,0.037725508244709695,0.037593998701587444,0.037461421356517616,0.03732784518184026,0.03719333309093678,0.03705794212662543,0.0369217236396944,0.03678472345603503,0.03664698203123817,0.03650853459191289,0.03636941126337784,0.03622963718375269,0.03608923260483491,0.0359482129804871,0.03580658904357228,0.035664366872758334,0.035521547950765425,0.03537812921584971,0.03523410310849958,0.035089457615466085,0.03494417631335904,0.03479823841410841,0.03465161881462699,0.034504288153000634,0.03435621287349675,0.03420735530260291,0.03405767373820348,0.03390712255386083,0.03375565232000664,0.03360320994365537,0.03344973882804298,0.03329517905336334,0.03313946757952903,0.03298253847162748,0.032824323148478336,0.03266475065442633,0.032503747954234365,0.03234124025066988,0.03217715132411135,0.03201140389324473,0.03184391999566977,0.03167462138700058,0.03150342995682326,0.03133026815966703,0.031155059458959234,0.030977728781765426,0.030798202981967494,0.03061641130940781,0.03043228588241916,0.030245762161079277,0.030056779418465154,0.029865281207143102,0.029671215818110944,0.029474536729409993,0.02927520304164587,0.02907317989769759,0.028868438883951773,0.028660958410474318,0.028450724067622883,0.02823772895670836,0.028021973992433457,0.027803468174966973,0.02758222882965689,0.027358281812536696,0.02713166167994336,0.026902411820735068,0.026670584549776603,0.02643624116154297,0.02619945194288549,0.025960296144198272,0.025718861908425067,0.025475246157550546,0.02522955443642903,0.02498190071401273,0.024732407142257884,0.02448120377319967,0.02422842823490498,0.02397422536722881,0.023718746818517347,0.023462150604617746,0.023204600631769667,0.022946266185166986,0.022687321385187174,0.022427944613492935,0.022168317911409097,0.021908626353173137,0.021649057396841732,0.02138980021581418,0.021131045014096586,0.020872982328586573,0.020615802321795083,0.02035969406854783,0.020104844840313236,0.01985143939089375,0.019599659247282915,0.019349682009537753,0.01910168066353722,0.018855822910496697,0.0186122705170801,0.01837117868989762,0.018132695478095578,0.01789696120763685,0.01766410795073192,0.01743425903371764,0.01720752858648732,0.016984021136356362,0.016763831249002804,0.01654704321885147,0.01633373081097601,0.016123957056278535,0.01591777410137124,0.015715223114232176,0.015516334246341423,0.01532112665162493,0.015129608562147344,0.01494177742010267,0.014757620065258234,0.014577112976614723,0.014400222566658306,0.014226905526202609,0.014057109217452655,0.0138907721125727,0.013727824274709716,0.013568187878116447,0.013411777763735982,0.013258502026356148,0.013108262629220954,0.012960956041796808,0.01281647389623939,0.012674703657991754,0.01253552930586698,0.012398832016932034,0.01226449085151203,0.012132383433676895,0.012002386622654938,0.011874377170739515,0.01174823236341372,0.011623830637613315,0.011501052174277866,0.01137977946160122,0.01125989782568194,0.011141295925592425,0.011023866210223577,0.010907505334621433,0.010792114533906631,0.010677599953254813,0.010563872932809953,0.010450850246802522,0.010338454296542319,0.010226613257351864,0.010115261179892893,0.0100043380467149,0.009893789785215336,0.009783568238543303,0.00967363109629977,0.009563941787183382,0.009454469336000406,0.009345188187697176,0.009236078001282934,0.009127123416686275,0.009018313797731962,0.00890964295453193,0.008801108848657802,0.008692713284500246,0.008584461590224546,0.00847636229170084,0.008368426782726281,0.008260668994761309,0.008153105069280383,0.008045753035686309,0.007938632497562518,0.007831764329839843,0.007725170389236241,0.0076188732400943125,0.007512895897492311,0.007407261589245096,0.00730199353814483,0.007197114765518546,0.007092647916906841,0.0069886151103950266,0.0068850378078603855,0.006781936709137688,0.006679331668853731,0.006577241635441417,0.006475684611618903,0.0063746776354092856,0.0062742367805849256,0.006174377175247925,0.006075113037106886,0.005976457723879179,0.005878423797140224,0.005781023097855645,0.005684266831769297,0.005588165662779806,0.005492729812420674,0.005397969163562281,0.005303893366479134,0.005210511945469712,0.005117834404279695,0.005025870328659524,0.004934629484483496,0.004844121909967807,0.0047543580006481345,0.004665348585910242,0.0045771049960101305,0.004489639118668899,0.004402963444482497,0.004317091100543906,0.004232035871834413,0.00414781221009981,0.0040644352300836725,0.003981920693143592,0.0039002849784237808,0.003819545041899803,0.003739718363744043,0.0036608228845864373,0.003582876931359242,0.003505899133519454,0.0034299083305349884,0.0033549234716017595,0.003280963508627135,0.003208047283571213,0.003136193411280009,0.003065420158975189,0.002995745323582369,0.0029271861080853324,0.002859758998086588,0.002793479639736778,0.002728362720165884,0.0026644218515102813,0.0026016694595803413,0.0025401166781562354,0.0024797732498338556,0.00242064743427071,0.002362745924603285,0.0023060737727242002,0.002250634324019877,0.002196429162079141,0.002143458063790388,0.0020917189651510227,0.0020412079380185658,0.0019919191779390268,0.0019438450030957765,0.0018969758643316184,0.0018513003661093904,0.0018068052981922782,0.001763475677745154,0.001721294801482805,0.0016802443074208286,0.001640304245720172,0.0016014531580575146,0.0015636681649008623,0.0015269250600235605,0.0014911984115497606,0.001456461668791397,0.0014226872741097284,0.0013898467790146377,0.0013579109637011084,0.0013268499592150697,0.0012966333714397827,0.0012672304060988404,0.001238609993982428,0.0012107409156196323,0.0011835919246407747,0.0011571318690996703,0.0011313298100561232,0.0011061551367534963,0.001081577677764131,0.001057567807516948,0.0010340965476655767,0.0010111356628022164,0.0009886577500709897,0.0009666363222850061,0.0009450458842028691,0.0009238620016728614,0.0009030613634059682,0.0008826218351918674,0.0008625225064248572,0.0008427437288588919,0.0008232671475620996,0.0008040757240913002,0.0007851537519555725,0.0007664868644846427,0.0007480620352626775,0.0007298675713304886],\"yaxis\":\"y\",\"type\":\"scatter\",\"fill\":\"tozeroy\",\"hovertemplate\":\"\\u003cb\\u003eSynthetic\\u003c\\u002fb\\u003e\\u003cbr\\u003eValue: %{x}\\u003cbr\\u003eFrequency: %{y}\\u003cextra\\u003e\\u003c\\u002fextra\\u003e\"}],                        {\"barmode\":\"overlay\",\"hovermode\":\"closest\",\"legend\":{\"traceorder\":\"reversed\"},\"xaxis\":{\"anchor\":\"y2\",\"domain\":[0.0,1.0],\"zeroline\":false,\"title\":{\"text\":\"Value\"}},\"yaxis\":{\"anchor\":\"free\",\"domain\":[0.0,1],\"position\":0.0,\"title\":{\"text\":\"Frequency\"}},\"template\":{\"data\":{\"histogram2dcontour\":[{\"type\":\"histogram2dcontour\",\"colorbar\":{\"outlinewidth\":0,\"ticks\":\"\"},\"colorscale\":[[0.0,\"#0d0887\"],[0.1111111111111111,\"#46039f\"],[0.2222222222222222,\"#7201a8\"],[0.3333333333333333,\"#9c179e\"],[0.4444444444444444,\"#bd3786\"],[0.5555555555555556,\"#d8576b\"],[0.6666666666666666,\"#ed7953\"],[0.7777777777777778,\"#fb9f3a\"],[0.8888888888888888,\"#fdca26\"],[1.0,\"#f0f921\"]]}],\"choropleth\":[{\"type\":\"choropleth\",\"colorbar\":{\"outlinewidth\":0,\"ticks\":\"\"}}],\"histogram2d\":[{\"type\":\"histogram2d\",\"colorbar\":{\"outlinewidth\":0,\"ticks\":\"\"},\"colorscale\":[[0.0,\"#0d0887\"],[0.1111111111111111,\"#46039f\"],[0.2222222222222222,\"#7201a8\"],[0.3333333333333333,\"#9c179e\"],[0.4444444444444444,\"#bd3786\"],[0.5555555555555556,\"#d8576b\"],[0.6666666666666666,\"#ed7953\"],[0.7777777777777778,\"#fb9f3a\"],[0.8888888888888888,\"#fdca26\"],[1.0,\"#f0f921\"]]}],\"heatmap\":[{\"type\":\"heatmap\",\"colorbar\":{\"outlinewidth\":0,\"ticks\":\"\"},\"colorscale\":[[0.0,\"#0d0887\"],[0.1111111111111111,\"#46039f\"],[0.2222222222222222,\"#7201a8\"],[0.3333333333333333,\"#9c179e\"],[0.4444444444444444,\"#bd3786\"],[0.5555555555555556,\"#d8576b\"],[0.6666666666666666,\"#ed7953\"],[0.7777777777777778,\"#fb9f3a\"],[0.8888888888888888,\"#fdca26\"],[1.0,\"#f0f921\"]]}],\"heatmapgl\":[{\"type\":\"heatmapgl\",\"colorbar\":{\"outlinewidth\":0,\"ticks\":\"\"},\"colorscale\":[[0.0,\"#0d0887\"],[0.1111111111111111,\"#46039f\"],[0.2222222222222222,\"#7201a8\"],[0.3333333333333333,\"#9c179e\"],[0.4444444444444444,\"#bd3786\"],[0.5555555555555556,\"#d8576b\"],[0.6666666666666666,\"#ed7953\"],[0.7777777777777778,\"#fb9f3a\"],[0.8888888888888888,\"#fdca26\"],[1.0,\"#f0f921\"]]}],\"contourcarpet\":[{\"type\":\"contourcarpet\",\"colorbar\":{\"outlinewidth\":0,\"ticks\":\"\"}}],\"contour\":[{\"type\":\"contour\",\"colorbar\":{\"outlinewidth\":0,\"ticks\":\"\"},\"colorscale\":[[0.0,\"#0d0887\"],[0.1111111111111111,\"#46039f\"],[0.2222222222222222,\"#7201a8\"],[0.3333333333333333,\"#9c179e\"],[0.4444444444444444,\"#bd3786\"],[0.5555555555555556,\"#d8576b\"],[0.6666666666666666,\"#ed7953\"],[0.7777777777777778,\"#fb9f3a\"],[0.8888888888888888,\"#fdca26\"],[1.0,\"#f0f921\"]]}],\"surface\":[{\"type\":\"surface\",\"colorbar\":{\"outlinewidth\":0,\"ticks\":\"\"},\"colorscale\":[[0.0,\"#0d0887\"],[0.1111111111111111,\"#46039f\"],[0.2222222222222222,\"#7201a8\"],[0.3333333333333333,\"#9c179e\"],[0.4444444444444444,\"#bd3786\"],[0.5555555555555556,\"#d8576b\"],[0.6666666666666666,\"#ed7953\"],[0.7777777777777778,\"#fb9f3a\"],[0.8888888888888888,\"#fdca26\"],[1.0,\"#f0f921\"]]}],\"mesh3d\":[{\"type\":\"mesh3d\",\"colorbar\":{\"outlinewidth\":0,\"ticks\":\"\"}}],\"scatter\":[{\"fillpattern\":{\"fillmode\":\"overlay\",\"size\":10,\"solidity\":0.2},\"type\":\"scatter\"}],\"parcoords\":[{\"type\":\"parcoords\",\"line\":{\"colorbar\":{\"outlinewidth\":0,\"ticks\":\"\"}}}],\"scatterpolargl\":[{\"type\":\"scatterpolargl\",\"marker\":{\"colorbar\":{\"outlinewidth\":0,\"ticks\":\"\"}}}],\"bar\":[{\"error_x\":{\"color\":\"#2a3f5f\"},\"error_y\":{\"color\":\"#2a3f5f\"},\"marker\":{\"line\":{\"color\":\"#E5ECF6\",\"width\":0.5},\"pattern\":{\"fillmode\":\"overlay\",\"size\":10,\"solidity\":0.2}},\"type\":\"bar\"}],\"scattergeo\":[{\"type\":\"scattergeo\",\"marker\":{\"colorbar\":{\"outlinewidth\":0,\"ticks\":\"\"}}}],\"scatterpolar\":[{\"type\":\"scatterpolar\",\"marker\":{\"colorbar\":{\"outlinewidth\":0,\"ticks\":\"\"}}}],\"histogram\":[{\"marker\":{\"pattern\":{\"fillmode\":\"overlay\",\"size\":10,\"solidity\":0.2}},\"type\":\"histogram\"}],\"scattergl\":[{\"type\":\"scattergl\",\"marker\":{\"colorbar\":{\"outlinewidth\":0,\"ticks\":\"\"}}}],\"scatter3d\":[{\"type\":\"scatter3d\",\"line\":{\"colorbar\":{\"outlinewidth\":0,\"ticks\":\"\"}},\"marker\":{\"colorbar\":{\"outlinewidth\":0,\"ticks\":\"\"}}}],\"scattermapbox\":[{\"type\":\"scattermapbox\",\"marker\":{\"colorbar\":{\"outlinewidth\":0,\"ticks\":\"\"}}}],\"scatterternary\":[{\"type\":\"scatterternary\",\"marker\":{\"colorbar\":{\"outlinewidth\":0,\"ticks\":\"\"}}}],\"scattercarpet\":[{\"type\":\"scattercarpet\",\"marker\":{\"colorbar\":{\"outlinewidth\":0,\"ticks\":\"\"}}}],\"carpet\":[{\"aaxis\":{\"endlinecolor\":\"#2a3f5f\",\"gridcolor\":\"white\",\"linecolor\":\"white\",\"minorgridcolor\":\"white\",\"startlinecolor\":\"#2a3f5f\"},\"baxis\":{\"endlinecolor\":\"#2a3f5f\",\"gridcolor\":\"white\",\"linecolor\":\"white\",\"minorgridcolor\":\"white\",\"startlinecolor\":\"#2a3f5f\"},\"type\":\"carpet\"}],\"table\":[{\"cells\":{\"fill\":{\"color\":\"#EBF0F8\"},\"line\":{\"color\":\"white\"}},\"header\":{\"fill\":{\"color\":\"#C8D4E3\"},\"line\":{\"color\":\"white\"}},\"type\":\"table\"}],\"barpolar\":[{\"marker\":{\"line\":{\"color\":\"#E5ECF6\",\"width\":0.5},\"pattern\":{\"fillmode\":\"overlay\",\"size\":10,\"solidity\":0.2}},\"type\":\"barpolar\"}],\"pie\":[{\"automargin\":true,\"type\":\"pie\"}]},\"layout\":{\"autotypenumbers\":\"strict\",\"colorway\":[\"#636efa\",\"#EF553B\",\"#00cc96\",\"#ab63fa\",\"#FFA15A\",\"#19d3f3\",\"#FF6692\",\"#B6E880\",\"#FF97FF\",\"#FECB52\"],\"font\":{\"color\":\"#2a3f5f\"},\"hovermode\":\"closest\",\"hoverlabel\":{\"align\":\"left\"},\"paper_bgcolor\":\"white\",\"plot_bgcolor\":\"#E5ECF6\",\"polar\":{\"bgcolor\":\"#E5ECF6\",\"angularaxis\":{\"gridcolor\":\"white\",\"linecolor\":\"white\",\"ticks\":\"\"},\"radialaxis\":{\"gridcolor\":\"white\",\"linecolor\":\"white\",\"ticks\":\"\"}},\"ternary\":{\"bgcolor\":\"#E5ECF6\",\"aaxis\":{\"gridcolor\":\"white\",\"linecolor\":\"white\",\"ticks\":\"\"},\"baxis\":{\"gridcolor\":\"white\",\"linecolor\":\"white\",\"ticks\":\"\"},\"caxis\":{\"gridcolor\":\"white\",\"linecolor\":\"white\",\"ticks\":\"\"}},\"coloraxis\":{\"colorbar\":{\"outlinewidth\":0,\"ticks\":\"\"}},\"colorscale\":{\"sequential\":[[0.0,\"#0d0887\"],[0.1111111111111111,\"#46039f\"],[0.2222222222222222,\"#7201a8\"],[0.3333333333333333,\"#9c179e\"],[0.4444444444444444,\"#bd3786\"],[0.5555555555555556,\"#d8576b\"],[0.6666666666666666,\"#ed7953\"],[0.7777777777777778,\"#fb9f3a\"],[0.8888888888888888,\"#fdca26\"],[1.0,\"#f0f921\"]],\"sequentialminus\":[[0.0,\"#0d0887\"],[0.1111111111111111,\"#46039f\"],[0.2222222222222222,\"#7201a8\"],[0.3333333333333333,\"#9c179e\"],[0.4444444444444444,\"#bd3786\"],[0.5555555555555556,\"#d8576b\"],[0.6666666666666666,\"#ed7953\"],[0.7777777777777778,\"#fb9f3a\"],[0.8888888888888888,\"#fdca26\"],[1.0,\"#f0f921\"]],\"diverging\":[[0,\"#8e0152\"],[0.1,\"#c51b7d\"],[0.2,\"#de77ae\"],[0.3,\"#f1b6da\"],[0.4,\"#fde0ef\"],[0.5,\"#f7f7f7\"],[0.6,\"#e6f5d0\"],[0.7,\"#b8e186\"],[0.8,\"#7fbc41\"],[0.9,\"#4d9221\"],[1,\"#276419\"]]},\"xaxis\":{\"gridcolor\":\"white\",\"linecolor\":\"white\",\"ticks\":\"\",\"title\":{\"standoff\":15},\"zerolinecolor\":\"white\",\"automargin\":true,\"zerolinewidth\":2},\"yaxis\":{\"gridcolor\":\"white\",\"linecolor\":\"white\",\"ticks\":\"\",\"title\":{\"standoff\":15},\"zerolinecolor\":\"white\",\"automargin\":true,\"zerolinewidth\":2},\"scene\":{\"xaxis\":{\"backgroundcolor\":\"#E5ECF6\",\"gridcolor\":\"white\",\"linecolor\":\"white\",\"showbackground\":true,\"ticks\":\"\",\"zerolinecolor\":\"white\",\"gridwidth\":2},\"yaxis\":{\"backgroundcolor\":\"#E5ECF6\",\"gridcolor\":\"white\",\"linecolor\":\"white\",\"showbackground\":true,\"ticks\":\"\",\"zerolinecolor\":\"white\",\"gridwidth\":2},\"zaxis\":{\"backgroundcolor\":\"#E5ECF6\",\"gridcolor\":\"white\",\"linecolor\":\"white\",\"showbackground\":true,\"ticks\":\"\",\"zerolinecolor\":\"white\",\"gridwidth\":2}},\"shapedefaults\":{\"line\":{\"color\":\"#2a3f5f\"}},\"annotationdefaults\":{\"arrowcolor\":\"#2a3f5f\",\"arrowhead\":0,\"arrowwidth\":1},\"geo\":{\"bgcolor\":\"white\",\"landcolor\":\"#E5ECF6\",\"subunitcolor\":\"white\",\"showland\":true,\"showlakes\":true,\"lakecolor\":\"white\"},\"title\":{\"x\":0.05},\"mapbox\":{\"style\":\"light\"}}},\"font\":{\"size\":18},\"title\":{\"text\":\"Real vs. Synthetic Data for column amenities_fee\"},\"plot_bgcolor\":\"#F5F5F8\",\"annotations\":[{\"showarrow\":false,\"text\":\"*Missing Values: Real Data (9.0%), Synthetic Data (7.6%)\",\"x\":1.0,\"xref\":\"paper\",\"y\":1.05,\"yref\":\"paper\"}]},                        {\"responsive\": true}                    ).then(function(){\n",
       "                            \n",
       "var gd = document.getElementById('ca667963-84e2-4619-b102-e05921290bf5');\n",
       "var x = new MutationObserver(function (mutations, observer) {{\n",
       "        var display = window.getComputedStyle(gd).display;\n",
       "        if (!display || display === 'none') {{\n",
       "            console.log([gd, 'removed!']);\n",
       "            Plotly.purge(gd);\n",
       "            observer.disconnect();\n",
       "        }}\n",
       "}});\n",
       "\n",
       "// Listen for the removal of the full notebook cells\n",
       "var notebookContainer = gd.closest('#notebook-container');\n",
       "if (notebookContainer) {{\n",
       "    x.observe(notebookContainer, {childList: true});\n",
       "}}\n",
       "\n",
       "// Listen for the clearing of the current output cell\n",
       "var outputEl = gd.closest('.output');\n",
       "if (outputEl) {{\n",
       "    x.observe(outputEl, {childList: true});\n",
       "}}\n",
       "\n",
       "                        })                };                });            </script>        </div>"
      ]
     },
     "metadata": {},
     "output_type": "display_data"
    }
   ],
   "source": [
    "from sdv.evaluation.single_table import get_column_plot\n",
    "\n",
    "fig = get_column_plot(\n",
    "    real_data=real_data,\n",
    "    synthetic_data=synthetic_data,\n",
    "    column_name='amenities_fee',\n",
    "    metadata=metadata\n",
    ")\n",
    "\n",
    "fig.show()"
   ]
  },
  {
   "cell_type": "code",
   "execution_count": 12,
   "id": "1a021243",
   "metadata": {},
   "outputs": [
    {
     "data": {
      "application/vnd.plotly.v1+json": {
       "config": {
        "plotlyServerURL": "https://plot.ly"
       },
       "data": [
        {
         "hovertemplate": "Data=Real<br>checkin_date=%{x}<br>checkout_date=%{y}<extra></extra>",
         "legendgroup": "Real",
         "marker": {
          "color": "#000036",
          "symbol": "circle"
         },
         "mode": "markers",
         "name": "Real",
         "orientation": "v",
         "showlegend": true,
         "type": "scatter",
         "x": [
          "2020-12-27T00:00:00",
          "2020-12-30T00:00:00",
          "2020-09-17T00:00:00",
          "2020-12-28T00:00:00",
          "2020-04-05T00:00:00",
          "2020-10-18T00:00:00",
          "2020-11-22T00:00:00",
          "2020-03-04T00:00:00",
          "2020-01-06T00:00:00",
          "2020-01-22T00:00:00",
          "2020-06-15T00:00:00",
          "2020-10-23T00:00:00",
          "2020-03-07T00:00:00",
          "2020-08-12T00:00:00",
          "2020-10-01T00:00:00",
          "2020-07-19T00:00:00",
          "2020-07-14T00:00:00",
          "2020-03-02T00:00:00",
          "2020-07-16T00:00:00",
          "2020-05-31T00:00:00",
          "2020-05-30T00:00:00",
          "2020-10-13T00:00:00",
          "2020-05-22T00:00:00",
          "2020-09-13T00:00:00",
          "2020-07-27T00:00:00",
          "2020-11-30T00:00:00",
          "2020-08-26T00:00:00",
          "2020-07-05T00:00:00",
          "2020-12-08T00:00:00",
          "2020-11-05T00:00:00",
          "2020-12-03T00:00:00",
          "2020-05-05T00:00:00",
          "2020-11-14T00:00:00",
          "2020-08-11T00:00:00",
          "2020-08-11T00:00:00",
          "2020-10-03T00:00:00",
          "2020-07-12T00:00:00",
          "2020-01-28T00:00:00",
          "2020-02-20T00:00:00",
          "2020-05-18T00:00:00",
          "2020-01-21T00:00:00",
          "2020-09-13T00:00:00",
          "2020-08-05T00:00:00",
          "2020-07-04T00:00:00",
          "2020-07-13T00:00:00",
          "2020-09-06T00:00:00",
          "2020-05-20T00:00:00",
          "2020-05-11T00:00:00",
          "2020-06-26T00:00:00",
          "2020-08-19T00:00:00",
          "2020-04-08T00:00:00",
          "2020-06-09T00:00:00",
          "2021-01-01T00:00:00",
          "2020-02-04T00:00:00",
          "2020-09-13T00:00:00",
          "2020-05-09T00:00:00",
          "2020-08-16T00:00:00",
          "2020-10-13T00:00:00",
          "2020-06-05T00:00:00",
          "2020-03-10T00:00:00",
          "2020-06-25T00:00:00",
          "2020-10-12T00:00:00",
          "2020-12-28T00:00:00",
          "2020-01-09T00:00:00",
          "2020-01-16T00:00:00",
          "2020-07-20T00:00:00",
          "2020-06-14T00:00:00",
          "2020-12-22T00:00:00",
          "2020-01-05T00:00:00",
          "2020-08-24T00:00:00",
          "2020-06-05T00:00:00",
          "2020-05-16T00:00:00",
          "2020-09-27T00:00:00",
          "2020-03-10T00:00:00",
          "2020-10-16T00:00:00",
          "2020-01-30T00:00:00",
          "2020-10-06T00:00:00",
          "2020-02-07T00:00:00",
          "2020-10-22T00:00:00",
          "2020-05-08T00:00:00",
          "2020-05-20T00:00:00",
          "2020-05-03T00:00:00",
          "2020-12-17T00:00:00",
          "2020-12-30T00:00:00",
          "2020-02-04T00:00:00",
          "2020-07-30T00:00:00",
          "2020-11-27T00:00:00",
          "2020-12-22T00:00:00",
          "2020-03-25T00:00:00",
          "2020-04-07T00:00:00",
          "2020-02-15T00:00:00",
          "2020-01-15T00:00:00",
          "2020-12-18T00:00:00",
          "2020-08-22T00:00:00",
          "2020-12-16T00:00:00",
          "2020-11-04T00:00:00",
          "2020-12-04T00:00:00",
          "2020-06-04T00:00:00",
          "2020-05-08T00:00:00",
          "2020-11-17T00:00:00",
          "2020-03-27T00:00:00",
          "2020-11-16T00:00:00",
          "2020-05-27T00:00:00",
          "2020-02-17T00:00:00",
          "2020-03-31T00:00:00",
          "2020-03-19T00:00:00",
          "2020-12-19T00:00:00",
          "2020-12-21T00:00:00",
          "2020-07-25T00:00:00",
          "2020-12-27T00:00:00",
          "2020-07-12T00:00:00",
          "2021-01-01T00:00:00",
          "2020-12-24T00:00:00",
          "2020-06-30T00:00:00",
          "2020-03-09T00:00:00",
          "2020-11-20T00:00:00",
          "2020-04-15T00:00:00",
          "2020-03-29T00:00:00",
          "2020-03-29T00:00:00",
          "2020-01-21T00:00:00",
          "2020-06-01T00:00:00",
          "2020-08-26T00:00:00",
          "2020-02-02T00:00:00",
          "2021-01-02T00:00:00",
          "2020-06-10T00:00:00",
          "2020-08-04T00:00:00",
          "2020-11-27T00:00:00",
          "2020-03-05T00:00:00",
          "2020-08-09T00:00:00",
          "2020-08-29T00:00:00",
          "2020-03-27T00:00:00",
          "2020-03-13T00:00:00",
          "2020-08-06T00:00:00",
          "2020-11-10T00:00:00",
          "2020-06-15T00:00:00",
          "2020-01-28T00:00:00",
          "2020-09-13T00:00:00",
          "2020-05-18T00:00:00",
          "2020-06-05T00:00:00",
          "2020-11-20T00:00:00",
          "2020-06-09T00:00:00",
          "2020-08-27T00:00:00",
          "2020-07-09T00:00:00",
          "2020-12-19T00:00:00",
          "2020-02-20T00:00:00",
          "2020-09-10T00:00:00",
          "2020-09-30T00:00:00",
          "2020-07-30T00:00:00",
          "2020-02-28T00:00:00",
          "2020-06-11T00:00:00",
          "2020-09-27T00:00:00",
          "2020-06-30T00:00:00",
          "2020-11-20T00:00:00",
          "2020-05-31T00:00:00",
          "2020-02-19T00:00:00",
          "2020-05-02T00:00:00",
          "2020-09-22T00:00:00",
          "2020-01-14T00:00:00",
          "2020-10-11T00:00:00",
          "2020-09-02T00:00:00",
          "2020-06-12T00:00:00",
          "2020-07-21T00:00:00",
          "2020-04-24T00:00:00",
          "2020-11-15T00:00:00",
          "2020-07-06T00:00:00",
          "2020-12-07T00:00:00",
          "2020-11-06T00:00:00",
          "2020-11-11T00:00:00",
          "2020-04-19T00:00:00",
          "2020-11-16T00:00:00",
          "2020-01-31T00:00:00",
          "2020-04-19T00:00:00",
          "2020-12-23T00:00:00",
          "2020-04-08T00:00:00",
          "2020-02-25T00:00:00",
          "2020-08-30T00:00:00",
          "2020-06-18T00:00:00",
          "2020-06-29T00:00:00",
          "2020-12-31T00:00:00",
          "2020-07-13T00:00:00",
          "2020-08-24T00:00:00",
          "2020-07-06T00:00:00",
          "2020-07-10T00:00:00",
          "2020-12-04T00:00:00",
          "2020-09-28T00:00:00",
          "2020-05-23T00:00:00",
          "2020-09-17T00:00:00",
          "2020-08-05T00:00:00",
          "2020-08-28T00:00:00",
          "2020-05-26T00:00:00",
          "2020-11-21T00:00:00",
          "2020-05-05T00:00:00",
          "2020-04-19T00:00:00",
          "2020-04-20T00:00:00",
          "2020-07-08T00:00:00",
          "2020-08-23T00:00:00",
          "2020-12-27T00:00:00",
          "2020-12-27T00:00:00",
          "2020-10-28T00:00:00",
          "2020-12-17T00:00:00",
          "2020-04-30T00:00:00",
          "2020-01-31T00:00:00",
          "2020-06-27T00:00:00",
          "2020-02-13T00:00:00",
          "2020-09-03T00:00:00",
          "2020-08-02T00:00:00",
          "2020-09-18T00:00:00",
          "2020-05-05T00:00:00",
          "2020-09-12T00:00:00",
          "2020-06-14T00:00:00",
          "2020-11-11T00:00:00",
          "2020-12-06T00:00:00",
          "2020-08-28T00:00:00",
          "2020-03-05T00:00:00",
          "2020-10-12T00:00:00",
          "2020-06-28T00:00:00",
          "2020-12-28T00:00:00",
          "2020-04-01T00:00:00",
          "2020-10-06T00:00:00",
          "2020-04-12T00:00:00",
          "2020-09-21T00:00:00",
          "2020-02-20T00:00:00",
          "2020-10-13T00:00:00",
          "2020-03-15T00:00:00",
          "2020-10-09T00:00:00",
          "2020-10-12T00:00:00",
          "2020-09-16T00:00:00",
          "2020-11-27T00:00:00",
          "2020-12-07T00:00:00",
          "2020-04-20T00:00:00",
          "2020-09-08T00:00:00",
          "2020-08-03T00:00:00",
          "2020-05-05T00:00:00",
          "2021-01-02T00:00:00",
          "2020-05-26T00:00:00",
          "2020-03-25T00:00:00",
          "2020-11-01T00:00:00",
          "2020-05-20T00:00:00",
          "2020-12-05T00:00:00",
          "2020-06-23T00:00:00",
          "2020-11-26T00:00:00",
          "2020-03-17T00:00:00",
          "2020-12-03T00:00:00",
          "2020-10-25T00:00:00",
          "2020-08-23T00:00:00",
          "2020-04-18T00:00:00",
          "2020-12-01T00:00:00",
          "2020-05-15T00:00:00",
          "2020-03-27T00:00:00",
          "2020-09-15T00:00:00",
          "2020-11-25T00:00:00",
          "2020-10-25T00:00:00",
          "2020-09-29T00:00:00",
          "2020-12-08T00:00:00",
          "2020-11-29T00:00:00",
          "2020-04-30T00:00:00",
          "2020-08-06T00:00:00",
          "2020-04-13T00:00:00",
          "2020-01-26T00:00:00",
          "2020-05-21T00:00:00",
          "2020-06-06T00:00:00",
          "2020-06-24T00:00:00",
          "2020-12-12T00:00:00",
          "2020-01-05T00:00:00",
          "2020-11-16T00:00:00",
          "2020-02-20T00:00:00",
          "2020-11-10T00:00:00",
          "2020-12-10T00:00:00",
          "2020-11-11T00:00:00",
          "2020-01-17T00:00:00",
          "2020-01-17T00:00:00",
          "2021-01-03T00:00:00",
          "2020-07-27T00:00:00",
          "2020-02-25T00:00:00",
          "2020-12-09T00:00:00",
          "2020-09-27T00:00:00",
          "2020-09-27T00:00:00",
          "2020-06-12T00:00:00",
          "2020-02-01T00:00:00",
          "2020-01-24T00:00:00",
          "2020-11-28T00:00:00",
          "2020-02-14T00:00:00",
          "2021-01-07T00:00:00",
          "2020-08-24T00:00:00",
          "2020-10-23T00:00:00",
          "2020-12-31T00:00:00",
          "2020-08-26T00:00:00",
          "2020-09-26T00:00:00",
          "2020-02-29T00:00:00",
          "2020-08-03T00:00:00",
          "2020-09-21T00:00:00",
          "2020-12-18T00:00:00",
          "2020-01-17T00:00:00",
          "2020-12-31T00:00:00",
          "2020-05-22T00:00:00",
          "2020-02-16T00:00:00",
          "2020-04-23T00:00:00",
          "2020-03-05T00:00:00",
          "2020-01-18T00:00:00",
          "2020-03-08T00:00:00",
          "2020-04-09T00:00:00",
          "2020-09-10T00:00:00",
          "2020-04-24T00:00:00",
          "2020-02-01T00:00:00",
          "2020-06-01T00:00:00",
          "2020-01-29T00:00:00",
          "2020-07-09T00:00:00",
          "2020-09-18T00:00:00",
          "2020-05-16T00:00:00",
          "2020-01-31T00:00:00",
          "2020-01-29T00:00:00",
          "2020-07-26T00:00:00",
          "2020-01-14T00:00:00",
          "2020-04-14T00:00:00",
          "2020-04-28T00:00:00",
          "2020-05-16T00:00:00",
          "2021-01-05T00:00:00",
          "2020-03-03T00:00:00",
          "2020-01-08T00:00:00",
          "2020-03-14T00:00:00",
          "2020-08-23T00:00:00",
          "2020-04-14T00:00:00",
          "2020-09-08T00:00:00",
          "2020-07-22T00:00:00",
          "2020-01-20T00:00:00",
          "2020-05-19T00:00:00",
          "2020-08-05T00:00:00",
          "2020-09-14T00:00:00",
          "2020-11-19T00:00:00",
          "2020-11-14T00:00:00",
          "2020-06-29T00:00:00",
          "2020-09-15T00:00:00",
          "2020-01-23T00:00:00",
          "2020-10-13T00:00:00",
          "2020-08-18T00:00:00",
          "2020-03-10T00:00:00",
          "2020-05-30T00:00:00",
          "2020-05-04T00:00:00",
          "2020-11-08T00:00:00",
          "2020-09-30T00:00:00",
          "2020-09-21T00:00:00",
          "2020-02-26T00:00:00",
          "2020-03-05T00:00:00",
          "2020-07-21T00:00:00",
          "2020-12-12T00:00:00",
          "2020-01-22T00:00:00",
          "2020-08-04T00:00:00",
          "2020-03-13T00:00:00",
          "2020-01-26T00:00:00",
          "2020-03-08T00:00:00",
          "2020-01-20T00:00:00",
          "2020-12-30T00:00:00",
          "2020-02-28T00:00:00",
          "2020-04-04T00:00:00",
          "2020-08-21T00:00:00",
          "2021-01-02T00:00:00",
          "2020-08-22T00:00:00",
          "2020-10-02T00:00:00",
          "2020-11-05T00:00:00",
          "2020-09-15T00:00:00",
          "2020-10-12T00:00:00",
          "2020-04-01T00:00:00",
          "2020-02-17T00:00:00",
          "2020-10-13T00:00:00",
          "2020-07-20T00:00:00",
          "2020-07-31T00:00:00",
          "2020-02-02T00:00:00",
          "2020-07-05T00:00:00",
          "2020-05-17T00:00:00",
          "2020-09-13T00:00:00",
          "2020-02-09T00:00:00",
          "2020-02-19T00:00:00",
          "2020-11-14T00:00:00",
          "2020-01-29T00:00:00",
          "2020-11-30T00:00:00",
          "2020-05-27T00:00:00",
          "2020-03-06T00:00:00",
          "2020-07-21T00:00:00",
          "2020-03-20T00:00:00",
          "2020-06-02T00:00:00",
          "2020-07-21T00:00:00",
          "2020-08-13T00:00:00",
          "2020-01-11T00:00:00",
          "2020-08-16T00:00:00",
          "2020-05-03T00:00:00",
          "2020-10-14T00:00:00",
          "2020-06-06T00:00:00",
          "2020-07-08T00:00:00",
          "2020-03-20T00:00:00",
          "2020-07-10T00:00:00",
          "2020-10-07T00:00:00",
          "2020-05-31T00:00:00",
          "2020-12-21T00:00:00",
          "2020-03-18T00:00:00",
          "2020-09-18T00:00:00",
          "2021-01-06T00:00:00",
          "2020-12-27T00:00:00",
          "2020-06-04T00:00:00",
          "2020-09-10T00:00:00",
          "2020-04-12T00:00:00",
          "2020-06-10T00:00:00",
          "2020-01-20T00:00:00",
          "2020-01-20T00:00:00",
          "2020-10-27T00:00:00",
          "2020-06-06T00:00:00",
          "2020-11-27T00:00:00",
          "2020-08-25T00:00:00",
          "2020-08-05T00:00:00",
          "2020-02-15T00:00:00",
          "2020-05-17T00:00:00",
          "2020-02-24T00:00:00",
          "2020-07-25T00:00:00",
          "2020-12-15T00:00:00",
          "2020-07-20T00:00:00",
          "2020-05-26T00:00:00",
          "2020-04-09T00:00:00",
          "2020-05-27T00:00:00",
          "2020-03-28T00:00:00",
          "2020-04-15T00:00:00",
          "2020-07-13T00:00:00",
          "2020-12-01T00:00:00",
          "2020-10-13T00:00:00",
          "2020-07-03T00:00:00",
          "2020-07-05T00:00:00",
          "2020-10-07T00:00:00",
          "2020-04-10T00:00:00",
          "2020-03-02T00:00:00",
          "2020-09-08T00:00:00",
          "2020-06-27T00:00:00",
          "2020-03-02T00:00:00",
          "2020-06-18T00:00:00",
          "2020-09-26T00:00:00",
          "2020-03-29T00:00:00",
          "2020-11-13T00:00:00",
          "2020-07-14T00:00:00",
          "2021-01-01T00:00:00",
          "2020-02-13T00:00:00",
          "2020-06-22T00:00:00",
          "2020-07-16T00:00:00",
          "2020-09-01T00:00:00",
          "2020-08-16T00:00:00",
          "2020-06-08T00:00:00",
          "2020-01-29T00:00:00",
          "2020-01-11T00:00:00",
          "2020-12-20T00:00:00",
          "2020-09-24T00:00:00",
          "2020-10-18T00:00:00",
          "2020-04-19T00:00:00",
          "2020-06-20T00:00:00",
          "2020-10-25T00:00:00",
          "2020-07-13T00:00:00",
          "2020-05-21T00:00:00",
          "2020-11-26T00:00:00",
          "2020-09-26T00:00:00",
          "2020-09-09T00:00:00",
          "2020-09-15T00:00:00",
          "2020-11-25T00:00:00",
          "2020-10-05T00:00:00",
          "2020-07-26T00:00:00",
          "2020-11-17T00:00:00",
          "2020-01-07T00:00:00",
          "2020-11-02T00:00:00",
          "2020-12-12T00:00:00",
          "2020-09-25T00:00:00",
          "2020-04-25T00:00:00",
          "2020-08-11T00:00:00",
          "2020-03-17T00:00:00",
          "2020-11-06T00:00:00",
          "2020-11-17T00:00:00",
          "2020-11-02T00:00:00",
          "2020-07-12T00:00:00",
          "2020-11-22T00:00:00",
          "2020-10-26T00:00:00",
          "2020-03-07T00:00:00",
          "2020-08-26T00:00:00",
          "2020-03-01T00:00:00",
          "2020-12-01T00:00:00",
          "2020-04-07T00:00:00",
          "2020-06-30T00:00:00",
          "2020-01-15T00:00:00",
          "2020-05-30T00:00:00",
          "2020-01-19T00:00:00",
          "2020-10-13T00:00:00",
          "2020-08-16T00:00:00",
          "2020-12-30T00:00:00",
          "2020-11-29T00:00:00",
          "2020-08-26T00:00:00",
          "2020-06-07T00:00:00",
          "2020-12-18T00:00:00",
          "2020-03-10T00:00:00",
          "2020-05-10T00:00:00",
          "2020-04-20T00:00:00",
          "2020-04-18T00:00:00",
          "2020-07-23T00:00:00",
          "2020-05-11T00:00:00",
          "2021-01-04T00:00:00",
          "2020-08-24T00:00:00",
          "2020-11-11T00:00:00",
          "2020-07-16T00:00:00",
          "2020-03-22T00:00:00"
         ],
         "xaxis": "x",
         "y": [
          "2020-12-29T00:00:00",
          "2021-01-02T00:00:00",
          "2020-09-18T00:00:00",
          "2020-12-31T00:00:00",
          null,
          "2020-10-20T00:00:00",
          "2020-11-24T00:00:00",
          "2020-03-05T00:00:00",
          "2020-01-08T00:00:00",
          "2020-01-26T00:00:00",
          "2020-06-16T00:00:00",
          "2020-10-25T00:00:00",
          "2020-03-09T00:00:00",
          "2020-08-13T00:00:00",
          "2020-10-05T00:00:00",
          "2020-07-21T00:00:00",
          "2020-07-16T00:00:00",
          "2020-03-04T00:00:00",
          "2020-07-19T00:00:00",
          "2020-06-02T00:00:00",
          "2020-06-01T00:00:00",
          "2020-10-16T00:00:00",
          "2020-05-23T00:00:00",
          "2020-09-17T00:00:00",
          "2020-07-30T00:00:00",
          "2020-12-01T00:00:00",
          "2020-08-27T00:00:00",
          "2020-07-07T00:00:00",
          "2020-12-10T00:00:00",
          "2020-11-07T00:00:00",
          "2020-12-06T00:00:00",
          "2020-05-07T00:00:00",
          "2020-11-16T00:00:00",
          "2020-08-15T00:00:00",
          "2020-08-13T00:00:00",
          "2020-10-05T00:00:00",
          "2020-07-14T00:00:00",
          "2020-01-29T00:00:00",
          "2020-02-23T00:00:00",
          "2020-05-19T00:00:00",
          "2020-01-22T00:00:00",
          null,
          "2020-08-06T00:00:00",
          "2020-07-06T00:00:00",
          "2020-07-16T00:00:00",
          "2020-09-08T00:00:00",
          "2020-05-25T00:00:00",
          "2020-05-13T00:00:00",
          "2020-06-29T00:00:00",
          "2020-08-23T00:00:00",
          "2020-04-11T00:00:00",
          "2020-06-11T00:00:00",
          "2021-01-05T00:00:00",
          "2020-02-09T00:00:00",
          "2020-09-17T00:00:00",
          "2020-05-10T00:00:00",
          "2020-08-19T00:00:00",
          "2020-10-15T00:00:00",
          "2020-06-08T00:00:00",
          "2020-03-11T00:00:00",
          "2020-06-26T00:00:00",
          "2020-10-13T00:00:00",
          "2020-12-29T00:00:00",
          "2020-01-11T00:00:00",
          "2020-01-17T00:00:00",
          "2020-07-21T00:00:00",
          "2020-06-17T00:00:00",
          "2020-12-24T00:00:00",
          "2020-01-07T00:00:00",
          "2020-08-27T00:00:00",
          "2020-06-07T00:00:00",
          "2020-05-18T00:00:00",
          "2020-09-28T00:00:00",
          "2020-03-12T00:00:00",
          "2020-10-19T00:00:00",
          "2020-02-02T00:00:00",
          "2020-10-08T00:00:00",
          "2020-02-13T00:00:00",
          "2020-10-24T00:00:00",
          null,
          "2020-05-21T00:00:00",
          "2020-05-06T00:00:00",
          "2020-12-19T00:00:00",
          "2020-12-31T00:00:00",
          null,
          "2020-08-01T00:00:00",
          "2020-11-30T00:00:00",
          "2020-12-23T00:00:00",
          "2020-03-31T00:00:00",
          "2020-04-11T00:00:00",
          "2020-02-17T00:00:00",
          "2020-01-17T00:00:00",
          "2020-12-19T00:00:00",
          "2020-08-24T00:00:00",
          "2020-12-18T00:00:00",
          "2020-11-06T00:00:00",
          "2020-12-08T00:00:00",
          "2020-06-05T00:00:00",
          "2020-05-09T00:00:00",
          "2020-11-20T00:00:00",
          "2020-03-29T00:00:00",
          "2020-11-17T00:00:00",
          "2020-05-29T00:00:00",
          "2020-02-20T00:00:00",
          "2020-04-04T00:00:00",
          "2020-03-22T00:00:00",
          "2020-12-21T00:00:00",
          "2020-12-22T00:00:00",
          "2020-07-27T00:00:00",
          "2020-12-31T00:00:00",
          "2020-07-13T00:00:00",
          "2021-01-04T00:00:00",
          "2020-12-27T00:00:00",
          "2020-07-02T00:00:00",
          "2020-03-10T00:00:00",
          "2020-11-22T00:00:00",
          "2020-04-16T00:00:00",
          "2020-04-03T00:00:00",
          "2020-04-04T00:00:00",
          "2020-01-22T00:00:00",
          "2020-06-04T00:00:00",
          "2020-08-27T00:00:00",
          "2020-02-04T00:00:00",
          "2021-01-03T00:00:00",
          "2020-06-11T00:00:00",
          "2020-08-08T00:00:00",
          "2020-11-28T00:00:00",
          "2020-03-06T00:00:00",
          "2020-08-11T00:00:00",
          "2020-08-31T00:00:00",
          "2020-03-30T00:00:00",
          "2020-03-14T00:00:00",
          "2020-08-07T00:00:00",
          "2020-11-12T00:00:00",
          null,
          "2020-01-31T00:00:00",
          "2020-09-15T00:00:00",
          "2020-05-21T00:00:00",
          "2020-06-08T00:00:00",
          "2020-11-22T00:00:00",
          "2020-06-12T00:00:00",
          "2020-08-29T00:00:00",
          "2020-07-12T00:00:00",
          "2020-12-22T00:00:00",
          "2020-02-21T00:00:00",
          "2020-09-11T00:00:00",
          "2020-10-01T00:00:00",
          "2020-08-01T00:00:00",
          "2020-03-01T00:00:00",
          "2020-06-12T00:00:00",
          "2020-09-28T00:00:00",
          "2020-07-03T00:00:00",
          "2020-11-23T00:00:00",
          "2020-06-01T00:00:00",
          "2020-02-22T00:00:00",
          "2020-05-05T00:00:00",
          "2020-09-25T00:00:00",
          "2020-01-15T00:00:00",
          "2020-10-14T00:00:00",
          "2020-09-04T00:00:00",
          "2020-06-14T00:00:00",
          "2020-07-22T00:00:00",
          "2020-04-27T00:00:00",
          "2020-11-16T00:00:00",
          "2020-07-07T00:00:00",
          "2020-12-10T00:00:00",
          "2020-11-09T00:00:00",
          "2020-11-14T00:00:00",
          "2020-04-22T00:00:00",
          "2020-11-17T00:00:00",
          "2020-02-03T00:00:00",
          "2020-04-24T00:00:00",
          "2020-12-24T00:00:00",
          "2020-04-09T00:00:00",
          "2020-02-27T00:00:00",
          "2020-08-31T00:00:00",
          "2020-06-21T00:00:00",
          "2020-06-30T00:00:00",
          "2021-01-01T00:00:00",
          "2020-07-18T00:00:00",
          "2020-08-27T00:00:00",
          "2020-07-07T00:00:00",
          "2020-07-11T00:00:00",
          "2020-12-06T00:00:00",
          "2020-09-30T00:00:00",
          "2020-05-26T00:00:00",
          "2020-09-20T00:00:00",
          "2020-08-06T00:00:00",
          "2020-08-29T00:00:00",
          "2020-05-27T00:00:00",
          "2020-11-25T00:00:00",
          "2020-05-06T00:00:00",
          "2020-04-20T00:00:00",
          "2020-04-22T00:00:00",
          "2020-07-10T00:00:00",
          null,
          "2020-12-30T00:00:00",
          "2020-12-31T00:00:00",
          "2020-10-29T00:00:00",
          "2020-12-19T00:00:00",
          "2020-05-02T00:00:00",
          "2020-02-03T00:00:00",
          "2020-07-01T00:00:00",
          "2020-02-16T00:00:00",
          "2020-09-09T00:00:00",
          "2020-08-07T00:00:00",
          "2020-09-21T00:00:00",
          "2020-05-08T00:00:00",
          "2020-09-15T00:00:00",
          "2020-06-15T00:00:00",
          "2020-11-12T00:00:00",
          "2020-12-09T00:00:00",
          "2020-08-29T00:00:00",
          "2020-03-07T00:00:00",
          "2020-10-14T00:00:00",
          "2020-07-01T00:00:00",
          "2020-12-29T00:00:00",
          "2020-04-03T00:00:00",
          "2020-10-09T00:00:00",
          "2020-04-14T00:00:00",
          "2020-09-24T00:00:00",
          "2020-02-21T00:00:00",
          "2020-10-15T00:00:00",
          "2020-03-16T00:00:00",
          "2020-10-10T00:00:00",
          "2020-10-15T00:00:00",
          "2020-09-18T00:00:00",
          "2020-11-29T00:00:00",
          "2020-12-10T00:00:00",
          "2020-04-21T00:00:00",
          null,
          "2020-08-04T00:00:00",
          "2020-05-07T00:00:00",
          null,
          "2020-05-27T00:00:00",
          "2020-03-27T00:00:00",
          "2020-11-03T00:00:00",
          "2020-05-24T00:00:00",
          "2020-12-07T00:00:00",
          "2020-06-24T00:00:00",
          "2020-11-29T00:00:00",
          "2020-03-19T00:00:00",
          null,
          "2020-10-27T00:00:00",
          "2020-08-25T00:00:00",
          "2020-04-20T00:00:00",
          "2020-12-02T00:00:00",
          "2020-05-17T00:00:00",
          "2020-03-29T00:00:00",
          "2020-09-17T00:00:00",
          "2020-11-27T00:00:00",
          "2020-10-27T00:00:00",
          "2020-10-01T00:00:00",
          "2020-12-11T00:00:00",
          "2020-12-01T00:00:00",
          "2020-05-02T00:00:00",
          "2020-08-08T00:00:00",
          "2020-04-17T00:00:00",
          "2020-01-27T00:00:00",
          "2020-05-22T00:00:00",
          "2020-06-08T00:00:00",
          "2020-06-27T00:00:00",
          "2020-12-14T00:00:00",
          "2020-01-07T00:00:00",
          "2020-11-17T00:00:00",
          "2020-02-22T00:00:00",
          "2020-11-12T00:00:00",
          "2020-12-14T00:00:00",
          "2020-11-13T00:00:00",
          "2020-01-18T00:00:00",
          null,
          "2021-01-05T00:00:00",
          "2020-07-30T00:00:00",
          null,
          "2020-12-12T00:00:00",
          "2020-09-28T00:00:00",
          "2020-09-29T00:00:00",
          "2020-06-16T00:00:00",
          "2020-02-02T00:00:00",
          "2020-01-25T00:00:00",
          "2020-12-01T00:00:00",
          "2020-02-16T00:00:00",
          "2021-01-08T00:00:00",
          "2020-08-26T00:00:00",
          "2020-10-25T00:00:00",
          "2021-01-02T00:00:00",
          "2020-08-28T00:00:00",
          null,
          null,
          "2020-08-06T00:00:00",
          "2020-09-22T00:00:00",
          "2020-12-19T00:00:00",
          "2020-01-20T00:00:00",
          "2021-01-01T00:00:00",
          "2020-05-25T00:00:00",
          "2020-02-17T00:00:00",
          "2020-04-28T00:00:00",
          "2020-03-06T00:00:00",
          "2020-01-19T00:00:00",
          "2020-03-10T00:00:00",
          "2020-04-11T00:00:00",
          "2020-09-12T00:00:00",
          "2020-04-25T00:00:00",
          "2020-02-02T00:00:00",
          "2020-06-04T00:00:00",
          "2020-01-30T00:00:00",
          "2020-07-13T00:00:00",
          "2020-09-19T00:00:00",
          "2020-05-17T00:00:00",
          "2020-02-02T00:00:00",
          "2020-01-31T00:00:00",
          "2020-07-30T00:00:00",
          "2020-01-16T00:00:00",
          null,
          "2020-04-30T00:00:00",
          "2020-05-18T00:00:00",
          "2021-01-07T00:00:00",
          "2020-03-05T00:00:00",
          "2020-01-09T00:00:00",
          "2020-03-17T00:00:00",
          "2020-08-25T00:00:00",
          "2020-04-18T00:00:00",
          "2020-09-10T00:00:00",
          "2020-07-26T00:00:00",
          "2020-01-21T00:00:00",
          "2020-05-21T00:00:00",
          "2020-08-06T00:00:00",
          "2020-09-16T00:00:00",
          "2020-11-22T00:00:00",
          "2020-11-16T00:00:00",
          "2020-06-30T00:00:00",
          "2020-09-17T00:00:00",
          "2020-01-26T00:00:00",
          "2020-10-18T00:00:00",
          "2020-08-20T00:00:00",
          "2020-03-12T00:00:00",
          "2020-06-01T00:00:00",
          "2020-05-07T00:00:00",
          "2020-11-11T00:00:00",
          "2020-10-01T00:00:00",
          "2020-09-23T00:00:00",
          "2020-02-29T00:00:00",
          "2020-03-06T00:00:00",
          "2020-07-22T00:00:00",
          "2020-12-15T00:00:00",
          "2020-01-28T00:00:00",
          "2020-08-05T00:00:00",
          "2020-03-16T00:00:00",
          "2020-01-28T00:00:00",
          "2020-03-10T00:00:00",
          "2020-01-22T00:00:00",
          "2021-01-01T00:00:00",
          "2020-03-02T00:00:00",
          "2020-04-05T00:00:00",
          "2020-08-23T00:00:00",
          "2021-01-05T00:00:00",
          null,
          "2020-10-03T00:00:00",
          "2020-11-07T00:00:00",
          null,
          "2020-10-14T00:00:00",
          "2020-04-03T00:00:00",
          "2020-02-19T00:00:00",
          "2020-10-16T00:00:00",
          "2020-07-24T00:00:00",
          "2020-08-03T00:00:00",
          "2020-02-04T00:00:00",
          "2020-07-08T00:00:00",
          "2020-05-19T00:00:00",
          "2020-09-15T00:00:00",
          "2020-02-10T00:00:00",
          "2020-02-22T00:00:00",
          "2020-11-17T00:00:00",
          "2020-01-31T00:00:00",
          "2020-12-03T00:00:00",
          "2020-05-30T00:00:00",
          "2020-03-09T00:00:00",
          "2020-07-23T00:00:00",
          "2020-03-21T00:00:00",
          "2020-06-03T00:00:00",
          "2020-07-22T00:00:00",
          "2020-08-16T00:00:00",
          "2020-01-13T00:00:00",
          "2020-08-18T00:00:00",
          "2020-05-05T00:00:00",
          "2020-10-17T00:00:00",
          "2020-06-07T00:00:00",
          "2020-07-11T00:00:00",
          "2020-03-21T00:00:00",
          "2020-07-11T00:00:00",
          "2020-10-08T00:00:00",
          "2020-06-03T00:00:00",
          "2020-12-22T00:00:00",
          "2020-03-19T00:00:00",
          "2020-09-20T00:00:00",
          "2021-01-08T00:00:00",
          "2020-12-28T00:00:00",
          "2020-06-05T00:00:00",
          "2020-09-13T00:00:00",
          "2020-04-16T00:00:00",
          "2020-06-13T00:00:00",
          "2020-01-23T00:00:00",
          "2020-01-23T00:00:00",
          "2020-10-28T00:00:00",
          "2020-06-07T00:00:00",
          "2020-11-30T00:00:00",
          "2020-08-28T00:00:00",
          "2020-08-06T00:00:00",
          "2020-02-18T00:00:00",
          "2020-05-19T00:00:00",
          "2020-02-27T00:00:00",
          "2020-07-28T00:00:00",
          "2020-12-17T00:00:00",
          "2020-07-22T00:00:00",
          "2020-05-27T00:00:00",
          "2020-04-12T00:00:00",
          "2020-05-28T00:00:00",
          "2020-03-29T00:00:00",
          "2020-04-17T00:00:00",
          "2020-07-14T00:00:00",
          "2020-12-02T00:00:00",
          "2020-10-15T00:00:00",
          "2020-07-05T00:00:00",
          "2020-07-06T00:00:00",
          "2020-10-08T00:00:00",
          null,
          "2020-03-04T00:00:00",
          "2020-09-10T00:00:00",
          "2020-06-28T00:00:00",
          "2020-03-05T00:00:00",
          "2020-06-22T00:00:00",
          "2020-09-28T00:00:00",
          "2020-03-30T00:00:00",
          "2020-11-15T00:00:00",
          null,
          null,
          "2020-02-14T00:00:00",
          "2020-06-24T00:00:00",
          "2020-07-19T00:00:00",
          "2020-09-03T00:00:00",
          "2020-08-18T00:00:00",
          "2020-06-10T00:00:00",
          "2020-01-30T00:00:00",
          "2020-01-13T00:00:00",
          "2020-12-22T00:00:00",
          "2020-09-27T00:00:00",
          "2020-10-20T00:00:00",
          "2020-04-22T00:00:00",
          "2020-06-22T00:00:00",
          "2020-10-26T00:00:00",
          "2020-07-16T00:00:00",
          "2020-05-23T00:00:00",
          "2020-11-29T00:00:00",
          "2020-09-29T00:00:00",
          "2020-09-12T00:00:00",
          "2020-09-16T00:00:00",
          "2020-11-26T00:00:00",
          "2020-10-08T00:00:00",
          "2020-07-28T00:00:00",
          "2020-11-19T00:00:00",
          "2020-01-10T00:00:00",
          "2020-11-03T00:00:00",
          "2020-12-16T00:00:00",
          "2020-09-26T00:00:00",
          "2020-04-26T00:00:00",
          "2020-08-15T00:00:00",
          "2020-03-18T00:00:00",
          "2020-11-07T00:00:00",
          "2020-11-20T00:00:00",
          "2020-11-04T00:00:00",
          "2020-07-13T00:00:00",
          "2020-11-25T00:00:00",
          "2020-10-28T00:00:00",
          "2020-03-08T00:00:00",
          "2020-08-27T00:00:00",
          "2020-03-02T00:00:00",
          "2020-12-03T00:00:00",
          "2020-04-10T00:00:00",
          "2020-07-02T00:00:00",
          "2020-01-16T00:00:00",
          "2020-06-01T00:00:00",
          "2020-01-21T00:00:00",
          "2020-10-15T00:00:00",
          "2020-08-18T00:00:00",
          "2021-01-01T00:00:00",
          "2020-12-01T00:00:00",
          "2020-08-30T00:00:00",
          "2020-06-09T00:00:00",
          null,
          "2020-03-11T00:00:00",
          "2020-05-14T00:00:00",
          "2020-04-24T00:00:00",
          "2020-04-21T00:00:00",
          "2020-07-25T00:00:00",
          "2020-05-13T00:00:00",
          "2021-01-06T00:00:00",
          "2020-08-26T00:00:00",
          "2020-11-13T00:00:00",
          "2020-07-18T00:00:00",
          "2020-03-25T00:00:00"
         ],
         "yaxis": "y"
        },
        {
         "hovertemplate": "Data=Synthetic<br>checkin_date=%{x}<br>checkout_date=%{y}<extra></extra>",
         "legendgroup": "Synthetic",
         "marker": {
          "color": "#01E0C9",
          "symbol": "diamond"
         },
         "mode": "markers",
         "name": "Synthetic",
         "orientation": "v",
         "showlegend": true,
         "type": "scatter",
         "x": [
          "2020-03-31T00:00:00",
          "2020-06-25T00:00:00",
          "2020-04-14T00:00:00",
          "2020-05-25T00:00:00",
          "2019-11-13T00:00:00",
          "2020-10-31T00:00:00",
          "2020-10-12T00:00:00",
          "2020-08-24T00:00:00",
          "2020-09-10T00:00:00",
          "2020-10-18T00:00:00",
          "2020-09-01T00:00:00",
          "2020-08-25T00:00:00",
          "2020-11-15T00:00:00",
          "2020-06-17T00:00:00",
          "2020-12-25T00:00:00",
          "2020-07-23T00:00:00",
          "2020-07-10T00:00:00",
          "2021-02-12T00:00:00",
          "2020-06-07T00:00:00",
          "2020-06-17T00:00:00",
          "2020-03-22T00:00:00",
          "2020-06-04T00:00:00",
          "2020-11-29T00:00:00",
          "2020-04-20T00:00:00",
          "2020-07-12T00:00:00",
          "2020-03-18T00:00:00",
          "2020-09-30T00:00:00",
          "2020-10-05T00:00:00",
          "2020-07-01T00:00:00",
          "2021-02-05T00:00:00",
          "2019-10-14T00:00:00",
          "2020-06-29T00:00:00",
          "2021-01-18T00:00:00",
          "2021-02-25T00:00:00",
          "2020-03-02T00:00:00",
          "2020-12-29T00:00:00",
          "2020-05-30T00:00:00",
          "2020-03-26T00:00:00",
          "2020-08-12T00:00:00",
          "2020-11-26T00:00:00",
          "2020-07-25T00:00:00",
          "2020-06-21T00:00:00",
          "2020-04-20T00:00:00",
          "2020-05-22T00:00:00",
          "2020-03-27T00:00:00",
          "2020-10-30T00:00:00",
          "2020-06-18T00:00:00",
          "2020-07-22T00:00:00",
          "2020-04-28T00:00:00",
          "2020-07-01T00:00:00",
          "2020-03-18T00:00:00",
          "2020-07-26T00:00:00",
          "2020-08-17T00:00:00",
          "2020-12-12T00:00:00",
          "2021-01-04T00:00:00",
          "2020-06-13T00:00:00",
          "2020-11-15T00:00:00",
          "2020-08-02T00:00:00",
          "2020-10-30T00:00:00",
          "2020-05-05T00:00:00",
          "2020-11-21T00:00:00",
          "2020-06-19T00:00:00",
          "2020-11-03T00:00:00",
          "2020-04-22T00:00:00",
          "2020-05-23T00:00:00",
          "2020-08-03T00:00:00",
          "2019-12-11T00:00:00",
          "2020-08-12T00:00:00",
          "2020-06-16T00:00:00",
          "2020-08-25T00:00:00",
          "2020-08-04T00:00:00",
          "2020-02-23T00:00:00",
          "2019-09-21T00:00:00",
          "2020-03-15T00:00:00",
          "2020-09-07T00:00:00",
          "2020-06-23T00:00:00",
          "2020-06-21T00:00:00",
          "2021-04-07T00:00:00",
          "2020-09-30T00:00:00",
          "2020-05-30T00:00:00",
          "2020-10-15T00:00:00",
          "2020-03-16T00:00:00",
          "2020-04-07T00:00:00",
          "2020-05-12T00:00:00",
          "2021-02-25T00:00:00",
          "2021-02-06T00:00:00",
          "2020-07-14T00:00:00",
          "2020-11-10T00:00:00",
          "2020-08-23T00:00:00",
          "2020-02-26T00:00:00",
          "2020-02-10T00:00:00",
          "2020-07-25T00:00:00",
          "2020-07-22T00:00:00",
          "2020-08-27T00:00:00",
          "2020-09-25T00:00:00",
          "2020-07-30T00:00:00",
          "2020-10-12T00:00:00",
          "2020-04-21T00:00:00",
          "2020-12-08T00:00:00",
          "2020-04-22T00:00:00",
          "2021-01-22T00:00:00",
          "2020-12-08T00:00:00",
          "2020-08-23T00:00:00",
          "2020-03-06T00:00:00",
          "2020-08-26T00:00:00",
          "2020-04-16T00:00:00",
          "2020-11-12T00:00:00",
          "2020-10-23T00:00:00",
          "2020-07-30T00:00:00",
          "2020-01-28T00:00:00",
          "2020-12-23T00:00:00",
          "2020-03-07T00:00:00",
          "2020-06-18T00:00:00",
          "2020-12-21T00:00:00",
          "2020-07-26T00:00:00",
          "2020-05-12T00:00:00",
          "2020-04-16T00:00:00",
          "2020-09-23T00:00:00",
          "2020-05-15T00:00:00",
          "2020-01-19T00:00:00",
          "2020-07-22T00:00:00",
          "2020-08-28T00:00:00",
          "2020-07-28T00:00:00",
          "2019-12-31T00:00:00",
          "2020-11-21T00:00:00",
          "2020-12-28T00:00:00",
          "2020-02-11T00:00:00",
          "2021-01-28T00:00:00",
          "2020-10-14T00:00:00",
          "2020-05-12T00:00:00",
          "2020-09-28T00:00:00",
          "2020-12-09T00:00:00",
          "2020-04-16T00:00:00",
          "2020-09-20T00:00:00",
          "2020-11-08T00:00:00",
          "2020-02-15T00:00:00",
          "2019-12-23T00:00:00",
          "2020-05-23T00:00:00",
          "2020-10-11T00:00:00",
          "2020-03-18T00:00:00",
          "2020-05-12T00:00:00",
          "2020-04-16T00:00:00",
          "2020-08-14T00:00:00",
          "2020-07-23T00:00:00",
          "2020-09-01T00:00:00",
          "2020-08-01T00:00:00",
          "2020-11-04T00:00:00",
          "2020-01-19T00:00:00",
          "2020-05-03T00:00:00",
          "2020-07-15T00:00:00",
          "2020-02-26T00:00:00",
          "2020-08-08T00:00:00",
          "2020-08-29T00:00:00",
          "2020-10-12T00:00:00",
          "2020-04-16T00:00:00",
          "2020-05-30T00:00:00",
          "2020-08-19T00:00:00",
          "2020-10-03T00:00:00",
          "2021-01-13T00:00:00",
          "2020-12-23T00:00:00",
          "2020-07-19T00:00:00",
          "2020-07-01T00:00:00",
          "2020-05-03T00:00:00",
          "2020-03-18T00:00:00",
          "2020-07-09T00:00:00",
          "2020-06-23T00:00:00",
          "2020-07-08T00:00:00",
          "2020-07-12T00:00:00",
          "2020-02-21T00:00:00",
          "2020-06-21T00:00:00",
          "2020-02-11T00:00:00",
          "2021-01-18T00:00:00",
          "2020-08-10T00:00:00",
          "2020-05-19T00:00:00",
          "2020-09-17T00:00:00",
          "2021-01-09T00:00:00",
          "2020-07-01T00:00:00",
          "2020-02-13T00:00:00",
          "2020-09-03T00:00:00",
          "2020-06-05T00:00:00",
          "2020-03-30T00:00:00",
          "2020-08-22T00:00:00",
          "2020-08-10T00:00:00",
          "2020-04-13T00:00:00",
          "2020-08-30T00:00:00",
          "2020-12-21T00:00:00",
          "2020-07-09T00:00:00",
          "2020-05-21T00:00:00",
          "2020-01-15T00:00:00",
          "2020-08-18T00:00:00",
          "2020-06-17T00:00:00",
          "2020-09-09T00:00:00",
          "2020-09-08T00:00:00",
          "2020-05-30T00:00:00",
          "2020-08-26T00:00:00",
          "2020-04-10T00:00:00",
          "2020-07-18T00:00:00",
          "2020-06-06T00:00:00",
          "2020-07-09T00:00:00",
          "2020-06-12T00:00:00",
          "2020-08-11T00:00:00",
          "2020-03-28T00:00:00",
          "2020-10-04T00:00:00",
          "2021-05-03T00:00:00",
          "2020-11-14T00:00:00",
          "2021-01-15T00:00:00",
          "2020-07-06T00:00:00",
          "2019-09-16T00:00:00",
          "2020-01-09T00:00:00",
          "2020-09-17T00:00:00",
          "2020-05-22T00:00:00",
          "2020-10-28T00:00:00",
          "2020-12-01T00:00:00",
          "2020-04-09T00:00:00",
          "2020-04-21T00:00:00",
          "2020-03-04T00:00:00",
          "2020-07-18T00:00:00",
          "2020-06-23T00:00:00",
          "2020-07-20T00:00:00",
          "2020-08-21T00:00:00",
          "2020-02-27T00:00:00",
          "2020-08-23T00:00:00",
          "2020-06-12T00:00:00",
          "2020-09-30T00:00:00",
          "2020-12-07T00:00:00",
          "2020-06-07T00:00:00",
          "2020-10-14T00:00:00",
          "2020-08-20T00:00:00",
          "2021-01-10T00:00:00",
          "2019-10-28T00:00:00",
          "2021-03-28T00:00:00",
          "2020-01-19T00:00:00",
          "2021-01-01T00:00:00",
          "2021-06-02T00:00:00",
          "2020-08-05T00:00:00",
          "2020-08-26T00:00:00",
          "2020-03-02T00:00:00",
          "2020-05-09T00:00:00",
          "2020-07-02T00:00:00",
          "2020-09-10T00:00:00",
          "2020-01-19T00:00:00",
          "2019-10-15T00:00:00",
          "2020-09-26T00:00:00",
          "2020-09-21T00:00:00",
          "2020-11-13T00:00:00",
          "2020-07-20T00:00:00",
          "2020-12-21T00:00:00",
          "2021-01-05T00:00:00",
          "2020-05-10T00:00:00",
          "2020-08-18T00:00:00",
          "2020-09-26T00:00:00",
          "2021-07-17T00:00:00",
          "2020-11-15T00:00:00",
          "2021-01-28T00:00:00",
          "2021-01-20T00:00:00",
          "2020-04-18T00:00:00",
          "2020-06-01T00:00:00",
          "2020-11-15T00:00:00",
          "2020-11-12T00:00:00",
          "2020-05-30T00:00:00",
          "2020-12-26T00:00:00",
          "2020-06-25T00:00:00",
          "2020-05-23T00:00:00",
          "2020-07-03T00:00:00",
          "2020-11-02T00:00:00",
          "2020-11-18T00:00:00",
          "2020-09-03T00:00:00",
          "2020-04-08T00:00:00",
          "2020-12-23T00:00:00",
          "2020-06-20T00:00:00",
          "2020-06-10T00:00:00",
          "2020-07-14T00:00:00",
          "2020-05-24T00:00:00",
          "2020-04-19T00:00:00",
          "2020-09-08T00:00:00",
          "2020-08-21T00:00:00",
          "2020-09-22T00:00:00",
          "2019-12-03T00:00:00",
          "2020-05-20T00:00:00",
          "2020-10-13T00:00:00",
          "2020-10-26T00:00:00",
          "2020-06-11T00:00:00",
          "2019-12-09T00:00:00",
          "2020-09-27T00:00:00",
          "2020-10-11T00:00:00",
          "2020-12-06T00:00:00",
          "2020-04-21T00:00:00",
          "2020-07-27T00:00:00",
          "2020-12-08T00:00:00",
          "2020-08-30T00:00:00",
          "2020-12-10T00:00:00",
          "2020-11-22T00:00:00",
          "2019-12-26T00:00:00",
          "2020-07-22T00:00:00",
          "2020-08-10T00:00:00",
          "2020-03-10T00:00:00",
          "2020-10-24T00:00:00",
          "2020-07-08T00:00:00",
          "2020-08-10T00:00:00",
          "2021-06-11T00:00:00",
          "2020-07-02T00:00:00",
          "2019-09-01T00:00:00",
          "2020-05-10T00:00:00",
          "2020-07-30T00:00:00",
          "2020-07-22T00:00:00",
          "2020-09-28T00:00:00",
          "2020-10-01T00:00:00",
          "2020-11-26T00:00:00",
          "2020-12-09T00:00:00",
          "2020-05-17T00:00:00",
          "2020-04-27T00:00:00",
          "2020-07-02T00:00:00",
          "2020-03-30T00:00:00",
          "2020-08-19T00:00:00",
          "2020-04-21T00:00:00",
          "2020-06-30T00:00:00",
          "2020-06-21T00:00:00",
          "2020-04-26T00:00:00",
          "2020-01-26T00:00:00",
          "2020-05-29T00:00:00",
          "2020-07-30T00:00:00",
          "2020-05-11T00:00:00",
          "2020-05-13T00:00:00",
          "2020-08-15T00:00:00",
          "2020-08-11T00:00:00",
          "2020-08-11T00:00:00",
          "2020-08-15T00:00:00",
          "2020-03-13T00:00:00",
          "2020-11-05T00:00:00",
          "2020-08-03T00:00:00",
          "2020-07-10T00:00:00",
          "2021-03-04T00:00:00",
          "2020-05-11T00:00:00",
          "2020-05-04T00:00:00",
          "2020-04-14T00:00:00",
          "2020-01-15T00:00:00",
          "2020-06-16T00:00:00",
          "2020-07-11T00:00:00",
          "2020-11-09T00:00:00",
          "2019-12-06T00:00:00",
          "2020-11-30T00:00:00",
          "2020-09-30T00:00:00",
          "2020-10-09T00:00:00",
          "2019-12-24T00:00:00",
          "2020-08-28T00:00:00",
          "2020-01-13T00:00:00",
          "2020-06-25T00:00:00",
          "2020-08-09T00:00:00",
          "2020-10-22T00:00:00",
          "2020-07-03T00:00:00",
          "2021-02-13T00:00:00",
          "2020-04-18T00:00:00",
          "2020-03-20T00:00:00",
          "2020-06-09T00:00:00",
          "2020-10-16T00:00:00",
          "2020-03-28T00:00:00",
          "2020-07-26T00:00:00",
          "2020-02-04T00:00:00",
          "2020-03-29T00:00:00",
          "2020-05-26T00:00:00",
          "2020-06-01T00:00:00",
          "2020-12-11T00:00:00",
          "2020-06-08T00:00:00",
          "2020-04-13T00:00:00",
          "2020-04-13T00:00:00",
          "2020-07-24T00:00:00",
          "2020-09-17T00:00:00",
          "2020-09-17T00:00:00",
          "2021-02-28T00:00:00",
          "2020-08-28T00:00:00",
          "2020-02-28T00:00:00",
          "2020-05-18T00:00:00",
          "2019-12-19T00:00:00",
          "2020-08-01T00:00:00",
          "2020-07-27T00:00:00",
          "2020-07-06T00:00:00",
          "2020-07-26T00:00:00",
          "2020-06-03T00:00:00",
          "2020-04-13T00:00:00",
          "2020-07-04T00:00:00",
          "2021-01-12T00:00:00",
          "2020-12-20T00:00:00",
          "2020-06-05T00:00:00",
          "2020-02-28T00:00:00",
          "2020-06-21T00:00:00",
          "2020-07-26T00:00:00",
          "2020-02-13T00:00:00",
          "2020-07-07T00:00:00",
          "2020-09-05T00:00:00",
          "2020-07-13T00:00:00",
          "2020-02-15T00:00:00",
          "2020-12-18T00:00:00",
          "2020-04-29T00:00:00",
          "2020-05-23T00:00:00",
          "2020-07-23T00:00:00",
          "2020-09-27T00:00:00",
          "2020-05-22T00:00:00",
          "2020-05-03T00:00:00",
          "2020-03-15T00:00:00",
          "2020-08-11T00:00:00",
          "2020-09-22T00:00:00",
          "2020-06-22T00:00:00",
          "2020-12-30T00:00:00",
          "2020-06-28T00:00:00",
          "2020-06-05T00:00:00",
          "2020-04-21T00:00:00",
          "2020-06-24T00:00:00",
          "2021-01-06T00:00:00",
          "2020-07-05T00:00:00",
          "2020-08-08T00:00:00",
          "2020-09-05T00:00:00",
          "2020-07-22T00:00:00",
          "2020-05-05T00:00:00",
          "2020-07-23T00:00:00",
          "2021-03-07T00:00:00",
          "2020-10-21T00:00:00",
          "2020-07-27T00:00:00",
          "2020-06-27T00:00:00",
          "2020-10-08T00:00:00",
          "2020-07-20T00:00:00",
          "2020-05-30T00:00:00",
          "2020-06-18T00:00:00",
          "2020-07-20T00:00:00",
          "2020-11-11T00:00:00",
          "2020-10-01T00:00:00",
          "2020-06-10T00:00:00",
          "2020-05-11T00:00:00",
          "2020-02-07T00:00:00",
          "2020-02-25T00:00:00",
          "2020-09-10T00:00:00",
          "2020-10-07T00:00:00",
          "2020-03-23T00:00:00",
          "2020-07-01T00:00:00",
          "2019-10-05T00:00:00",
          "2020-10-26T00:00:00",
          "2020-04-14T00:00:00",
          "2021-01-30T00:00:00",
          "2020-09-01T00:00:00",
          "2020-05-22T00:00:00",
          "2020-07-06T00:00:00",
          "2020-11-30T00:00:00",
          "2020-09-10T00:00:00",
          "2020-12-10T00:00:00",
          "2020-01-30T00:00:00",
          "2020-05-26T00:00:00",
          "2020-06-24T00:00:00",
          "2020-10-27T00:00:00",
          "2020-07-25T00:00:00",
          "2020-07-21T00:00:00",
          "2020-09-30T00:00:00",
          "2020-05-01T00:00:00",
          "2020-02-21T00:00:00",
          "2020-04-17T00:00:00",
          "2020-06-17T00:00:00",
          "2020-11-24T00:00:00",
          "2020-11-17T00:00:00",
          "2021-01-06T00:00:00",
          "2020-03-30T00:00:00",
          "2020-08-05T00:00:00",
          "2020-06-09T00:00:00",
          "2020-08-20T00:00:00",
          "2020-07-23T00:00:00",
          "2020-08-11T00:00:00",
          "2020-07-12T00:00:00",
          "2020-10-16T00:00:00",
          "2020-01-15T00:00:00",
          "2020-05-23T00:00:00",
          "2020-04-03T00:00:00",
          "2020-04-28T00:00:00",
          "2019-09-07T00:00:00",
          "2020-01-24T00:00:00",
          "2020-05-18T00:00:00",
          "2020-09-14T00:00:00",
          "2020-11-02T00:00:00",
          "2020-02-11T00:00:00",
          "2020-11-03T00:00:00",
          "2020-06-08T00:00:00",
          "2021-01-14T00:00:00",
          "2020-08-12T00:00:00",
          "2020-05-22T00:00:00",
          "2020-11-07T00:00:00",
          "2020-07-08T00:00:00",
          "2020-06-28T00:00:00",
          "2020-08-16T00:00:00",
          "2020-11-06T00:00:00",
          "2020-03-09T00:00:00",
          "2020-07-17T00:00:00",
          "2020-03-03T00:00:00",
          "2020-05-21T00:00:00",
          "2020-10-22T00:00:00",
          "2020-06-02T00:00:00",
          "2020-03-07T00:00:00",
          "2020-04-17T00:00:00",
          "2020-06-24T00:00:00",
          "2020-05-15T00:00:00",
          "2019-11-27T00:00:00",
          "2020-04-11T00:00:00",
          "2020-03-20T00:00:00",
          "2020-08-11T00:00:00",
          "2020-08-09T00:00:00"
         ],
         "xaxis": "x",
         "y": [
          "2020-04-19T00:00:00",
          "2020-08-14T00:00:00",
          "2020-04-07T00:00:00",
          "2020-06-11T00:00:00",
          "2019-10-25T00:00:00",
          "2020-11-18T00:00:00",
          "2020-09-03T00:00:00",
          "2020-08-20T00:00:00",
          "2020-09-05T00:00:00",
          "2020-11-21T00:00:00",
          "2020-08-17T00:00:00",
          "2020-08-19T00:00:00",
          "2020-10-30T00:00:00",
          "2020-05-25T00:00:00",
          null,
          "2020-09-09T00:00:00",
          "2020-08-02T00:00:00",
          "2021-02-07T00:00:00",
          "2020-06-12T00:00:00",
          "2020-05-21T00:00:00",
          "2020-06-12T00:00:00",
          null,
          null,
          "2020-04-03T00:00:00",
          "2020-07-04T00:00:00",
          "2020-04-20T00:00:00",
          "2020-09-04T00:00:00",
          "2020-11-02T00:00:00",
          "2020-07-02T00:00:00",
          "2021-02-18T00:00:00",
          "2019-10-16T00:00:00",
          "2020-05-29T00:00:00",
          "2020-12-19T00:00:00",
          "2021-02-04T00:00:00",
          "2020-02-22T00:00:00",
          "2021-02-11T00:00:00",
          null,
          "2020-03-21T00:00:00",
          "2020-09-03T00:00:00",
          "2020-10-23T00:00:00",
          "2020-08-22T00:00:00",
          "2020-06-27T00:00:00",
          "2020-04-30T00:00:00",
          "2020-06-13T00:00:00",
          "2020-02-29T00:00:00",
          "2020-11-16T00:00:00",
          "2020-05-16T00:00:00",
          "2020-06-23T00:00:00",
          "2020-04-11T00:00:00",
          "2020-06-20T00:00:00",
          "2020-04-29T00:00:00",
          "2020-07-19T00:00:00",
          "2020-07-16T00:00:00",
          "2020-11-13T00:00:00",
          "2021-01-20T00:00:00",
          "2020-05-23T00:00:00",
          "2020-10-31T00:00:00",
          "2020-07-10T00:00:00",
          "2020-11-01T00:00:00",
          "2020-05-06T00:00:00",
          "2020-10-30T00:00:00",
          "2020-06-22T00:00:00",
          "2020-09-12T00:00:00",
          "2020-04-12T00:00:00",
          "2020-06-02T00:00:00",
          "2020-07-16T00:00:00",
          "2020-02-28T00:00:00",
          "2020-08-18T00:00:00",
          "2020-07-03T00:00:00",
          "2020-07-14T00:00:00",
          "2020-08-20T00:00:00",
          "2020-02-07T00:00:00",
          "2019-09-28T00:00:00",
          "2020-03-16T00:00:00",
          "2020-09-01T00:00:00",
          "2020-07-30T00:00:00",
          "2020-05-31T00:00:00",
          "2021-04-08T00:00:00",
          "2020-10-19T00:00:00",
          "2020-07-07T00:00:00",
          "2020-10-19T00:00:00",
          "2020-03-13T00:00:00",
          "2020-04-04T00:00:00",
          null,
          "2021-03-06T00:00:00",
          "2021-01-24T00:00:00",
          "2020-08-04T00:00:00",
          "2020-11-03T00:00:00",
          "2020-08-28T00:00:00",
          "2020-03-09T00:00:00",
          "2020-02-17T00:00:00",
          "2020-08-08T00:00:00",
          "2020-07-16T00:00:00",
          "2020-09-24T00:00:00",
          "2020-08-27T00:00:00",
          "2020-07-03T00:00:00",
          "2020-10-02T00:00:00",
          "2020-03-20T00:00:00",
          "2020-12-26T00:00:00",
          "2020-06-07T00:00:00",
          "2021-01-10T00:00:00",
          "2020-12-04T00:00:00",
          "2020-08-09T00:00:00",
          "2020-04-14T00:00:00",
          "2020-09-17T00:00:00",
          "2020-05-06T00:00:00",
          "2020-11-28T00:00:00",
          "2020-11-16T00:00:00",
          "2020-07-22T00:00:00",
          "2020-01-30T00:00:00",
          "2021-01-20T00:00:00",
          "2020-02-29T00:00:00",
          "2020-05-29T00:00:00",
          null,
          "2020-08-08T00:00:00",
          "2020-06-29T00:00:00",
          "2020-04-02T00:00:00",
          "2020-08-23T00:00:00",
          "2020-05-08T00:00:00",
          "2020-01-06T00:00:00",
          "2020-07-27T00:00:00",
          "2020-07-29T00:00:00",
          "2020-07-25T00:00:00",
          "2019-12-18T00:00:00",
          "2020-11-21T00:00:00",
          "2020-12-30T00:00:00",
          "2020-01-27T00:00:00",
          "2020-12-24T00:00:00",
          "2020-10-19T00:00:00",
          "2020-05-07T00:00:00",
          "2020-09-19T00:00:00",
          "2020-12-04T00:00:00",
          "2020-03-28T00:00:00",
          "2020-10-15T00:00:00",
          "2020-10-26T00:00:00",
          "2020-01-28T00:00:00",
          "2020-01-31T00:00:00",
          "2020-05-04T00:00:00",
          "2020-10-27T00:00:00",
          "2020-04-17T00:00:00",
          "2020-05-15T00:00:00",
          "2020-05-03T00:00:00",
          "2020-08-05T00:00:00",
          "2020-07-20T00:00:00",
          "2020-09-20T00:00:00",
          "2020-07-15T00:00:00",
          "2020-10-25T00:00:00",
          "2020-01-07T00:00:00",
          "2020-06-13T00:00:00",
          "2020-07-02T00:00:00",
          "2020-03-02T00:00:00",
          "2020-09-02T00:00:00",
          "2020-09-06T00:00:00",
          "2020-09-29T00:00:00",
          "2020-05-11T00:00:00",
          "2020-06-02T00:00:00",
          "2020-08-20T00:00:00",
          "2020-11-01T00:00:00",
          "2021-02-05T00:00:00",
          "2020-12-15T00:00:00",
          "2020-08-07T00:00:00",
          "2020-07-10T00:00:00",
          "2020-05-10T00:00:00",
          "2020-04-15T00:00:00",
          "2020-07-12T00:00:00",
          "2020-07-01T00:00:00",
          "2020-07-03T00:00:00",
          "2020-07-09T00:00:00",
          "2020-03-04T00:00:00",
          "2020-06-16T00:00:00",
          "2020-01-22T00:00:00",
          "2021-01-25T00:00:00",
          "2020-08-11T00:00:00",
          "2020-04-26T00:00:00",
          "2020-08-28T00:00:00",
          "2021-01-05T00:00:00",
          "2020-08-16T00:00:00",
          "2020-03-01T00:00:00",
          "2020-09-10T00:00:00",
          "2020-06-02T00:00:00",
          "2020-04-19T00:00:00",
          "2020-08-08T00:00:00",
          "2020-07-31T00:00:00",
          "2020-04-21T00:00:00",
          "2020-09-04T00:00:00",
          "2020-11-22T00:00:00",
          "2020-07-15T00:00:00",
          "2020-06-27T00:00:00",
          "2020-01-29T00:00:00",
          "2020-08-06T00:00:00",
          null,
          "2020-08-23T00:00:00",
          "2020-09-16T00:00:00",
          "2020-07-21T00:00:00",
          "2020-09-07T00:00:00",
          "2020-04-10T00:00:00",
          "2020-07-31T00:00:00",
          "2020-07-13T00:00:00",
          "2020-07-04T00:00:00",
          "2020-05-05T00:00:00",
          "2020-08-13T00:00:00",
          "2020-04-02T00:00:00",
          "2020-10-20T00:00:00",
          "2021-05-01T00:00:00",
          "2020-11-25T00:00:00",
          "2020-12-27T00:00:00",
          "2020-06-05T00:00:00",
          "2019-10-31T00:00:00",
          "2020-02-15T00:00:00",
          "2020-09-26T00:00:00",
          "2020-05-14T00:00:00",
          "2020-10-30T00:00:00",
          "2020-12-24T00:00:00",
          "2020-03-30T00:00:00",
          null,
          "2020-03-11T00:00:00",
          "2020-07-23T00:00:00",
          "2020-07-07T00:00:00",
          "2020-07-18T00:00:00",
          "2020-07-22T00:00:00",
          "2020-03-09T00:00:00",
          "2020-09-08T00:00:00",
          "2020-06-07T00:00:00",
          "2020-10-18T00:00:00",
          "2020-11-29T00:00:00",
          "2020-06-06T00:00:00",
          "2020-11-14T00:00:00",
          null,
          "2020-12-21T00:00:00",
          "2019-09-28T00:00:00",
          "2021-02-07T00:00:00",
          "2020-02-27T00:00:00",
          "2021-01-06T00:00:00",
          null,
          "2020-08-01T00:00:00",
          "2020-08-06T00:00:00",
          "2020-04-06T00:00:00",
          null,
          "2020-07-26T00:00:00",
          "2020-09-20T00:00:00",
          "2020-02-19T00:00:00",
          "2019-10-15T00:00:00",
          "2020-08-30T00:00:00",
          "2020-08-16T00:00:00",
          "2020-11-17T00:00:00",
          "2020-07-08T00:00:00",
          "2020-12-15T00:00:00",
          null,
          "2020-06-15T00:00:00",
          "2020-07-28T00:00:00",
          "2020-09-24T00:00:00",
          "2021-06-10T00:00:00",
          "2020-10-25T00:00:00",
          "2020-12-25T00:00:00",
          "2021-01-30T00:00:00",
          "2020-05-18T00:00:00",
          "2020-06-28T00:00:00",
          "2020-11-06T00:00:00",
          "2020-10-11T00:00:00",
          "2020-05-02T00:00:00",
          "2021-01-19T00:00:00",
          "2020-07-10T00:00:00",
          "2020-03-28T00:00:00",
          "2020-06-25T00:00:00",
          "2020-10-04T00:00:00",
          "2020-12-03T00:00:00",
          "2020-08-13T00:00:00",
          "2020-05-27T00:00:00",
          "2020-11-20T00:00:00",
          null,
          "2020-06-21T00:00:00",
          "2020-08-06T00:00:00",
          "2020-05-25T00:00:00",
          "2020-04-28T00:00:00",
          "2020-08-11T00:00:00",
          "2020-08-24T00:00:00",
          "2020-11-20T00:00:00",
          "2019-12-04T00:00:00",
          "2020-06-02T00:00:00",
          "2020-10-19T00:00:00",
          "2020-09-05T00:00:00",
          "2020-06-25T00:00:00",
          "2020-01-03T00:00:00",
          "2020-10-05T00:00:00",
          "2020-09-12T00:00:00",
          "2020-12-17T00:00:00",
          "2020-03-15T00:00:00",
          null,
          "2020-12-27T00:00:00",
          "2020-08-29T00:00:00",
          "2021-01-02T00:00:00",
          "2020-10-29T00:00:00",
          "2020-01-19T00:00:00",
          "2020-08-07T00:00:00",
          "2020-08-13T00:00:00",
          "2020-03-28T00:00:00",
          "2020-10-22T00:00:00",
          "2020-07-19T00:00:00",
          "2020-07-17T00:00:00",
          "2021-05-02T00:00:00",
          "2020-05-26T00:00:00",
          "2019-09-02T00:00:00",
          "2020-05-28T00:00:00",
          "2020-07-16T00:00:00",
          "2020-07-04T00:00:00",
          "2020-10-09T00:00:00",
          "2020-09-02T00:00:00",
          "2020-11-28T00:00:00",
          "2020-12-10T00:00:00",
          "2020-04-30T00:00:00",
          "2020-05-17T00:00:00",
          "2020-06-30T00:00:00",
          "2020-03-28T00:00:00",
          "2020-10-18T00:00:00",
          "2020-03-27T00:00:00",
          "2020-08-11T00:00:00",
          "2020-06-04T00:00:00",
          "2020-05-11T00:00:00",
          "2020-03-13T00:00:00",
          "2020-05-13T00:00:00",
          "2020-08-02T00:00:00",
          "2020-06-09T00:00:00",
          "2020-06-02T00:00:00",
          "2020-08-21T00:00:00",
          null,
          "2020-07-22T00:00:00",
          "2020-07-28T00:00:00",
          "2020-04-03T00:00:00",
          "2020-11-03T00:00:00",
          "2020-08-17T00:00:00",
          "2020-07-15T00:00:00",
          "2021-01-12T00:00:00",
          "2020-05-12T00:00:00",
          "2020-04-29T00:00:00",
          "2020-04-08T00:00:00",
          "2020-01-28T00:00:00",
          "2020-06-12T00:00:00",
          "2020-06-07T00:00:00",
          "2020-10-07T00:00:00",
          "2019-11-20T00:00:00",
          "2020-12-26T00:00:00",
          "2020-10-04T00:00:00",
          "2020-10-05T00:00:00",
          null,
          "2020-09-09T00:00:00",
          "2020-03-10T00:00:00",
          "2020-06-24T00:00:00",
          "2020-09-16T00:00:00",
          "2020-09-30T00:00:00",
          "2020-07-19T00:00:00",
          "2021-03-09T00:00:00",
          "2020-04-10T00:00:00",
          "2020-03-13T00:00:00",
          "2020-06-07T00:00:00",
          null,
          "2020-05-26T00:00:00",
          "2020-07-14T00:00:00",
          "2020-02-02T00:00:00",
          "2020-03-20T00:00:00",
          "2020-05-15T00:00:00",
          "2020-06-29T00:00:00",
          "2020-12-01T00:00:00",
          "2020-05-16T00:00:00",
          "2020-03-31T00:00:00",
          "2020-04-08T00:00:00",
          "2020-08-04T00:00:00",
          "2020-10-31T00:00:00",
          "2020-10-14T00:00:00",
          "2021-03-12T00:00:00",
          "2020-09-06T00:00:00",
          "2020-02-28T00:00:00",
          "2020-05-23T00:00:00",
          "2019-12-24T00:00:00",
          "2020-08-01T00:00:00",
          "2020-08-09T00:00:00",
          "2020-07-16T00:00:00",
          "2020-08-09T00:00:00",
          "2020-05-17T00:00:00",
          "2020-04-14T00:00:00",
          "2020-07-28T00:00:00",
          "2021-03-04T00:00:00",
          "2020-12-21T00:00:00",
          "2020-05-05T00:00:00",
          "2020-02-23T00:00:00",
          "2020-07-30T00:00:00",
          "2020-07-06T00:00:00",
          "2020-03-08T00:00:00",
          "2020-07-02T00:00:00",
          "2020-10-26T00:00:00",
          null,
          "2020-02-02T00:00:00",
          "2020-11-26T00:00:00",
          "2020-04-01T00:00:00",
          "2020-06-02T00:00:00",
          "2020-07-31T00:00:00",
          "2020-09-24T00:00:00",
          "2020-05-27T00:00:00",
          "2020-05-22T00:00:00",
          "2020-04-07T00:00:00",
          "2020-07-28T00:00:00",
          "2020-10-06T00:00:00",
          "2020-07-16T00:00:00",
          "2020-11-13T00:00:00",
          "2020-07-06T00:00:00",
          "2020-05-25T00:00:00",
          "2020-04-21T00:00:00",
          "2020-06-01T00:00:00",
          "2021-01-17T00:00:00",
          "2020-07-08T00:00:00",
          "2020-08-14T00:00:00",
          "2020-09-12T00:00:00",
          "2020-07-07T00:00:00",
          "2020-05-23T00:00:00",
          "2020-08-14T00:00:00",
          "2021-03-12T00:00:00",
          "2020-11-05T00:00:00",
          "2020-07-21T00:00:00",
          "2020-08-07T00:00:00",
          "2020-10-07T00:00:00",
          "2020-08-04T00:00:00",
          "2020-06-08T00:00:00",
          "2020-06-21T00:00:00",
          "2020-08-21T00:00:00",
          "2020-10-28T00:00:00",
          "2020-09-12T00:00:00",
          "2020-06-29T00:00:00",
          "2020-05-13T00:00:00",
          "2020-02-28T00:00:00",
          "2020-03-04T00:00:00",
          "2020-08-22T00:00:00",
          "2020-10-02T00:00:00",
          null,
          "2020-06-06T00:00:00",
          "2019-11-18T00:00:00",
          "2020-12-09T00:00:00",
          "2020-05-13T00:00:00",
          "2021-02-02T00:00:00",
          "2020-08-31T00:00:00",
          "2020-06-07T00:00:00",
          "2020-06-10T00:00:00",
          "2020-11-27T00:00:00",
          "2020-09-02T00:00:00",
          "2020-11-22T00:00:00",
          "2020-02-16T00:00:00",
          "2020-07-07T00:00:00",
          "2020-07-27T00:00:00",
          "2020-10-16T00:00:00",
          "2020-07-27T00:00:00",
          "2020-08-05T00:00:00",
          "2020-10-28T00:00:00",
          "2020-05-10T00:00:00",
          "2020-02-21T00:00:00",
          "2020-05-28T00:00:00",
          "2020-07-14T00:00:00",
          "2020-11-14T00:00:00",
          "2020-11-11T00:00:00",
          "2020-12-14T00:00:00",
          "2020-04-22T00:00:00",
          "2020-08-18T00:00:00",
          "2020-05-25T00:00:00",
          "2020-09-15T00:00:00",
          "2020-08-29T00:00:00",
          "2020-09-03T00:00:00",
          "2020-07-03T00:00:00",
          "2020-10-17T00:00:00",
          "2019-12-31T00:00:00",
          "2020-05-29T00:00:00",
          "2020-02-28T00:00:00",
          "2020-03-27T00:00:00",
          "2019-10-20T00:00:00",
          "2020-01-11T00:00:00",
          "2020-04-17T00:00:00",
          "2020-09-05T00:00:00",
          "2020-11-04T00:00:00",
          "2020-02-06T00:00:00",
          "2020-10-08T00:00:00",
          "2020-06-10T00:00:00",
          "2021-01-10T00:00:00",
          "2020-08-15T00:00:00",
          "2020-05-29T00:00:00",
          "2020-11-19T00:00:00",
          "2020-05-27T00:00:00",
          "2020-07-07T00:00:00",
          "2020-08-03T00:00:00",
          "2020-11-05T00:00:00",
          "2020-03-15T00:00:00",
          "2020-08-09T00:00:00",
          "2020-03-18T00:00:00",
          "2020-07-05T00:00:00",
          "2020-11-23T00:00:00",
          "2020-06-26T00:00:00",
          "2020-03-17T00:00:00",
          "2020-04-13T00:00:00",
          "2020-07-03T00:00:00",
          "2020-04-23T00:00:00",
          "2019-12-01T00:00:00",
          "2020-05-20T00:00:00",
          "2020-04-12T00:00:00",
          "2020-06-29T00:00:00",
          null
         ],
         "yaxis": "y"
        }
       ],
       "layout": {
        "font": {
         "size": 18
        },
        "legend": {
         "title": {
          "text": "Data"
         },
         "tracegroupgap": 0
        },
        "margin": {
         "t": 60
        },
        "plot_bgcolor": "#F5F5F8",
        "template": {
         "data": {
          "bar": [
           {
            "error_x": {
             "color": "#2a3f5f"
            },
            "error_y": {
             "color": "#2a3f5f"
            },
            "marker": {
             "line": {
              "color": "#E5ECF6",
              "width": 0.5
             },
             "pattern": {
              "fillmode": "overlay",
              "size": 10,
              "solidity": 0.2
             }
            },
            "type": "bar"
           }
          ],
          "barpolar": [
           {
            "marker": {
             "line": {
              "color": "#E5ECF6",
              "width": 0.5
             },
             "pattern": {
              "fillmode": "overlay",
              "size": 10,
              "solidity": 0.2
             }
            },
            "type": "barpolar"
           }
          ],
          "carpet": [
           {
            "aaxis": {
             "endlinecolor": "#2a3f5f",
             "gridcolor": "white",
             "linecolor": "white",
             "minorgridcolor": "white",
             "startlinecolor": "#2a3f5f"
            },
            "baxis": {
             "endlinecolor": "#2a3f5f",
             "gridcolor": "white",
             "linecolor": "white",
             "minorgridcolor": "white",
             "startlinecolor": "#2a3f5f"
            },
            "type": "carpet"
           }
          ],
          "choropleth": [
           {
            "colorbar": {
             "outlinewidth": 0,
             "ticks": ""
            },
            "type": "choropleth"
           }
          ],
          "contour": [
           {
            "colorbar": {
             "outlinewidth": 0,
             "ticks": ""
            },
            "colorscale": [
             [
              0,
              "#0d0887"
             ],
             [
              0.1111111111111111,
              "#46039f"
             ],
             [
              0.2222222222222222,
              "#7201a8"
             ],
             [
              0.3333333333333333,
              "#9c179e"
             ],
             [
              0.4444444444444444,
              "#bd3786"
             ],
             [
              0.5555555555555556,
              "#d8576b"
             ],
             [
              0.6666666666666666,
              "#ed7953"
             ],
             [
              0.7777777777777778,
              "#fb9f3a"
             ],
             [
              0.8888888888888888,
              "#fdca26"
             ],
             [
              1,
              "#f0f921"
             ]
            ],
            "type": "contour"
           }
          ],
          "contourcarpet": [
           {
            "colorbar": {
             "outlinewidth": 0,
             "ticks": ""
            },
            "type": "contourcarpet"
           }
          ],
          "heatmap": [
           {
            "colorbar": {
             "outlinewidth": 0,
             "ticks": ""
            },
            "colorscale": [
             [
              0,
              "#0d0887"
             ],
             [
              0.1111111111111111,
              "#46039f"
             ],
             [
              0.2222222222222222,
              "#7201a8"
             ],
             [
              0.3333333333333333,
              "#9c179e"
             ],
             [
              0.4444444444444444,
              "#bd3786"
             ],
             [
              0.5555555555555556,
              "#d8576b"
             ],
             [
              0.6666666666666666,
              "#ed7953"
             ],
             [
              0.7777777777777778,
              "#fb9f3a"
             ],
             [
              0.8888888888888888,
              "#fdca26"
             ],
             [
              1,
              "#f0f921"
             ]
            ],
            "type": "heatmap"
           }
          ],
          "heatmapgl": [
           {
            "colorbar": {
             "outlinewidth": 0,
             "ticks": ""
            },
            "colorscale": [
             [
              0,
              "#0d0887"
             ],
             [
              0.1111111111111111,
              "#46039f"
             ],
             [
              0.2222222222222222,
              "#7201a8"
             ],
             [
              0.3333333333333333,
              "#9c179e"
             ],
             [
              0.4444444444444444,
              "#bd3786"
             ],
             [
              0.5555555555555556,
              "#d8576b"
             ],
             [
              0.6666666666666666,
              "#ed7953"
             ],
             [
              0.7777777777777778,
              "#fb9f3a"
             ],
             [
              0.8888888888888888,
              "#fdca26"
             ],
             [
              1,
              "#f0f921"
             ]
            ],
            "type": "heatmapgl"
           }
          ],
          "histogram": [
           {
            "marker": {
             "pattern": {
              "fillmode": "overlay",
              "size": 10,
              "solidity": 0.2
             }
            },
            "type": "histogram"
           }
          ],
          "histogram2d": [
           {
            "colorbar": {
             "outlinewidth": 0,
             "ticks": ""
            },
            "colorscale": [
             [
              0,
              "#0d0887"
             ],
             [
              0.1111111111111111,
              "#46039f"
             ],
             [
              0.2222222222222222,
              "#7201a8"
             ],
             [
              0.3333333333333333,
              "#9c179e"
             ],
             [
              0.4444444444444444,
              "#bd3786"
             ],
             [
              0.5555555555555556,
              "#d8576b"
             ],
             [
              0.6666666666666666,
              "#ed7953"
             ],
             [
              0.7777777777777778,
              "#fb9f3a"
             ],
             [
              0.8888888888888888,
              "#fdca26"
             ],
             [
              1,
              "#f0f921"
             ]
            ],
            "type": "histogram2d"
           }
          ],
          "histogram2dcontour": [
           {
            "colorbar": {
             "outlinewidth": 0,
             "ticks": ""
            },
            "colorscale": [
             [
              0,
              "#0d0887"
             ],
             [
              0.1111111111111111,
              "#46039f"
             ],
             [
              0.2222222222222222,
              "#7201a8"
             ],
             [
              0.3333333333333333,
              "#9c179e"
             ],
             [
              0.4444444444444444,
              "#bd3786"
             ],
             [
              0.5555555555555556,
              "#d8576b"
             ],
             [
              0.6666666666666666,
              "#ed7953"
             ],
             [
              0.7777777777777778,
              "#fb9f3a"
             ],
             [
              0.8888888888888888,
              "#fdca26"
             ],
             [
              1,
              "#f0f921"
             ]
            ],
            "type": "histogram2dcontour"
           }
          ],
          "mesh3d": [
           {
            "colorbar": {
             "outlinewidth": 0,
             "ticks": ""
            },
            "type": "mesh3d"
           }
          ],
          "parcoords": [
           {
            "line": {
             "colorbar": {
              "outlinewidth": 0,
              "ticks": ""
             }
            },
            "type": "parcoords"
           }
          ],
          "pie": [
           {
            "automargin": true,
            "type": "pie"
           }
          ],
          "scatter": [
           {
            "fillpattern": {
             "fillmode": "overlay",
             "size": 10,
             "solidity": 0.2
            },
            "type": "scatter"
           }
          ],
          "scatter3d": [
           {
            "line": {
             "colorbar": {
              "outlinewidth": 0,
              "ticks": ""
             }
            },
            "marker": {
             "colorbar": {
              "outlinewidth": 0,
              "ticks": ""
             }
            },
            "type": "scatter3d"
           }
          ],
          "scattercarpet": [
           {
            "marker": {
             "colorbar": {
              "outlinewidth": 0,
              "ticks": ""
             }
            },
            "type": "scattercarpet"
           }
          ],
          "scattergeo": [
           {
            "marker": {
             "colorbar": {
              "outlinewidth": 0,
              "ticks": ""
             }
            },
            "type": "scattergeo"
           }
          ],
          "scattergl": [
           {
            "marker": {
             "colorbar": {
              "outlinewidth": 0,
              "ticks": ""
             }
            },
            "type": "scattergl"
           }
          ],
          "scattermapbox": [
           {
            "marker": {
             "colorbar": {
              "outlinewidth": 0,
              "ticks": ""
             }
            },
            "type": "scattermapbox"
           }
          ],
          "scatterpolar": [
           {
            "marker": {
             "colorbar": {
              "outlinewidth": 0,
              "ticks": ""
             }
            },
            "type": "scatterpolar"
           }
          ],
          "scatterpolargl": [
           {
            "marker": {
             "colorbar": {
              "outlinewidth": 0,
              "ticks": ""
             }
            },
            "type": "scatterpolargl"
           }
          ],
          "scatterternary": [
           {
            "marker": {
             "colorbar": {
              "outlinewidth": 0,
              "ticks": ""
             }
            },
            "type": "scatterternary"
           }
          ],
          "surface": [
           {
            "colorbar": {
             "outlinewidth": 0,
             "ticks": ""
            },
            "colorscale": [
             [
              0,
              "#0d0887"
             ],
             [
              0.1111111111111111,
              "#46039f"
             ],
             [
              0.2222222222222222,
              "#7201a8"
             ],
             [
              0.3333333333333333,
              "#9c179e"
             ],
             [
              0.4444444444444444,
              "#bd3786"
             ],
             [
              0.5555555555555556,
              "#d8576b"
             ],
             [
              0.6666666666666666,
              "#ed7953"
             ],
             [
              0.7777777777777778,
              "#fb9f3a"
             ],
             [
              0.8888888888888888,
              "#fdca26"
             ],
             [
              1,
              "#f0f921"
             ]
            ],
            "type": "surface"
           }
          ],
          "table": [
           {
            "cells": {
             "fill": {
              "color": "#EBF0F8"
             },
             "line": {
              "color": "white"
             }
            },
            "header": {
             "fill": {
              "color": "#C8D4E3"
             },
             "line": {
              "color": "white"
             }
            },
            "type": "table"
           }
          ]
         },
         "layout": {
          "annotationdefaults": {
           "arrowcolor": "#2a3f5f",
           "arrowhead": 0,
           "arrowwidth": 1
          },
          "autotypenumbers": "strict",
          "coloraxis": {
           "colorbar": {
            "outlinewidth": 0,
            "ticks": ""
           }
          },
          "colorscale": {
           "diverging": [
            [
             0,
             "#8e0152"
            ],
            [
             0.1,
             "#c51b7d"
            ],
            [
             0.2,
             "#de77ae"
            ],
            [
             0.3,
             "#f1b6da"
            ],
            [
             0.4,
             "#fde0ef"
            ],
            [
             0.5,
             "#f7f7f7"
            ],
            [
             0.6,
             "#e6f5d0"
            ],
            [
             0.7,
             "#b8e186"
            ],
            [
             0.8,
             "#7fbc41"
            ],
            [
             0.9,
             "#4d9221"
            ],
            [
             1,
             "#276419"
            ]
           ],
           "sequential": [
            [
             0,
             "#0d0887"
            ],
            [
             0.1111111111111111,
             "#46039f"
            ],
            [
             0.2222222222222222,
             "#7201a8"
            ],
            [
             0.3333333333333333,
             "#9c179e"
            ],
            [
             0.4444444444444444,
             "#bd3786"
            ],
            [
             0.5555555555555556,
             "#d8576b"
            ],
            [
             0.6666666666666666,
             "#ed7953"
            ],
            [
             0.7777777777777778,
             "#fb9f3a"
            ],
            [
             0.8888888888888888,
             "#fdca26"
            ],
            [
             1,
             "#f0f921"
            ]
           ],
           "sequentialminus": [
            [
             0,
             "#0d0887"
            ],
            [
             0.1111111111111111,
             "#46039f"
            ],
            [
             0.2222222222222222,
             "#7201a8"
            ],
            [
             0.3333333333333333,
             "#9c179e"
            ],
            [
             0.4444444444444444,
             "#bd3786"
            ],
            [
             0.5555555555555556,
             "#d8576b"
            ],
            [
             0.6666666666666666,
             "#ed7953"
            ],
            [
             0.7777777777777778,
             "#fb9f3a"
            ],
            [
             0.8888888888888888,
             "#fdca26"
            ],
            [
             1,
             "#f0f921"
            ]
           ]
          },
          "colorway": [
           "#636efa",
           "#EF553B",
           "#00cc96",
           "#ab63fa",
           "#FFA15A",
           "#19d3f3",
           "#FF6692",
           "#B6E880",
           "#FF97FF",
           "#FECB52"
          ],
          "font": {
           "color": "#2a3f5f"
          },
          "geo": {
           "bgcolor": "white",
           "lakecolor": "white",
           "landcolor": "#E5ECF6",
           "showlakes": true,
           "showland": true,
           "subunitcolor": "white"
          },
          "hoverlabel": {
           "align": "left"
          },
          "hovermode": "closest",
          "mapbox": {
           "style": "light"
          },
          "paper_bgcolor": "white",
          "plot_bgcolor": "#E5ECF6",
          "polar": {
           "angularaxis": {
            "gridcolor": "white",
            "linecolor": "white",
            "ticks": ""
           },
           "bgcolor": "#E5ECF6",
           "radialaxis": {
            "gridcolor": "white",
            "linecolor": "white",
            "ticks": ""
           }
          },
          "scene": {
           "xaxis": {
            "backgroundcolor": "#E5ECF6",
            "gridcolor": "white",
            "gridwidth": 2,
            "linecolor": "white",
            "showbackground": true,
            "ticks": "",
            "zerolinecolor": "white"
           },
           "yaxis": {
            "backgroundcolor": "#E5ECF6",
            "gridcolor": "white",
            "gridwidth": 2,
            "linecolor": "white",
            "showbackground": true,
            "ticks": "",
            "zerolinecolor": "white"
           },
           "zaxis": {
            "backgroundcolor": "#E5ECF6",
            "gridcolor": "white",
            "gridwidth": 2,
            "linecolor": "white",
            "showbackground": true,
            "ticks": "",
            "zerolinecolor": "white"
           }
          },
          "shapedefaults": {
           "line": {
            "color": "#2a3f5f"
           }
          },
          "ternary": {
           "aaxis": {
            "gridcolor": "white",
            "linecolor": "white",
            "ticks": ""
           },
           "baxis": {
            "gridcolor": "white",
            "linecolor": "white",
            "ticks": ""
           },
           "bgcolor": "#E5ECF6",
           "caxis": {
            "gridcolor": "white",
            "linecolor": "white",
            "ticks": ""
           }
          },
          "title": {
           "x": 0.05
          },
          "xaxis": {
           "automargin": true,
           "gridcolor": "white",
           "linecolor": "white",
           "ticks": "",
           "title": {
            "standoff": 15
           },
           "zerolinecolor": "white",
           "zerolinewidth": 2
          },
          "yaxis": {
           "automargin": true,
           "gridcolor": "white",
           "linecolor": "white",
           "ticks": "",
           "title": {
            "standoff": 15
           },
           "zerolinecolor": "white",
           "zerolinewidth": 2
          }
         }
        },
        "title": {
         "text": "Real vs. Synthetic Data for columns 'checkin_date' and 'checkout_date'"
        },
        "xaxis": {
         "anchor": "y",
         "domain": [
          0,
          1
         ],
         "title": {
          "text": "checkin_date"
         }
        },
        "yaxis": {
         "anchor": "x",
         "domain": [
          0,
          1
         ],
         "title": {
          "text": "checkout_date"
         }
        }
       }
      },
      "text/html": [
       "<div>                            <div id=\"c0e9da50-cb90-44c9-ac86-01b742e4e935\" class=\"plotly-graph-div\" style=\"height:525px; width:100%;\"></div>            <script type=\"text/javascript\">                require([\"plotly\"], function(Plotly) {                    window.PLOTLYENV=window.PLOTLYENV || {};                                    if (document.getElementById(\"c0e9da50-cb90-44c9-ac86-01b742e4e935\")) {                    Plotly.newPlot(                        \"c0e9da50-cb90-44c9-ac86-01b742e4e935\",                        [{\"hovertemplate\":\"Data=Real\\u003cbr\\u003echeckin_date=%{x}\\u003cbr\\u003echeckout_date=%{y}\\u003cextra\\u003e\\u003c\\u002fextra\\u003e\",\"legendgroup\":\"Real\",\"marker\":{\"color\":\"#000036\",\"symbol\":\"circle\"},\"mode\":\"markers\",\"name\":\"Real\",\"orientation\":\"v\",\"showlegend\":true,\"x\":[\"2020-12-27T00:00:00\",\"2020-12-30T00:00:00\",\"2020-09-17T00:00:00\",\"2020-12-28T00:00:00\",\"2020-04-05T00:00:00\",\"2020-10-18T00:00:00\",\"2020-11-22T00:00:00\",\"2020-03-04T00:00:00\",\"2020-01-06T00:00:00\",\"2020-01-22T00:00:00\",\"2020-06-15T00:00:00\",\"2020-10-23T00:00:00\",\"2020-03-07T00:00:00\",\"2020-08-12T00:00:00\",\"2020-10-01T00:00:00\",\"2020-07-19T00:00:00\",\"2020-07-14T00:00:00\",\"2020-03-02T00:00:00\",\"2020-07-16T00:00:00\",\"2020-05-31T00:00:00\",\"2020-05-30T00:00:00\",\"2020-10-13T00:00:00\",\"2020-05-22T00:00:00\",\"2020-09-13T00:00:00\",\"2020-07-27T00:00:00\",\"2020-11-30T00:00:00\",\"2020-08-26T00:00:00\",\"2020-07-05T00:00:00\",\"2020-12-08T00:00:00\",\"2020-11-05T00:00:00\",\"2020-12-03T00:00:00\",\"2020-05-05T00:00:00\",\"2020-11-14T00:00:00\",\"2020-08-11T00:00:00\",\"2020-08-11T00:00:00\",\"2020-10-03T00:00:00\",\"2020-07-12T00:00:00\",\"2020-01-28T00:00:00\",\"2020-02-20T00:00:00\",\"2020-05-18T00:00:00\",\"2020-01-21T00:00:00\",\"2020-09-13T00:00:00\",\"2020-08-05T00:00:00\",\"2020-07-04T00:00:00\",\"2020-07-13T00:00:00\",\"2020-09-06T00:00:00\",\"2020-05-20T00:00:00\",\"2020-05-11T00:00:00\",\"2020-06-26T00:00:00\",\"2020-08-19T00:00:00\",\"2020-04-08T00:00:00\",\"2020-06-09T00:00:00\",\"2021-01-01T00:00:00\",\"2020-02-04T00:00:00\",\"2020-09-13T00:00:00\",\"2020-05-09T00:00:00\",\"2020-08-16T00:00:00\",\"2020-10-13T00:00:00\",\"2020-06-05T00:00:00\",\"2020-03-10T00:00:00\",\"2020-06-25T00:00:00\",\"2020-10-12T00:00:00\",\"2020-12-28T00:00:00\",\"2020-01-09T00:00:00\",\"2020-01-16T00:00:00\",\"2020-07-20T00:00:00\",\"2020-06-14T00:00:00\",\"2020-12-22T00:00:00\",\"2020-01-05T00:00:00\",\"2020-08-24T00:00:00\",\"2020-06-05T00:00:00\",\"2020-05-16T00:00:00\",\"2020-09-27T00:00:00\",\"2020-03-10T00:00:00\",\"2020-10-16T00:00:00\",\"2020-01-30T00:00:00\",\"2020-10-06T00:00:00\",\"2020-02-07T00:00:00\",\"2020-10-22T00:00:00\",\"2020-05-08T00:00:00\",\"2020-05-20T00:00:00\",\"2020-05-03T00:00:00\",\"2020-12-17T00:00:00\",\"2020-12-30T00:00:00\",\"2020-02-04T00:00:00\",\"2020-07-30T00:00:00\",\"2020-11-27T00:00:00\",\"2020-12-22T00:00:00\",\"2020-03-25T00:00:00\",\"2020-04-07T00:00:00\",\"2020-02-15T00:00:00\",\"2020-01-15T00:00:00\",\"2020-12-18T00:00:00\",\"2020-08-22T00:00:00\",\"2020-12-16T00:00:00\",\"2020-11-04T00:00:00\",\"2020-12-04T00:00:00\",\"2020-06-04T00:00:00\",\"2020-05-08T00:00:00\",\"2020-11-17T00:00:00\",\"2020-03-27T00:00:00\",\"2020-11-16T00:00:00\",\"2020-05-27T00:00:00\",\"2020-02-17T00:00:00\",\"2020-03-31T00:00:00\",\"2020-03-19T00:00:00\",\"2020-12-19T00:00:00\",\"2020-12-21T00:00:00\",\"2020-07-25T00:00:00\",\"2020-12-27T00:00:00\",\"2020-07-12T00:00:00\",\"2021-01-01T00:00:00\",\"2020-12-24T00:00:00\",\"2020-06-30T00:00:00\",\"2020-03-09T00:00:00\",\"2020-11-20T00:00:00\",\"2020-04-15T00:00:00\",\"2020-03-29T00:00:00\",\"2020-03-29T00:00:00\",\"2020-01-21T00:00:00\",\"2020-06-01T00:00:00\",\"2020-08-26T00:00:00\",\"2020-02-02T00:00:00\",\"2021-01-02T00:00:00\",\"2020-06-10T00:00:00\",\"2020-08-04T00:00:00\",\"2020-11-27T00:00:00\",\"2020-03-05T00:00:00\",\"2020-08-09T00:00:00\",\"2020-08-29T00:00:00\",\"2020-03-27T00:00:00\",\"2020-03-13T00:00:00\",\"2020-08-06T00:00:00\",\"2020-11-10T00:00:00\",\"2020-06-15T00:00:00\",\"2020-01-28T00:00:00\",\"2020-09-13T00:00:00\",\"2020-05-18T00:00:00\",\"2020-06-05T00:00:00\",\"2020-11-20T00:00:00\",\"2020-06-09T00:00:00\",\"2020-08-27T00:00:00\",\"2020-07-09T00:00:00\",\"2020-12-19T00:00:00\",\"2020-02-20T00:00:00\",\"2020-09-10T00:00:00\",\"2020-09-30T00:00:00\",\"2020-07-30T00:00:00\",\"2020-02-28T00:00:00\",\"2020-06-11T00:00:00\",\"2020-09-27T00:00:00\",\"2020-06-30T00:00:00\",\"2020-11-20T00:00:00\",\"2020-05-31T00:00:00\",\"2020-02-19T00:00:00\",\"2020-05-02T00:00:00\",\"2020-09-22T00:00:00\",\"2020-01-14T00:00:00\",\"2020-10-11T00:00:00\",\"2020-09-02T00:00:00\",\"2020-06-12T00:00:00\",\"2020-07-21T00:00:00\",\"2020-04-24T00:00:00\",\"2020-11-15T00:00:00\",\"2020-07-06T00:00:00\",\"2020-12-07T00:00:00\",\"2020-11-06T00:00:00\",\"2020-11-11T00:00:00\",\"2020-04-19T00:00:00\",\"2020-11-16T00:00:00\",\"2020-01-31T00:00:00\",\"2020-04-19T00:00:00\",\"2020-12-23T00:00:00\",\"2020-04-08T00:00:00\",\"2020-02-25T00:00:00\",\"2020-08-30T00:00:00\",\"2020-06-18T00:00:00\",\"2020-06-29T00:00:00\",\"2020-12-31T00:00:00\",\"2020-07-13T00:00:00\",\"2020-08-24T00:00:00\",\"2020-07-06T00:00:00\",\"2020-07-10T00:00:00\",\"2020-12-04T00:00:00\",\"2020-09-28T00:00:00\",\"2020-05-23T00:00:00\",\"2020-09-17T00:00:00\",\"2020-08-05T00:00:00\",\"2020-08-28T00:00:00\",\"2020-05-26T00:00:00\",\"2020-11-21T00:00:00\",\"2020-05-05T00:00:00\",\"2020-04-19T00:00:00\",\"2020-04-20T00:00:00\",\"2020-07-08T00:00:00\",\"2020-08-23T00:00:00\",\"2020-12-27T00:00:00\",\"2020-12-27T00:00:00\",\"2020-10-28T00:00:00\",\"2020-12-17T00:00:00\",\"2020-04-30T00:00:00\",\"2020-01-31T00:00:00\",\"2020-06-27T00:00:00\",\"2020-02-13T00:00:00\",\"2020-09-03T00:00:00\",\"2020-08-02T00:00:00\",\"2020-09-18T00:00:00\",\"2020-05-05T00:00:00\",\"2020-09-12T00:00:00\",\"2020-06-14T00:00:00\",\"2020-11-11T00:00:00\",\"2020-12-06T00:00:00\",\"2020-08-28T00:00:00\",\"2020-03-05T00:00:00\",\"2020-10-12T00:00:00\",\"2020-06-28T00:00:00\",\"2020-12-28T00:00:00\",\"2020-04-01T00:00:00\",\"2020-10-06T00:00:00\",\"2020-04-12T00:00:00\",\"2020-09-21T00:00:00\",\"2020-02-20T00:00:00\",\"2020-10-13T00:00:00\",\"2020-03-15T00:00:00\",\"2020-10-09T00:00:00\",\"2020-10-12T00:00:00\",\"2020-09-16T00:00:00\",\"2020-11-27T00:00:00\",\"2020-12-07T00:00:00\",\"2020-04-20T00:00:00\",\"2020-09-08T00:00:00\",\"2020-08-03T00:00:00\",\"2020-05-05T00:00:00\",\"2021-01-02T00:00:00\",\"2020-05-26T00:00:00\",\"2020-03-25T00:00:00\",\"2020-11-01T00:00:00\",\"2020-05-20T00:00:00\",\"2020-12-05T00:00:00\",\"2020-06-23T00:00:00\",\"2020-11-26T00:00:00\",\"2020-03-17T00:00:00\",\"2020-12-03T00:00:00\",\"2020-10-25T00:00:00\",\"2020-08-23T00:00:00\",\"2020-04-18T00:00:00\",\"2020-12-01T00:00:00\",\"2020-05-15T00:00:00\",\"2020-03-27T00:00:00\",\"2020-09-15T00:00:00\",\"2020-11-25T00:00:00\",\"2020-10-25T00:00:00\",\"2020-09-29T00:00:00\",\"2020-12-08T00:00:00\",\"2020-11-29T00:00:00\",\"2020-04-30T00:00:00\",\"2020-08-06T00:00:00\",\"2020-04-13T00:00:00\",\"2020-01-26T00:00:00\",\"2020-05-21T00:00:00\",\"2020-06-06T00:00:00\",\"2020-06-24T00:00:00\",\"2020-12-12T00:00:00\",\"2020-01-05T00:00:00\",\"2020-11-16T00:00:00\",\"2020-02-20T00:00:00\",\"2020-11-10T00:00:00\",\"2020-12-10T00:00:00\",\"2020-11-11T00:00:00\",\"2020-01-17T00:00:00\",\"2020-01-17T00:00:00\",\"2021-01-03T00:00:00\",\"2020-07-27T00:00:00\",\"2020-02-25T00:00:00\",\"2020-12-09T00:00:00\",\"2020-09-27T00:00:00\",\"2020-09-27T00:00:00\",\"2020-06-12T00:00:00\",\"2020-02-01T00:00:00\",\"2020-01-24T00:00:00\",\"2020-11-28T00:00:00\",\"2020-02-14T00:00:00\",\"2021-01-07T00:00:00\",\"2020-08-24T00:00:00\",\"2020-10-23T00:00:00\",\"2020-12-31T00:00:00\",\"2020-08-26T00:00:00\",\"2020-09-26T00:00:00\",\"2020-02-29T00:00:00\",\"2020-08-03T00:00:00\",\"2020-09-21T00:00:00\",\"2020-12-18T00:00:00\",\"2020-01-17T00:00:00\",\"2020-12-31T00:00:00\",\"2020-05-22T00:00:00\",\"2020-02-16T00:00:00\",\"2020-04-23T00:00:00\",\"2020-03-05T00:00:00\",\"2020-01-18T00:00:00\",\"2020-03-08T00:00:00\",\"2020-04-09T00:00:00\",\"2020-09-10T00:00:00\",\"2020-04-24T00:00:00\",\"2020-02-01T00:00:00\",\"2020-06-01T00:00:00\",\"2020-01-29T00:00:00\",\"2020-07-09T00:00:00\",\"2020-09-18T00:00:00\",\"2020-05-16T00:00:00\",\"2020-01-31T00:00:00\",\"2020-01-29T00:00:00\",\"2020-07-26T00:00:00\",\"2020-01-14T00:00:00\",\"2020-04-14T00:00:00\",\"2020-04-28T00:00:00\",\"2020-05-16T00:00:00\",\"2021-01-05T00:00:00\",\"2020-03-03T00:00:00\",\"2020-01-08T00:00:00\",\"2020-03-14T00:00:00\",\"2020-08-23T00:00:00\",\"2020-04-14T00:00:00\",\"2020-09-08T00:00:00\",\"2020-07-22T00:00:00\",\"2020-01-20T00:00:00\",\"2020-05-19T00:00:00\",\"2020-08-05T00:00:00\",\"2020-09-14T00:00:00\",\"2020-11-19T00:00:00\",\"2020-11-14T00:00:00\",\"2020-06-29T00:00:00\",\"2020-09-15T00:00:00\",\"2020-01-23T00:00:00\",\"2020-10-13T00:00:00\",\"2020-08-18T00:00:00\",\"2020-03-10T00:00:00\",\"2020-05-30T00:00:00\",\"2020-05-04T00:00:00\",\"2020-11-08T00:00:00\",\"2020-09-30T00:00:00\",\"2020-09-21T00:00:00\",\"2020-02-26T00:00:00\",\"2020-03-05T00:00:00\",\"2020-07-21T00:00:00\",\"2020-12-12T00:00:00\",\"2020-01-22T00:00:00\",\"2020-08-04T00:00:00\",\"2020-03-13T00:00:00\",\"2020-01-26T00:00:00\",\"2020-03-08T00:00:00\",\"2020-01-20T00:00:00\",\"2020-12-30T00:00:00\",\"2020-02-28T00:00:00\",\"2020-04-04T00:00:00\",\"2020-08-21T00:00:00\",\"2021-01-02T00:00:00\",\"2020-08-22T00:00:00\",\"2020-10-02T00:00:00\",\"2020-11-05T00:00:00\",\"2020-09-15T00:00:00\",\"2020-10-12T00:00:00\",\"2020-04-01T00:00:00\",\"2020-02-17T00:00:00\",\"2020-10-13T00:00:00\",\"2020-07-20T00:00:00\",\"2020-07-31T00:00:00\",\"2020-02-02T00:00:00\",\"2020-07-05T00:00:00\",\"2020-05-17T00:00:00\",\"2020-09-13T00:00:00\",\"2020-02-09T00:00:00\",\"2020-02-19T00:00:00\",\"2020-11-14T00:00:00\",\"2020-01-29T00:00:00\",\"2020-11-30T00:00:00\",\"2020-05-27T00:00:00\",\"2020-03-06T00:00:00\",\"2020-07-21T00:00:00\",\"2020-03-20T00:00:00\",\"2020-06-02T00:00:00\",\"2020-07-21T00:00:00\",\"2020-08-13T00:00:00\",\"2020-01-11T00:00:00\",\"2020-08-16T00:00:00\",\"2020-05-03T00:00:00\",\"2020-10-14T00:00:00\",\"2020-06-06T00:00:00\",\"2020-07-08T00:00:00\",\"2020-03-20T00:00:00\",\"2020-07-10T00:00:00\",\"2020-10-07T00:00:00\",\"2020-05-31T00:00:00\",\"2020-12-21T00:00:00\",\"2020-03-18T00:00:00\",\"2020-09-18T00:00:00\",\"2021-01-06T00:00:00\",\"2020-12-27T00:00:00\",\"2020-06-04T00:00:00\",\"2020-09-10T00:00:00\",\"2020-04-12T00:00:00\",\"2020-06-10T00:00:00\",\"2020-01-20T00:00:00\",\"2020-01-20T00:00:00\",\"2020-10-27T00:00:00\",\"2020-06-06T00:00:00\",\"2020-11-27T00:00:00\",\"2020-08-25T00:00:00\",\"2020-08-05T00:00:00\",\"2020-02-15T00:00:00\",\"2020-05-17T00:00:00\",\"2020-02-24T00:00:00\",\"2020-07-25T00:00:00\",\"2020-12-15T00:00:00\",\"2020-07-20T00:00:00\",\"2020-05-26T00:00:00\",\"2020-04-09T00:00:00\",\"2020-05-27T00:00:00\",\"2020-03-28T00:00:00\",\"2020-04-15T00:00:00\",\"2020-07-13T00:00:00\",\"2020-12-01T00:00:00\",\"2020-10-13T00:00:00\",\"2020-07-03T00:00:00\",\"2020-07-05T00:00:00\",\"2020-10-07T00:00:00\",\"2020-04-10T00:00:00\",\"2020-03-02T00:00:00\",\"2020-09-08T00:00:00\",\"2020-06-27T00:00:00\",\"2020-03-02T00:00:00\",\"2020-06-18T00:00:00\",\"2020-09-26T00:00:00\",\"2020-03-29T00:00:00\",\"2020-11-13T00:00:00\",\"2020-07-14T00:00:00\",\"2021-01-01T00:00:00\",\"2020-02-13T00:00:00\",\"2020-06-22T00:00:00\",\"2020-07-16T00:00:00\",\"2020-09-01T00:00:00\",\"2020-08-16T00:00:00\",\"2020-06-08T00:00:00\",\"2020-01-29T00:00:00\",\"2020-01-11T00:00:00\",\"2020-12-20T00:00:00\",\"2020-09-24T00:00:00\",\"2020-10-18T00:00:00\",\"2020-04-19T00:00:00\",\"2020-06-20T00:00:00\",\"2020-10-25T00:00:00\",\"2020-07-13T00:00:00\",\"2020-05-21T00:00:00\",\"2020-11-26T00:00:00\",\"2020-09-26T00:00:00\",\"2020-09-09T00:00:00\",\"2020-09-15T00:00:00\",\"2020-11-25T00:00:00\",\"2020-10-05T00:00:00\",\"2020-07-26T00:00:00\",\"2020-11-17T00:00:00\",\"2020-01-07T00:00:00\",\"2020-11-02T00:00:00\",\"2020-12-12T00:00:00\",\"2020-09-25T00:00:00\",\"2020-04-25T00:00:00\",\"2020-08-11T00:00:00\",\"2020-03-17T00:00:00\",\"2020-11-06T00:00:00\",\"2020-11-17T00:00:00\",\"2020-11-02T00:00:00\",\"2020-07-12T00:00:00\",\"2020-11-22T00:00:00\",\"2020-10-26T00:00:00\",\"2020-03-07T00:00:00\",\"2020-08-26T00:00:00\",\"2020-03-01T00:00:00\",\"2020-12-01T00:00:00\",\"2020-04-07T00:00:00\",\"2020-06-30T00:00:00\",\"2020-01-15T00:00:00\",\"2020-05-30T00:00:00\",\"2020-01-19T00:00:00\",\"2020-10-13T00:00:00\",\"2020-08-16T00:00:00\",\"2020-12-30T00:00:00\",\"2020-11-29T00:00:00\",\"2020-08-26T00:00:00\",\"2020-06-07T00:00:00\",\"2020-12-18T00:00:00\",\"2020-03-10T00:00:00\",\"2020-05-10T00:00:00\",\"2020-04-20T00:00:00\",\"2020-04-18T00:00:00\",\"2020-07-23T00:00:00\",\"2020-05-11T00:00:00\",\"2021-01-04T00:00:00\",\"2020-08-24T00:00:00\",\"2020-11-11T00:00:00\",\"2020-07-16T00:00:00\",\"2020-03-22T00:00:00\"],\"xaxis\":\"x\",\"y\":[\"2020-12-29T00:00:00\",\"2021-01-02T00:00:00\",\"2020-09-18T00:00:00\",\"2020-12-31T00:00:00\",null,\"2020-10-20T00:00:00\",\"2020-11-24T00:00:00\",\"2020-03-05T00:00:00\",\"2020-01-08T00:00:00\",\"2020-01-26T00:00:00\",\"2020-06-16T00:00:00\",\"2020-10-25T00:00:00\",\"2020-03-09T00:00:00\",\"2020-08-13T00:00:00\",\"2020-10-05T00:00:00\",\"2020-07-21T00:00:00\",\"2020-07-16T00:00:00\",\"2020-03-04T00:00:00\",\"2020-07-19T00:00:00\",\"2020-06-02T00:00:00\",\"2020-06-01T00:00:00\",\"2020-10-16T00:00:00\",\"2020-05-23T00:00:00\",\"2020-09-17T00:00:00\",\"2020-07-30T00:00:00\",\"2020-12-01T00:00:00\",\"2020-08-27T00:00:00\",\"2020-07-07T00:00:00\",\"2020-12-10T00:00:00\",\"2020-11-07T00:00:00\",\"2020-12-06T00:00:00\",\"2020-05-07T00:00:00\",\"2020-11-16T00:00:00\",\"2020-08-15T00:00:00\",\"2020-08-13T00:00:00\",\"2020-10-05T00:00:00\",\"2020-07-14T00:00:00\",\"2020-01-29T00:00:00\",\"2020-02-23T00:00:00\",\"2020-05-19T00:00:00\",\"2020-01-22T00:00:00\",null,\"2020-08-06T00:00:00\",\"2020-07-06T00:00:00\",\"2020-07-16T00:00:00\",\"2020-09-08T00:00:00\",\"2020-05-25T00:00:00\",\"2020-05-13T00:00:00\",\"2020-06-29T00:00:00\",\"2020-08-23T00:00:00\",\"2020-04-11T00:00:00\",\"2020-06-11T00:00:00\",\"2021-01-05T00:00:00\",\"2020-02-09T00:00:00\",\"2020-09-17T00:00:00\",\"2020-05-10T00:00:00\",\"2020-08-19T00:00:00\",\"2020-10-15T00:00:00\",\"2020-06-08T00:00:00\",\"2020-03-11T00:00:00\",\"2020-06-26T00:00:00\",\"2020-10-13T00:00:00\",\"2020-12-29T00:00:00\",\"2020-01-11T00:00:00\",\"2020-01-17T00:00:00\",\"2020-07-21T00:00:00\",\"2020-06-17T00:00:00\",\"2020-12-24T00:00:00\",\"2020-01-07T00:00:00\",\"2020-08-27T00:00:00\",\"2020-06-07T00:00:00\",\"2020-05-18T00:00:00\",\"2020-09-28T00:00:00\",\"2020-03-12T00:00:00\",\"2020-10-19T00:00:00\",\"2020-02-02T00:00:00\",\"2020-10-08T00:00:00\",\"2020-02-13T00:00:00\",\"2020-10-24T00:00:00\",null,\"2020-05-21T00:00:00\",\"2020-05-06T00:00:00\",\"2020-12-19T00:00:00\",\"2020-12-31T00:00:00\",null,\"2020-08-01T00:00:00\",\"2020-11-30T00:00:00\",\"2020-12-23T00:00:00\",\"2020-03-31T00:00:00\",\"2020-04-11T00:00:00\",\"2020-02-17T00:00:00\",\"2020-01-17T00:00:00\",\"2020-12-19T00:00:00\",\"2020-08-24T00:00:00\",\"2020-12-18T00:00:00\",\"2020-11-06T00:00:00\",\"2020-12-08T00:00:00\",\"2020-06-05T00:00:00\",\"2020-05-09T00:00:00\",\"2020-11-20T00:00:00\",\"2020-03-29T00:00:00\",\"2020-11-17T00:00:00\",\"2020-05-29T00:00:00\",\"2020-02-20T00:00:00\",\"2020-04-04T00:00:00\",\"2020-03-22T00:00:00\",\"2020-12-21T00:00:00\",\"2020-12-22T00:00:00\",\"2020-07-27T00:00:00\",\"2020-12-31T00:00:00\",\"2020-07-13T00:00:00\",\"2021-01-04T00:00:00\",\"2020-12-27T00:00:00\",\"2020-07-02T00:00:00\",\"2020-03-10T00:00:00\",\"2020-11-22T00:00:00\",\"2020-04-16T00:00:00\",\"2020-04-03T00:00:00\",\"2020-04-04T00:00:00\",\"2020-01-22T00:00:00\",\"2020-06-04T00:00:00\",\"2020-08-27T00:00:00\",\"2020-02-04T00:00:00\",\"2021-01-03T00:00:00\",\"2020-06-11T00:00:00\",\"2020-08-08T00:00:00\",\"2020-11-28T00:00:00\",\"2020-03-06T00:00:00\",\"2020-08-11T00:00:00\",\"2020-08-31T00:00:00\",\"2020-03-30T00:00:00\",\"2020-03-14T00:00:00\",\"2020-08-07T00:00:00\",\"2020-11-12T00:00:00\",null,\"2020-01-31T00:00:00\",\"2020-09-15T00:00:00\",\"2020-05-21T00:00:00\",\"2020-06-08T00:00:00\",\"2020-11-22T00:00:00\",\"2020-06-12T00:00:00\",\"2020-08-29T00:00:00\",\"2020-07-12T00:00:00\",\"2020-12-22T00:00:00\",\"2020-02-21T00:00:00\",\"2020-09-11T00:00:00\",\"2020-10-01T00:00:00\",\"2020-08-01T00:00:00\",\"2020-03-01T00:00:00\",\"2020-06-12T00:00:00\",\"2020-09-28T00:00:00\",\"2020-07-03T00:00:00\",\"2020-11-23T00:00:00\",\"2020-06-01T00:00:00\",\"2020-02-22T00:00:00\",\"2020-05-05T00:00:00\",\"2020-09-25T00:00:00\",\"2020-01-15T00:00:00\",\"2020-10-14T00:00:00\",\"2020-09-04T00:00:00\",\"2020-06-14T00:00:00\",\"2020-07-22T00:00:00\",\"2020-04-27T00:00:00\",\"2020-11-16T00:00:00\",\"2020-07-07T00:00:00\",\"2020-12-10T00:00:00\",\"2020-11-09T00:00:00\",\"2020-11-14T00:00:00\",\"2020-04-22T00:00:00\",\"2020-11-17T00:00:00\",\"2020-02-03T00:00:00\",\"2020-04-24T00:00:00\",\"2020-12-24T00:00:00\",\"2020-04-09T00:00:00\",\"2020-02-27T00:00:00\",\"2020-08-31T00:00:00\",\"2020-06-21T00:00:00\",\"2020-06-30T00:00:00\",\"2021-01-01T00:00:00\",\"2020-07-18T00:00:00\",\"2020-08-27T00:00:00\",\"2020-07-07T00:00:00\",\"2020-07-11T00:00:00\",\"2020-12-06T00:00:00\",\"2020-09-30T00:00:00\",\"2020-05-26T00:00:00\",\"2020-09-20T00:00:00\",\"2020-08-06T00:00:00\",\"2020-08-29T00:00:00\",\"2020-05-27T00:00:00\",\"2020-11-25T00:00:00\",\"2020-05-06T00:00:00\",\"2020-04-20T00:00:00\",\"2020-04-22T00:00:00\",\"2020-07-10T00:00:00\",null,\"2020-12-30T00:00:00\",\"2020-12-31T00:00:00\",\"2020-10-29T00:00:00\",\"2020-12-19T00:00:00\",\"2020-05-02T00:00:00\",\"2020-02-03T00:00:00\",\"2020-07-01T00:00:00\",\"2020-02-16T00:00:00\",\"2020-09-09T00:00:00\",\"2020-08-07T00:00:00\",\"2020-09-21T00:00:00\",\"2020-05-08T00:00:00\",\"2020-09-15T00:00:00\",\"2020-06-15T00:00:00\",\"2020-11-12T00:00:00\",\"2020-12-09T00:00:00\",\"2020-08-29T00:00:00\",\"2020-03-07T00:00:00\",\"2020-10-14T00:00:00\",\"2020-07-01T00:00:00\",\"2020-12-29T00:00:00\",\"2020-04-03T00:00:00\",\"2020-10-09T00:00:00\",\"2020-04-14T00:00:00\",\"2020-09-24T00:00:00\",\"2020-02-21T00:00:00\",\"2020-10-15T00:00:00\",\"2020-03-16T00:00:00\",\"2020-10-10T00:00:00\",\"2020-10-15T00:00:00\",\"2020-09-18T00:00:00\",\"2020-11-29T00:00:00\",\"2020-12-10T00:00:00\",\"2020-04-21T00:00:00\",null,\"2020-08-04T00:00:00\",\"2020-05-07T00:00:00\",null,\"2020-05-27T00:00:00\",\"2020-03-27T00:00:00\",\"2020-11-03T00:00:00\",\"2020-05-24T00:00:00\",\"2020-12-07T00:00:00\",\"2020-06-24T00:00:00\",\"2020-11-29T00:00:00\",\"2020-03-19T00:00:00\",null,\"2020-10-27T00:00:00\",\"2020-08-25T00:00:00\",\"2020-04-20T00:00:00\",\"2020-12-02T00:00:00\",\"2020-05-17T00:00:00\",\"2020-03-29T00:00:00\",\"2020-09-17T00:00:00\",\"2020-11-27T00:00:00\",\"2020-10-27T00:00:00\",\"2020-10-01T00:00:00\",\"2020-12-11T00:00:00\",\"2020-12-01T00:00:00\",\"2020-05-02T00:00:00\",\"2020-08-08T00:00:00\",\"2020-04-17T00:00:00\",\"2020-01-27T00:00:00\",\"2020-05-22T00:00:00\",\"2020-06-08T00:00:00\",\"2020-06-27T00:00:00\",\"2020-12-14T00:00:00\",\"2020-01-07T00:00:00\",\"2020-11-17T00:00:00\",\"2020-02-22T00:00:00\",\"2020-11-12T00:00:00\",\"2020-12-14T00:00:00\",\"2020-11-13T00:00:00\",\"2020-01-18T00:00:00\",null,\"2021-01-05T00:00:00\",\"2020-07-30T00:00:00\",null,\"2020-12-12T00:00:00\",\"2020-09-28T00:00:00\",\"2020-09-29T00:00:00\",\"2020-06-16T00:00:00\",\"2020-02-02T00:00:00\",\"2020-01-25T00:00:00\",\"2020-12-01T00:00:00\",\"2020-02-16T00:00:00\",\"2021-01-08T00:00:00\",\"2020-08-26T00:00:00\",\"2020-10-25T00:00:00\",\"2021-01-02T00:00:00\",\"2020-08-28T00:00:00\",null,null,\"2020-08-06T00:00:00\",\"2020-09-22T00:00:00\",\"2020-12-19T00:00:00\",\"2020-01-20T00:00:00\",\"2021-01-01T00:00:00\",\"2020-05-25T00:00:00\",\"2020-02-17T00:00:00\",\"2020-04-28T00:00:00\",\"2020-03-06T00:00:00\",\"2020-01-19T00:00:00\",\"2020-03-10T00:00:00\",\"2020-04-11T00:00:00\",\"2020-09-12T00:00:00\",\"2020-04-25T00:00:00\",\"2020-02-02T00:00:00\",\"2020-06-04T00:00:00\",\"2020-01-30T00:00:00\",\"2020-07-13T00:00:00\",\"2020-09-19T00:00:00\",\"2020-05-17T00:00:00\",\"2020-02-02T00:00:00\",\"2020-01-31T00:00:00\",\"2020-07-30T00:00:00\",\"2020-01-16T00:00:00\",null,\"2020-04-30T00:00:00\",\"2020-05-18T00:00:00\",\"2021-01-07T00:00:00\",\"2020-03-05T00:00:00\",\"2020-01-09T00:00:00\",\"2020-03-17T00:00:00\",\"2020-08-25T00:00:00\",\"2020-04-18T00:00:00\",\"2020-09-10T00:00:00\",\"2020-07-26T00:00:00\",\"2020-01-21T00:00:00\",\"2020-05-21T00:00:00\",\"2020-08-06T00:00:00\",\"2020-09-16T00:00:00\",\"2020-11-22T00:00:00\",\"2020-11-16T00:00:00\",\"2020-06-30T00:00:00\",\"2020-09-17T00:00:00\",\"2020-01-26T00:00:00\",\"2020-10-18T00:00:00\",\"2020-08-20T00:00:00\",\"2020-03-12T00:00:00\",\"2020-06-01T00:00:00\",\"2020-05-07T00:00:00\",\"2020-11-11T00:00:00\",\"2020-10-01T00:00:00\",\"2020-09-23T00:00:00\",\"2020-02-29T00:00:00\",\"2020-03-06T00:00:00\",\"2020-07-22T00:00:00\",\"2020-12-15T00:00:00\",\"2020-01-28T00:00:00\",\"2020-08-05T00:00:00\",\"2020-03-16T00:00:00\",\"2020-01-28T00:00:00\",\"2020-03-10T00:00:00\",\"2020-01-22T00:00:00\",\"2021-01-01T00:00:00\",\"2020-03-02T00:00:00\",\"2020-04-05T00:00:00\",\"2020-08-23T00:00:00\",\"2021-01-05T00:00:00\",null,\"2020-10-03T00:00:00\",\"2020-11-07T00:00:00\",null,\"2020-10-14T00:00:00\",\"2020-04-03T00:00:00\",\"2020-02-19T00:00:00\",\"2020-10-16T00:00:00\",\"2020-07-24T00:00:00\",\"2020-08-03T00:00:00\",\"2020-02-04T00:00:00\",\"2020-07-08T00:00:00\",\"2020-05-19T00:00:00\",\"2020-09-15T00:00:00\",\"2020-02-10T00:00:00\",\"2020-02-22T00:00:00\",\"2020-11-17T00:00:00\",\"2020-01-31T00:00:00\",\"2020-12-03T00:00:00\",\"2020-05-30T00:00:00\",\"2020-03-09T00:00:00\",\"2020-07-23T00:00:00\",\"2020-03-21T00:00:00\",\"2020-06-03T00:00:00\",\"2020-07-22T00:00:00\",\"2020-08-16T00:00:00\",\"2020-01-13T00:00:00\",\"2020-08-18T00:00:00\",\"2020-05-05T00:00:00\",\"2020-10-17T00:00:00\",\"2020-06-07T00:00:00\",\"2020-07-11T00:00:00\",\"2020-03-21T00:00:00\",\"2020-07-11T00:00:00\",\"2020-10-08T00:00:00\",\"2020-06-03T00:00:00\",\"2020-12-22T00:00:00\",\"2020-03-19T00:00:00\",\"2020-09-20T00:00:00\",\"2021-01-08T00:00:00\",\"2020-12-28T00:00:00\",\"2020-06-05T00:00:00\",\"2020-09-13T00:00:00\",\"2020-04-16T00:00:00\",\"2020-06-13T00:00:00\",\"2020-01-23T00:00:00\",\"2020-01-23T00:00:00\",\"2020-10-28T00:00:00\",\"2020-06-07T00:00:00\",\"2020-11-30T00:00:00\",\"2020-08-28T00:00:00\",\"2020-08-06T00:00:00\",\"2020-02-18T00:00:00\",\"2020-05-19T00:00:00\",\"2020-02-27T00:00:00\",\"2020-07-28T00:00:00\",\"2020-12-17T00:00:00\",\"2020-07-22T00:00:00\",\"2020-05-27T00:00:00\",\"2020-04-12T00:00:00\",\"2020-05-28T00:00:00\",\"2020-03-29T00:00:00\",\"2020-04-17T00:00:00\",\"2020-07-14T00:00:00\",\"2020-12-02T00:00:00\",\"2020-10-15T00:00:00\",\"2020-07-05T00:00:00\",\"2020-07-06T00:00:00\",\"2020-10-08T00:00:00\",null,\"2020-03-04T00:00:00\",\"2020-09-10T00:00:00\",\"2020-06-28T00:00:00\",\"2020-03-05T00:00:00\",\"2020-06-22T00:00:00\",\"2020-09-28T00:00:00\",\"2020-03-30T00:00:00\",\"2020-11-15T00:00:00\",null,null,\"2020-02-14T00:00:00\",\"2020-06-24T00:00:00\",\"2020-07-19T00:00:00\",\"2020-09-03T00:00:00\",\"2020-08-18T00:00:00\",\"2020-06-10T00:00:00\",\"2020-01-30T00:00:00\",\"2020-01-13T00:00:00\",\"2020-12-22T00:00:00\",\"2020-09-27T00:00:00\",\"2020-10-20T00:00:00\",\"2020-04-22T00:00:00\",\"2020-06-22T00:00:00\",\"2020-10-26T00:00:00\",\"2020-07-16T00:00:00\",\"2020-05-23T00:00:00\",\"2020-11-29T00:00:00\",\"2020-09-29T00:00:00\",\"2020-09-12T00:00:00\",\"2020-09-16T00:00:00\",\"2020-11-26T00:00:00\",\"2020-10-08T00:00:00\",\"2020-07-28T00:00:00\",\"2020-11-19T00:00:00\",\"2020-01-10T00:00:00\",\"2020-11-03T00:00:00\",\"2020-12-16T00:00:00\",\"2020-09-26T00:00:00\",\"2020-04-26T00:00:00\",\"2020-08-15T00:00:00\",\"2020-03-18T00:00:00\",\"2020-11-07T00:00:00\",\"2020-11-20T00:00:00\",\"2020-11-04T00:00:00\",\"2020-07-13T00:00:00\",\"2020-11-25T00:00:00\",\"2020-10-28T00:00:00\",\"2020-03-08T00:00:00\",\"2020-08-27T00:00:00\",\"2020-03-02T00:00:00\",\"2020-12-03T00:00:00\",\"2020-04-10T00:00:00\",\"2020-07-02T00:00:00\",\"2020-01-16T00:00:00\",\"2020-06-01T00:00:00\",\"2020-01-21T00:00:00\",\"2020-10-15T00:00:00\",\"2020-08-18T00:00:00\",\"2021-01-01T00:00:00\",\"2020-12-01T00:00:00\",\"2020-08-30T00:00:00\",\"2020-06-09T00:00:00\",null,\"2020-03-11T00:00:00\",\"2020-05-14T00:00:00\",\"2020-04-24T00:00:00\",\"2020-04-21T00:00:00\",\"2020-07-25T00:00:00\",\"2020-05-13T00:00:00\",\"2021-01-06T00:00:00\",\"2020-08-26T00:00:00\",\"2020-11-13T00:00:00\",\"2020-07-18T00:00:00\",\"2020-03-25T00:00:00\"],\"yaxis\":\"y\",\"type\":\"scatter\"},{\"hovertemplate\":\"Data=Synthetic\\u003cbr\\u003echeckin_date=%{x}\\u003cbr\\u003echeckout_date=%{y}\\u003cextra\\u003e\\u003c\\u002fextra\\u003e\",\"legendgroup\":\"Synthetic\",\"marker\":{\"color\":\"#01E0C9\",\"symbol\":\"diamond\"},\"mode\":\"markers\",\"name\":\"Synthetic\",\"orientation\":\"v\",\"showlegend\":true,\"x\":[\"2020-03-31T00:00:00\",\"2020-06-25T00:00:00\",\"2020-04-14T00:00:00\",\"2020-05-25T00:00:00\",\"2019-11-13T00:00:00\",\"2020-10-31T00:00:00\",\"2020-10-12T00:00:00\",\"2020-08-24T00:00:00\",\"2020-09-10T00:00:00\",\"2020-10-18T00:00:00\",\"2020-09-01T00:00:00\",\"2020-08-25T00:00:00\",\"2020-11-15T00:00:00\",\"2020-06-17T00:00:00\",\"2020-12-25T00:00:00\",\"2020-07-23T00:00:00\",\"2020-07-10T00:00:00\",\"2021-02-12T00:00:00\",\"2020-06-07T00:00:00\",\"2020-06-17T00:00:00\",\"2020-03-22T00:00:00\",\"2020-06-04T00:00:00\",\"2020-11-29T00:00:00\",\"2020-04-20T00:00:00\",\"2020-07-12T00:00:00\",\"2020-03-18T00:00:00\",\"2020-09-30T00:00:00\",\"2020-10-05T00:00:00\",\"2020-07-01T00:00:00\",\"2021-02-05T00:00:00\",\"2019-10-14T00:00:00\",\"2020-06-29T00:00:00\",\"2021-01-18T00:00:00\",\"2021-02-25T00:00:00\",\"2020-03-02T00:00:00\",\"2020-12-29T00:00:00\",\"2020-05-30T00:00:00\",\"2020-03-26T00:00:00\",\"2020-08-12T00:00:00\",\"2020-11-26T00:00:00\",\"2020-07-25T00:00:00\",\"2020-06-21T00:00:00\",\"2020-04-20T00:00:00\",\"2020-05-22T00:00:00\",\"2020-03-27T00:00:00\",\"2020-10-30T00:00:00\",\"2020-06-18T00:00:00\",\"2020-07-22T00:00:00\",\"2020-04-28T00:00:00\",\"2020-07-01T00:00:00\",\"2020-03-18T00:00:00\",\"2020-07-26T00:00:00\",\"2020-08-17T00:00:00\",\"2020-12-12T00:00:00\",\"2021-01-04T00:00:00\",\"2020-06-13T00:00:00\",\"2020-11-15T00:00:00\",\"2020-08-02T00:00:00\",\"2020-10-30T00:00:00\",\"2020-05-05T00:00:00\",\"2020-11-21T00:00:00\",\"2020-06-19T00:00:00\",\"2020-11-03T00:00:00\",\"2020-04-22T00:00:00\",\"2020-05-23T00:00:00\",\"2020-08-03T00:00:00\",\"2019-12-11T00:00:00\",\"2020-08-12T00:00:00\",\"2020-06-16T00:00:00\",\"2020-08-25T00:00:00\",\"2020-08-04T00:00:00\",\"2020-02-23T00:00:00\",\"2019-09-21T00:00:00\",\"2020-03-15T00:00:00\",\"2020-09-07T00:00:00\",\"2020-06-23T00:00:00\",\"2020-06-21T00:00:00\",\"2021-04-07T00:00:00\",\"2020-09-30T00:00:00\",\"2020-05-30T00:00:00\",\"2020-10-15T00:00:00\",\"2020-03-16T00:00:00\",\"2020-04-07T00:00:00\",\"2020-05-12T00:00:00\",\"2021-02-25T00:00:00\",\"2021-02-06T00:00:00\",\"2020-07-14T00:00:00\",\"2020-11-10T00:00:00\",\"2020-08-23T00:00:00\",\"2020-02-26T00:00:00\",\"2020-02-10T00:00:00\",\"2020-07-25T00:00:00\",\"2020-07-22T00:00:00\",\"2020-08-27T00:00:00\",\"2020-09-25T00:00:00\",\"2020-07-30T00:00:00\",\"2020-10-12T00:00:00\",\"2020-04-21T00:00:00\",\"2020-12-08T00:00:00\",\"2020-04-22T00:00:00\",\"2021-01-22T00:00:00\",\"2020-12-08T00:00:00\",\"2020-08-23T00:00:00\",\"2020-03-06T00:00:00\",\"2020-08-26T00:00:00\",\"2020-04-16T00:00:00\",\"2020-11-12T00:00:00\",\"2020-10-23T00:00:00\",\"2020-07-30T00:00:00\",\"2020-01-28T00:00:00\",\"2020-12-23T00:00:00\",\"2020-03-07T00:00:00\",\"2020-06-18T00:00:00\",\"2020-12-21T00:00:00\",\"2020-07-26T00:00:00\",\"2020-05-12T00:00:00\",\"2020-04-16T00:00:00\",\"2020-09-23T00:00:00\",\"2020-05-15T00:00:00\",\"2020-01-19T00:00:00\",\"2020-07-22T00:00:00\",\"2020-08-28T00:00:00\",\"2020-07-28T00:00:00\",\"2019-12-31T00:00:00\",\"2020-11-21T00:00:00\",\"2020-12-28T00:00:00\",\"2020-02-11T00:00:00\",\"2021-01-28T00:00:00\",\"2020-10-14T00:00:00\",\"2020-05-12T00:00:00\",\"2020-09-28T00:00:00\",\"2020-12-09T00:00:00\",\"2020-04-16T00:00:00\",\"2020-09-20T00:00:00\",\"2020-11-08T00:00:00\",\"2020-02-15T00:00:00\",\"2019-12-23T00:00:00\",\"2020-05-23T00:00:00\",\"2020-10-11T00:00:00\",\"2020-03-18T00:00:00\",\"2020-05-12T00:00:00\",\"2020-04-16T00:00:00\",\"2020-08-14T00:00:00\",\"2020-07-23T00:00:00\",\"2020-09-01T00:00:00\",\"2020-08-01T00:00:00\",\"2020-11-04T00:00:00\",\"2020-01-19T00:00:00\",\"2020-05-03T00:00:00\",\"2020-07-15T00:00:00\",\"2020-02-26T00:00:00\",\"2020-08-08T00:00:00\",\"2020-08-29T00:00:00\",\"2020-10-12T00:00:00\",\"2020-04-16T00:00:00\",\"2020-05-30T00:00:00\",\"2020-08-19T00:00:00\",\"2020-10-03T00:00:00\",\"2021-01-13T00:00:00\",\"2020-12-23T00:00:00\",\"2020-07-19T00:00:00\",\"2020-07-01T00:00:00\",\"2020-05-03T00:00:00\",\"2020-03-18T00:00:00\",\"2020-07-09T00:00:00\",\"2020-06-23T00:00:00\",\"2020-07-08T00:00:00\",\"2020-07-12T00:00:00\",\"2020-02-21T00:00:00\",\"2020-06-21T00:00:00\",\"2020-02-11T00:00:00\",\"2021-01-18T00:00:00\",\"2020-08-10T00:00:00\",\"2020-05-19T00:00:00\",\"2020-09-17T00:00:00\",\"2021-01-09T00:00:00\",\"2020-07-01T00:00:00\",\"2020-02-13T00:00:00\",\"2020-09-03T00:00:00\",\"2020-06-05T00:00:00\",\"2020-03-30T00:00:00\",\"2020-08-22T00:00:00\",\"2020-08-10T00:00:00\",\"2020-04-13T00:00:00\",\"2020-08-30T00:00:00\",\"2020-12-21T00:00:00\",\"2020-07-09T00:00:00\",\"2020-05-21T00:00:00\",\"2020-01-15T00:00:00\",\"2020-08-18T00:00:00\",\"2020-06-17T00:00:00\",\"2020-09-09T00:00:00\",\"2020-09-08T00:00:00\",\"2020-05-30T00:00:00\",\"2020-08-26T00:00:00\",\"2020-04-10T00:00:00\",\"2020-07-18T00:00:00\",\"2020-06-06T00:00:00\",\"2020-07-09T00:00:00\",\"2020-06-12T00:00:00\",\"2020-08-11T00:00:00\",\"2020-03-28T00:00:00\",\"2020-10-04T00:00:00\",\"2021-05-03T00:00:00\",\"2020-11-14T00:00:00\",\"2021-01-15T00:00:00\",\"2020-07-06T00:00:00\",\"2019-09-16T00:00:00\",\"2020-01-09T00:00:00\",\"2020-09-17T00:00:00\",\"2020-05-22T00:00:00\",\"2020-10-28T00:00:00\",\"2020-12-01T00:00:00\",\"2020-04-09T00:00:00\",\"2020-04-21T00:00:00\",\"2020-03-04T00:00:00\",\"2020-07-18T00:00:00\",\"2020-06-23T00:00:00\",\"2020-07-20T00:00:00\",\"2020-08-21T00:00:00\",\"2020-02-27T00:00:00\",\"2020-08-23T00:00:00\",\"2020-06-12T00:00:00\",\"2020-09-30T00:00:00\",\"2020-12-07T00:00:00\",\"2020-06-07T00:00:00\",\"2020-10-14T00:00:00\",\"2020-08-20T00:00:00\",\"2021-01-10T00:00:00\",\"2019-10-28T00:00:00\",\"2021-03-28T00:00:00\",\"2020-01-19T00:00:00\",\"2021-01-01T00:00:00\",\"2021-06-02T00:00:00\",\"2020-08-05T00:00:00\",\"2020-08-26T00:00:00\",\"2020-03-02T00:00:00\",\"2020-05-09T00:00:00\",\"2020-07-02T00:00:00\",\"2020-09-10T00:00:00\",\"2020-01-19T00:00:00\",\"2019-10-15T00:00:00\",\"2020-09-26T00:00:00\",\"2020-09-21T00:00:00\",\"2020-11-13T00:00:00\",\"2020-07-20T00:00:00\",\"2020-12-21T00:00:00\",\"2021-01-05T00:00:00\",\"2020-05-10T00:00:00\",\"2020-08-18T00:00:00\",\"2020-09-26T00:00:00\",\"2021-07-17T00:00:00\",\"2020-11-15T00:00:00\",\"2021-01-28T00:00:00\",\"2021-01-20T00:00:00\",\"2020-04-18T00:00:00\",\"2020-06-01T00:00:00\",\"2020-11-15T00:00:00\",\"2020-11-12T00:00:00\",\"2020-05-30T00:00:00\",\"2020-12-26T00:00:00\",\"2020-06-25T00:00:00\",\"2020-05-23T00:00:00\",\"2020-07-03T00:00:00\",\"2020-11-02T00:00:00\",\"2020-11-18T00:00:00\",\"2020-09-03T00:00:00\",\"2020-04-08T00:00:00\",\"2020-12-23T00:00:00\",\"2020-06-20T00:00:00\",\"2020-06-10T00:00:00\",\"2020-07-14T00:00:00\",\"2020-05-24T00:00:00\",\"2020-04-19T00:00:00\",\"2020-09-08T00:00:00\",\"2020-08-21T00:00:00\",\"2020-09-22T00:00:00\",\"2019-12-03T00:00:00\",\"2020-05-20T00:00:00\",\"2020-10-13T00:00:00\",\"2020-10-26T00:00:00\",\"2020-06-11T00:00:00\",\"2019-12-09T00:00:00\",\"2020-09-27T00:00:00\",\"2020-10-11T00:00:00\",\"2020-12-06T00:00:00\",\"2020-04-21T00:00:00\",\"2020-07-27T00:00:00\",\"2020-12-08T00:00:00\",\"2020-08-30T00:00:00\",\"2020-12-10T00:00:00\",\"2020-11-22T00:00:00\",\"2019-12-26T00:00:00\",\"2020-07-22T00:00:00\",\"2020-08-10T00:00:00\",\"2020-03-10T00:00:00\",\"2020-10-24T00:00:00\",\"2020-07-08T00:00:00\",\"2020-08-10T00:00:00\",\"2021-06-11T00:00:00\",\"2020-07-02T00:00:00\",\"2019-09-01T00:00:00\",\"2020-05-10T00:00:00\",\"2020-07-30T00:00:00\",\"2020-07-22T00:00:00\",\"2020-09-28T00:00:00\",\"2020-10-01T00:00:00\",\"2020-11-26T00:00:00\",\"2020-12-09T00:00:00\",\"2020-05-17T00:00:00\",\"2020-04-27T00:00:00\",\"2020-07-02T00:00:00\",\"2020-03-30T00:00:00\",\"2020-08-19T00:00:00\",\"2020-04-21T00:00:00\",\"2020-06-30T00:00:00\",\"2020-06-21T00:00:00\",\"2020-04-26T00:00:00\",\"2020-01-26T00:00:00\",\"2020-05-29T00:00:00\",\"2020-07-30T00:00:00\",\"2020-05-11T00:00:00\",\"2020-05-13T00:00:00\",\"2020-08-15T00:00:00\",\"2020-08-11T00:00:00\",\"2020-08-11T00:00:00\",\"2020-08-15T00:00:00\",\"2020-03-13T00:00:00\",\"2020-11-05T00:00:00\",\"2020-08-03T00:00:00\",\"2020-07-10T00:00:00\",\"2021-03-04T00:00:00\",\"2020-05-11T00:00:00\",\"2020-05-04T00:00:00\",\"2020-04-14T00:00:00\",\"2020-01-15T00:00:00\",\"2020-06-16T00:00:00\",\"2020-07-11T00:00:00\",\"2020-11-09T00:00:00\",\"2019-12-06T00:00:00\",\"2020-11-30T00:00:00\",\"2020-09-30T00:00:00\",\"2020-10-09T00:00:00\",\"2019-12-24T00:00:00\",\"2020-08-28T00:00:00\",\"2020-01-13T00:00:00\",\"2020-06-25T00:00:00\",\"2020-08-09T00:00:00\",\"2020-10-22T00:00:00\",\"2020-07-03T00:00:00\",\"2021-02-13T00:00:00\",\"2020-04-18T00:00:00\",\"2020-03-20T00:00:00\",\"2020-06-09T00:00:00\",\"2020-10-16T00:00:00\",\"2020-03-28T00:00:00\",\"2020-07-26T00:00:00\",\"2020-02-04T00:00:00\",\"2020-03-29T00:00:00\",\"2020-05-26T00:00:00\",\"2020-06-01T00:00:00\",\"2020-12-11T00:00:00\",\"2020-06-08T00:00:00\",\"2020-04-13T00:00:00\",\"2020-04-13T00:00:00\",\"2020-07-24T00:00:00\",\"2020-09-17T00:00:00\",\"2020-09-17T00:00:00\",\"2021-02-28T00:00:00\",\"2020-08-28T00:00:00\",\"2020-02-28T00:00:00\",\"2020-05-18T00:00:00\",\"2019-12-19T00:00:00\",\"2020-08-01T00:00:00\",\"2020-07-27T00:00:00\",\"2020-07-06T00:00:00\",\"2020-07-26T00:00:00\",\"2020-06-03T00:00:00\",\"2020-04-13T00:00:00\",\"2020-07-04T00:00:00\",\"2021-01-12T00:00:00\",\"2020-12-20T00:00:00\",\"2020-06-05T00:00:00\",\"2020-02-28T00:00:00\",\"2020-06-21T00:00:00\",\"2020-07-26T00:00:00\",\"2020-02-13T00:00:00\",\"2020-07-07T00:00:00\",\"2020-09-05T00:00:00\",\"2020-07-13T00:00:00\",\"2020-02-15T00:00:00\",\"2020-12-18T00:00:00\",\"2020-04-29T00:00:00\",\"2020-05-23T00:00:00\",\"2020-07-23T00:00:00\",\"2020-09-27T00:00:00\",\"2020-05-22T00:00:00\",\"2020-05-03T00:00:00\",\"2020-03-15T00:00:00\",\"2020-08-11T00:00:00\",\"2020-09-22T00:00:00\",\"2020-06-22T00:00:00\",\"2020-12-30T00:00:00\",\"2020-06-28T00:00:00\",\"2020-06-05T00:00:00\",\"2020-04-21T00:00:00\",\"2020-06-24T00:00:00\",\"2021-01-06T00:00:00\",\"2020-07-05T00:00:00\",\"2020-08-08T00:00:00\",\"2020-09-05T00:00:00\",\"2020-07-22T00:00:00\",\"2020-05-05T00:00:00\",\"2020-07-23T00:00:00\",\"2021-03-07T00:00:00\",\"2020-10-21T00:00:00\",\"2020-07-27T00:00:00\",\"2020-06-27T00:00:00\",\"2020-10-08T00:00:00\",\"2020-07-20T00:00:00\",\"2020-05-30T00:00:00\",\"2020-06-18T00:00:00\",\"2020-07-20T00:00:00\",\"2020-11-11T00:00:00\",\"2020-10-01T00:00:00\",\"2020-06-10T00:00:00\",\"2020-05-11T00:00:00\",\"2020-02-07T00:00:00\",\"2020-02-25T00:00:00\",\"2020-09-10T00:00:00\",\"2020-10-07T00:00:00\",\"2020-03-23T00:00:00\",\"2020-07-01T00:00:00\",\"2019-10-05T00:00:00\",\"2020-10-26T00:00:00\",\"2020-04-14T00:00:00\",\"2021-01-30T00:00:00\",\"2020-09-01T00:00:00\",\"2020-05-22T00:00:00\",\"2020-07-06T00:00:00\",\"2020-11-30T00:00:00\",\"2020-09-10T00:00:00\",\"2020-12-10T00:00:00\",\"2020-01-30T00:00:00\",\"2020-05-26T00:00:00\",\"2020-06-24T00:00:00\",\"2020-10-27T00:00:00\",\"2020-07-25T00:00:00\",\"2020-07-21T00:00:00\",\"2020-09-30T00:00:00\",\"2020-05-01T00:00:00\",\"2020-02-21T00:00:00\",\"2020-04-17T00:00:00\",\"2020-06-17T00:00:00\",\"2020-11-24T00:00:00\",\"2020-11-17T00:00:00\",\"2021-01-06T00:00:00\",\"2020-03-30T00:00:00\",\"2020-08-05T00:00:00\",\"2020-06-09T00:00:00\",\"2020-08-20T00:00:00\",\"2020-07-23T00:00:00\",\"2020-08-11T00:00:00\",\"2020-07-12T00:00:00\",\"2020-10-16T00:00:00\",\"2020-01-15T00:00:00\",\"2020-05-23T00:00:00\",\"2020-04-03T00:00:00\",\"2020-04-28T00:00:00\",\"2019-09-07T00:00:00\",\"2020-01-24T00:00:00\",\"2020-05-18T00:00:00\",\"2020-09-14T00:00:00\",\"2020-11-02T00:00:00\",\"2020-02-11T00:00:00\",\"2020-11-03T00:00:00\",\"2020-06-08T00:00:00\",\"2021-01-14T00:00:00\",\"2020-08-12T00:00:00\",\"2020-05-22T00:00:00\",\"2020-11-07T00:00:00\",\"2020-07-08T00:00:00\",\"2020-06-28T00:00:00\",\"2020-08-16T00:00:00\",\"2020-11-06T00:00:00\",\"2020-03-09T00:00:00\",\"2020-07-17T00:00:00\",\"2020-03-03T00:00:00\",\"2020-05-21T00:00:00\",\"2020-10-22T00:00:00\",\"2020-06-02T00:00:00\",\"2020-03-07T00:00:00\",\"2020-04-17T00:00:00\",\"2020-06-24T00:00:00\",\"2020-05-15T00:00:00\",\"2019-11-27T00:00:00\",\"2020-04-11T00:00:00\",\"2020-03-20T00:00:00\",\"2020-08-11T00:00:00\",\"2020-08-09T00:00:00\"],\"xaxis\":\"x\",\"y\":[\"2020-04-19T00:00:00\",\"2020-08-14T00:00:00\",\"2020-04-07T00:00:00\",\"2020-06-11T00:00:00\",\"2019-10-25T00:00:00\",\"2020-11-18T00:00:00\",\"2020-09-03T00:00:00\",\"2020-08-20T00:00:00\",\"2020-09-05T00:00:00\",\"2020-11-21T00:00:00\",\"2020-08-17T00:00:00\",\"2020-08-19T00:00:00\",\"2020-10-30T00:00:00\",\"2020-05-25T00:00:00\",null,\"2020-09-09T00:00:00\",\"2020-08-02T00:00:00\",\"2021-02-07T00:00:00\",\"2020-06-12T00:00:00\",\"2020-05-21T00:00:00\",\"2020-06-12T00:00:00\",null,null,\"2020-04-03T00:00:00\",\"2020-07-04T00:00:00\",\"2020-04-20T00:00:00\",\"2020-09-04T00:00:00\",\"2020-11-02T00:00:00\",\"2020-07-02T00:00:00\",\"2021-02-18T00:00:00\",\"2019-10-16T00:00:00\",\"2020-05-29T00:00:00\",\"2020-12-19T00:00:00\",\"2021-02-04T00:00:00\",\"2020-02-22T00:00:00\",\"2021-02-11T00:00:00\",null,\"2020-03-21T00:00:00\",\"2020-09-03T00:00:00\",\"2020-10-23T00:00:00\",\"2020-08-22T00:00:00\",\"2020-06-27T00:00:00\",\"2020-04-30T00:00:00\",\"2020-06-13T00:00:00\",\"2020-02-29T00:00:00\",\"2020-11-16T00:00:00\",\"2020-05-16T00:00:00\",\"2020-06-23T00:00:00\",\"2020-04-11T00:00:00\",\"2020-06-20T00:00:00\",\"2020-04-29T00:00:00\",\"2020-07-19T00:00:00\",\"2020-07-16T00:00:00\",\"2020-11-13T00:00:00\",\"2021-01-20T00:00:00\",\"2020-05-23T00:00:00\",\"2020-10-31T00:00:00\",\"2020-07-10T00:00:00\",\"2020-11-01T00:00:00\",\"2020-05-06T00:00:00\",\"2020-10-30T00:00:00\",\"2020-06-22T00:00:00\",\"2020-09-12T00:00:00\",\"2020-04-12T00:00:00\",\"2020-06-02T00:00:00\",\"2020-07-16T00:00:00\",\"2020-02-28T00:00:00\",\"2020-08-18T00:00:00\",\"2020-07-03T00:00:00\",\"2020-07-14T00:00:00\",\"2020-08-20T00:00:00\",\"2020-02-07T00:00:00\",\"2019-09-28T00:00:00\",\"2020-03-16T00:00:00\",\"2020-09-01T00:00:00\",\"2020-07-30T00:00:00\",\"2020-05-31T00:00:00\",\"2021-04-08T00:00:00\",\"2020-10-19T00:00:00\",\"2020-07-07T00:00:00\",\"2020-10-19T00:00:00\",\"2020-03-13T00:00:00\",\"2020-04-04T00:00:00\",null,\"2021-03-06T00:00:00\",\"2021-01-24T00:00:00\",\"2020-08-04T00:00:00\",\"2020-11-03T00:00:00\",\"2020-08-28T00:00:00\",\"2020-03-09T00:00:00\",\"2020-02-17T00:00:00\",\"2020-08-08T00:00:00\",\"2020-07-16T00:00:00\",\"2020-09-24T00:00:00\",\"2020-08-27T00:00:00\",\"2020-07-03T00:00:00\",\"2020-10-02T00:00:00\",\"2020-03-20T00:00:00\",\"2020-12-26T00:00:00\",\"2020-06-07T00:00:00\",\"2021-01-10T00:00:00\",\"2020-12-04T00:00:00\",\"2020-08-09T00:00:00\",\"2020-04-14T00:00:00\",\"2020-09-17T00:00:00\",\"2020-05-06T00:00:00\",\"2020-11-28T00:00:00\",\"2020-11-16T00:00:00\",\"2020-07-22T00:00:00\",\"2020-01-30T00:00:00\",\"2021-01-20T00:00:00\",\"2020-02-29T00:00:00\",\"2020-05-29T00:00:00\",null,\"2020-08-08T00:00:00\",\"2020-06-29T00:00:00\",\"2020-04-02T00:00:00\",\"2020-08-23T00:00:00\",\"2020-05-08T00:00:00\",\"2020-01-06T00:00:00\",\"2020-07-27T00:00:00\",\"2020-07-29T00:00:00\",\"2020-07-25T00:00:00\",\"2019-12-18T00:00:00\",\"2020-11-21T00:00:00\",\"2020-12-30T00:00:00\",\"2020-01-27T00:00:00\",\"2020-12-24T00:00:00\",\"2020-10-19T00:00:00\",\"2020-05-07T00:00:00\",\"2020-09-19T00:00:00\",\"2020-12-04T00:00:00\",\"2020-03-28T00:00:00\",\"2020-10-15T00:00:00\",\"2020-10-26T00:00:00\",\"2020-01-28T00:00:00\",\"2020-01-31T00:00:00\",\"2020-05-04T00:00:00\",\"2020-10-27T00:00:00\",\"2020-04-17T00:00:00\",\"2020-05-15T00:00:00\",\"2020-05-03T00:00:00\",\"2020-08-05T00:00:00\",\"2020-07-20T00:00:00\",\"2020-09-20T00:00:00\",\"2020-07-15T00:00:00\",\"2020-10-25T00:00:00\",\"2020-01-07T00:00:00\",\"2020-06-13T00:00:00\",\"2020-07-02T00:00:00\",\"2020-03-02T00:00:00\",\"2020-09-02T00:00:00\",\"2020-09-06T00:00:00\",\"2020-09-29T00:00:00\",\"2020-05-11T00:00:00\",\"2020-06-02T00:00:00\",\"2020-08-20T00:00:00\",\"2020-11-01T00:00:00\",\"2021-02-05T00:00:00\",\"2020-12-15T00:00:00\",\"2020-08-07T00:00:00\",\"2020-07-10T00:00:00\",\"2020-05-10T00:00:00\",\"2020-04-15T00:00:00\",\"2020-07-12T00:00:00\",\"2020-07-01T00:00:00\",\"2020-07-03T00:00:00\",\"2020-07-09T00:00:00\",\"2020-03-04T00:00:00\",\"2020-06-16T00:00:00\",\"2020-01-22T00:00:00\",\"2021-01-25T00:00:00\",\"2020-08-11T00:00:00\",\"2020-04-26T00:00:00\",\"2020-08-28T00:00:00\",\"2021-01-05T00:00:00\",\"2020-08-16T00:00:00\",\"2020-03-01T00:00:00\",\"2020-09-10T00:00:00\",\"2020-06-02T00:00:00\",\"2020-04-19T00:00:00\",\"2020-08-08T00:00:00\",\"2020-07-31T00:00:00\",\"2020-04-21T00:00:00\",\"2020-09-04T00:00:00\",\"2020-11-22T00:00:00\",\"2020-07-15T00:00:00\",\"2020-06-27T00:00:00\",\"2020-01-29T00:00:00\",\"2020-08-06T00:00:00\",null,\"2020-08-23T00:00:00\",\"2020-09-16T00:00:00\",\"2020-07-21T00:00:00\",\"2020-09-07T00:00:00\",\"2020-04-10T00:00:00\",\"2020-07-31T00:00:00\",\"2020-07-13T00:00:00\",\"2020-07-04T00:00:00\",\"2020-05-05T00:00:00\",\"2020-08-13T00:00:00\",\"2020-04-02T00:00:00\",\"2020-10-20T00:00:00\",\"2021-05-01T00:00:00\",\"2020-11-25T00:00:00\",\"2020-12-27T00:00:00\",\"2020-06-05T00:00:00\",\"2019-10-31T00:00:00\",\"2020-02-15T00:00:00\",\"2020-09-26T00:00:00\",\"2020-05-14T00:00:00\",\"2020-10-30T00:00:00\",\"2020-12-24T00:00:00\",\"2020-03-30T00:00:00\",null,\"2020-03-11T00:00:00\",\"2020-07-23T00:00:00\",\"2020-07-07T00:00:00\",\"2020-07-18T00:00:00\",\"2020-07-22T00:00:00\",\"2020-03-09T00:00:00\",\"2020-09-08T00:00:00\",\"2020-06-07T00:00:00\",\"2020-10-18T00:00:00\",\"2020-11-29T00:00:00\",\"2020-06-06T00:00:00\",\"2020-11-14T00:00:00\",null,\"2020-12-21T00:00:00\",\"2019-09-28T00:00:00\",\"2021-02-07T00:00:00\",\"2020-02-27T00:00:00\",\"2021-01-06T00:00:00\",null,\"2020-08-01T00:00:00\",\"2020-08-06T00:00:00\",\"2020-04-06T00:00:00\",null,\"2020-07-26T00:00:00\",\"2020-09-20T00:00:00\",\"2020-02-19T00:00:00\",\"2019-10-15T00:00:00\",\"2020-08-30T00:00:00\",\"2020-08-16T00:00:00\",\"2020-11-17T00:00:00\",\"2020-07-08T00:00:00\",\"2020-12-15T00:00:00\",null,\"2020-06-15T00:00:00\",\"2020-07-28T00:00:00\",\"2020-09-24T00:00:00\",\"2021-06-10T00:00:00\",\"2020-10-25T00:00:00\",\"2020-12-25T00:00:00\",\"2021-01-30T00:00:00\",\"2020-05-18T00:00:00\",\"2020-06-28T00:00:00\",\"2020-11-06T00:00:00\",\"2020-10-11T00:00:00\",\"2020-05-02T00:00:00\",\"2021-01-19T00:00:00\",\"2020-07-10T00:00:00\",\"2020-03-28T00:00:00\",\"2020-06-25T00:00:00\",\"2020-10-04T00:00:00\",\"2020-12-03T00:00:00\",\"2020-08-13T00:00:00\",\"2020-05-27T00:00:00\",\"2020-11-20T00:00:00\",null,\"2020-06-21T00:00:00\",\"2020-08-06T00:00:00\",\"2020-05-25T00:00:00\",\"2020-04-28T00:00:00\",\"2020-08-11T00:00:00\",\"2020-08-24T00:00:00\",\"2020-11-20T00:00:00\",\"2019-12-04T00:00:00\",\"2020-06-02T00:00:00\",\"2020-10-19T00:00:00\",\"2020-09-05T00:00:00\",\"2020-06-25T00:00:00\",\"2020-01-03T00:00:00\",\"2020-10-05T00:00:00\",\"2020-09-12T00:00:00\",\"2020-12-17T00:00:00\",\"2020-03-15T00:00:00\",null,\"2020-12-27T00:00:00\",\"2020-08-29T00:00:00\",\"2021-01-02T00:00:00\",\"2020-10-29T00:00:00\",\"2020-01-19T00:00:00\",\"2020-08-07T00:00:00\",\"2020-08-13T00:00:00\",\"2020-03-28T00:00:00\",\"2020-10-22T00:00:00\",\"2020-07-19T00:00:00\",\"2020-07-17T00:00:00\",\"2021-05-02T00:00:00\",\"2020-05-26T00:00:00\",\"2019-09-02T00:00:00\",\"2020-05-28T00:00:00\",\"2020-07-16T00:00:00\",\"2020-07-04T00:00:00\",\"2020-10-09T00:00:00\",\"2020-09-02T00:00:00\",\"2020-11-28T00:00:00\",\"2020-12-10T00:00:00\",\"2020-04-30T00:00:00\",\"2020-05-17T00:00:00\",\"2020-06-30T00:00:00\",\"2020-03-28T00:00:00\",\"2020-10-18T00:00:00\",\"2020-03-27T00:00:00\",\"2020-08-11T00:00:00\",\"2020-06-04T00:00:00\",\"2020-05-11T00:00:00\",\"2020-03-13T00:00:00\",\"2020-05-13T00:00:00\",\"2020-08-02T00:00:00\",\"2020-06-09T00:00:00\",\"2020-06-02T00:00:00\",\"2020-08-21T00:00:00\",null,\"2020-07-22T00:00:00\",\"2020-07-28T00:00:00\",\"2020-04-03T00:00:00\",\"2020-11-03T00:00:00\",\"2020-08-17T00:00:00\",\"2020-07-15T00:00:00\",\"2021-01-12T00:00:00\",\"2020-05-12T00:00:00\",\"2020-04-29T00:00:00\",\"2020-04-08T00:00:00\",\"2020-01-28T00:00:00\",\"2020-06-12T00:00:00\",\"2020-06-07T00:00:00\",\"2020-10-07T00:00:00\",\"2019-11-20T00:00:00\",\"2020-12-26T00:00:00\",\"2020-10-04T00:00:00\",\"2020-10-05T00:00:00\",null,\"2020-09-09T00:00:00\",\"2020-03-10T00:00:00\",\"2020-06-24T00:00:00\",\"2020-09-16T00:00:00\",\"2020-09-30T00:00:00\",\"2020-07-19T00:00:00\",\"2021-03-09T00:00:00\",\"2020-04-10T00:00:00\",\"2020-03-13T00:00:00\",\"2020-06-07T00:00:00\",null,\"2020-05-26T00:00:00\",\"2020-07-14T00:00:00\",\"2020-02-02T00:00:00\",\"2020-03-20T00:00:00\",\"2020-05-15T00:00:00\",\"2020-06-29T00:00:00\",\"2020-12-01T00:00:00\",\"2020-05-16T00:00:00\",\"2020-03-31T00:00:00\",\"2020-04-08T00:00:00\",\"2020-08-04T00:00:00\",\"2020-10-31T00:00:00\",\"2020-10-14T00:00:00\",\"2021-03-12T00:00:00\",\"2020-09-06T00:00:00\",\"2020-02-28T00:00:00\",\"2020-05-23T00:00:00\",\"2019-12-24T00:00:00\",\"2020-08-01T00:00:00\",\"2020-08-09T00:00:00\",\"2020-07-16T00:00:00\",\"2020-08-09T00:00:00\",\"2020-05-17T00:00:00\",\"2020-04-14T00:00:00\",\"2020-07-28T00:00:00\",\"2021-03-04T00:00:00\",\"2020-12-21T00:00:00\",\"2020-05-05T00:00:00\",\"2020-02-23T00:00:00\",\"2020-07-30T00:00:00\",\"2020-07-06T00:00:00\",\"2020-03-08T00:00:00\",\"2020-07-02T00:00:00\",\"2020-10-26T00:00:00\",null,\"2020-02-02T00:00:00\",\"2020-11-26T00:00:00\",\"2020-04-01T00:00:00\",\"2020-06-02T00:00:00\",\"2020-07-31T00:00:00\",\"2020-09-24T00:00:00\",\"2020-05-27T00:00:00\",\"2020-05-22T00:00:00\",\"2020-04-07T00:00:00\",\"2020-07-28T00:00:00\",\"2020-10-06T00:00:00\",\"2020-07-16T00:00:00\",\"2020-11-13T00:00:00\",\"2020-07-06T00:00:00\",\"2020-05-25T00:00:00\",\"2020-04-21T00:00:00\",\"2020-06-01T00:00:00\",\"2021-01-17T00:00:00\",\"2020-07-08T00:00:00\",\"2020-08-14T00:00:00\",\"2020-09-12T00:00:00\",\"2020-07-07T00:00:00\",\"2020-05-23T00:00:00\",\"2020-08-14T00:00:00\",\"2021-03-12T00:00:00\",\"2020-11-05T00:00:00\",\"2020-07-21T00:00:00\",\"2020-08-07T00:00:00\",\"2020-10-07T00:00:00\",\"2020-08-04T00:00:00\",\"2020-06-08T00:00:00\",\"2020-06-21T00:00:00\",\"2020-08-21T00:00:00\",\"2020-10-28T00:00:00\",\"2020-09-12T00:00:00\",\"2020-06-29T00:00:00\",\"2020-05-13T00:00:00\",\"2020-02-28T00:00:00\",\"2020-03-04T00:00:00\",\"2020-08-22T00:00:00\",\"2020-10-02T00:00:00\",null,\"2020-06-06T00:00:00\",\"2019-11-18T00:00:00\",\"2020-12-09T00:00:00\",\"2020-05-13T00:00:00\",\"2021-02-02T00:00:00\",\"2020-08-31T00:00:00\",\"2020-06-07T00:00:00\",\"2020-06-10T00:00:00\",\"2020-11-27T00:00:00\",\"2020-09-02T00:00:00\",\"2020-11-22T00:00:00\",\"2020-02-16T00:00:00\",\"2020-07-07T00:00:00\",\"2020-07-27T00:00:00\",\"2020-10-16T00:00:00\",\"2020-07-27T00:00:00\",\"2020-08-05T00:00:00\",\"2020-10-28T00:00:00\",\"2020-05-10T00:00:00\",\"2020-02-21T00:00:00\",\"2020-05-28T00:00:00\",\"2020-07-14T00:00:00\",\"2020-11-14T00:00:00\",\"2020-11-11T00:00:00\",\"2020-12-14T00:00:00\",\"2020-04-22T00:00:00\",\"2020-08-18T00:00:00\",\"2020-05-25T00:00:00\",\"2020-09-15T00:00:00\",\"2020-08-29T00:00:00\",\"2020-09-03T00:00:00\",\"2020-07-03T00:00:00\",\"2020-10-17T00:00:00\",\"2019-12-31T00:00:00\",\"2020-05-29T00:00:00\",\"2020-02-28T00:00:00\",\"2020-03-27T00:00:00\",\"2019-10-20T00:00:00\",\"2020-01-11T00:00:00\",\"2020-04-17T00:00:00\",\"2020-09-05T00:00:00\",\"2020-11-04T00:00:00\",\"2020-02-06T00:00:00\",\"2020-10-08T00:00:00\",\"2020-06-10T00:00:00\",\"2021-01-10T00:00:00\",\"2020-08-15T00:00:00\",\"2020-05-29T00:00:00\",\"2020-11-19T00:00:00\",\"2020-05-27T00:00:00\",\"2020-07-07T00:00:00\",\"2020-08-03T00:00:00\",\"2020-11-05T00:00:00\",\"2020-03-15T00:00:00\",\"2020-08-09T00:00:00\",\"2020-03-18T00:00:00\",\"2020-07-05T00:00:00\",\"2020-11-23T00:00:00\",\"2020-06-26T00:00:00\",\"2020-03-17T00:00:00\",\"2020-04-13T00:00:00\",\"2020-07-03T00:00:00\",\"2020-04-23T00:00:00\",\"2019-12-01T00:00:00\",\"2020-05-20T00:00:00\",\"2020-04-12T00:00:00\",\"2020-06-29T00:00:00\",null],\"yaxis\":\"y\",\"type\":\"scatter\"}],                        {\"template\":{\"data\":{\"histogram2dcontour\":[{\"type\":\"histogram2dcontour\",\"colorbar\":{\"outlinewidth\":0,\"ticks\":\"\"},\"colorscale\":[[0.0,\"#0d0887\"],[0.1111111111111111,\"#46039f\"],[0.2222222222222222,\"#7201a8\"],[0.3333333333333333,\"#9c179e\"],[0.4444444444444444,\"#bd3786\"],[0.5555555555555556,\"#d8576b\"],[0.6666666666666666,\"#ed7953\"],[0.7777777777777778,\"#fb9f3a\"],[0.8888888888888888,\"#fdca26\"],[1.0,\"#f0f921\"]]}],\"choropleth\":[{\"type\":\"choropleth\",\"colorbar\":{\"outlinewidth\":0,\"ticks\":\"\"}}],\"histogram2d\":[{\"type\":\"histogram2d\",\"colorbar\":{\"outlinewidth\":0,\"ticks\":\"\"},\"colorscale\":[[0.0,\"#0d0887\"],[0.1111111111111111,\"#46039f\"],[0.2222222222222222,\"#7201a8\"],[0.3333333333333333,\"#9c179e\"],[0.4444444444444444,\"#bd3786\"],[0.5555555555555556,\"#d8576b\"],[0.6666666666666666,\"#ed7953\"],[0.7777777777777778,\"#fb9f3a\"],[0.8888888888888888,\"#fdca26\"],[1.0,\"#f0f921\"]]}],\"heatmap\":[{\"type\":\"heatmap\",\"colorbar\":{\"outlinewidth\":0,\"ticks\":\"\"},\"colorscale\":[[0.0,\"#0d0887\"],[0.1111111111111111,\"#46039f\"],[0.2222222222222222,\"#7201a8\"],[0.3333333333333333,\"#9c179e\"],[0.4444444444444444,\"#bd3786\"],[0.5555555555555556,\"#d8576b\"],[0.6666666666666666,\"#ed7953\"],[0.7777777777777778,\"#fb9f3a\"],[0.8888888888888888,\"#fdca26\"],[1.0,\"#f0f921\"]]}],\"heatmapgl\":[{\"type\":\"heatmapgl\",\"colorbar\":{\"outlinewidth\":0,\"ticks\":\"\"},\"colorscale\":[[0.0,\"#0d0887\"],[0.1111111111111111,\"#46039f\"],[0.2222222222222222,\"#7201a8\"],[0.3333333333333333,\"#9c179e\"],[0.4444444444444444,\"#bd3786\"],[0.5555555555555556,\"#d8576b\"],[0.6666666666666666,\"#ed7953\"],[0.7777777777777778,\"#fb9f3a\"],[0.8888888888888888,\"#fdca26\"],[1.0,\"#f0f921\"]]}],\"contourcarpet\":[{\"type\":\"contourcarpet\",\"colorbar\":{\"outlinewidth\":0,\"ticks\":\"\"}}],\"contour\":[{\"type\":\"contour\",\"colorbar\":{\"outlinewidth\":0,\"ticks\":\"\"},\"colorscale\":[[0.0,\"#0d0887\"],[0.1111111111111111,\"#46039f\"],[0.2222222222222222,\"#7201a8\"],[0.3333333333333333,\"#9c179e\"],[0.4444444444444444,\"#bd3786\"],[0.5555555555555556,\"#d8576b\"],[0.6666666666666666,\"#ed7953\"],[0.7777777777777778,\"#fb9f3a\"],[0.8888888888888888,\"#fdca26\"],[1.0,\"#f0f921\"]]}],\"surface\":[{\"type\":\"surface\",\"colorbar\":{\"outlinewidth\":0,\"ticks\":\"\"},\"colorscale\":[[0.0,\"#0d0887\"],[0.1111111111111111,\"#46039f\"],[0.2222222222222222,\"#7201a8\"],[0.3333333333333333,\"#9c179e\"],[0.4444444444444444,\"#bd3786\"],[0.5555555555555556,\"#d8576b\"],[0.6666666666666666,\"#ed7953\"],[0.7777777777777778,\"#fb9f3a\"],[0.8888888888888888,\"#fdca26\"],[1.0,\"#f0f921\"]]}],\"mesh3d\":[{\"type\":\"mesh3d\",\"colorbar\":{\"outlinewidth\":0,\"ticks\":\"\"}}],\"scatter\":[{\"fillpattern\":{\"fillmode\":\"overlay\",\"size\":10,\"solidity\":0.2},\"type\":\"scatter\"}],\"parcoords\":[{\"type\":\"parcoords\",\"line\":{\"colorbar\":{\"outlinewidth\":0,\"ticks\":\"\"}}}],\"scatterpolargl\":[{\"type\":\"scatterpolargl\",\"marker\":{\"colorbar\":{\"outlinewidth\":0,\"ticks\":\"\"}}}],\"bar\":[{\"error_x\":{\"color\":\"#2a3f5f\"},\"error_y\":{\"color\":\"#2a3f5f\"},\"marker\":{\"line\":{\"color\":\"#E5ECF6\",\"width\":0.5},\"pattern\":{\"fillmode\":\"overlay\",\"size\":10,\"solidity\":0.2}},\"type\":\"bar\"}],\"scattergeo\":[{\"type\":\"scattergeo\",\"marker\":{\"colorbar\":{\"outlinewidth\":0,\"ticks\":\"\"}}}],\"scatterpolar\":[{\"type\":\"scatterpolar\",\"marker\":{\"colorbar\":{\"outlinewidth\":0,\"ticks\":\"\"}}}],\"histogram\":[{\"marker\":{\"pattern\":{\"fillmode\":\"overlay\",\"size\":10,\"solidity\":0.2}},\"type\":\"histogram\"}],\"scattergl\":[{\"type\":\"scattergl\",\"marker\":{\"colorbar\":{\"outlinewidth\":0,\"ticks\":\"\"}}}],\"scatter3d\":[{\"type\":\"scatter3d\",\"line\":{\"colorbar\":{\"outlinewidth\":0,\"ticks\":\"\"}},\"marker\":{\"colorbar\":{\"outlinewidth\":0,\"ticks\":\"\"}}}],\"scattermapbox\":[{\"type\":\"scattermapbox\",\"marker\":{\"colorbar\":{\"outlinewidth\":0,\"ticks\":\"\"}}}],\"scatterternary\":[{\"type\":\"scatterternary\",\"marker\":{\"colorbar\":{\"outlinewidth\":0,\"ticks\":\"\"}}}],\"scattercarpet\":[{\"type\":\"scattercarpet\",\"marker\":{\"colorbar\":{\"outlinewidth\":0,\"ticks\":\"\"}}}],\"carpet\":[{\"aaxis\":{\"endlinecolor\":\"#2a3f5f\",\"gridcolor\":\"white\",\"linecolor\":\"white\",\"minorgridcolor\":\"white\",\"startlinecolor\":\"#2a3f5f\"},\"baxis\":{\"endlinecolor\":\"#2a3f5f\",\"gridcolor\":\"white\",\"linecolor\":\"white\",\"minorgridcolor\":\"white\",\"startlinecolor\":\"#2a3f5f\"},\"type\":\"carpet\"}],\"table\":[{\"cells\":{\"fill\":{\"color\":\"#EBF0F8\"},\"line\":{\"color\":\"white\"}},\"header\":{\"fill\":{\"color\":\"#C8D4E3\"},\"line\":{\"color\":\"white\"}},\"type\":\"table\"}],\"barpolar\":[{\"marker\":{\"line\":{\"color\":\"#E5ECF6\",\"width\":0.5},\"pattern\":{\"fillmode\":\"overlay\",\"size\":10,\"solidity\":0.2}},\"type\":\"barpolar\"}],\"pie\":[{\"automargin\":true,\"type\":\"pie\"}]},\"layout\":{\"autotypenumbers\":\"strict\",\"colorway\":[\"#636efa\",\"#EF553B\",\"#00cc96\",\"#ab63fa\",\"#FFA15A\",\"#19d3f3\",\"#FF6692\",\"#B6E880\",\"#FF97FF\",\"#FECB52\"],\"font\":{\"color\":\"#2a3f5f\"},\"hovermode\":\"closest\",\"hoverlabel\":{\"align\":\"left\"},\"paper_bgcolor\":\"white\",\"plot_bgcolor\":\"#E5ECF6\",\"polar\":{\"bgcolor\":\"#E5ECF6\",\"angularaxis\":{\"gridcolor\":\"white\",\"linecolor\":\"white\",\"ticks\":\"\"},\"radialaxis\":{\"gridcolor\":\"white\",\"linecolor\":\"white\",\"ticks\":\"\"}},\"ternary\":{\"bgcolor\":\"#E5ECF6\",\"aaxis\":{\"gridcolor\":\"white\",\"linecolor\":\"white\",\"ticks\":\"\"},\"baxis\":{\"gridcolor\":\"white\",\"linecolor\":\"white\",\"ticks\":\"\"},\"caxis\":{\"gridcolor\":\"white\",\"linecolor\":\"white\",\"ticks\":\"\"}},\"coloraxis\":{\"colorbar\":{\"outlinewidth\":0,\"ticks\":\"\"}},\"colorscale\":{\"sequential\":[[0.0,\"#0d0887\"],[0.1111111111111111,\"#46039f\"],[0.2222222222222222,\"#7201a8\"],[0.3333333333333333,\"#9c179e\"],[0.4444444444444444,\"#bd3786\"],[0.5555555555555556,\"#d8576b\"],[0.6666666666666666,\"#ed7953\"],[0.7777777777777778,\"#fb9f3a\"],[0.8888888888888888,\"#fdca26\"],[1.0,\"#f0f921\"]],\"sequentialminus\":[[0.0,\"#0d0887\"],[0.1111111111111111,\"#46039f\"],[0.2222222222222222,\"#7201a8\"],[0.3333333333333333,\"#9c179e\"],[0.4444444444444444,\"#bd3786\"],[0.5555555555555556,\"#d8576b\"],[0.6666666666666666,\"#ed7953\"],[0.7777777777777778,\"#fb9f3a\"],[0.8888888888888888,\"#fdca26\"],[1.0,\"#f0f921\"]],\"diverging\":[[0,\"#8e0152\"],[0.1,\"#c51b7d\"],[0.2,\"#de77ae\"],[0.3,\"#f1b6da\"],[0.4,\"#fde0ef\"],[0.5,\"#f7f7f7\"],[0.6,\"#e6f5d0\"],[0.7,\"#b8e186\"],[0.8,\"#7fbc41\"],[0.9,\"#4d9221\"],[1,\"#276419\"]]},\"xaxis\":{\"gridcolor\":\"white\",\"linecolor\":\"white\",\"ticks\":\"\",\"title\":{\"standoff\":15},\"zerolinecolor\":\"white\",\"automargin\":true,\"zerolinewidth\":2},\"yaxis\":{\"gridcolor\":\"white\",\"linecolor\":\"white\",\"ticks\":\"\",\"title\":{\"standoff\":15},\"zerolinecolor\":\"white\",\"automargin\":true,\"zerolinewidth\":2},\"scene\":{\"xaxis\":{\"backgroundcolor\":\"#E5ECF6\",\"gridcolor\":\"white\",\"linecolor\":\"white\",\"showbackground\":true,\"ticks\":\"\",\"zerolinecolor\":\"white\",\"gridwidth\":2},\"yaxis\":{\"backgroundcolor\":\"#E5ECF6\",\"gridcolor\":\"white\",\"linecolor\":\"white\",\"showbackground\":true,\"ticks\":\"\",\"zerolinecolor\":\"white\",\"gridwidth\":2},\"zaxis\":{\"backgroundcolor\":\"#E5ECF6\",\"gridcolor\":\"white\",\"linecolor\":\"white\",\"showbackground\":true,\"ticks\":\"\",\"zerolinecolor\":\"white\",\"gridwidth\":2}},\"shapedefaults\":{\"line\":{\"color\":\"#2a3f5f\"}},\"annotationdefaults\":{\"arrowcolor\":\"#2a3f5f\",\"arrowhead\":0,\"arrowwidth\":1},\"geo\":{\"bgcolor\":\"white\",\"landcolor\":\"#E5ECF6\",\"subunitcolor\":\"white\",\"showland\":true,\"showlakes\":true,\"lakecolor\":\"white\"},\"title\":{\"x\":0.05},\"mapbox\":{\"style\":\"light\"}}},\"xaxis\":{\"anchor\":\"y\",\"domain\":[0.0,1.0],\"title\":{\"text\":\"checkin_date\"}},\"yaxis\":{\"anchor\":\"x\",\"domain\":[0.0,1.0],\"title\":{\"text\":\"checkout_date\"}},\"legend\":{\"title\":{\"text\":\"Data\"},\"tracegroupgap\":0},\"margin\":{\"t\":60},\"font\":{\"size\":18},\"title\":{\"text\":\"Real vs. Synthetic Data for columns 'checkin_date' and 'checkout_date'\"},\"plot_bgcolor\":\"#F5F5F8\"},                        {\"responsive\": true}                    ).then(function(){\n",
       "                            \n",
       "var gd = document.getElementById('c0e9da50-cb90-44c9-ac86-01b742e4e935');\n",
       "var x = new MutationObserver(function (mutations, observer) {{\n",
       "        var display = window.getComputedStyle(gd).display;\n",
       "        if (!display || display === 'none') {{\n",
       "            console.log([gd, 'removed!']);\n",
       "            Plotly.purge(gd);\n",
       "            observer.disconnect();\n",
       "        }}\n",
       "}});\n",
       "\n",
       "// Listen for the removal of the full notebook cells\n",
       "var notebookContainer = gd.closest('#notebook-container');\n",
       "if (notebookContainer) {{\n",
       "    x.observe(notebookContainer, {childList: true});\n",
       "}}\n",
       "\n",
       "// Listen for the clearing of the current output cell\n",
       "var outputEl = gd.closest('.output');\n",
       "if (outputEl) {{\n",
       "    x.observe(outputEl, {childList: true});\n",
       "}}\n",
       "\n",
       "                        })                };                });            </script>        </div>"
      ]
     },
     "metadata": {},
     "output_type": "display_data"
    }
   ],
   "source": [
    "from sdv.evaluation.single_table import get_column_pair_plot\n",
    "\n",
    "fig = get_column_pair_plot(\n",
    "    real_data=real_data,\n",
    "    synthetic_data=synthetic_data,\n",
    "    column_names=['checkin_date', 'checkout_date'],\n",
    "    metadata=metadata\n",
    ")\n",
    "\n",
    "fig.show()"
   ]
  },
  {
   "cell_type": "code",
   "execution_count": 13,
   "id": "e4d7579d",
   "metadata": {},
   "outputs": [],
   "source": [
    "synthesizer.save('my_synthesizer.pkl')\n",
    "\n",
    "synthesizer = SingleTablePreset.load('my_synthesizer.pkl')"
   ]
  },
  {
   "cell_type": "code",
   "execution_count": 14,
   "id": "0cdba1b4",
   "metadata": {},
   "outputs": [
    {
     "data": {
      "text/plain": [
       "0.836"
      ]
     },
     "execution_count": 14,
     "metadata": {},
     "output_type": "execute_result"
    }
   ],
   "source": [
    "from sdmetrics.single_column import KSComplement\n",
    "\n",
    "KSComplement.compute(\n",
    "    real_data=real_data['room_rate'],\n",
    "    synthetic_data=synthetic_data['room_rate']\n",
    ")"
   ]
  },
  {
   "cell_type": "code",
   "execution_count": 15,
   "id": "19e8ce27-ab35-4ae6-b1d8-0c53a4b3aa74",
   "metadata": {},
   "outputs": [
    {
     "data": {
      "application/vnd.plotly.v1+json": {
       "config": {
        "plotlyServerURL": "https://plot.ly"
       },
       "data": [
        {
         "fill": "tozeroy",
         "hovertemplate": "<b>Real</b><br>Value: %{x}<br>Frequency: %{y}<extra></extra>",
         "legendgroup": "Real",
         "marker": {
          "color": "#000036"
         },
         "mode": "lines",
         "name": "Real",
         "showlegend": true,
         "type": "scatter",
         "x": [
          0,
          0.09623999999999999,
          0.19247999999999998,
          0.28872,
          0.38495999999999997,
          0.48119999999999996,
          0.57744,
          0.67368,
          0.7699199999999999,
          0.8661599999999999,
          0.9623999999999999,
          1.0586399999999998,
          1.15488,
          1.2511199999999998,
          1.34736,
          1.4436,
          1.5398399999999999,
          1.63608,
          1.7323199999999999,
          1.82856,
          1.9247999999999998,
          2.02104,
          2.1172799999999996,
          2.21352,
          2.30976,
          2.406,
          2.5022399999999996,
          2.59848,
          2.69472,
          2.79096,
          2.8872,
          2.98344,
          3.0796799999999998,
          3.1759199999999996,
          3.27216,
          3.3684,
          3.4646399999999997,
          3.5608799999999996,
          3.65712,
          3.75336,
          3.8495999999999997,
          3.9458399999999996,
          4.04208,
          4.138319999999999,
          4.234559999999999,
          4.3308,
          4.42704,
          4.52328,
          4.61952,
          4.7157599999999995,
          4.812,
          4.90824,
          5.004479999999999,
          5.100719999999999,
          5.19696,
          5.2932,
          5.38944,
          5.4856799999999994,
          5.58192,
          5.67816,
          5.7744,
          5.87064,
          5.96688,
          6.06312,
          6.1593599999999995,
          6.255599999999999,
          6.351839999999999,
          6.44808,
          6.54432,
          6.64056,
          6.7368,
          6.83304,
          6.929279999999999,
          7.025519999999999,
          7.121759999999999,
          7.218,
          7.31424,
          7.41048,
          7.50672,
          7.60296,
          7.699199999999999,
          7.795439999999999,
          7.891679999999999,
          7.987919999999999,
          8.08416,
          8.180399999999999,
          8.276639999999999,
          8.372879999999999,
          8.469119999999998,
          8.565359999999998,
          8.6616,
          8.75784,
          8.85408,
          8.95032,
          9.04656,
          9.1428,
          9.23904,
          9.33528,
          9.431519999999999,
          9.52776,
          9.624,
          9.72024,
          9.81648,
          9.91272,
          10.008959999999998,
          10.105199999999998,
          10.201439999999998,
          10.29768,
          10.39392,
          10.49016,
          10.5864,
          10.68264,
          10.77888,
          10.875119999999999,
          10.971359999999999,
          11.067599999999999,
          11.16384,
          11.26008,
          11.35632,
          11.45256,
          11.5488,
          11.64504,
          11.74128,
          11.837519999999998,
          11.93376,
          12.03,
          12.12624,
          12.22248,
          12.318719999999999,
          12.414959999999999,
          12.511199999999999,
          12.607439999999999,
          12.703679999999999,
          12.79992,
          12.89616,
          12.9924,
          13.08864,
          13.18488,
          13.28112,
          13.37736,
          13.4736,
          13.569840000000001,
          13.66608,
          13.762319999999999,
          13.858559999999999,
          13.954799999999999,
          14.051039999999999,
          14.147279999999999,
          14.243519999999998,
          14.339759999999998,
          14.436,
          14.53224,
          14.62848,
          14.72472,
          14.82096,
          14.9172,
          15.01344,
          15.109679999999999,
          15.20592,
          15.30216,
          15.398399999999999,
          15.494639999999999,
          15.590879999999999,
          15.687119999999998,
          15.783359999999998,
          15.879599999999998,
          15.975839999999998,
          16.07208,
          16.16832,
          16.26456,
          16.360799999999998,
          16.45704,
          16.553279999999997,
          16.64952,
          16.745759999999997,
          16.842,
          16.938239999999997,
          17.03448,
          17.130719999999997,
          17.22696,
          17.3232,
          17.419439999999998,
          17.51568,
          17.611919999999998,
          17.70816,
          17.804399999999998,
          17.90064,
          17.996879999999997,
          18.09312,
          18.18936,
          18.2856,
          18.38184,
          18.47808,
          18.57432,
          18.67056,
          18.7668,
          18.863039999999998,
          18.95928,
          19.05552,
          19.15176,
          19.248,
          19.34424,
          19.44048,
          19.53672,
          19.63296,
          19.729200000000002,
          19.82544,
          19.921680000000002,
          20.017919999999997,
          20.11416,
          20.210399999999996,
          20.306639999999998,
          20.402879999999996,
          20.499119999999998,
          20.59536,
          20.691599999999998,
          20.78784,
          20.884079999999997,
          20.98032,
          21.076559999999997,
          21.1728,
          21.269039999999997,
          21.36528,
          21.46152,
          21.55776,
          21.654,
          21.750239999999998,
          21.84648,
          21.942719999999998,
          22.03896,
          22.135199999999998,
          22.23144,
          22.32768,
          22.42392,
          22.52016,
          22.6164,
          22.71264,
          22.80888,
          22.90512,
          23.001360000000002,
          23.0976,
          23.19384,
          23.29008,
          23.38632,
          23.48256,
          23.578799999999998,
          23.675039999999996,
          23.771279999999997,
          23.86752,
          23.963759999999997,
          24.06,
          24.156239999999997,
          24.25248,
          24.348719999999997,
          24.44496,
          24.541199999999996,
          24.637439999999998,
          24.73368,
          24.829919999999998,
          24.92616,
          25.022399999999998,
          25.11864,
          25.214879999999997,
          25.31112,
          25.407359999999997,
          25.5036,
          25.59984,
          25.69608,
          25.79232,
          25.88856,
          25.9848,
          26.081039999999998,
          26.17728,
          26.273519999999998,
          26.36976,
          26.466,
          26.56224,
          26.65848,
          26.75472,
          26.85096,
          26.9472,
          27.04344,
          27.139680000000002,
          27.235919999999997,
          27.33216,
          27.428399999999996,
          27.524639999999998,
          27.620879999999996,
          27.717119999999998,
          27.813359999999996,
          27.909599999999998,
          28.00584,
          28.102079999999997,
          28.19832,
          28.294559999999997,
          28.3908,
          28.487039999999997,
          28.58328,
          28.679519999999997,
          28.77576,
          28.872,
          28.968239999999998,
          29.06448,
          29.160719999999998,
          29.25696,
          29.353199999999998,
          29.44944,
          29.545679999999997,
          29.64192,
          29.73816,
          29.8344,
          29.93064,
          30.02688,
          30.12312,
          30.219359999999998,
          30.3156,
          30.41184,
          30.50808,
          30.60432,
          30.70056,
          30.796799999999998,
          30.893039999999996,
          30.989279999999997,
          31.085519999999995,
          31.181759999999997,
          31.278,
          31.374239999999997,
          31.47048,
          31.566719999999997,
          31.662959999999998,
          31.759199999999996,
          31.855439999999998,
          31.951679999999996,
          32.04792,
          32.14416,
          32.2404,
          32.33664,
          32.43288,
          32.52912,
          32.62535999999999,
          32.721599999999995,
          32.81784,
          32.91408,
          33.01032,
          33.106559999999995,
          33.202799999999996,
          33.29904,
          33.39528,
          33.491519999999994,
          33.587759999999996,
          33.684,
          33.78024,
          33.876479999999994,
          33.97272,
          34.06896,
          34.1652,
          34.26143999999999,
          34.35768,
          34.45392,
          34.55016,
          34.6464,
          34.74264,
          34.838879999999996,
          34.93512,
          35.03136,
          35.1276,
          35.223839999999996,
          35.320080000000004,
          35.41632,
          35.51256,
          35.608799999999995,
          35.705040000000004,
          35.80128,
          35.89752,
          35.993759999999995,
          36.09,
          36.18624,
          36.28247999999999,
          36.37872,
          36.474959999999996,
          36.5712,
          36.66743999999999,
          36.76368,
          36.859919999999995,
          36.95616,
          37.0524,
          37.14864,
          37.244879999999995,
          37.34112,
          37.43736,
          37.5336,
          37.629839999999994,
          37.726079999999996,
          37.82232,
          37.91856,
          38.014799999999994,
          38.11104,
          38.20728,
          38.30352,
          38.39975999999999,
          38.496,
          38.59224,
          38.68848,
          38.78472,
          38.88096,
          38.977199999999996,
          39.07344,
          39.16968,
          39.26592,
          39.362159999999996,
          39.458400000000005,
          39.55464,
          39.65088,
          39.747119999999995,
          39.843360000000004,
          39.9396,
          40.03583999999999,
          40.132079999999995,
          40.22832,
          40.32456,
          40.42079999999999,
          40.51704,
          40.613279999999996,
          40.70952,
          40.80575999999999,
          40.902,
          40.998239999999996,
          41.09448,
          41.19072,
          41.28696,
          41.383199999999995,
          41.47944,
          41.57568,
          41.67192,
          41.768159999999995,
          41.864399999999996,
          41.96064,
          42.05688,
          42.153119999999994,
          42.24936,
          42.3456,
          42.44184,
          42.538079999999994,
          42.63432,
          42.73056,
          42.8268,
          42.92304,
          43.01928,
          43.11552,
          43.21176,
          43.308,
          43.40424,
          43.500479999999996,
          43.59672,
          43.69296,
          43.789199999999994,
          43.885439999999996,
          43.98168,
          44.07792,
          44.17415999999999,
          44.270399999999995,
          44.36664,
          44.46288,
          44.55911999999999,
          44.65536,
          44.751599999999996,
          44.84784,
          44.94407999999999,
          45.04032,
          45.136559999999996,
          45.2328,
          45.32904,
          45.42528,
          45.521519999999995,
          45.61776,
          45.714,
          45.81024,
          45.906479999999995,
          46.002720000000004,
          46.09896,
          46.1952,
          46.291439999999994,
          46.38768,
          46.48392,
          46.58016,
          46.676399999999994,
          46.77264,
          46.86888,
          46.96512,
          47.06136,
          47.157599999999995,
          47.25384,
          47.35007999999999,
          47.44632,
          47.542559999999995,
          47.638799999999996,
          47.73504,
          47.83128,
          47.927519999999994,
          48.023759999999996
         ],
         "xaxis": "x",
         "y": [
          0.01751157773273591,
          0.017604707809214807,
          0.017686940878632637,
          0.017758335777264003,
          0.01781898650545314,
          0.017869022004252135,
          0.01790860577819474,
          0.01793793536593227,
          0.017957241661334805,
          0.017966788088522048,
          0.01796686963511642,
          0.017957811748811302,
          0.017939969103106385,
          0.01791372423877729,
          0.017879486088314182,
          0.017837688391178445,
          0.017788788008281223,
          0.01773326314458758,
          0.01767161148917993,
          0.01760434828248519,
          0.017532004320669828,
          0.017455123907441288,
          0.017374262763658076,
          0.017289985905248162,
          0.017202865499964238,
          0.017113478713466954,
          0.017022405555125027,
          0.016930226733757103,
          0.016837521533316153,
          0.01674486571823651,
          0.016652829477829693,
          0.01656197541873223,
          0.016472856613980146,
          0.0163860147168162,
          0.016301978146828565,
          0.016221260355483987,
          0.016144358177552415,
          0.016071750274333954,
          0.016003895673993674,
          0.015941232413693406,
          0.015884176287583172,
          0.015833119704085633,
          0.01578843065527893,
          0.015750451800557688,
          0.015719499666138042,
          0.015695863961367254,
          0.01567980701221272,
          0.015671563311733763,
          0.015671339186793323,
          0.01567931257974184,
          0.015695632943307513,
          0.015720421246456364,
          0.015753770088545307,
          0.015795743918679432,
          0.015846379356805603,
          0.015905685612727004,
          0.015973644998907324,
          0.01605021353265047,
          0.016135321622989432,
          0.016228874837400115,
          0.016330754743264963,
          0.01644081981885591,
          0.016558906428474175,
          0.016684829856287234,
          0.016818385393326613,
          0.016959349472066343,
          0.017107480842976332,
          0.017262521787447735,
          0.017424199361509032,
          0.017592226664796,
          0.017766304129300966,
          0.01794612082250789,
          0.018131355759617447,
          0.018321679219680097,
          0.01851675406058175,
          0.018716237027968475,
          0.018919780053349676,
          0.01912703153678319,
          0.019337637609721056,
          0.01955124337377903,
          0.019767494111385557,
          0.01998603646446817,
          0.020206519577542152,
          0.02042859620178399,
          0.020651923756891205,
          0.020876165347759355,
          0.021100990733238754,
          0.021326077244470637,
          0.02155111065054269,
          0.021775785969451747,
          0.02199980822260557,
          0.02222289313135025,
          0.02244476775425915,
          0.022665171064177005,
          0.022883854464264504,
          0.0231005822425472,
          0.023315131964725063,
          0.02352729480525419,
          0.023736875816962273,
          0.023943694139709062,
          0.02414758314884712,
          0.024348390544478227,
          0.024545978382733567,
          0.024740223050536213,
          0.024931015185519035,
          0.025118259542985837,
          0.02530187481200135,
          0.025481793382886263,
          0.025657961068569074,
          0.025830336782412727,
          0.02599889217528214,
          0.0261636112347531,
          0.02632448984948403,
          0.02648153534187033,
          0.026634765972189584,
          0.026784210417506935,
          0.026929907228661294,
          0.027071904268679076,
          0.0272102581359704,
          0.027345033575652235,
          0.027476302882310823,
          0.027604145297466742,
          0.02772864640493299,
          0.027849897527170923,
          0.027967995125637773,
          0.028083040207996467,
          0.02819513774491469,
          0.028304396099023358,
          0.02841092646843003,
          0.028514842346997565,
          0.02861625900339906,
          0.02871529298075089,
          0.028812061618407797,
          0.028906682597278414,
          0.02899927350978775,
          0.02908995145538032,
          0.029178832662219007,
          0.029266032135500372,
          0.02935166333257279,
          0.029435837864811264,
          0.029518665225983554,
          0.02960025254662046,
          0.029680704373701367,
          0.02976012247476671,
          0.029838605665391333,
          0.029916249658780456,
          0.029993146936102135,
          0.03006938663603437,
          0.030145054461887755,
          0.030220232604571722,
          0.030294999679591882,
          0.030369430676212807,
          0.03044359691688699,
          0.030517566025034495,
          0.030591401899270287,
          0.03066516469220278,
          0.030738910791979653,
          0.0308126928048275,
          0.03088655953692221,
          0.030960555974036522,
          0.031034723257538182,
          0.031109098655453755,
          0.031183715527473378,
          0.03125860328293948,
          0.03133378733104738,
          0.031409289022676395,
          0.03148512558346931,
          0.03156131003798446,
          0.03163785112495207,
          0.031714753203877274,
          0.031792016153442,
          0.03186963526236314,
          0.03194760111356688,
          0.03202589946273432,
          0.03210451111245546,
          0.03218341178340648,
          0.032262571984123425,
          0.032341956881093314,
          0.03242152617101229,
          0.03250123395717284,
          0.03258102863203571,
          0.03266085276811191,
          0.03274064301933434,
          0.03282033003512437,
          0.03289983838936717,
          0.03297908652649016,
          0.033057986726801734,
          0.03313644509318022,
          0.03321436156111979,
          0.0332916299340295,
          0.03336813794555168,
          0.0334437673505137,
          0.033518394045956974,
          0.03359188822349711,
          0.03366411455406146,
          0.033734932405829914,
          0.03380419609596828,
          0.03387175517649633,
          0.033937454754376144,
          0.03400113584564235,
          0.03406263576312431,
          0.03412178853704211,
          0.03417842536747949,
          0.03423237510747008,
          0.03428346477516407,
          0.034331520093281304,
          0.03437636605380592,
          0.034417827505635316,
          0.03445572976266935,
          0.03448989922961111,
          0.03452016404255863,
          0.03454635472128401,
          0.034568304829947584,
          0.034585851642854375,
          0.03459883681175292,
          0.034607107031089275,
          0.03461051469756683,
          0.034608918560330104,
          0.03460218435807904,
          0.03459018543944179,
          0.034572803362975475,
          0.034549928473239774,
          0.03452146044948198,
          0.034487308823597906,
          0.03444739346417993,
          0.034401645023633326,
          0.03435000534553789,
          0.0342924278296437,
          0.03422887775212445,
          0.0341593325389628,
          0.03408378199060731,
          0.03400222845632157,
          0.03391468695693607,
          0.03382118525501442,
          0.03372176387175243,
          0.03361647605023932,
          0.03350538766502405,
          0.03338857707824557,
          0.03326613494289293,
          0.03313816395407024,
          0.03300477854944027,
          0.03286610456030948,
          0.032722278815097025,
          0.032573448697196576,
          0.032419771659488616,
          0.032261414697998404,
          0.03209855378740766,
          0.031931373281327585,
          0.031760065280416035,
          0.0315848289715762,
          0.03140586994160824,
          0.031223399468793177,
          0.0310376337959763,
          0.03084879338877927,
          0.030657102182611327,
          0.03046278682216352,
          0.03026607589706641,
          0.03006719917735906,
          0.029866386852370634,
          0.029663868776538295,
          0.029459873725600074,
          0.029254628666485077,
          0.029048358044098832,
          0.028841283088055652,
          0.02863362114225111,
          0.028425585019995172,
          0.02821738238724137,
          0.028009215176253918,
          0.027801279031848616,
          0.027593762792136472,
          0.02738684800547863,
          0.027180708485144558,
          0.02697550990294055,
          0.026771409422853307,
          0.02656855537552994,
          0.026367086974194424,
          0.0261671340723832,
          0.025968816963668578,
          0.025772246223330464,
          0.02557752259173517,
          0.025384736898987195,
          0.025193970030232285,
          0.025005292930814122,
          0.024818766650320536,
          0.024634442424396448,
          0.02445236179305577,
          0.024272556754088688,
          0.024095049950035634,
          0.02391985488708764,
          0.02374697618417015,
          0.023576409850377712,
          0.02340814358884842,
          0.023242157125099076,
          0.0230784225577857,
          0.02291690472980908,
          0.0227575616176492,
          0.02260034473678816,
          0.022445199561066817,
          0.02229206595381458,
          0.02214087860859672,
          0.021991567497436304,
          0.021844058324389508,
          0.021698272982383023,
          0.02155413001125986,
          0.021411545055024666,
          0.021270431316331877,
          0.02113070000631871,
          0.020992260787949964,
          0.02085502221111264,
          0.02071889213777541,
          0.02058377815560906,
          0.02044958797855219,
          0.02031622983289701,
          0.020183612827566526,
          0.020051647307354682,
          0.0199202451880031,
          0.019789320272097313,
          0.01965878854487295,
          0.019528568449136176,
          0.01939858113861648,
          0.019268750709187377,
          0.01913900440750637,
          0.019009272816747157,
          0.018879490019213446,
          0.018749593735744193,
          0.018619525441939313,
          0.018489230461351213,
          0.018358658035904307,
          0.01822776137391892,
          0.018096497676225964,
          0.017964828140968336,
          0.01783271794778774,
          0.01770013622219572,
          0.01756705598102312,
          0.017433454059929444,
          0.017299311024038495,
          0.017164611062841534,
          0.017029341870578748,
          0.016893494513371087,
          0.016757063284428452,
          0.01662004554870363,
          0.016482441578399187,
          0.016344254380759878,
          0.016205489519601813,
          0.016066154932037013,
          0.015926260741850475,
          0.015785819070976613,
          0.01564484385049991,
          0.015503350632575288,
          0.015361356404624415,
          0.01521887940711526,
          0.015075938956175266,
          0.014932555272224153,
          0.014788749315737896,
          0.014644542631177147,
          0.014499957200025093,
          0.014355015303788545,
          0.014209739397717637,
          0.014064151995898307,
          0.013918275568264998,
          0.013772132449974658,
          0.013625744763471165,
          0.013479134353459763,
          0.013332322734899212,
          0.01318533105400955,
          0.013038180062184547,
          0.01289089010259213,
          0.012743481109143215,
          0.012595972617411423,
          0.012448383786991566,
          0.012300733434698258,
          0.012153040077923095,
          0.01200532198739473,
          0.011857597248518282,
          0.011709883830411353,
          0.01156219966170156,
          0.011414562712108585,
          0.011266991078797988,
          0.011119503076469858,
          0.010972117330127528,
          0.010824852869464264,
          0.01067772922380652,
          0.010530766516561846,
          0.01038398555813695,
          0.010237407936317248,
          0.010091056103132611,
          0.009944953457274279,
          0.009799124421174832,
          0.009653594511916662,
          0.009508390405193136,
          0.009363539991609994,
          0.009219072424682988,
          0.009075018159959324,
          0.00893140898476506,
          0.008788278038157826,
          0.008645659820742954,
          0.008503590194090329,
          0.00836210636957032,
          0.008221246886505558,
          0.008081051579615786,
          0.0079415615358089,
          0.007802819040448465,
          0.007664867513299211,
          0.0075277514344237705,
          0.007391516260369624,
          0.0072562083310484015,
          0.007121874767768961,
          0.006988563362940177,
          0.006856322462009211,
          0.006725200838246792,
          0.006595247561031112,
          0.006466511858318039,
          0.006339042974014878,
          0.006212890021001554,
          0.006088101830562331,
          0.005964726799007688,
          0.005842812732275738,
          0.005722406689309095,
          0.005603554825004036,
          0.005486302233525589,
          0.005370692792775132,
          0.005256769010785121,
          0.005144571874801012,
          0.00503414070379047,
          0.004925513005099088,
          0.004818724335945117,
          0.004713808170418309,
          0.00461079577261642,
          0.004509716076520077,
          0.0044105955731703035,
          0.004313458205676371,
          0.0042183252725412285,
          0.0041252153397518705,
          0.004034144162038932,
          0.003945124613666932,
          0.0038581666290719205,
          0.003773277153618542,
          0.0036904601047023327,
          0.0036097163433774903,
          0.0035310436566435574,
          0.0034544367504783908,
          0.0033798872536579755,
          0.003307383732357909,
          0.003236911715485238,
          0.003168453730644293,
          0.003101989350595169,
          0.003037495250020238,
          0.0029749452723704735,
          0.002914310506522171,
          0.0028555593729336364,
          0.00279865771895243,
          0.0027435689228858923,
          0.002690254006411661,
          0.0026386717548705415,
          0.00258877884495186,
          0.002540529979250867,
          0.0024938780271498966,
          0.002448774171448974,
          0.0024051680601483074,
          0.0023630079627642727,
          0.0023222409305422983,
          0.002282812959914792,
          0.002244669158539648,
          0.002207753913245373,
          0.0021720110592023307,
          0.00213738404963612,
          0.002103816125398757,
          0.002071250483716206,
          0.0020396304454365966,
          0.002008899620112885,
          0.001979002068265596,
          0.0019498824601870172,
          0.0019214862306663656,
          0.0018937597290368713,
          0.0018666503639700282,
          0.0018401067424692029,
          0.0018140788025443795,
          0.0017885179390820368,
          0.0017633771224584613,
          0.0017386110094815,
          0.001714176046284115,
          0.0016900305628335171,
          0.0016661348587613065,
          0.0016424512802631775,
          0.0016189442878607498,
          0.001595580514863173,
          0.0015723288164113307,
          0.0015491603090334537,
          0.0015260484006865177,
          0.0015029688113033792,
          0.0014798995839106612,
          0.001456821086426531,
          0.0014337160042909034,
          0.0014105693241225031,
          0.001387368308637763,
          0.0013641024631053404,
          0.0013407634936468964,
          0.001317345257729552,
          0.0012938437072278189,
          0.0012702568244628177
         ],
         "yaxis": "y"
        },
        {
         "fill": "tozeroy",
         "hovertemplate": "<b>Synthetic</b><br>Value: %{x}<br>Frequency: %{y}<extra></extra>",
         "legendgroup": "Synthetic",
         "marker": {
          "color": "#01E0C9"
         },
         "mode": "lines",
         "name": "Synthetic",
         "showlegend": true,
         "type": "scatter",
         "x": [
          0,
          0.09623999999999999,
          0.19247999999999998,
          0.28872,
          0.38495999999999997,
          0.48119999999999996,
          0.57744,
          0.67368,
          0.7699199999999999,
          0.8661599999999999,
          0.9623999999999999,
          1.0586399999999998,
          1.15488,
          1.2511199999999998,
          1.34736,
          1.4436,
          1.5398399999999999,
          1.63608,
          1.7323199999999999,
          1.82856,
          1.9247999999999998,
          2.02104,
          2.1172799999999996,
          2.21352,
          2.30976,
          2.406,
          2.5022399999999996,
          2.59848,
          2.69472,
          2.79096,
          2.8872,
          2.98344,
          3.0796799999999998,
          3.1759199999999996,
          3.27216,
          3.3684,
          3.4646399999999997,
          3.5608799999999996,
          3.65712,
          3.75336,
          3.8495999999999997,
          3.9458399999999996,
          4.04208,
          4.138319999999999,
          4.234559999999999,
          4.3308,
          4.42704,
          4.52328,
          4.61952,
          4.7157599999999995,
          4.812,
          4.90824,
          5.004479999999999,
          5.100719999999999,
          5.19696,
          5.2932,
          5.38944,
          5.4856799999999994,
          5.58192,
          5.67816,
          5.7744,
          5.87064,
          5.96688,
          6.06312,
          6.1593599999999995,
          6.255599999999999,
          6.351839999999999,
          6.44808,
          6.54432,
          6.64056,
          6.7368,
          6.83304,
          6.929279999999999,
          7.025519999999999,
          7.121759999999999,
          7.218,
          7.31424,
          7.41048,
          7.50672,
          7.60296,
          7.699199999999999,
          7.795439999999999,
          7.891679999999999,
          7.987919999999999,
          8.08416,
          8.180399999999999,
          8.276639999999999,
          8.372879999999999,
          8.469119999999998,
          8.565359999999998,
          8.6616,
          8.75784,
          8.85408,
          8.95032,
          9.04656,
          9.1428,
          9.23904,
          9.33528,
          9.431519999999999,
          9.52776,
          9.624,
          9.72024,
          9.81648,
          9.91272,
          10.008959999999998,
          10.105199999999998,
          10.201439999999998,
          10.29768,
          10.39392,
          10.49016,
          10.5864,
          10.68264,
          10.77888,
          10.875119999999999,
          10.971359999999999,
          11.067599999999999,
          11.16384,
          11.26008,
          11.35632,
          11.45256,
          11.5488,
          11.64504,
          11.74128,
          11.837519999999998,
          11.93376,
          12.03,
          12.12624,
          12.22248,
          12.318719999999999,
          12.414959999999999,
          12.511199999999999,
          12.607439999999999,
          12.703679999999999,
          12.79992,
          12.89616,
          12.9924,
          13.08864,
          13.18488,
          13.28112,
          13.37736,
          13.4736,
          13.569840000000001,
          13.66608,
          13.762319999999999,
          13.858559999999999,
          13.954799999999999,
          14.051039999999999,
          14.147279999999999,
          14.243519999999998,
          14.339759999999998,
          14.436,
          14.53224,
          14.62848,
          14.72472,
          14.82096,
          14.9172,
          15.01344,
          15.109679999999999,
          15.20592,
          15.30216,
          15.398399999999999,
          15.494639999999999,
          15.590879999999999,
          15.687119999999998,
          15.783359999999998,
          15.879599999999998,
          15.975839999999998,
          16.07208,
          16.16832,
          16.26456,
          16.360799999999998,
          16.45704,
          16.553279999999997,
          16.64952,
          16.745759999999997,
          16.842,
          16.938239999999997,
          17.03448,
          17.130719999999997,
          17.22696,
          17.3232,
          17.419439999999998,
          17.51568,
          17.611919999999998,
          17.70816,
          17.804399999999998,
          17.90064,
          17.996879999999997,
          18.09312,
          18.18936,
          18.2856,
          18.38184,
          18.47808,
          18.57432,
          18.67056,
          18.7668,
          18.863039999999998,
          18.95928,
          19.05552,
          19.15176,
          19.248,
          19.34424,
          19.44048,
          19.53672,
          19.63296,
          19.729200000000002,
          19.82544,
          19.921680000000002,
          20.017919999999997,
          20.11416,
          20.210399999999996,
          20.306639999999998,
          20.402879999999996,
          20.499119999999998,
          20.59536,
          20.691599999999998,
          20.78784,
          20.884079999999997,
          20.98032,
          21.076559999999997,
          21.1728,
          21.269039999999997,
          21.36528,
          21.46152,
          21.55776,
          21.654,
          21.750239999999998,
          21.84648,
          21.942719999999998,
          22.03896,
          22.135199999999998,
          22.23144,
          22.32768,
          22.42392,
          22.52016,
          22.6164,
          22.71264,
          22.80888,
          22.90512,
          23.001360000000002,
          23.0976,
          23.19384,
          23.29008,
          23.38632,
          23.48256,
          23.578799999999998,
          23.675039999999996,
          23.771279999999997,
          23.86752,
          23.963759999999997,
          24.06,
          24.156239999999997,
          24.25248,
          24.348719999999997,
          24.44496,
          24.541199999999996,
          24.637439999999998,
          24.73368,
          24.829919999999998,
          24.92616,
          25.022399999999998,
          25.11864,
          25.214879999999997,
          25.31112,
          25.407359999999997,
          25.5036,
          25.59984,
          25.69608,
          25.79232,
          25.88856,
          25.9848,
          26.081039999999998,
          26.17728,
          26.273519999999998,
          26.36976,
          26.466,
          26.56224,
          26.65848,
          26.75472,
          26.85096,
          26.9472,
          27.04344,
          27.139680000000002,
          27.235919999999997,
          27.33216,
          27.428399999999996,
          27.524639999999998,
          27.620879999999996,
          27.717119999999998,
          27.813359999999996,
          27.909599999999998,
          28.00584,
          28.102079999999997,
          28.19832,
          28.294559999999997,
          28.3908,
          28.487039999999997,
          28.58328,
          28.679519999999997,
          28.77576,
          28.872,
          28.968239999999998,
          29.06448,
          29.160719999999998,
          29.25696,
          29.353199999999998,
          29.44944,
          29.545679999999997,
          29.64192,
          29.73816,
          29.8344,
          29.93064,
          30.02688,
          30.12312,
          30.219359999999998,
          30.3156,
          30.41184,
          30.50808,
          30.60432,
          30.70056,
          30.796799999999998,
          30.893039999999996,
          30.989279999999997,
          31.085519999999995,
          31.181759999999997,
          31.278,
          31.374239999999997,
          31.47048,
          31.566719999999997,
          31.662959999999998,
          31.759199999999996,
          31.855439999999998,
          31.951679999999996,
          32.04792,
          32.14416,
          32.2404,
          32.33664,
          32.43288,
          32.52912,
          32.62535999999999,
          32.721599999999995,
          32.81784,
          32.91408,
          33.01032,
          33.106559999999995,
          33.202799999999996,
          33.29904,
          33.39528,
          33.491519999999994,
          33.587759999999996,
          33.684,
          33.78024,
          33.876479999999994,
          33.97272,
          34.06896,
          34.1652,
          34.26143999999999,
          34.35768,
          34.45392,
          34.55016,
          34.6464,
          34.74264,
          34.838879999999996,
          34.93512,
          35.03136,
          35.1276,
          35.223839999999996,
          35.320080000000004,
          35.41632,
          35.51256,
          35.608799999999995,
          35.705040000000004,
          35.80128,
          35.89752,
          35.993759999999995,
          36.09,
          36.18624,
          36.28247999999999,
          36.37872,
          36.474959999999996,
          36.5712,
          36.66743999999999,
          36.76368,
          36.859919999999995,
          36.95616,
          37.0524,
          37.14864,
          37.244879999999995,
          37.34112,
          37.43736,
          37.5336,
          37.629839999999994,
          37.726079999999996,
          37.82232,
          37.91856,
          38.014799999999994,
          38.11104,
          38.20728,
          38.30352,
          38.39975999999999,
          38.496,
          38.59224,
          38.68848,
          38.78472,
          38.88096,
          38.977199999999996,
          39.07344,
          39.16968,
          39.26592,
          39.362159999999996,
          39.458400000000005,
          39.55464,
          39.65088,
          39.747119999999995,
          39.843360000000004,
          39.9396,
          40.03583999999999,
          40.132079999999995,
          40.22832,
          40.32456,
          40.42079999999999,
          40.51704,
          40.613279999999996,
          40.70952,
          40.80575999999999,
          40.902,
          40.998239999999996,
          41.09448,
          41.19072,
          41.28696,
          41.383199999999995,
          41.47944,
          41.57568,
          41.67192,
          41.768159999999995,
          41.864399999999996,
          41.96064,
          42.05688,
          42.153119999999994,
          42.24936,
          42.3456,
          42.44184,
          42.538079999999994,
          42.63432,
          42.73056,
          42.8268,
          42.92304,
          43.01928,
          43.11552,
          43.21176,
          43.308,
          43.40424,
          43.500479999999996,
          43.59672,
          43.69296,
          43.789199999999994,
          43.885439999999996,
          43.98168,
          44.07792,
          44.17415999999999,
          44.270399999999995,
          44.36664,
          44.46288,
          44.55911999999999,
          44.65536,
          44.751599999999996,
          44.84784,
          44.94407999999999,
          45.04032,
          45.136559999999996,
          45.2328,
          45.32904,
          45.42528,
          45.521519999999995,
          45.61776,
          45.714,
          45.81024,
          45.906479999999995,
          46.002720000000004,
          46.09896,
          46.1952,
          46.291439999999994,
          46.38768,
          46.48392,
          46.58016,
          46.676399999999994,
          46.77264,
          46.86888,
          46.96512,
          47.06136,
          47.157599999999995,
          47.25384,
          47.35007999999999,
          47.44632,
          47.542559999999995,
          47.638799999999996,
          47.73504,
          47.83128,
          47.927519999999994,
          48.023759999999996
         ],
         "xaxis": "x",
         "y": [
          0.012872599155426155,
          0.013068497482962458,
          0.013259656744584512,
          0.013445996813609177,
          0.013627457038250844,
          0.01380399609359471,
          0.013975591712889961,
          0.014142240301345196,
          0.014303956436609864,
          0.014460772261087218,
          0.01461273677213433,
          0.014759915017054585,
          0.014902387200569795,
          0.01504024771316269,
          0.015173604089301398,
          0.015302575905088121,
          0.015427293625308747,
          0.015547897410198087,
          0.015664535892468752,
          0.015777364935283835,
          0.015886546381880393,
          0.015992246807474676,
          0.01609463628390262,
          0.01619388716717237,
          0.016290172917734935,
          0.016383666962818285,
          0.016474541609625373,
          0.016562967017575207,
          0.016649110237074858,
          0.016733134321557607,
          0.016815197518717576,
          0.016895452546022354,
          0.0169740459547028,
          0.017051117585513136,
          0.017126800118632213,
          0.017201218719153002,
          0.01727449077868557,
          0.017346725752694282,
          0.017418025092306895,
          0.01748848226848346,
          0.01755818288562403,
          0.01762720488093124,
          0.017695618805136766,
          0.017763488179553914,
          0.01783086992383656,
          0.017897814848313202,
          0.017964368204326276,
          0.018030570285644372,
          0.018096457073729758,
          0.018162060919434397,
          0.018227411253570736,
          0.01829253531874708,
          0.018357458914881167,
          0.01842220715089722,
          0.01848680519527417,
          0.0185512790183387,
          0.01861565611948181,
          0.018679966232817834,
          0.01874424200519328,
          0.01880851964088294,
          0.018872839507779064,
          0.018937246700374298,
          0.019001791555359995,
          0.01906653011619629,
          0.01913152454355572,
          0.01919684346909162,
          0.019262562290525868,
          0.019328763406589514,
          0.019395536390869845,
          0.01946297810412032,
          0.019531192745067837,
          0.019600291840201494,
          0.01967039417344402,
          0.01974162565699073,
          0.0198141191449465,
          0.019888014191697466,
          0.019963456757223264,
          0.020040598861781108,
          0.020119598192581824,
          0.02020061766522612,
          0.020283824942780297,
          0.02036939191544697,
          0.020457494143827824,
          0.020548310268789748,
          0.02064202139092894,
          0.02073881042259213,
          0.020838861415355635,
          0.02094235886578987,
          0.021049487002254695,
          0.021160429055376604,
          0.021275366514767073,
          0.021394478374444276,
          0.021517940369332487,
          0.021645924205130493,
          0.021778596783768884,
          0.021916119426619043,
          0.02205864709757432,
          0.022206327628100736,
          0.022359300946348373,
          0.022517698312431323,
          0.02268164156201731,
          0.022851242360424507,
          0.023026601469494545,
          0.023207808029604066,
          0.023394938859280557,
          0.023588057775009,
          0.023787214933943097,
          0.023992446202370423,
          0.02420377255291761,
          0.02442119949361791,
          0.024644716532093228,
          0.024874296678221646,
          0.02510989598876654,
          0.025351453157528646,
          0.025598889154642066,
          0.02585210691866875,
          0.026110991105146388,
          0.02637540789520596,
          0.02664520486780352,
          0.026920210938987756,
          0.027200236371465358,
          0.027485072857514267,
          0.027774493678037776,
          0.028068253940247853,
          0.028366090896109787,
          0.028667724343283615,
          0.02897285710984809,
          0.029281175623609376,
          0.02959235056626575,
          0.029906037612139474,
          0.03022187825059405,
          0.030539500690635036,
          0.030858520845557295,
          0.031178543394848893,
          0.0314991629199061,
          0.031819965109456866,
          0.03214052802994236,
          0.03246042345547429,
          0.032779218251375704,
          0.03309647580473529,
          0.0334117574948654,
          0.03372462419605852,
          0.03403463780459554,
          0.034341362781572946,
          0.034644367702798856,
          0.03494322680675405,
          0.03523752153143996,
          0.03552684203083396,
          0.035810788661654186,
          0.03608897343119858,
          0.03636102139716799,
          0.036626572010612916,
          0.03688528039345482,
          0.03713681854242196,
          0.037380876451712286,
          0.03761716314723355,
          0.03784540762588668,
          0.038065359694027814,
          0.03827679069998103,
          0.03847949415625172,
          0.038673286247915835,
          0.03885800622451852,
          0.039033516673700565,
          0.039199703675668655,
          0.039356476838538705,
          0.039503769215483514,
          0.03964153710551494,
          0.03976975974060593,
          0.03988843886270454,
          0.03999759819500287,
          0.040097282812587065,
          0.040187558418306485,
          0.04026851053035135,
          0.040340243588613926,
          0.04040287998741962,
          0.04045655904265523,
          0.04050143590167477,
          0.04053768040464097,
          0.04056547590614973,
          0.04058501806608774,
          0.04059651361869593,
          0.04060017912874366,
          0.04059623974357415,
          0.04058492794955298,
          0.04056648234115334,
          0.04054114641053545,
          0.040509167365044334,
          0.04047079497954844,
          0.040426280489995414,
          0.04037587553396341,
          0.04031983114335181,
          0.040258396793692273,
          0.040191819513871706,
          0.0401203430593575,
          0.0400442071513071,
          0.039963646783235655,
          0.03987889159621951,
          0.039790165322930046,
          0.03969768530013647,
          0.03960166204868807,
          0.03950229891939765,
          0.039399791802697655,
          0.03929432889944188,
          0.03918609054977367,
          0.03907524911658785,
          0.03896196891977659,
          0.03884640621717014,
          0.03872870922786828,
          0.038609018193500114,
          0.03848746547285701,
          0.038364175665307,
          0.03823926575842241,
          0.038112845295329524,
          0.037985016557422716,
          0.03785587475826355,
          0.037725508244709695,
          0.037593998701587444,
          0.037461421356517616,
          0.03732784518184026,
          0.03719333309093678,
          0.03705794212662543,
          0.0369217236396944,
          0.03678472345603503,
          0.03664698203123817,
          0.03650853459191289,
          0.03636941126337784,
          0.03622963718375269,
          0.03608923260483491,
          0.0359482129804871,
          0.03580658904357228,
          0.035664366872758334,
          0.035521547950765425,
          0.03537812921584971,
          0.03523410310849958,
          0.035089457615466085,
          0.03494417631335904,
          0.03479823841410841,
          0.03465161881462699,
          0.034504288153000634,
          0.03435621287349675,
          0.03420735530260291,
          0.03405767373820348,
          0.03390712255386083,
          0.03375565232000664,
          0.03360320994365537,
          0.03344973882804298,
          0.03329517905336334,
          0.03313946757952903,
          0.03298253847162748,
          0.032824323148478336,
          0.03266475065442633,
          0.032503747954234365,
          0.03234124025066988,
          0.03217715132411135,
          0.03201140389324473,
          0.03184391999566977,
          0.03167462138700058,
          0.03150342995682326,
          0.03133026815966703,
          0.031155059458959234,
          0.030977728781765426,
          0.030798202981967494,
          0.03061641130940781,
          0.03043228588241916,
          0.030245762161079277,
          0.030056779418465154,
          0.029865281207143102,
          0.029671215818110944,
          0.029474536729409993,
          0.02927520304164587,
          0.02907317989769759,
          0.028868438883951773,
          0.028660958410474318,
          0.028450724067622883,
          0.02823772895670836,
          0.028021973992433457,
          0.027803468174966973,
          0.02758222882965689,
          0.027358281812536696,
          0.02713166167994336,
          0.026902411820735068,
          0.026670584549776603,
          0.02643624116154297,
          0.02619945194288549,
          0.025960296144198272,
          0.025718861908425067,
          0.025475246157550546,
          0.02522955443642903,
          0.02498190071401273,
          0.024732407142257884,
          0.02448120377319967,
          0.02422842823490498,
          0.02397422536722881,
          0.023718746818517347,
          0.023462150604617746,
          0.023204600631769667,
          0.022946266185166986,
          0.022687321385187174,
          0.022427944613492935,
          0.022168317911409097,
          0.021908626353173137,
          0.021649057396841732,
          0.02138980021581418,
          0.021131045014096586,
          0.020872982328586573,
          0.020615802321795083,
          0.02035969406854783,
          0.020104844840313236,
          0.01985143939089375,
          0.019599659247282915,
          0.019349682009537753,
          0.01910168066353722,
          0.018855822910496697,
          0.0186122705170801,
          0.01837117868989762,
          0.018132695478095578,
          0.01789696120763685,
          0.01766410795073192,
          0.01743425903371764,
          0.01720752858648732,
          0.016984021136356362,
          0.016763831249002804,
          0.01654704321885147,
          0.01633373081097601,
          0.016123957056278535,
          0.01591777410137124,
          0.015715223114232176,
          0.015516334246341423,
          0.01532112665162493,
          0.015129608562147344,
          0.01494177742010267,
          0.014757620065258234,
          0.014577112976614723,
          0.014400222566658306,
          0.014226905526202609,
          0.014057109217452655,
          0.0138907721125727,
          0.013727824274709716,
          0.013568187878116447,
          0.013411777763735982,
          0.013258502026356148,
          0.013108262629220954,
          0.012960956041796808,
          0.01281647389623939,
          0.012674703657991754,
          0.01253552930586698,
          0.012398832016932034,
          0.01226449085151203,
          0.012132383433676895,
          0.012002386622654938,
          0.011874377170739515,
          0.01174823236341372,
          0.011623830637613315,
          0.011501052174277866,
          0.01137977946160122,
          0.01125989782568194,
          0.011141295925592425,
          0.011023866210223577,
          0.010907505334621433,
          0.010792114533906631,
          0.010677599953254813,
          0.010563872932809953,
          0.010450850246802522,
          0.010338454296542319,
          0.010226613257351864,
          0.010115261179892893,
          0.0100043380467149,
          0.009893789785215336,
          0.009783568238543303,
          0.00967363109629977,
          0.009563941787183382,
          0.009454469336000406,
          0.009345188187697176,
          0.009236078001282934,
          0.009127123416686275,
          0.009018313797731962,
          0.00890964295453193,
          0.008801108848657802,
          0.008692713284500246,
          0.008584461590224546,
          0.00847636229170084,
          0.008368426782726281,
          0.008260668994761309,
          0.008153105069280383,
          0.008045753035686309,
          0.007938632497562518,
          0.007831764329839843,
          0.007725170389236241,
          0.0076188732400943125,
          0.007512895897492311,
          0.007407261589245096,
          0.00730199353814483,
          0.007197114765518546,
          0.007092647916906841,
          0.0069886151103950266,
          0.0068850378078603855,
          0.006781936709137688,
          0.006679331668853731,
          0.006577241635441417,
          0.006475684611618903,
          0.0063746776354092856,
          0.0062742367805849256,
          0.006174377175247925,
          0.006075113037106886,
          0.005976457723879179,
          0.005878423797140224,
          0.005781023097855645,
          0.005684266831769297,
          0.005588165662779806,
          0.005492729812420674,
          0.005397969163562281,
          0.005303893366479134,
          0.005210511945469712,
          0.005117834404279695,
          0.005025870328659524,
          0.004934629484483496,
          0.004844121909967807,
          0.0047543580006481345,
          0.004665348585910242,
          0.0045771049960101305,
          0.004489639118668899,
          0.004402963444482497,
          0.004317091100543906,
          0.004232035871834413,
          0.00414781221009981,
          0.0040644352300836725,
          0.003981920693143592,
          0.0039002849784237808,
          0.003819545041899803,
          0.003739718363744043,
          0.0036608228845864373,
          0.003582876931359242,
          0.003505899133519454,
          0.0034299083305349884,
          0.0033549234716017595,
          0.003280963508627135,
          0.003208047283571213,
          0.003136193411280009,
          0.003065420158975189,
          0.002995745323582369,
          0.0029271861080853324,
          0.002859758998086588,
          0.002793479639736778,
          0.002728362720165884,
          0.0026644218515102813,
          0.0026016694595803413,
          0.0025401166781562354,
          0.0024797732498338556,
          0.00242064743427071,
          0.002362745924603285,
          0.0023060737727242002,
          0.002250634324019877,
          0.002196429162079141,
          0.002143458063790388,
          0.0020917189651510227,
          0.0020412079380185658,
          0.0019919191779390268,
          0.0019438450030957765,
          0.0018969758643316184,
          0.0018513003661093904,
          0.0018068052981922782,
          0.001763475677745154,
          0.001721294801482805,
          0.0016802443074208286,
          0.001640304245720172,
          0.0016014531580575146,
          0.0015636681649008623,
          0.0015269250600235605,
          0.0014911984115497606,
          0.001456461668791397,
          0.0014226872741097284,
          0.0013898467790146377,
          0.0013579109637011084,
          0.0013268499592150697,
          0.0012966333714397827,
          0.0012672304060988404,
          0.001238609993982428,
          0.0012107409156196323,
          0.0011835919246407747,
          0.0011571318690996703,
          0.0011313298100561232,
          0.0011061551367534963,
          0.001081577677764131,
          0.001057567807516948,
          0.0010340965476655767,
          0.0010111356628022164,
          0.0009886577500709897,
          0.0009666363222850061,
          0.0009450458842028691,
          0.0009238620016728614,
          0.0009030613634059682,
          0.0008826218351918674,
          0.0008625225064248572,
          0.0008427437288588919,
          0.0008232671475620996,
          0.0008040757240913002,
          0.0007851537519555725,
          0.0007664868644846427,
          0.0007480620352626775,
          0.0007298675713304886
         ],
         "yaxis": "y"
        }
       ],
       "layout": {
        "annotations": [
         {
          "showarrow": false,
          "text": "*Missing Values: Real Data (9.0%), Synthetic Data (7.6%)",
          "x": 1,
          "xref": "paper",
          "y": 1.05,
          "yref": "paper"
         }
        ],
        "barmode": "overlay",
        "font": {
         "size": 18
        },
        "hovermode": "closest",
        "legend": {
         "traceorder": "reversed"
        },
        "plot_bgcolor": "#F5F5F8",
        "template": {
         "data": {
          "bar": [
           {
            "error_x": {
             "color": "#2a3f5f"
            },
            "error_y": {
             "color": "#2a3f5f"
            },
            "marker": {
             "line": {
              "color": "#E5ECF6",
              "width": 0.5
             },
             "pattern": {
              "fillmode": "overlay",
              "size": 10,
              "solidity": 0.2
             }
            },
            "type": "bar"
           }
          ],
          "barpolar": [
           {
            "marker": {
             "line": {
              "color": "#E5ECF6",
              "width": 0.5
             },
             "pattern": {
              "fillmode": "overlay",
              "size": 10,
              "solidity": 0.2
             }
            },
            "type": "barpolar"
           }
          ],
          "carpet": [
           {
            "aaxis": {
             "endlinecolor": "#2a3f5f",
             "gridcolor": "white",
             "linecolor": "white",
             "minorgridcolor": "white",
             "startlinecolor": "#2a3f5f"
            },
            "baxis": {
             "endlinecolor": "#2a3f5f",
             "gridcolor": "white",
             "linecolor": "white",
             "minorgridcolor": "white",
             "startlinecolor": "#2a3f5f"
            },
            "type": "carpet"
           }
          ],
          "choropleth": [
           {
            "colorbar": {
             "outlinewidth": 0,
             "ticks": ""
            },
            "type": "choropleth"
           }
          ],
          "contour": [
           {
            "colorbar": {
             "outlinewidth": 0,
             "ticks": ""
            },
            "colorscale": [
             [
              0,
              "#0d0887"
             ],
             [
              0.1111111111111111,
              "#46039f"
             ],
             [
              0.2222222222222222,
              "#7201a8"
             ],
             [
              0.3333333333333333,
              "#9c179e"
             ],
             [
              0.4444444444444444,
              "#bd3786"
             ],
             [
              0.5555555555555556,
              "#d8576b"
             ],
             [
              0.6666666666666666,
              "#ed7953"
             ],
             [
              0.7777777777777778,
              "#fb9f3a"
             ],
             [
              0.8888888888888888,
              "#fdca26"
             ],
             [
              1,
              "#f0f921"
             ]
            ],
            "type": "contour"
           }
          ],
          "contourcarpet": [
           {
            "colorbar": {
             "outlinewidth": 0,
             "ticks": ""
            },
            "type": "contourcarpet"
           }
          ],
          "heatmap": [
           {
            "colorbar": {
             "outlinewidth": 0,
             "ticks": ""
            },
            "colorscale": [
             [
              0,
              "#0d0887"
             ],
             [
              0.1111111111111111,
              "#46039f"
             ],
             [
              0.2222222222222222,
              "#7201a8"
             ],
             [
              0.3333333333333333,
              "#9c179e"
             ],
             [
              0.4444444444444444,
              "#bd3786"
             ],
             [
              0.5555555555555556,
              "#d8576b"
             ],
             [
              0.6666666666666666,
              "#ed7953"
             ],
             [
              0.7777777777777778,
              "#fb9f3a"
             ],
             [
              0.8888888888888888,
              "#fdca26"
             ],
             [
              1,
              "#f0f921"
             ]
            ],
            "type": "heatmap"
           }
          ],
          "heatmapgl": [
           {
            "colorbar": {
             "outlinewidth": 0,
             "ticks": ""
            },
            "colorscale": [
             [
              0,
              "#0d0887"
             ],
             [
              0.1111111111111111,
              "#46039f"
             ],
             [
              0.2222222222222222,
              "#7201a8"
             ],
             [
              0.3333333333333333,
              "#9c179e"
             ],
             [
              0.4444444444444444,
              "#bd3786"
             ],
             [
              0.5555555555555556,
              "#d8576b"
             ],
             [
              0.6666666666666666,
              "#ed7953"
             ],
             [
              0.7777777777777778,
              "#fb9f3a"
             ],
             [
              0.8888888888888888,
              "#fdca26"
             ],
             [
              1,
              "#f0f921"
             ]
            ],
            "type": "heatmapgl"
           }
          ],
          "histogram": [
           {
            "marker": {
             "pattern": {
              "fillmode": "overlay",
              "size": 10,
              "solidity": 0.2
             }
            },
            "type": "histogram"
           }
          ],
          "histogram2d": [
           {
            "colorbar": {
             "outlinewidth": 0,
             "ticks": ""
            },
            "colorscale": [
             [
              0,
              "#0d0887"
             ],
             [
              0.1111111111111111,
              "#46039f"
             ],
             [
              0.2222222222222222,
              "#7201a8"
             ],
             [
              0.3333333333333333,
              "#9c179e"
             ],
             [
              0.4444444444444444,
              "#bd3786"
             ],
             [
              0.5555555555555556,
              "#d8576b"
             ],
             [
              0.6666666666666666,
              "#ed7953"
             ],
             [
              0.7777777777777778,
              "#fb9f3a"
             ],
             [
              0.8888888888888888,
              "#fdca26"
             ],
             [
              1,
              "#f0f921"
             ]
            ],
            "type": "histogram2d"
           }
          ],
          "histogram2dcontour": [
           {
            "colorbar": {
             "outlinewidth": 0,
             "ticks": ""
            },
            "colorscale": [
             [
              0,
              "#0d0887"
             ],
             [
              0.1111111111111111,
              "#46039f"
             ],
             [
              0.2222222222222222,
              "#7201a8"
             ],
             [
              0.3333333333333333,
              "#9c179e"
             ],
             [
              0.4444444444444444,
              "#bd3786"
             ],
             [
              0.5555555555555556,
              "#d8576b"
             ],
             [
              0.6666666666666666,
              "#ed7953"
             ],
             [
              0.7777777777777778,
              "#fb9f3a"
             ],
             [
              0.8888888888888888,
              "#fdca26"
             ],
             [
              1,
              "#f0f921"
             ]
            ],
            "type": "histogram2dcontour"
           }
          ],
          "mesh3d": [
           {
            "colorbar": {
             "outlinewidth": 0,
             "ticks": ""
            },
            "type": "mesh3d"
           }
          ],
          "parcoords": [
           {
            "line": {
             "colorbar": {
              "outlinewidth": 0,
              "ticks": ""
             }
            },
            "type": "parcoords"
           }
          ],
          "pie": [
           {
            "automargin": true,
            "type": "pie"
           }
          ],
          "scatter": [
           {
            "fillpattern": {
             "fillmode": "overlay",
             "size": 10,
             "solidity": 0.2
            },
            "type": "scatter"
           }
          ],
          "scatter3d": [
           {
            "line": {
             "colorbar": {
              "outlinewidth": 0,
              "ticks": ""
             }
            },
            "marker": {
             "colorbar": {
              "outlinewidth": 0,
              "ticks": ""
             }
            },
            "type": "scatter3d"
           }
          ],
          "scattercarpet": [
           {
            "marker": {
             "colorbar": {
              "outlinewidth": 0,
              "ticks": ""
             }
            },
            "type": "scattercarpet"
           }
          ],
          "scattergeo": [
           {
            "marker": {
             "colorbar": {
              "outlinewidth": 0,
              "ticks": ""
             }
            },
            "type": "scattergeo"
           }
          ],
          "scattergl": [
           {
            "marker": {
             "colorbar": {
              "outlinewidth": 0,
              "ticks": ""
             }
            },
            "type": "scattergl"
           }
          ],
          "scattermapbox": [
           {
            "marker": {
             "colorbar": {
              "outlinewidth": 0,
              "ticks": ""
             }
            },
            "type": "scattermapbox"
           }
          ],
          "scatterpolar": [
           {
            "marker": {
             "colorbar": {
              "outlinewidth": 0,
              "ticks": ""
             }
            },
            "type": "scatterpolar"
           }
          ],
          "scatterpolargl": [
           {
            "marker": {
             "colorbar": {
              "outlinewidth": 0,
              "ticks": ""
             }
            },
            "type": "scatterpolargl"
           }
          ],
          "scatterternary": [
           {
            "marker": {
             "colorbar": {
              "outlinewidth": 0,
              "ticks": ""
             }
            },
            "type": "scatterternary"
           }
          ],
          "surface": [
           {
            "colorbar": {
             "outlinewidth": 0,
             "ticks": ""
            },
            "colorscale": [
             [
              0,
              "#0d0887"
             ],
             [
              0.1111111111111111,
              "#46039f"
             ],
             [
              0.2222222222222222,
              "#7201a8"
             ],
             [
              0.3333333333333333,
              "#9c179e"
             ],
             [
              0.4444444444444444,
              "#bd3786"
             ],
             [
              0.5555555555555556,
              "#d8576b"
             ],
             [
              0.6666666666666666,
              "#ed7953"
             ],
             [
              0.7777777777777778,
              "#fb9f3a"
             ],
             [
              0.8888888888888888,
              "#fdca26"
             ],
             [
              1,
              "#f0f921"
             ]
            ],
            "type": "surface"
           }
          ],
          "table": [
           {
            "cells": {
             "fill": {
              "color": "#EBF0F8"
             },
             "line": {
              "color": "white"
             }
            },
            "header": {
             "fill": {
              "color": "#C8D4E3"
             },
             "line": {
              "color": "white"
             }
            },
            "type": "table"
           }
          ]
         },
         "layout": {
          "annotationdefaults": {
           "arrowcolor": "#2a3f5f",
           "arrowhead": 0,
           "arrowwidth": 1
          },
          "autotypenumbers": "strict",
          "coloraxis": {
           "colorbar": {
            "outlinewidth": 0,
            "ticks": ""
           }
          },
          "colorscale": {
           "diverging": [
            [
             0,
             "#8e0152"
            ],
            [
             0.1,
             "#c51b7d"
            ],
            [
             0.2,
             "#de77ae"
            ],
            [
             0.3,
             "#f1b6da"
            ],
            [
             0.4,
             "#fde0ef"
            ],
            [
             0.5,
             "#f7f7f7"
            ],
            [
             0.6,
             "#e6f5d0"
            ],
            [
             0.7,
             "#b8e186"
            ],
            [
             0.8,
             "#7fbc41"
            ],
            [
             0.9,
             "#4d9221"
            ],
            [
             1,
             "#276419"
            ]
           ],
           "sequential": [
            [
             0,
             "#0d0887"
            ],
            [
             0.1111111111111111,
             "#46039f"
            ],
            [
             0.2222222222222222,
             "#7201a8"
            ],
            [
             0.3333333333333333,
             "#9c179e"
            ],
            [
             0.4444444444444444,
             "#bd3786"
            ],
            [
             0.5555555555555556,
             "#d8576b"
            ],
            [
             0.6666666666666666,
             "#ed7953"
            ],
            [
             0.7777777777777778,
             "#fb9f3a"
            ],
            [
             0.8888888888888888,
             "#fdca26"
            ],
            [
             1,
             "#f0f921"
            ]
           ],
           "sequentialminus": [
            [
             0,
             "#0d0887"
            ],
            [
             0.1111111111111111,
             "#46039f"
            ],
            [
             0.2222222222222222,
             "#7201a8"
            ],
            [
             0.3333333333333333,
             "#9c179e"
            ],
            [
             0.4444444444444444,
             "#bd3786"
            ],
            [
             0.5555555555555556,
             "#d8576b"
            ],
            [
             0.6666666666666666,
             "#ed7953"
            ],
            [
             0.7777777777777778,
             "#fb9f3a"
            ],
            [
             0.8888888888888888,
             "#fdca26"
            ],
            [
             1,
             "#f0f921"
            ]
           ]
          },
          "colorway": [
           "#636efa",
           "#EF553B",
           "#00cc96",
           "#ab63fa",
           "#FFA15A",
           "#19d3f3",
           "#FF6692",
           "#B6E880",
           "#FF97FF",
           "#FECB52"
          ],
          "font": {
           "color": "#2a3f5f"
          },
          "geo": {
           "bgcolor": "white",
           "lakecolor": "white",
           "landcolor": "#E5ECF6",
           "showlakes": true,
           "showland": true,
           "subunitcolor": "white"
          },
          "hoverlabel": {
           "align": "left"
          },
          "hovermode": "closest",
          "mapbox": {
           "style": "light"
          },
          "paper_bgcolor": "white",
          "plot_bgcolor": "#E5ECF6",
          "polar": {
           "angularaxis": {
            "gridcolor": "white",
            "linecolor": "white",
            "ticks": ""
           },
           "bgcolor": "#E5ECF6",
           "radialaxis": {
            "gridcolor": "white",
            "linecolor": "white",
            "ticks": ""
           }
          },
          "scene": {
           "xaxis": {
            "backgroundcolor": "#E5ECF6",
            "gridcolor": "white",
            "gridwidth": 2,
            "linecolor": "white",
            "showbackground": true,
            "ticks": "",
            "zerolinecolor": "white"
           },
           "yaxis": {
            "backgroundcolor": "#E5ECF6",
            "gridcolor": "white",
            "gridwidth": 2,
            "linecolor": "white",
            "showbackground": true,
            "ticks": "",
            "zerolinecolor": "white"
           },
           "zaxis": {
            "backgroundcolor": "#E5ECF6",
            "gridcolor": "white",
            "gridwidth": 2,
            "linecolor": "white",
            "showbackground": true,
            "ticks": "",
            "zerolinecolor": "white"
           }
          },
          "shapedefaults": {
           "line": {
            "color": "#2a3f5f"
           }
          },
          "ternary": {
           "aaxis": {
            "gridcolor": "white",
            "linecolor": "white",
            "ticks": ""
           },
           "baxis": {
            "gridcolor": "white",
            "linecolor": "white",
            "ticks": ""
           },
           "bgcolor": "#E5ECF6",
           "caxis": {
            "gridcolor": "white",
            "linecolor": "white",
            "ticks": ""
           }
          },
          "title": {
           "x": 0.05
          },
          "xaxis": {
           "automargin": true,
           "gridcolor": "white",
           "linecolor": "white",
           "ticks": "",
           "title": {
            "standoff": 15
           },
           "zerolinecolor": "white",
           "zerolinewidth": 2
          },
          "yaxis": {
           "automargin": true,
           "gridcolor": "white",
           "linecolor": "white",
           "ticks": "",
           "title": {
            "standoff": 15
           },
           "zerolinecolor": "white",
           "zerolinewidth": 2
          }
         }
        },
        "title": {
         "text": "Real vs. Synthetic Data for column amenities_fee"
        },
        "xaxis": {
         "anchor": "y2",
         "domain": [
          0,
          1
         ],
         "title": {
          "text": "Value"
         },
         "zeroline": false
        },
        "yaxis": {
         "anchor": "free",
         "domain": [
          0,
          1
         ],
         "position": 0,
         "title": {
          "text": "Frequency"
         }
        }
       }
      },
      "text/html": [
       "<div>                            <div id=\"b04823a2-e4d7-4ad3-9b41-c0e63784a921\" class=\"plotly-graph-div\" style=\"height:525px; width:100%;\"></div>            <script type=\"text/javascript\">                require([\"plotly\"], function(Plotly) {                    window.PLOTLYENV=window.PLOTLYENV || {};                                    if (document.getElementById(\"b04823a2-e4d7-4ad3-9b41-c0e63784a921\")) {                    Plotly.newPlot(                        \"b04823a2-e4d7-4ad3-9b41-c0e63784a921\",                        [{\"legendgroup\":\"Real\",\"marker\":{\"color\":\"#000036\"},\"mode\":\"lines\",\"name\":\"Real\",\"showlegend\":true,\"x\":[0.0,0.09623999999999999,0.19247999999999998,0.28872,0.38495999999999997,0.48119999999999996,0.57744,0.67368,0.7699199999999999,0.8661599999999999,0.9623999999999999,1.0586399999999998,1.15488,1.2511199999999998,1.34736,1.4436,1.5398399999999999,1.63608,1.7323199999999999,1.82856,1.9247999999999998,2.02104,2.1172799999999996,2.21352,2.30976,2.406,2.5022399999999996,2.59848,2.69472,2.79096,2.8872,2.98344,3.0796799999999998,3.1759199999999996,3.27216,3.3684,3.4646399999999997,3.5608799999999996,3.65712,3.75336,3.8495999999999997,3.9458399999999996,4.04208,4.138319999999999,4.234559999999999,4.3308,4.42704,4.52328,4.61952,4.7157599999999995,4.812,4.90824,5.004479999999999,5.100719999999999,5.19696,5.2932,5.38944,5.4856799999999994,5.58192,5.67816,5.7744,5.87064,5.96688,6.06312,6.1593599999999995,6.255599999999999,6.351839999999999,6.44808,6.54432,6.64056,6.7368,6.83304,6.929279999999999,7.025519999999999,7.121759999999999,7.218,7.31424,7.41048,7.50672,7.60296,7.699199999999999,7.795439999999999,7.891679999999999,7.987919999999999,8.08416,8.180399999999999,8.276639999999999,8.372879999999999,8.469119999999998,8.565359999999998,8.6616,8.75784,8.85408,8.95032,9.04656,9.1428,9.23904,9.33528,9.431519999999999,9.52776,9.624,9.72024,9.81648,9.91272,10.008959999999998,10.105199999999998,10.201439999999998,10.29768,10.39392,10.49016,10.5864,10.68264,10.77888,10.875119999999999,10.971359999999999,11.067599999999999,11.16384,11.26008,11.35632,11.45256,11.5488,11.64504,11.74128,11.837519999999998,11.93376,12.03,12.12624,12.22248,12.318719999999999,12.414959999999999,12.511199999999999,12.607439999999999,12.703679999999999,12.79992,12.89616,12.9924,13.08864,13.18488,13.28112,13.37736,13.4736,13.569840000000001,13.66608,13.762319999999999,13.858559999999999,13.954799999999999,14.051039999999999,14.147279999999999,14.243519999999998,14.339759999999998,14.436,14.53224,14.62848,14.72472,14.82096,14.9172,15.01344,15.109679999999999,15.20592,15.30216,15.398399999999999,15.494639999999999,15.590879999999999,15.687119999999998,15.783359999999998,15.879599999999998,15.975839999999998,16.07208,16.16832,16.26456,16.360799999999998,16.45704,16.553279999999997,16.64952,16.745759999999997,16.842,16.938239999999997,17.03448,17.130719999999997,17.22696,17.3232,17.419439999999998,17.51568,17.611919999999998,17.70816,17.804399999999998,17.90064,17.996879999999997,18.09312,18.18936,18.2856,18.38184,18.47808,18.57432,18.67056,18.7668,18.863039999999998,18.95928,19.05552,19.15176,19.248,19.34424,19.44048,19.53672,19.63296,19.729200000000002,19.82544,19.921680000000002,20.017919999999997,20.11416,20.210399999999996,20.306639999999998,20.402879999999996,20.499119999999998,20.59536,20.691599999999998,20.78784,20.884079999999997,20.98032,21.076559999999997,21.1728,21.269039999999997,21.36528,21.46152,21.55776,21.654,21.750239999999998,21.84648,21.942719999999998,22.03896,22.135199999999998,22.23144,22.32768,22.42392,22.52016,22.6164,22.71264,22.80888,22.90512,23.001360000000002,23.0976,23.19384,23.29008,23.38632,23.48256,23.578799999999998,23.675039999999996,23.771279999999997,23.86752,23.963759999999997,24.06,24.156239999999997,24.25248,24.348719999999997,24.44496,24.541199999999996,24.637439999999998,24.73368,24.829919999999998,24.92616,25.022399999999998,25.11864,25.214879999999997,25.31112,25.407359999999997,25.5036,25.59984,25.69608,25.79232,25.88856,25.9848,26.081039999999998,26.17728,26.273519999999998,26.36976,26.466,26.56224,26.65848,26.75472,26.85096,26.9472,27.04344,27.139680000000002,27.235919999999997,27.33216,27.428399999999996,27.524639999999998,27.620879999999996,27.717119999999998,27.813359999999996,27.909599999999998,28.00584,28.102079999999997,28.19832,28.294559999999997,28.3908,28.487039999999997,28.58328,28.679519999999997,28.77576,28.872,28.968239999999998,29.06448,29.160719999999998,29.25696,29.353199999999998,29.44944,29.545679999999997,29.64192,29.73816,29.8344,29.93064,30.02688,30.12312,30.219359999999998,30.3156,30.41184,30.50808,30.60432,30.70056,30.796799999999998,30.893039999999996,30.989279999999997,31.085519999999995,31.181759999999997,31.278,31.374239999999997,31.47048,31.566719999999997,31.662959999999998,31.759199999999996,31.855439999999998,31.951679999999996,32.04792,32.14416,32.2404,32.33664,32.43288,32.52912,32.62535999999999,32.721599999999995,32.81784,32.91408,33.01032,33.106559999999995,33.202799999999996,33.29904,33.39528,33.491519999999994,33.587759999999996,33.684,33.78024,33.876479999999994,33.97272,34.06896,34.1652,34.26143999999999,34.35768,34.45392,34.55016,34.6464,34.74264,34.838879999999996,34.93512,35.03136,35.1276,35.223839999999996,35.320080000000004,35.41632,35.51256,35.608799999999995,35.705040000000004,35.80128,35.89752,35.993759999999995,36.09,36.18624,36.28247999999999,36.37872,36.474959999999996,36.5712,36.66743999999999,36.76368,36.859919999999995,36.95616,37.0524,37.14864,37.244879999999995,37.34112,37.43736,37.5336,37.629839999999994,37.726079999999996,37.82232,37.91856,38.014799999999994,38.11104,38.20728,38.30352,38.39975999999999,38.496,38.59224,38.68848,38.78472,38.88096,38.977199999999996,39.07344,39.16968,39.26592,39.362159999999996,39.458400000000005,39.55464,39.65088,39.747119999999995,39.843360000000004,39.9396,40.03583999999999,40.132079999999995,40.22832,40.32456,40.42079999999999,40.51704,40.613279999999996,40.70952,40.80575999999999,40.902,40.998239999999996,41.09448,41.19072,41.28696,41.383199999999995,41.47944,41.57568,41.67192,41.768159999999995,41.864399999999996,41.96064,42.05688,42.153119999999994,42.24936,42.3456,42.44184,42.538079999999994,42.63432,42.73056,42.8268,42.92304,43.01928,43.11552,43.21176,43.308,43.40424,43.500479999999996,43.59672,43.69296,43.789199999999994,43.885439999999996,43.98168,44.07792,44.17415999999999,44.270399999999995,44.36664,44.46288,44.55911999999999,44.65536,44.751599999999996,44.84784,44.94407999999999,45.04032,45.136559999999996,45.2328,45.32904,45.42528,45.521519999999995,45.61776,45.714,45.81024,45.906479999999995,46.002720000000004,46.09896,46.1952,46.291439999999994,46.38768,46.48392,46.58016,46.676399999999994,46.77264,46.86888,46.96512,47.06136,47.157599999999995,47.25384,47.35007999999999,47.44632,47.542559999999995,47.638799999999996,47.73504,47.83128,47.927519999999994,48.023759999999996],\"xaxis\":\"x\",\"y\":[0.01751157773273591,0.017604707809214807,0.017686940878632637,0.017758335777264003,0.01781898650545314,0.017869022004252135,0.01790860577819474,0.01793793536593227,0.017957241661334805,0.017966788088522048,0.01796686963511642,0.017957811748811302,0.017939969103106385,0.01791372423877729,0.017879486088314182,0.017837688391178445,0.017788788008281223,0.01773326314458758,0.01767161148917993,0.01760434828248519,0.017532004320669828,0.017455123907441288,0.017374262763658076,0.017289985905248162,0.017202865499964238,0.017113478713466954,0.017022405555125027,0.016930226733757103,0.016837521533316153,0.01674486571823651,0.016652829477829693,0.01656197541873223,0.016472856613980146,0.0163860147168162,0.016301978146828565,0.016221260355483987,0.016144358177552415,0.016071750274333954,0.016003895673993674,0.015941232413693406,0.015884176287583172,0.015833119704085633,0.01578843065527893,0.015750451800557688,0.015719499666138042,0.015695863961367254,0.01567980701221272,0.015671563311733763,0.015671339186793323,0.01567931257974184,0.015695632943307513,0.015720421246456364,0.015753770088545307,0.015795743918679432,0.015846379356805603,0.015905685612727004,0.015973644998907324,0.01605021353265047,0.016135321622989432,0.016228874837400115,0.016330754743264963,0.01644081981885591,0.016558906428474175,0.016684829856287234,0.016818385393326613,0.016959349472066343,0.017107480842976332,0.017262521787447735,0.017424199361509032,0.017592226664796,0.017766304129300966,0.01794612082250789,0.018131355759617447,0.018321679219680097,0.01851675406058175,0.018716237027968475,0.018919780053349676,0.01912703153678319,0.019337637609721056,0.01955124337377903,0.019767494111385557,0.01998603646446817,0.020206519577542152,0.02042859620178399,0.020651923756891205,0.020876165347759355,0.021100990733238754,0.021326077244470637,0.02155111065054269,0.021775785969451747,0.02199980822260557,0.02222289313135025,0.02244476775425915,0.022665171064177005,0.022883854464264504,0.0231005822425472,0.023315131964725063,0.02352729480525419,0.023736875816962273,0.023943694139709062,0.02414758314884712,0.024348390544478227,0.024545978382733567,0.024740223050536213,0.024931015185519035,0.025118259542985837,0.02530187481200135,0.025481793382886263,0.025657961068569074,0.025830336782412727,0.02599889217528214,0.0261636112347531,0.02632448984948403,0.02648153534187033,0.026634765972189584,0.026784210417506935,0.026929907228661294,0.027071904268679076,0.0272102581359704,0.027345033575652235,0.027476302882310823,0.027604145297466742,0.02772864640493299,0.027849897527170923,0.027967995125637773,0.028083040207996467,0.02819513774491469,0.028304396099023358,0.02841092646843003,0.028514842346997565,0.02861625900339906,0.02871529298075089,0.028812061618407797,0.028906682597278414,0.02899927350978775,0.02908995145538032,0.029178832662219007,0.029266032135500372,0.02935166333257279,0.029435837864811264,0.029518665225983554,0.02960025254662046,0.029680704373701367,0.02976012247476671,0.029838605665391333,0.029916249658780456,0.029993146936102135,0.03006938663603437,0.030145054461887755,0.030220232604571722,0.030294999679591882,0.030369430676212807,0.03044359691688699,0.030517566025034495,0.030591401899270287,0.03066516469220278,0.030738910791979653,0.0308126928048275,0.03088655953692221,0.030960555974036522,0.031034723257538182,0.031109098655453755,0.031183715527473378,0.03125860328293948,0.03133378733104738,0.031409289022676395,0.03148512558346931,0.03156131003798446,0.03163785112495207,0.031714753203877274,0.031792016153442,0.03186963526236314,0.03194760111356688,0.03202589946273432,0.03210451111245546,0.03218341178340648,0.032262571984123425,0.032341956881093314,0.03242152617101229,0.03250123395717284,0.03258102863203571,0.03266085276811191,0.03274064301933434,0.03282033003512437,0.03289983838936717,0.03297908652649016,0.033057986726801734,0.03313644509318022,0.03321436156111979,0.0332916299340295,0.03336813794555168,0.0334437673505137,0.033518394045956974,0.03359188822349711,0.03366411455406146,0.033734932405829914,0.03380419609596828,0.03387175517649633,0.033937454754376144,0.03400113584564235,0.03406263576312431,0.03412178853704211,0.03417842536747949,0.03423237510747008,0.03428346477516407,0.034331520093281304,0.03437636605380592,0.034417827505635316,0.03445572976266935,0.03448989922961111,0.03452016404255863,0.03454635472128401,0.034568304829947584,0.034585851642854375,0.03459883681175292,0.034607107031089275,0.03461051469756683,0.034608918560330104,0.03460218435807904,0.03459018543944179,0.034572803362975475,0.034549928473239774,0.03452146044948198,0.034487308823597906,0.03444739346417993,0.034401645023633326,0.03435000534553789,0.0342924278296437,0.03422887775212445,0.0341593325389628,0.03408378199060731,0.03400222845632157,0.03391468695693607,0.03382118525501442,0.03372176387175243,0.03361647605023932,0.03350538766502405,0.03338857707824557,0.03326613494289293,0.03313816395407024,0.03300477854944027,0.03286610456030948,0.032722278815097025,0.032573448697196576,0.032419771659488616,0.032261414697998404,0.03209855378740766,0.031931373281327585,0.031760065280416035,0.0315848289715762,0.03140586994160824,0.031223399468793177,0.0310376337959763,0.03084879338877927,0.030657102182611327,0.03046278682216352,0.03026607589706641,0.03006719917735906,0.029866386852370634,0.029663868776538295,0.029459873725600074,0.029254628666485077,0.029048358044098832,0.028841283088055652,0.02863362114225111,0.028425585019995172,0.02821738238724137,0.028009215176253918,0.027801279031848616,0.027593762792136472,0.02738684800547863,0.027180708485144558,0.02697550990294055,0.026771409422853307,0.02656855537552994,0.026367086974194424,0.0261671340723832,0.025968816963668578,0.025772246223330464,0.02557752259173517,0.025384736898987195,0.025193970030232285,0.025005292930814122,0.024818766650320536,0.024634442424396448,0.02445236179305577,0.024272556754088688,0.024095049950035634,0.02391985488708764,0.02374697618417015,0.023576409850377712,0.02340814358884842,0.023242157125099076,0.0230784225577857,0.02291690472980908,0.0227575616176492,0.02260034473678816,0.022445199561066817,0.02229206595381458,0.02214087860859672,0.021991567497436304,0.021844058324389508,0.021698272982383023,0.02155413001125986,0.021411545055024666,0.021270431316331877,0.02113070000631871,0.020992260787949964,0.02085502221111264,0.02071889213777541,0.02058377815560906,0.02044958797855219,0.02031622983289701,0.020183612827566526,0.020051647307354682,0.0199202451880031,0.019789320272097313,0.01965878854487295,0.019528568449136176,0.01939858113861648,0.019268750709187377,0.01913900440750637,0.019009272816747157,0.018879490019213446,0.018749593735744193,0.018619525441939313,0.018489230461351213,0.018358658035904307,0.01822776137391892,0.018096497676225964,0.017964828140968336,0.01783271794778774,0.01770013622219572,0.01756705598102312,0.017433454059929444,0.017299311024038495,0.017164611062841534,0.017029341870578748,0.016893494513371087,0.016757063284428452,0.01662004554870363,0.016482441578399187,0.016344254380759878,0.016205489519601813,0.016066154932037013,0.015926260741850475,0.015785819070976613,0.01564484385049991,0.015503350632575288,0.015361356404624415,0.01521887940711526,0.015075938956175266,0.014932555272224153,0.014788749315737896,0.014644542631177147,0.014499957200025093,0.014355015303788545,0.014209739397717637,0.014064151995898307,0.013918275568264998,0.013772132449974658,0.013625744763471165,0.013479134353459763,0.013332322734899212,0.01318533105400955,0.013038180062184547,0.01289089010259213,0.012743481109143215,0.012595972617411423,0.012448383786991566,0.012300733434698258,0.012153040077923095,0.01200532198739473,0.011857597248518282,0.011709883830411353,0.01156219966170156,0.011414562712108585,0.011266991078797988,0.011119503076469858,0.010972117330127528,0.010824852869464264,0.01067772922380652,0.010530766516561846,0.01038398555813695,0.010237407936317248,0.010091056103132611,0.009944953457274279,0.009799124421174832,0.009653594511916662,0.009508390405193136,0.009363539991609994,0.009219072424682988,0.009075018159959324,0.00893140898476506,0.008788278038157826,0.008645659820742954,0.008503590194090329,0.00836210636957032,0.008221246886505558,0.008081051579615786,0.0079415615358089,0.007802819040448465,0.007664867513299211,0.0075277514344237705,0.007391516260369624,0.0072562083310484015,0.007121874767768961,0.006988563362940177,0.006856322462009211,0.006725200838246792,0.006595247561031112,0.006466511858318039,0.006339042974014878,0.006212890021001554,0.006088101830562331,0.005964726799007688,0.005842812732275738,0.005722406689309095,0.005603554825004036,0.005486302233525589,0.005370692792775132,0.005256769010785121,0.005144571874801012,0.00503414070379047,0.004925513005099088,0.004818724335945117,0.004713808170418309,0.00461079577261642,0.004509716076520077,0.0044105955731703035,0.004313458205676371,0.0042183252725412285,0.0041252153397518705,0.004034144162038932,0.003945124613666932,0.0038581666290719205,0.003773277153618542,0.0036904601047023327,0.0036097163433774903,0.0035310436566435574,0.0034544367504783908,0.0033798872536579755,0.003307383732357909,0.003236911715485238,0.003168453730644293,0.003101989350595169,0.003037495250020238,0.0029749452723704735,0.002914310506522171,0.0028555593729336364,0.00279865771895243,0.0027435689228858923,0.002690254006411661,0.0026386717548705415,0.00258877884495186,0.002540529979250867,0.0024938780271498966,0.002448774171448974,0.0024051680601483074,0.0023630079627642727,0.0023222409305422983,0.002282812959914792,0.002244669158539648,0.002207753913245373,0.0021720110592023307,0.00213738404963612,0.002103816125398757,0.002071250483716206,0.0020396304454365966,0.002008899620112885,0.001979002068265596,0.0019498824601870172,0.0019214862306663656,0.0018937597290368713,0.0018666503639700282,0.0018401067424692029,0.0018140788025443795,0.0017885179390820368,0.0017633771224584613,0.0017386110094815,0.001714176046284115,0.0016900305628335171,0.0016661348587613065,0.0016424512802631775,0.0016189442878607498,0.001595580514863173,0.0015723288164113307,0.0015491603090334537,0.0015260484006865177,0.0015029688113033792,0.0014798995839106612,0.001456821086426531,0.0014337160042909034,0.0014105693241225031,0.001387368308637763,0.0013641024631053404,0.0013407634936468964,0.001317345257729552,0.0012938437072278189,0.0012702568244628177],\"yaxis\":\"y\",\"type\":\"scatter\",\"fill\":\"tozeroy\",\"hovertemplate\":\"\\u003cb\\u003eReal\\u003c\\u002fb\\u003e\\u003cbr\\u003eValue: %{x}\\u003cbr\\u003eFrequency: %{y}\\u003cextra\\u003e\\u003c\\u002fextra\\u003e\"},{\"legendgroup\":\"Synthetic\",\"marker\":{\"color\":\"#01E0C9\"},\"mode\":\"lines\",\"name\":\"Synthetic\",\"showlegend\":true,\"x\":[0.0,0.09623999999999999,0.19247999999999998,0.28872,0.38495999999999997,0.48119999999999996,0.57744,0.67368,0.7699199999999999,0.8661599999999999,0.9623999999999999,1.0586399999999998,1.15488,1.2511199999999998,1.34736,1.4436,1.5398399999999999,1.63608,1.7323199999999999,1.82856,1.9247999999999998,2.02104,2.1172799999999996,2.21352,2.30976,2.406,2.5022399999999996,2.59848,2.69472,2.79096,2.8872,2.98344,3.0796799999999998,3.1759199999999996,3.27216,3.3684,3.4646399999999997,3.5608799999999996,3.65712,3.75336,3.8495999999999997,3.9458399999999996,4.04208,4.138319999999999,4.234559999999999,4.3308,4.42704,4.52328,4.61952,4.7157599999999995,4.812,4.90824,5.004479999999999,5.100719999999999,5.19696,5.2932,5.38944,5.4856799999999994,5.58192,5.67816,5.7744,5.87064,5.96688,6.06312,6.1593599999999995,6.255599999999999,6.351839999999999,6.44808,6.54432,6.64056,6.7368,6.83304,6.929279999999999,7.025519999999999,7.121759999999999,7.218,7.31424,7.41048,7.50672,7.60296,7.699199999999999,7.795439999999999,7.891679999999999,7.987919999999999,8.08416,8.180399999999999,8.276639999999999,8.372879999999999,8.469119999999998,8.565359999999998,8.6616,8.75784,8.85408,8.95032,9.04656,9.1428,9.23904,9.33528,9.431519999999999,9.52776,9.624,9.72024,9.81648,9.91272,10.008959999999998,10.105199999999998,10.201439999999998,10.29768,10.39392,10.49016,10.5864,10.68264,10.77888,10.875119999999999,10.971359999999999,11.067599999999999,11.16384,11.26008,11.35632,11.45256,11.5488,11.64504,11.74128,11.837519999999998,11.93376,12.03,12.12624,12.22248,12.318719999999999,12.414959999999999,12.511199999999999,12.607439999999999,12.703679999999999,12.79992,12.89616,12.9924,13.08864,13.18488,13.28112,13.37736,13.4736,13.569840000000001,13.66608,13.762319999999999,13.858559999999999,13.954799999999999,14.051039999999999,14.147279999999999,14.243519999999998,14.339759999999998,14.436,14.53224,14.62848,14.72472,14.82096,14.9172,15.01344,15.109679999999999,15.20592,15.30216,15.398399999999999,15.494639999999999,15.590879999999999,15.687119999999998,15.783359999999998,15.879599999999998,15.975839999999998,16.07208,16.16832,16.26456,16.360799999999998,16.45704,16.553279999999997,16.64952,16.745759999999997,16.842,16.938239999999997,17.03448,17.130719999999997,17.22696,17.3232,17.419439999999998,17.51568,17.611919999999998,17.70816,17.804399999999998,17.90064,17.996879999999997,18.09312,18.18936,18.2856,18.38184,18.47808,18.57432,18.67056,18.7668,18.863039999999998,18.95928,19.05552,19.15176,19.248,19.34424,19.44048,19.53672,19.63296,19.729200000000002,19.82544,19.921680000000002,20.017919999999997,20.11416,20.210399999999996,20.306639999999998,20.402879999999996,20.499119999999998,20.59536,20.691599999999998,20.78784,20.884079999999997,20.98032,21.076559999999997,21.1728,21.269039999999997,21.36528,21.46152,21.55776,21.654,21.750239999999998,21.84648,21.942719999999998,22.03896,22.135199999999998,22.23144,22.32768,22.42392,22.52016,22.6164,22.71264,22.80888,22.90512,23.001360000000002,23.0976,23.19384,23.29008,23.38632,23.48256,23.578799999999998,23.675039999999996,23.771279999999997,23.86752,23.963759999999997,24.06,24.156239999999997,24.25248,24.348719999999997,24.44496,24.541199999999996,24.637439999999998,24.73368,24.829919999999998,24.92616,25.022399999999998,25.11864,25.214879999999997,25.31112,25.407359999999997,25.5036,25.59984,25.69608,25.79232,25.88856,25.9848,26.081039999999998,26.17728,26.273519999999998,26.36976,26.466,26.56224,26.65848,26.75472,26.85096,26.9472,27.04344,27.139680000000002,27.235919999999997,27.33216,27.428399999999996,27.524639999999998,27.620879999999996,27.717119999999998,27.813359999999996,27.909599999999998,28.00584,28.102079999999997,28.19832,28.294559999999997,28.3908,28.487039999999997,28.58328,28.679519999999997,28.77576,28.872,28.968239999999998,29.06448,29.160719999999998,29.25696,29.353199999999998,29.44944,29.545679999999997,29.64192,29.73816,29.8344,29.93064,30.02688,30.12312,30.219359999999998,30.3156,30.41184,30.50808,30.60432,30.70056,30.796799999999998,30.893039999999996,30.989279999999997,31.085519999999995,31.181759999999997,31.278,31.374239999999997,31.47048,31.566719999999997,31.662959999999998,31.759199999999996,31.855439999999998,31.951679999999996,32.04792,32.14416,32.2404,32.33664,32.43288,32.52912,32.62535999999999,32.721599999999995,32.81784,32.91408,33.01032,33.106559999999995,33.202799999999996,33.29904,33.39528,33.491519999999994,33.587759999999996,33.684,33.78024,33.876479999999994,33.97272,34.06896,34.1652,34.26143999999999,34.35768,34.45392,34.55016,34.6464,34.74264,34.838879999999996,34.93512,35.03136,35.1276,35.223839999999996,35.320080000000004,35.41632,35.51256,35.608799999999995,35.705040000000004,35.80128,35.89752,35.993759999999995,36.09,36.18624,36.28247999999999,36.37872,36.474959999999996,36.5712,36.66743999999999,36.76368,36.859919999999995,36.95616,37.0524,37.14864,37.244879999999995,37.34112,37.43736,37.5336,37.629839999999994,37.726079999999996,37.82232,37.91856,38.014799999999994,38.11104,38.20728,38.30352,38.39975999999999,38.496,38.59224,38.68848,38.78472,38.88096,38.977199999999996,39.07344,39.16968,39.26592,39.362159999999996,39.458400000000005,39.55464,39.65088,39.747119999999995,39.843360000000004,39.9396,40.03583999999999,40.132079999999995,40.22832,40.32456,40.42079999999999,40.51704,40.613279999999996,40.70952,40.80575999999999,40.902,40.998239999999996,41.09448,41.19072,41.28696,41.383199999999995,41.47944,41.57568,41.67192,41.768159999999995,41.864399999999996,41.96064,42.05688,42.153119999999994,42.24936,42.3456,42.44184,42.538079999999994,42.63432,42.73056,42.8268,42.92304,43.01928,43.11552,43.21176,43.308,43.40424,43.500479999999996,43.59672,43.69296,43.789199999999994,43.885439999999996,43.98168,44.07792,44.17415999999999,44.270399999999995,44.36664,44.46288,44.55911999999999,44.65536,44.751599999999996,44.84784,44.94407999999999,45.04032,45.136559999999996,45.2328,45.32904,45.42528,45.521519999999995,45.61776,45.714,45.81024,45.906479999999995,46.002720000000004,46.09896,46.1952,46.291439999999994,46.38768,46.48392,46.58016,46.676399999999994,46.77264,46.86888,46.96512,47.06136,47.157599999999995,47.25384,47.35007999999999,47.44632,47.542559999999995,47.638799999999996,47.73504,47.83128,47.927519999999994,48.023759999999996],\"xaxis\":\"x\",\"y\":[0.012872599155426155,0.013068497482962458,0.013259656744584512,0.013445996813609177,0.013627457038250844,0.01380399609359471,0.013975591712889961,0.014142240301345196,0.014303956436609864,0.014460772261087218,0.01461273677213433,0.014759915017054585,0.014902387200569795,0.01504024771316269,0.015173604089301398,0.015302575905088121,0.015427293625308747,0.015547897410198087,0.015664535892468752,0.015777364935283835,0.015886546381880393,0.015992246807474676,0.01609463628390262,0.01619388716717237,0.016290172917734935,0.016383666962818285,0.016474541609625373,0.016562967017575207,0.016649110237074858,0.016733134321557607,0.016815197518717576,0.016895452546022354,0.0169740459547028,0.017051117585513136,0.017126800118632213,0.017201218719153002,0.01727449077868557,0.017346725752694282,0.017418025092306895,0.01748848226848346,0.01755818288562403,0.01762720488093124,0.017695618805136766,0.017763488179553914,0.01783086992383656,0.017897814848313202,0.017964368204326276,0.018030570285644372,0.018096457073729758,0.018162060919434397,0.018227411253570736,0.01829253531874708,0.018357458914881167,0.01842220715089722,0.01848680519527417,0.0185512790183387,0.01861565611948181,0.018679966232817834,0.01874424200519328,0.01880851964088294,0.018872839507779064,0.018937246700374298,0.019001791555359995,0.01906653011619629,0.01913152454355572,0.01919684346909162,0.019262562290525868,0.019328763406589514,0.019395536390869845,0.01946297810412032,0.019531192745067837,0.019600291840201494,0.01967039417344402,0.01974162565699073,0.0198141191449465,0.019888014191697466,0.019963456757223264,0.020040598861781108,0.020119598192581824,0.02020061766522612,0.020283824942780297,0.02036939191544697,0.020457494143827824,0.020548310268789748,0.02064202139092894,0.02073881042259213,0.020838861415355635,0.02094235886578987,0.021049487002254695,0.021160429055376604,0.021275366514767073,0.021394478374444276,0.021517940369332487,0.021645924205130493,0.021778596783768884,0.021916119426619043,0.02205864709757432,0.022206327628100736,0.022359300946348373,0.022517698312431323,0.02268164156201731,0.022851242360424507,0.023026601469494545,0.023207808029604066,0.023394938859280557,0.023588057775009,0.023787214933943097,0.023992446202370423,0.02420377255291761,0.02442119949361791,0.024644716532093228,0.024874296678221646,0.02510989598876654,0.025351453157528646,0.025598889154642066,0.02585210691866875,0.026110991105146388,0.02637540789520596,0.02664520486780352,0.026920210938987756,0.027200236371465358,0.027485072857514267,0.027774493678037776,0.028068253940247853,0.028366090896109787,0.028667724343283615,0.02897285710984809,0.029281175623609376,0.02959235056626575,0.029906037612139474,0.03022187825059405,0.030539500690635036,0.030858520845557295,0.031178543394848893,0.0314991629199061,0.031819965109456866,0.03214052802994236,0.03246042345547429,0.032779218251375704,0.03309647580473529,0.0334117574948654,0.03372462419605852,0.03403463780459554,0.034341362781572946,0.034644367702798856,0.03494322680675405,0.03523752153143996,0.03552684203083396,0.035810788661654186,0.03608897343119858,0.03636102139716799,0.036626572010612916,0.03688528039345482,0.03713681854242196,0.037380876451712286,0.03761716314723355,0.03784540762588668,0.038065359694027814,0.03827679069998103,0.03847949415625172,0.038673286247915835,0.03885800622451852,0.039033516673700565,0.039199703675668655,0.039356476838538705,0.039503769215483514,0.03964153710551494,0.03976975974060593,0.03988843886270454,0.03999759819500287,0.040097282812587065,0.040187558418306485,0.04026851053035135,0.040340243588613926,0.04040287998741962,0.04045655904265523,0.04050143590167477,0.04053768040464097,0.04056547590614973,0.04058501806608774,0.04059651361869593,0.04060017912874366,0.04059623974357415,0.04058492794955298,0.04056648234115334,0.04054114641053545,0.040509167365044334,0.04047079497954844,0.040426280489995414,0.04037587553396341,0.04031983114335181,0.040258396793692273,0.040191819513871706,0.0401203430593575,0.0400442071513071,0.039963646783235655,0.03987889159621951,0.039790165322930046,0.03969768530013647,0.03960166204868807,0.03950229891939765,0.039399791802697655,0.03929432889944188,0.03918609054977367,0.03907524911658785,0.03896196891977659,0.03884640621717014,0.03872870922786828,0.038609018193500114,0.03848746547285701,0.038364175665307,0.03823926575842241,0.038112845295329524,0.037985016557422716,0.03785587475826355,0.037725508244709695,0.037593998701587444,0.037461421356517616,0.03732784518184026,0.03719333309093678,0.03705794212662543,0.0369217236396944,0.03678472345603503,0.03664698203123817,0.03650853459191289,0.03636941126337784,0.03622963718375269,0.03608923260483491,0.0359482129804871,0.03580658904357228,0.035664366872758334,0.035521547950765425,0.03537812921584971,0.03523410310849958,0.035089457615466085,0.03494417631335904,0.03479823841410841,0.03465161881462699,0.034504288153000634,0.03435621287349675,0.03420735530260291,0.03405767373820348,0.03390712255386083,0.03375565232000664,0.03360320994365537,0.03344973882804298,0.03329517905336334,0.03313946757952903,0.03298253847162748,0.032824323148478336,0.03266475065442633,0.032503747954234365,0.03234124025066988,0.03217715132411135,0.03201140389324473,0.03184391999566977,0.03167462138700058,0.03150342995682326,0.03133026815966703,0.031155059458959234,0.030977728781765426,0.030798202981967494,0.03061641130940781,0.03043228588241916,0.030245762161079277,0.030056779418465154,0.029865281207143102,0.029671215818110944,0.029474536729409993,0.02927520304164587,0.02907317989769759,0.028868438883951773,0.028660958410474318,0.028450724067622883,0.02823772895670836,0.028021973992433457,0.027803468174966973,0.02758222882965689,0.027358281812536696,0.02713166167994336,0.026902411820735068,0.026670584549776603,0.02643624116154297,0.02619945194288549,0.025960296144198272,0.025718861908425067,0.025475246157550546,0.02522955443642903,0.02498190071401273,0.024732407142257884,0.02448120377319967,0.02422842823490498,0.02397422536722881,0.023718746818517347,0.023462150604617746,0.023204600631769667,0.022946266185166986,0.022687321385187174,0.022427944613492935,0.022168317911409097,0.021908626353173137,0.021649057396841732,0.02138980021581418,0.021131045014096586,0.020872982328586573,0.020615802321795083,0.02035969406854783,0.020104844840313236,0.01985143939089375,0.019599659247282915,0.019349682009537753,0.01910168066353722,0.018855822910496697,0.0186122705170801,0.01837117868989762,0.018132695478095578,0.01789696120763685,0.01766410795073192,0.01743425903371764,0.01720752858648732,0.016984021136356362,0.016763831249002804,0.01654704321885147,0.01633373081097601,0.016123957056278535,0.01591777410137124,0.015715223114232176,0.015516334246341423,0.01532112665162493,0.015129608562147344,0.01494177742010267,0.014757620065258234,0.014577112976614723,0.014400222566658306,0.014226905526202609,0.014057109217452655,0.0138907721125727,0.013727824274709716,0.013568187878116447,0.013411777763735982,0.013258502026356148,0.013108262629220954,0.012960956041796808,0.01281647389623939,0.012674703657991754,0.01253552930586698,0.012398832016932034,0.01226449085151203,0.012132383433676895,0.012002386622654938,0.011874377170739515,0.01174823236341372,0.011623830637613315,0.011501052174277866,0.01137977946160122,0.01125989782568194,0.011141295925592425,0.011023866210223577,0.010907505334621433,0.010792114533906631,0.010677599953254813,0.010563872932809953,0.010450850246802522,0.010338454296542319,0.010226613257351864,0.010115261179892893,0.0100043380467149,0.009893789785215336,0.009783568238543303,0.00967363109629977,0.009563941787183382,0.009454469336000406,0.009345188187697176,0.009236078001282934,0.009127123416686275,0.009018313797731962,0.00890964295453193,0.008801108848657802,0.008692713284500246,0.008584461590224546,0.00847636229170084,0.008368426782726281,0.008260668994761309,0.008153105069280383,0.008045753035686309,0.007938632497562518,0.007831764329839843,0.007725170389236241,0.0076188732400943125,0.007512895897492311,0.007407261589245096,0.00730199353814483,0.007197114765518546,0.007092647916906841,0.0069886151103950266,0.0068850378078603855,0.006781936709137688,0.006679331668853731,0.006577241635441417,0.006475684611618903,0.0063746776354092856,0.0062742367805849256,0.006174377175247925,0.006075113037106886,0.005976457723879179,0.005878423797140224,0.005781023097855645,0.005684266831769297,0.005588165662779806,0.005492729812420674,0.005397969163562281,0.005303893366479134,0.005210511945469712,0.005117834404279695,0.005025870328659524,0.004934629484483496,0.004844121909967807,0.0047543580006481345,0.004665348585910242,0.0045771049960101305,0.004489639118668899,0.004402963444482497,0.004317091100543906,0.004232035871834413,0.00414781221009981,0.0040644352300836725,0.003981920693143592,0.0039002849784237808,0.003819545041899803,0.003739718363744043,0.0036608228845864373,0.003582876931359242,0.003505899133519454,0.0034299083305349884,0.0033549234716017595,0.003280963508627135,0.003208047283571213,0.003136193411280009,0.003065420158975189,0.002995745323582369,0.0029271861080853324,0.002859758998086588,0.002793479639736778,0.002728362720165884,0.0026644218515102813,0.0026016694595803413,0.0025401166781562354,0.0024797732498338556,0.00242064743427071,0.002362745924603285,0.0023060737727242002,0.002250634324019877,0.002196429162079141,0.002143458063790388,0.0020917189651510227,0.0020412079380185658,0.0019919191779390268,0.0019438450030957765,0.0018969758643316184,0.0018513003661093904,0.0018068052981922782,0.001763475677745154,0.001721294801482805,0.0016802443074208286,0.001640304245720172,0.0016014531580575146,0.0015636681649008623,0.0015269250600235605,0.0014911984115497606,0.001456461668791397,0.0014226872741097284,0.0013898467790146377,0.0013579109637011084,0.0013268499592150697,0.0012966333714397827,0.0012672304060988404,0.001238609993982428,0.0012107409156196323,0.0011835919246407747,0.0011571318690996703,0.0011313298100561232,0.0011061551367534963,0.001081577677764131,0.001057567807516948,0.0010340965476655767,0.0010111356628022164,0.0009886577500709897,0.0009666363222850061,0.0009450458842028691,0.0009238620016728614,0.0009030613634059682,0.0008826218351918674,0.0008625225064248572,0.0008427437288588919,0.0008232671475620996,0.0008040757240913002,0.0007851537519555725,0.0007664868644846427,0.0007480620352626775,0.0007298675713304886],\"yaxis\":\"y\",\"type\":\"scatter\",\"fill\":\"tozeroy\",\"hovertemplate\":\"\\u003cb\\u003eSynthetic\\u003c\\u002fb\\u003e\\u003cbr\\u003eValue: %{x}\\u003cbr\\u003eFrequency: %{y}\\u003cextra\\u003e\\u003c\\u002fextra\\u003e\"}],                        {\"barmode\":\"overlay\",\"hovermode\":\"closest\",\"legend\":{\"traceorder\":\"reversed\"},\"xaxis\":{\"anchor\":\"y2\",\"domain\":[0.0,1.0],\"zeroline\":false,\"title\":{\"text\":\"Value\"}},\"yaxis\":{\"anchor\":\"free\",\"domain\":[0.0,1],\"position\":0.0,\"title\":{\"text\":\"Frequency\"}},\"template\":{\"data\":{\"histogram2dcontour\":[{\"type\":\"histogram2dcontour\",\"colorbar\":{\"outlinewidth\":0,\"ticks\":\"\"},\"colorscale\":[[0.0,\"#0d0887\"],[0.1111111111111111,\"#46039f\"],[0.2222222222222222,\"#7201a8\"],[0.3333333333333333,\"#9c179e\"],[0.4444444444444444,\"#bd3786\"],[0.5555555555555556,\"#d8576b\"],[0.6666666666666666,\"#ed7953\"],[0.7777777777777778,\"#fb9f3a\"],[0.8888888888888888,\"#fdca26\"],[1.0,\"#f0f921\"]]}],\"choropleth\":[{\"type\":\"choropleth\",\"colorbar\":{\"outlinewidth\":0,\"ticks\":\"\"}}],\"histogram2d\":[{\"type\":\"histogram2d\",\"colorbar\":{\"outlinewidth\":0,\"ticks\":\"\"},\"colorscale\":[[0.0,\"#0d0887\"],[0.1111111111111111,\"#46039f\"],[0.2222222222222222,\"#7201a8\"],[0.3333333333333333,\"#9c179e\"],[0.4444444444444444,\"#bd3786\"],[0.5555555555555556,\"#d8576b\"],[0.6666666666666666,\"#ed7953\"],[0.7777777777777778,\"#fb9f3a\"],[0.8888888888888888,\"#fdca26\"],[1.0,\"#f0f921\"]]}],\"heatmap\":[{\"type\":\"heatmap\",\"colorbar\":{\"outlinewidth\":0,\"ticks\":\"\"},\"colorscale\":[[0.0,\"#0d0887\"],[0.1111111111111111,\"#46039f\"],[0.2222222222222222,\"#7201a8\"],[0.3333333333333333,\"#9c179e\"],[0.4444444444444444,\"#bd3786\"],[0.5555555555555556,\"#d8576b\"],[0.6666666666666666,\"#ed7953\"],[0.7777777777777778,\"#fb9f3a\"],[0.8888888888888888,\"#fdca26\"],[1.0,\"#f0f921\"]]}],\"heatmapgl\":[{\"type\":\"heatmapgl\",\"colorbar\":{\"outlinewidth\":0,\"ticks\":\"\"},\"colorscale\":[[0.0,\"#0d0887\"],[0.1111111111111111,\"#46039f\"],[0.2222222222222222,\"#7201a8\"],[0.3333333333333333,\"#9c179e\"],[0.4444444444444444,\"#bd3786\"],[0.5555555555555556,\"#d8576b\"],[0.6666666666666666,\"#ed7953\"],[0.7777777777777778,\"#fb9f3a\"],[0.8888888888888888,\"#fdca26\"],[1.0,\"#f0f921\"]]}],\"contourcarpet\":[{\"type\":\"contourcarpet\",\"colorbar\":{\"outlinewidth\":0,\"ticks\":\"\"}}],\"contour\":[{\"type\":\"contour\",\"colorbar\":{\"outlinewidth\":0,\"ticks\":\"\"},\"colorscale\":[[0.0,\"#0d0887\"],[0.1111111111111111,\"#46039f\"],[0.2222222222222222,\"#7201a8\"],[0.3333333333333333,\"#9c179e\"],[0.4444444444444444,\"#bd3786\"],[0.5555555555555556,\"#d8576b\"],[0.6666666666666666,\"#ed7953\"],[0.7777777777777778,\"#fb9f3a\"],[0.8888888888888888,\"#fdca26\"],[1.0,\"#f0f921\"]]}],\"surface\":[{\"type\":\"surface\",\"colorbar\":{\"outlinewidth\":0,\"ticks\":\"\"},\"colorscale\":[[0.0,\"#0d0887\"],[0.1111111111111111,\"#46039f\"],[0.2222222222222222,\"#7201a8\"],[0.3333333333333333,\"#9c179e\"],[0.4444444444444444,\"#bd3786\"],[0.5555555555555556,\"#d8576b\"],[0.6666666666666666,\"#ed7953\"],[0.7777777777777778,\"#fb9f3a\"],[0.8888888888888888,\"#fdca26\"],[1.0,\"#f0f921\"]]}],\"mesh3d\":[{\"type\":\"mesh3d\",\"colorbar\":{\"outlinewidth\":0,\"ticks\":\"\"}}],\"scatter\":[{\"fillpattern\":{\"fillmode\":\"overlay\",\"size\":10,\"solidity\":0.2},\"type\":\"scatter\"}],\"parcoords\":[{\"type\":\"parcoords\",\"line\":{\"colorbar\":{\"outlinewidth\":0,\"ticks\":\"\"}}}],\"scatterpolargl\":[{\"type\":\"scatterpolargl\",\"marker\":{\"colorbar\":{\"outlinewidth\":0,\"ticks\":\"\"}}}],\"bar\":[{\"error_x\":{\"color\":\"#2a3f5f\"},\"error_y\":{\"color\":\"#2a3f5f\"},\"marker\":{\"line\":{\"color\":\"#E5ECF6\",\"width\":0.5},\"pattern\":{\"fillmode\":\"overlay\",\"size\":10,\"solidity\":0.2}},\"type\":\"bar\"}],\"scattergeo\":[{\"type\":\"scattergeo\",\"marker\":{\"colorbar\":{\"outlinewidth\":0,\"ticks\":\"\"}}}],\"scatterpolar\":[{\"type\":\"scatterpolar\",\"marker\":{\"colorbar\":{\"outlinewidth\":0,\"ticks\":\"\"}}}],\"histogram\":[{\"marker\":{\"pattern\":{\"fillmode\":\"overlay\",\"size\":10,\"solidity\":0.2}},\"type\":\"histogram\"}],\"scattergl\":[{\"type\":\"scattergl\",\"marker\":{\"colorbar\":{\"outlinewidth\":0,\"ticks\":\"\"}}}],\"scatter3d\":[{\"type\":\"scatter3d\",\"line\":{\"colorbar\":{\"outlinewidth\":0,\"ticks\":\"\"}},\"marker\":{\"colorbar\":{\"outlinewidth\":0,\"ticks\":\"\"}}}],\"scattermapbox\":[{\"type\":\"scattermapbox\",\"marker\":{\"colorbar\":{\"outlinewidth\":0,\"ticks\":\"\"}}}],\"scatterternary\":[{\"type\":\"scatterternary\",\"marker\":{\"colorbar\":{\"outlinewidth\":0,\"ticks\":\"\"}}}],\"scattercarpet\":[{\"type\":\"scattercarpet\",\"marker\":{\"colorbar\":{\"outlinewidth\":0,\"ticks\":\"\"}}}],\"carpet\":[{\"aaxis\":{\"endlinecolor\":\"#2a3f5f\",\"gridcolor\":\"white\",\"linecolor\":\"white\",\"minorgridcolor\":\"white\",\"startlinecolor\":\"#2a3f5f\"},\"baxis\":{\"endlinecolor\":\"#2a3f5f\",\"gridcolor\":\"white\",\"linecolor\":\"white\",\"minorgridcolor\":\"white\",\"startlinecolor\":\"#2a3f5f\"},\"type\":\"carpet\"}],\"table\":[{\"cells\":{\"fill\":{\"color\":\"#EBF0F8\"},\"line\":{\"color\":\"white\"}},\"header\":{\"fill\":{\"color\":\"#C8D4E3\"},\"line\":{\"color\":\"white\"}},\"type\":\"table\"}],\"barpolar\":[{\"marker\":{\"line\":{\"color\":\"#E5ECF6\",\"width\":0.5},\"pattern\":{\"fillmode\":\"overlay\",\"size\":10,\"solidity\":0.2}},\"type\":\"barpolar\"}],\"pie\":[{\"automargin\":true,\"type\":\"pie\"}]},\"layout\":{\"autotypenumbers\":\"strict\",\"colorway\":[\"#636efa\",\"#EF553B\",\"#00cc96\",\"#ab63fa\",\"#FFA15A\",\"#19d3f3\",\"#FF6692\",\"#B6E880\",\"#FF97FF\",\"#FECB52\"],\"font\":{\"color\":\"#2a3f5f\"},\"hovermode\":\"closest\",\"hoverlabel\":{\"align\":\"left\"},\"paper_bgcolor\":\"white\",\"plot_bgcolor\":\"#E5ECF6\",\"polar\":{\"bgcolor\":\"#E5ECF6\",\"angularaxis\":{\"gridcolor\":\"white\",\"linecolor\":\"white\",\"ticks\":\"\"},\"radialaxis\":{\"gridcolor\":\"white\",\"linecolor\":\"white\",\"ticks\":\"\"}},\"ternary\":{\"bgcolor\":\"#E5ECF6\",\"aaxis\":{\"gridcolor\":\"white\",\"linecolor\":\"white\",\"ticks\":\"\"},\"baxis\":{\"gridcolor\":\"white\",\"linecolor\":\"white\",\"ticks\":\"\"},\"caxis\":{\"gridcolor\":\"white\",\"linecolor\":\"white\",\"ticks\":\"\"}},\"coloraxis\":{\"colorbar\":{\"outlinewidth\":0,\"ticks\":\"\"}},\"colorscale\":{\"sequential\":[[0.0,\"#0d0887\"],[0.1111111111111111,\"#46039f\"],[0.2222222222222222,\"#7201a8\"],[0.3333333333333333,\"#9c179e\"],[0.4444444444444444,\"#bd3786\"],[0.5555555555555556,\"#d8576b\"],[0.6666666666666666,\"#ed7953\"],[0.7777777777777778,\"#fb9f3a\"],[0.8888888888888888,\"#fdca26\"],[1.0,\"#f0f921\"]],\"sequentialminus\":[[0.0,\"#0d0887\"],[0.1111111111111111,\"#46039f\"],[0.2222222222222222,\"#7201a8\"],[0.3333333333333333,\"#9c179e\"],[0.4444444444444444,\"#bd3786\"],[0.5555555555555556,\"#d8576b\"],[0.6666666666666666,\"#ed7953\"],[0.7777777777777778,\"#fb9f3a\"],[0.8888888888888888,\"#fdca26\"],[1.0,\"#f0f921\"]],\"diverging\":[[0,\"#8e0152\"],[0.1,\"#c51b7d\"],[0.2,\"#de77ae\"],[0.3,\"#f1b6da\"],[0.4,\"#fde0ef\"],[0.5,\"#f7f7f7\"],[0.6,\"#e6f5d0\"],[0.7,\"#b8e186\"],[0.8,\"#7fbc41\"],[0.9,\"#4d9221\"],[1,\"#276419\"]]},\"xaxis\":{\"gridcolor\":\"white\",\"linecolor\":\"white\",\"ticks\":\"\",\"title\":{\"standoff\":15},\"zerolinecolor\":\"white\",\"automargin\":true,\"zerolinewidth\":2},\"yaxis\":{\"gridcolor\":\"white\",\"linecolor\":\"white\",\"ticks\":\"\",\"title\":{\"standoff\":15},\"zerolinecolor\":\"white\",\"automargin\":true,\"zerolinewidth\":2},\"scene\":{\"xaxis\":{\"backgroundcolor\":\"#E5ECF6\",\"gridcolor\":\"white\",\"linecolor\":\"white\",\"showbackground\":true,\"ticks\":\"\",\"zerolinecolor\":\"white\",\"gridwidth\":2},\"yaxis\":{\"backgroundcolor\":\"#E5ECF6\",\"gridcolor\":\"white\",\"linecolor\":\"white\",\"showbackground\":true,\"ticks\":\"\",\"zerolinecolor\":\"white\",\"gridwidth\":2},\"zaxis\":{\"backgroundcolor\":\"#E5ECF6\",\"gridcolor\":\"white\",\"linecolor\":\"white\",\"showbackground\":true,\"ticks\":\"\",\"zerolinecolor\":\"white\",\"gridwidth\":2}},\"shapedefaults\":{\"line\":{\"color\":\"#2a3f5f\"}},\"annotationdefaults\":{\"arrowcolor\":\"#2a3f5f\",\"arrowhead\":0,\"arrowwidth\":1},\"geo\":{\"bgcolor\":\"white\",\"landcolor\":\"#E5ECF6\",\"subunitcolor\":\"white\",\"showland\":true,\"showlakes\":true,\"lakecolor\":\"white\"},\"title\":{\"x\":0.05},\"mapbox\":{\"style\":\"light\"}}},\"font\":{\"size\":18},\"title\":{\"text\":\"Real vs. Synthetic Data for column amenities_fee\"},\"plot_bgcolor\":\"#F5F5F8\",\"annotations\":[{\"showarrow\":false,\"text\":\"*Missing Values: Real Data (9.0%), Synthetic Data (7.6%)\",\"x\":1.0,\"xref\":\"paper\",\"y\":1.05,\"yref\":\"paper\"}]},                        {\"responsive\": true}                    ).then(function(){\n",
       "                            \n",
       "var gd = document.getElementById('b04823a2-e4d7-4ad3-9b41-c0e63784a921');\n",
       "var x = new MutationObserver(function (mutations, observer) {{\n",
       "        var display = window.getComputedStyle(gd).display;\n",
       "        if (!display || display === 'none') {{\n",
       "            console.log([gd, 'removed!']);\n",
       "            Plotly.purge(gd);\n",
       "            observer.disconnect();\n",
       "        }}\n",
       "}});\n",
       "\n",
       "// Listen for the removal of the full notebook cells\n",
       "var notebookContainer = gd.closest('#notebook-container');\n",
       "if (notebookContainer) {{\n",
       "    x.observe(notebookContainer, {childList: true});\n",
       "}}\n",
       "\n",
       "// Listen for the clearing of the current output cell\n",
       "var outputEl = gd.closest('.output');\n",
       "if (outputEl) {{\n",
       "    x.observe(outputEl, {childList: true});\n",
       "}}\n",
       "\n",
       "                        })                };                });            </script>        </div>"
      ]
     },
     "metadata": {},
     "output_type": "display_data"
    }
   ],
   "source": [
    "from sdmetrics.reports import utils\n",
    "\n",
    "metadata_dict = metadata.to_dict()\n",
    "\n",
    "fig = utils.get_column_plot(\n",
    "    real_data=real_data,\n",
    "    synthetic_data=synthetic_data,\n",
    "    column_name='amenities_fee',\n",
    "    metadata=metadata_dict\n",
    ")\n",
    "\n",
    "fig.show()"
   ]
  },
  {
   "cell_type": "code",
   "execution_count": 17,
   "id": "156f859f-85dc-4075-95b8-e20c5f2c7439",
   "metadata": {},
   "outputs": [
    {
     "data": {
      "application/vnd.plotly.v1+json": {
       "config": {
        "plotlyServerURL": "https://plot.ly"
       },
       "data": [
        {
         "coloraxis": "coloraxis",
         "hovertemplate": "<b>Column Pair</b><br>(%{x},%{y})<br><br>Similarity: %{z}<extra></extra>",
         "type": "heatmap",
         "x": [
          "has_rewards",
          "room_type",
          "amenities_fee",
          "checkin_date",
          "checkout_date",
          "room_rate"
         ],
         "xaxis": "x",
         "y": [
          "has_rewards",
          "room_type",
          "amenities_fee",
          "checkin_date",
          "checkout_date",
          "room_rate"
         ],
         "yaxis": "y",
         "z": [
          [
           1,
           0.88,
           0.788,
           0.618,
           0.638,
           0.706
          ],
          [
           0.88,
           1,
           0.844,
           0.594,
           0.622,
           0.58
          ],
          [
           0.788,
           0.844,
           1,
           0.997,
           0.992,
           0.997
          ],
          [
           0.618,
           0.594,
           0.997,
           1,
           0.99,
           0.991
          ],
          [
           0.638,
           0.622,
           0.992,
           0.99,
           1,
           0.984
          ],
          [
           0.706,
           0.58,
           0.997,
           0.991,
           0.984,
           1
          ]
         ]
        },
        {
         "coloraxis": "coloraxis2",
         "customdata": [
          [
           1,
           0.026,
           0.039,
           0.014
          ],
          [
           0.026,
           1,
           0.979,
           0
          ],
          [
           0.039,
           0.979,
           1,
           -0.024
          ],
          [
           0.014,
           0,
           -0.024,
           1
          ]
         ],
         "hovertemplate": "<b>Correlation</b><br>(%{x},%{y})<br><br>Synthetic: %{z}<br>(vs. Real: %{customdata})<extra></extra>",
         "type": "heatmap",
         "x": [
          "amenities_fee",
          "checkin_date",
          "checkout_date",
          "room_rate"
         ],
         "xaxis": "x2",
         "y": [
          "amenities_fee",
          "checkin_date",
          "checkout_date",
          "room_rate"
         ],
         "yaxis": "y2",
         "z": [
          [
           1,
           0.031,
           0.023,
           0.009
          ],
          [
           0.031,
           1,
           1,
           0.018
          ],
          [
           0.023,
           1,
           1,
           0.008
          ],
          [
           0.009,
           0.018,
           0.008,
           1
          ]
         ]
        },
        {
         "coloraxis": "coloraxis2",
         "customdata": [
          [
           1,
           0.031,
           0.023,
           0.009
          ],
          [
           0.031,
           1,
           1,
           0.018
          ],
          [
           0.023,
           1,
           1,
           0.008
          ],
          [
           0.009,
           0.018,
           0.008,
           1
          ]
         ],
         "hovertemplate": "<b>Correlation</b><br>(%{x},%{y})<br><br>Synthetic: %{z}<br>(vs. Real: %{customdata})<extra></extra>",
         "type": "heatmap",
         "x": [
          "amenities_fee",
          "checkin_date",
          "checkout_date",
          "room_rate"
         ],
         "xaxis": "x3",
         "y": [
          "amenities_fee",
          "checkin_date",
          "checkout_date",
          "room_rate"
         ],
         "yaxis": "y3",
         "z": [
          [
           1,
           0.026,
           0.039,
           0.014
          ],
          [
           0.026,
           1,
           0.979,
           0
          ],
          [
           0.039,
           0.979,
           1,
           -0.024
          ],
          [
           0.014,
           0,
           -0.024,
           1
          ]
         ]
        }
       ],
       "layout": {
        "annotations": [
         {
          "font": {
           "size": 16
          },
          "showarrow": false,
          "text": "Real vs. Synthetic Similarity",
          "x": 0.5,
          "xanchor": "center",
          "xref": "paper",
          "y": 1,
          "yanchor": "bottom",
          "yref": "paper"
         },
         {
          "font": {
           "size": 16
          },
          "showarrow": false,
          "text": "Numerical Correlation (Real Data)",
          "x": 0.225,
          "xanchor": "center",
          "xref": "paper",
          "y": 0.375,
          "yanchor": "bottom",
          "yref": "paper"
         },
         {
          "font": {
           "size": 16
          },
          "showarrow": false,
          "text": "Numerical Correlation (Synthetic Data)",
          "x": 0.775,
          "xanchor": "center",
          "xref": "paper",
          "y": 0.375,
          "yanchor": "bottom",
          "yref": "paper"
         }
        ],
        "coloraxis": {
         "cmax": 1,
         "cmin": 0,
         "colorbar": {
          "len": 0.5,
          "x": 0.8,
          "y": 0.8
         },
         "colorscale": [
          [
           0,
           "#FF0000"
          ],
          [
           0.5,
           "#F16141"
          ],
          [
           1,
           "#36B37E"
          ]
         ]
        },
        "coloraxis2": {
         "cmax": 1,
         "cmin": -1,
         "colorbar": {
          "len": 0.5,
          "y": 0.2
         },
         "colorscale": [
          [
           0,
           "#03AFF1"
          ],
          [
           0.5,
           "#000036"
          ],
          [
           1,
           "#01E0C9"
          ]
         ]
        },
        "font": {
         "size": 18
        },
        "height": 900,
        "template": {
         "data": {
          "bar": [
           {
            "error_x": {
             "color": "#2a3f5f"
            },
            "error_y": {
             "color": "#2a3f5f"
            },
            "marker": {
             "line": {
              "color": "#E5ECF6",
              "width": 0.5
             },
             "pattern": {
              "fillmode": "overlay",
              "size": 10,
              "solidity": 0.2
             }
            },
            "type": "bar"
           }
          ],
          "barpolar": [
           {
            "marker": {
             "line": {
              "color": "#E5ECF6",
              "width": 0.5
             },
             "pattern": {
              "fillmode": "overlay",
              "size": 10,
              "solidity": 0.2
             }
            },
            "type": "barpolar"
           }
          ],
          "carpet": [
           {
            "aaxis": {
             "endlinecolor": "#2a3f5f",
             "gridcolor": "white",
             "linecolor": "white",
             "minorgridcolor": "white",
             "startlinecolor": "#2a3f5f"
            },
            "baxis": {
             "endlinecolor": "#2a3f5f",
             "gridcolor": "white",
             "linecolor": "white",
             "minorgridcolor": "white",
             "startlinecolor": "#2a3f5f"
            },
            "type": "carpet"
           }
          ],
          "choropleth": [
           {
            "colorbar": {
             "outlinewidth": 0,
             "ticks": ""
            },
            "type": "choropleth"
           }
          ],
          "contour": [
           {
            "colorbar": {
             "outlinewidth": 0,
             "ticks": ""
            },
            "colorscale": [
             [
              0,
              "#0d0887"
             ],
             [
              0.1111111111111111,
              "#46039f"
             ],
             [
              0.2222222222222222,
              "#7201a8"
             ],
             [
              0.3333333333333333,
              "#9c179e"
             ],
             [
              0.4444444444444444,
              "#bd3786"
             ],
             [
              0.5555555555555556,
              "#d8576b"
             ],
             [
              0.6666666666666666,
              "#ed7953"
             ],
             [
              0.7777777777777778,
              "#fb9f3a"
             ],
             [
              0.8888888888888888,
              "#fdca26"
             ],
             [
              1,
              "#f0f921"
             ]
            ],
            "type": "contour"
           }
          ],
          "contourcarpet": [
           {
            "colorbar": {
             "outlinewidth": 0,
             "ticks": ""
            },
            "type": "contourcarpet"
           }
          ],
          "heatmap": [
           {
            "colorbar": {
             "outlinewidth": 0,
             "ticks": ""
            },
            "colorscale": [
             [
              0,
              "#0d0887"
             ],
             [
              0.1111111111111111,
              "#46039f"
             ],
             [
              0.2222222222222222,
              "#7201a8"
             ],
             [
              0.3333333333333333,
              "#9c179e"
             ],
             [
              0.4444444444444444,
              "#bd3786"
             ],
             [
              0.5555555555555556,
              "#d8576b"
             ],
             [
              0.6666666666666666,
              "#ed7953"
             ],
             [
              0.7777777777777778,
              "#fb9f3a"
             ],
             [
              0.8888888888888888,
              "#fdca26"
             ],
             [
              1,
              "#f0f921"
             ]
            ],
            "type": "heatmap"
           }
          ],
          "heatmapgl": [
           {
            "colorbar": {
             "outlinewidth": 0,
             "ticks": ""
            },
            "colorscale": [
             [
              0,
              "#0d0887"
             ],
             [
              0.1111111111111111,
              "#46039f"
             ],
             [
              0.2222222222222222,
              "#7201a8"
             ],
             [
              0.3333333333333333,
              "#9c179e"
             ],
             [
              0.4444444444444444,
              "#bd3786"
             ],
             [
              0.5555555555555556,
              "#d8576b"
             ],
             [
              0.6666666666666666,
              "#ed7953"
             ],
             [
              0.7777777777777778,
              "#fb9f3a"
             ],
             [
              0.8888888888888888,
              "#fdca26"
             ],
             [
              1,
              "#f0f921"
             ]
            ],
            "type": "heatmapgl"
           }
          ],
          "histogram": [
           {
            "marker": {
             "pattern": {
              "fillmode": "overlay",
              "size": 10,
              "solidity": 0.2
             }
            },
            "type": "histogram"
           }
          ],
          "histogram2d": [
           {
            "colorbar": {
             "outlinewidth": 0,
             "ticks": ""
            },
            "colorscale": [
             [
              0,
              "#0d0887"
             ],
             [
              0.1111111111111111,
              "#46039f"
             ],
             [
              0.2222222222222222,
              "#7201a8"
             ],
             [
              0.3333333333333333,
              "#9c179e"
             ],
             [
              0.4444444444444444,
              "#bd3786"
             ],
             [
              0.5555555555555556,
              "#d8576b"
             ],
             [
              0.6666666666666666,
              "#ed7953"
             ],
             [
              0.7777777777777778,
              "#fb9f3a"
             ],
             [
              0.8888888888888888,
              "#fdca26"
             ],
             [
              1,
              "#f0f921"
             ]
            ],
            "type": "histogram2d"
           }
          ],
          "histogram2dcontour": [
           {
            "colorbar": {
             "outlinewidth": 0,
             "ticks": ""
            },
            "colorscale": [
             [
              0,
              "#0d0887"
             ],
             [
              0.1111111111111111,
              "#46039f"
             ],
             [
              0.2222222222222222,
              "#7201a8"
             ],
             [
              0.3333333333333333,
              "#9c179e"
             ],
             [
              0.4444444444444444,
              "#bd3786"
             ],
             [
              0.5555555555555556,
              "#d8576b"
             ],
             [
              0.6666666666666666,
              "#ed7953"
             ],
             [
              0.7777777777777778,
              "#fb9f3a"
             ],
             [
              0.8888888888888888,
              "#fdca26"
             ],
             [
              1,
              "#f0f921"
             ]
            ],
            "type": "histogram2dcontour"
           }
          ],
          "mesh3d": [
           {
            "colorbar": {
             "outlinewidth": 0,
             "ticks": ""
            },
            "type": "mesh3d"
           }
          ],
          "parcoords": [
           {
            "line": {
             "colorbar": {
              "outlinewidth": 0,
              "ticks": ""
             }
            },
            "type": "parcoords"
           }
          ],
          "pie": [
           {
            "automargin": true,
            "type": "pie"
           }
          ],
          "scatter": [
           {
            "fillpattern": {
             "fillmode": "overlay",
             "size": 10,
             "solidity": 0.2
            },
            "type": "scatter"
           }
          ],
          "scatter3d": [
           {
            "line": {
             "colorbar": {
              "outlinewidth": 0,
              "ticks": ""
             }
            },
            "marker": {
             "colorbar": {
              "outlinewidth": 0,
              "ticks": ""
             }
            },
            "type": "scatter3d"
           }
          ],
          "scattercarpet": [
           {
            "marker": {
             "colorbar": {
              "outlinewidth": 0,
              "ticks": ""
             }
            },
            "type": "scattercarpet"
           }
          ],
          "scattergeo": [
           {
            "marker": {
             "colorbar": {
              "outlinewidth": 0,
              "ticks": ""
             }
            },
            "type": "scattergeo"
           }
          ],
          "scattergl": [
           {
            "marker": {
             "colorbar": {
              "outlinewidth": 0,
              "ticks": ""
             }
            },
            "type": "scattergl"
           }
          ],
          "scattermapbox": [
           {
            "marker": {
             "colorbar": {
              "outlinewidth": 0,
              "ticks": ""
             }
            },
            "type": "scattermapbox"
           }
          ],
          "scatterpolar": [
           {
            "marker": {
             "colorbar": {
              "outlinewidth": 0,
              "ticks": ""
             }
            },
            "type": "scatterpolar"
           }
          ],
          "scatterpolargl": [
           {
            "marker": {
             "colorbar": {
              "outlinewidth": 0,
              "ticks": ""
             }
            },
            "type": "scatterpolargl"
           }
          ],
          "scatterternary": [
           {
            "marker": {
             "colorbar": {
              "outlinewidth": 0,
              "ticks": ""
             }
            },
            "type": "scatterternary"
           }
          ],
          "surface": [
           {
            "colorbar": {
             "outlinewidth": 0,
             "ticks": ""
            },
            "colorscale": [
             [
              0,
              "#0d0887"
             ],
             [
              0.1111111111111111,
              "#46039f"
             ],
             [
              0.2222222222222222,
              "#7201a8"
             ],
             [
              0.3333333333333333,
              "#9c179e"
             ],
             [
              0.4444444444444444,
              "#bd3786"
             ],
             [
              0.5555555555555556,
              "#d8576b"
             ],
             [
              0.6666666666666666,
              "#ed7953"
             ],
             [
              0.7777777777777778,
              "#fb9f3a"
             ],
             [
              0.8888888888888888,
              "#fdca26"
             ],
             [
              1,
              "#f0f921"
             ]
            ],
            "type": "surface"
           }
          ],
          "table": [
           {
            "cells": {
             "fill": {
              "color": "#EBF0F8"
             },
             "line": {
              "color": "white"
             }
            },
            "header": {
             "fill": {
              "color": "#C8D4E3"
             },
             "line": {
              "color": "white"
             }
            },
            "type": "table"
           }
          ]
         },
         "layout": {
          "annotationdefaults": {
           "arrowcolor": "#2a3f5f",
           "arrowhead": 0,
           "arrowwidth": 1
          },
          "autotypenumbers": "strict",
          "coloraxis": {
           "colorbar": {
            "outlinewidth": 0,
            "ticks": ""
           }
          },
          "colorscale": {
           "diverging": [
            [
             0,
             "#8e0152"
            ],
            [
             0.1,
             "#c51b7d"
            ],
            [
             0.2,
             "#de77ae"
            ],
            [
             0.3,
             "#f1b6da"
            ],
            [
             0.4,
             "#fde0ef"
            ],
            [
             0.5,
             "#f7f7f7"
            ],
            [
             0.6,
             "#e6f5d0"
            ],
            [
             0.7,
             "#b8e186"
            ],
            [
             0.8,
             "#7fbc41"
            ],
            [
             0.9,
             "#4d9221"
            ],
            [
             1,
             "#276419"
            ]
           ],
           "sequential": [
            [
             0,
             "#0d0887"
            ],
            [
             0.1111111111111111,
             "#46039f"
            ],
            [
             0.2222222222222222,
             "#7201a8"
            ],
            [
             0.3333333333333333,
             "#9c179e"
            ],
            [
             0.4444444444444444,
             "#bd3786"
            ],
            [
             0.5555555555555556,
             "#d8576b"
            ],
            [
             0.6666666666666666,
             "#ed7953"
            ],
            [
             0.7777777777777778,
             "#fb9f3a"
            ],
            [
             0.8888888888888888,
             "#fdca26"
            ],
            [
             1,
             "#f0f921"
            ]
           ],
           "sequentialminus": [
            [
             0,
             "#0d0887"
            ],
            [
             0.1111111111111111,
             "#46039f"
            ],
            [
             0.2222222222222222,
             "#7201a8"
            ],
            [
             0.3333333333333333,
             "#9c179e"
            ],
            [
             0.4444444444444444,
             "#bd3786"
            ],
            [
             0.5555555555555556,
             "#d8576b"
            ],
            [
             0.6666666666666666,
             "#ed7953"
            ],
            [
             0.7777777777777778,
             "#fb9f3a"
            ],
            [
             0.8888888888888888,
             "#fdca26"
            ],
            [
             1,
             "#f0f921"
            ]
           ]
          },
          "colorway": [
           "#636efa",
           "#EF553B",
           "#00cc96",
           "#ab63fa",
           "#FFA15A",
           "#19d3f3",
           "#FF6692",
           "#B6E880",
           "#FF97FF",
           "#FECB52"
          ],
          "font": {
           "color": "#2a3f5f"
          },
          "geo": {
           "bgcolor": "white",
           "lakecolor": "white",
           "landcolor": "#E5ECF6",
           "showlakes": true,
           "showland": true,
           "subunitcolor": "white"
          },
          "hoverlabel": {
           "align": "left"
          },
          "hovermode": "closest",
          "mapbox": {
           "style": "light"
          },
          "paper_bgcolor": "white",
          "plot_bgcolor": "#E5ECF6",
          "polar": {
           "angularaxis": {
            "gridcolor": "white",
            "linecolor": "white",
            "ticks": ""
           },
           "bgcolor": "#E5ECF6",
           "radialaxis": {
            "gridcolor": "white",
            "linecolor": "white",
            "ticks": ""
           }
          },
          "scene": {
           "xaxis": {
            "backgroundcolor": "#E5ECF6",
            "gridcolor": "white",
            "gridwidth": 2,
            "linecolor": "white",
            "showbackground": true,
            "ticks": "",
            "zerolinecolor": "white"
           },
           "yaxis": {
            "backgroundcolor": "#E5ECF6",
            "gridcolor": "white",
            "gridwidth": 2,
            "linecolor": "white",
            "showbackground": true,
            "ticks": "",
            "zerolinecolor": "white"
           },
           "zaxis": {
            "backgroundcolor": "#E5ECF6",
            "gridcolor": "white",
            "gridwidth": 2,
            "linecolor": "white",
            "showbackground": true,
            "ticks": "",
            "zerolinecolor": "white"
           }
          },
          "shapedefaults": {
           "line": {
            "color": "#2a3f5f"
           }
          },
          "ternary": {
           "aaxis": {
            "gridcolor": "white",
            "linecolor": "white",
            "ticks": ""
           },
           "baxis": {
            "gridcolor": "white",
            "linecolor": "white",
            "ticks": ""
           },
           "bgcolor": "#E5ECF6",
           "caxis": {
            "gridcolor": "white",
            "linecolor": "white",
            "ticks": ""
           }
          },
          "title": {
           "x": 0.05
          },
          "xaxis": {
           "automargin": true,
           "gridcolor": "white",
           "linecolor": "white",
           "ticks": "",
           "title": {
            "standoff": 15
           },
           "zerolinecolor": "white",
           "zerolinewidth": 2
          },
          "yaxis": {
           "automargin": true,
           "gridcolor": "white",
           "linecolor": "white",
           "ticks": "",
           "title": {
            "standoff": 15
           },
           "zerolinecolor": "white",
           "zerolinewidth": 2
          }
         }
        },
        "title": {
         "text": "Data Quality: Column Pair Trends (Average Score=0.81)"
        },
        "width": 900,
        "xaxis": {
         "anchor": "y",
         "domain": [
          0.26,
          0.74
         ],
         "tickangle": 45
        },
        "xaxis2": {
         "anchor": "y2",
         "domain": [
          0,
          0.45
         ],
         "tickangle": 45
        },
        "xaxis3": {
         "anchor": "y3",
         "domain": [
          0.55,
          1
         ],
         "matches": "x2",
         "tickangle": 45
        },
        "yaxis": {
         "anchor": "x",
         "autorange": "reversed",
         "domain": [
          0.625,
          1
         ]
        },
        "yaxis2": {
         "anchor": "x2",
         "autorange": "reversed",
         "domain": [
          0,
          0.375
         ]
        },
        "yaxis3": {
         "anchor": "x3",
         "autorange": "reversed",
         "domain": [
          0,
          0.375
         ],
         "matches": "y2",
         "visible": false
        }
       }
      },
      "text/html": [
       "<div>                            <div id=\"95860ebf-a4cd-4b07-becd-e5a78b214ae3\" class=\"plotly-graph-div\" style=\"height:900px; width:900px;\"></div>            <script type=\"text/javascript\">                require([\"plotly\"], function(Plotly) {                    window.PLOTLYENV=window.PLOTLYENV || {};                                    if (document.getElementById(\"95860ebf-a4cd-4b07-becd-e5a78b214ae3\")) {                    Plotly.newPlot(                        \"95860ebf-a4cd-4b07-becd-e5a78b214ae3\",                        [{\"coloraxis\":\"coloraxis\",\"hovertemplate\":\"\\u003cb\\u003eColumn Pair\\u003c\\u002fb\\u003e\\u003cbr\\u003e(%{x},%{y})\\u003cbr\\u003e\\u003cbr\\u003eSimilarity: %{z}\\u003cextra\\u003e\\u003c\\u002fextra\\u003e\",\"x\":[\"has_rewards\",\"room_type\",\"amenities_fee\",\"checkin_date\",\"checkout_date\",\"room_rate\"],\"y\":[\"has_rewards\",\"room_type\",\"amenities_fee\",\"checkin_date\",\"checkout_date\",\"room_rate\"],\"z\":[[1.0,0.88,0.788,0.618,0.638,0.706],[0.88,1.0,0.844,0.594,0.622,0.58],[0.788,0.844,1.0,0.997,0.992,0.997],[0.618,0.594,0.997,1.0,0.99,0.991],[0.638,0.622,0.992,0.99,1.0,0.984],[0.706,0.58,0.997,0.991,0.984,1.0]],\"type\":\"heatmap\",\"xaxis\":\"x\",\"yaxis\":\"y\"},{\"coloraxis\":\"coloraxis2\",\"customdata\":[[1.0,0.026,0.039,0.014],[0.026,1.0,0.979,-0.0],[0.039,0.979,1.0,-0.024],[0.014,-0.0,-0.024,1.0]],\"hovertemplate\":\"\\u003cb\\u003eCorrelation\\u003c\\u002fb\\u003e\\u003cbr\\u003e(%{x},%{y})\\u003cbr\\u003e\\u003cbr\\u003eSynthetic: %{z}\\u003cbr\\u003e(vs. Real: %{customdata})\\u003cextra\\u003e\\u003c\\u002fextra\\u003e\",\"x\":[\"amenities_fee\",\"checkin_date\",\"checkout_date\",\"room_rate\"],\"y\":[\"amenities_fee\",\"checkin_date\",\"checkout_date\",\"room_rate\"],\"z\":[[1.0,0.031,0.023,0.009],[0.031,1.0,1.0,0.018],[0.023,1.0,1.0,0.008],[0.009,0.018,0.008,1.0]],\"type\":\"heatmap\",\"xaxis\":\"x2\",\"yaxis\":\"y2\"},{\"coloraxis\":\"coloraxis2\",\"customdata\":[[1.0,0.031,0.023,0.009],[0.031,1.0,1.0,0.018],[0.023,1.0,1.0,0.008],[0.009,0.018,0.008,1.0]],\"hovertemplate\":\"\\u003cb\\u003eCorrelation\\u003c\\u002fb\\u003e\\u003cbr\\u003e(%{x},%{y})\\u003cbr\\u003e\\u003cbr\\u003eSynthetic: %{z}\\u003cbr\\u003e(vs. Real: %{customdata})\\u003cextra\\u003e\\u003c\\u002fextra\\u003e\",\"x\":[\"amenities_fee\",\"checkin_date\",\"checkout_date\",\"room_rate\"],\"y\":[\"amenities_fee\",\"checkin_date\",\"checkout_date\",\"room_rate\"],\"z\":[[1.0,0.026,0.039,0.014],[0.026,1.0,0.979,-0.0],[0.039,0.979,1.0,-0.024],[0.014,-0.0,-0.024,1.0]],\"type\":\"heatmap\",\"xaxis\":\"x3\",\"yaxis\":\"y3\"}],                        {\"template\":{\"data\":{\"histogram2dcontour\":[{\"type\":\"histogram2dcontour\",\"colorbar\":{\"outlinewidth\":0,\"ticks\":\"\"},\"colorscale\":[[0.0,\"#0d0887\"],[0.1111111111111111,\"#46039f\"],[0.2222222222222222,\"#7201a8\"],[0.3333333333333333,\"#9c179e\"],[0.4444444444444444,\"#bd3786\"],[0.5555555555555556,\"#d8576b\"],[0.6666666666666666,\"#ed7953\"],[0.7777777777777778,\"#fb9f3a\"],[0.8888888888888888,\"#fdca26\"],[1.0,\"#f0f921\"]]}],\"choropleth\":[{\"type\":\"choropleth\",\"colorbar\":{\"outlinewidth\":0,\"ticks\":\"\"}}],\"histogram2d\":[{\"type\":\"histogram2d\",\"colorbar\":{\"outlinewidth\":0,\"ticks\":\"\"},\"colorscale\":[[0.0,\"#0d0887\"],[0.1111111111111111,\"#46039f\"],[0.2222222222222222,\"#7201a8\"],[0.3333333333333333,\"#9c179e\"],[0.4444444444444444,\"#bd3786\"],[0.5555555555555556,\"#d8576b\"],[0.6666666666666666,\"#ed7953\"],[0.7777777777777778,\"#fb9f3a\"],[0.8888888888888888,\"#fdca26\"],[1.0,\"#f0f921\"]]}],\"heatmap\":[{\"type\":\"heatmap\",\"colorbar\":{\"outlinewidth\":0,\"ticks\":\"\"},\"colorscale\":[[0.0,\"#0d0887\"],[0.1111111111111111,\"#46039f\"],[0.2222222222222222,\"#7201a8\"],[0.3333333333333333,\"#9c179e\"],[0.4444444444444444,\"#bd3786\"],[0.5555555555555556,\"#d8576b\"],[0.6666666666666666,\"#ed7953\"],[0.7777777777777778,\"#fb9f3a\"],[0.8888888888888888,\"#fdca26\"],[1.0,\"#f0f921\"]]}],\"heatmapgl\":[{\"type\":\"heatmapgl\",\"colorbar\":{\"outlinewidth\":0,\"ticks\":\"\"},\"colorscale\":[[0.0,\"#0d0887\"],[0.1111111111111111,\"#46039f\"],[0.2222222222222222,\"#7201a8\"],[0.3333333333333333,\"#9c179e\"],[0.4444444444444444,\"#bd3786\"],[0.5555555555555556,\"#d8576b\"],[0.6666666666666666,\"#ed7953\"],[0.7777777777777778,\"#fb9f3a\"],[0.8888888888888888,\"#fdca26\"],[1.0,\"#f0f921\"]]}],\"contourcarpet\":[{\"type\":\"contourcarpet\",\"colorbar\":{\"outlinewidth\":0,\"ticks\":\"\"}}],\"contour\":[{\"type\":\"contour\",\"colorbar\":{\"outlinewidth\":0,\"ticks\":\"\"},\"colorscale\":[[0.0,\"#0d0887\"],[0.1111111111111111,\"#46039f\"],[0.2222222222222222,\"#7201a8\"],[0.3333333333333333,\"#9c179e\"],[0.4444444444444444,\"#bd3786\"],[0.5555555555555556,\"#d8576b\"],[0.6666666666666666,\"#ed7953\"],[0.7777777777777778,\"#fb9f3a\"],[0.8888888888888888,\"#fdca26\"],[1.0,\"#f0f921\"]]}],\"surface\":[{\"type\":\"surface\",\"colorbar\":{\"outlinewidth\":0,\"ticks\":\"\"},\"colorscale\":[[0.0,\"#0d0887\"],[0.1111111111111111,\"#46039f\"],[0.2222222222222222,\"#7201a8\"],[0.3333333333333333,\"#9c179e\"],[0.4444444444444444,\"#bd3786\"],[0.5555555555555556,\"#d8576b\"],[0.6666666666666666,\"#ed7953\"],[0.7777777777777778,\"#fb9f3a\"],[0.8888888888888888,\"#fdca26\"],[1.0,\"#f0f921\"]]}],\"mesh3d\":[{\"type\":\"mesh3d\",\"colorbar\":{\"outlinewidth\":0,\"ticks\":\"\"}}],\"scatter\":[{\"fillpattern\":{\"fillmode\":\"overlay\",\"size\":10,\"solidity\":0.2},\"type\":\"scatter\"}],\"parcoords\":[{\"type\":\"parcoords\",\"line\":{\"colorbar\":{\"outlinewidth\":0,\"ticks\":\"\"}}}],\"scatterpolargl\":[{\"type\":\"scatterpolargl\",\"marker\":{\"colorbar\":{\"outlinewidth\":0,\"ticks\":\"\"}}}],\"bar\":[{\"error_x\":{\"color\":\"#2a3f5f\"},\"error_y\":{\"color\":\"#2a3f5f\"},\"marker\":{\"line\":{\"color\":\"#E5ECF6\",\"width\":0.5},\"pattern\":{\"fillmode\":\"overlay\",\"size\":10,\"solidity\":0.2}},\"type\":\"bar\"}],\"scattergeo\":[{\"type\":\"scattergeo\",\"marker\":{\"colorbar\":{\"outlinewidth\":0,\"ticks\":\"\"}}}],\"scatterpolar\":[{\"type\":\"scatterpolar\",\"marker\":{\"colorbar\":{\"outlinewidth\":0,\"ticks\":\"\"}}}],\"histogram\":[{\"marker\":{\"pattern\":{\"fillmode\":\"overlay\",\"size\":10,\"solidity\":0.2}},\"type\":\"histogram\"}],\"scattergl\":[{\"type\":\"scattergl\",\"marker\":{\"colorbar\":{\"outlinewidth\":0,\"ticks\":\"\"}}}],\"scatter3d\":[{\"type\":\"scatter3d\",\"line\":{\"colorbar\":{\"outlinewidth\":0,\"ticks\":\"\"}},\"marker\":{\"colorbar\":{\"outlinewidth\":0,\"ticks\":\"\"}}}],\"scattermapbox\":[{\"type\":\"scattermapbox\",\"marker\":{\"colorbar\":{\"outlinewidth\":0,\"ticks\":\"\"}}}],\"scatterternary\":[{\"type\":\"scatterternary\",\"marker\":{\"colorbar\":{\"outlinewidth\":0,\"ticks\":\"\"}}}],\"scattercarpet\":[{\"type\":\"scattercarpet\",\"marker\":{\"colorbar\":{\"outlinewidth\":0,\"ticks\":\"\"}}}],\"carpet\":[{\"aaxis\":{\"endlinecolor\":\"#2a3f5f\",\"gridcolor\":\"white\",\"linecolor\":\"white\",\"minorgridcolor\":\"white\",\"startlinecolor\":\"#2a3f5f\"},\"baxis\":{\"endlinecolor\":\"#2a3f5f\",\"gridcolor\":\"white\",\"linecolor\":\"white\",\"minorgridcolor\":\"white\",\"startlinecolor\":\"#2a3f5f\"},\"type\":\"carpet\"}],\"table\":[{\"cells\":{\"fill\":{\"color\":\"#EBF0F8\"},\"line\":{\"color\":\"white\"}},\"header\":{\"fill\":{\"color\":\"#C8D4E3\"},\"line\":{\"color\":\"white\"}},\"type\":\"table\"}],\"barpolar\":[{\"marker\":{\"line\":{\"color\":\"#E5ECF6\",\"width\":0.5},\"pattern\":{\"fillmode\":\"overlay\",\"size\":10,\"solidity\":0.2}},\"type\":\"barpolar\"}],\"pie\":[{\"automargin\":true,\"type\":\"pie\"}]},\"layout\":{\"autotypenumbers\":\"strict\",\"colorway\":[\"#636efa\",\"#EF553B\",\"#00cc96\",\"#ab63fa\",\"#FFA15A\",\"#19d3f3\",\"#FF6692\",\"#B6E880\",\"#FF97FF\",\"#FECB52\"],\"font\":{\"color\":\"#2a3f5f\"},\"hovermode\":\"closest\",\"hoverlabel\":{\"align\":\"left\"},\"paper_bgcolor\":\"white\",\"plot_bgcolor\":\"#E5ECF6\",\"polar\":{\"bgcolor\":\"#E5ECF6\",\"angularaxis\":{\"gridcolor\":\"white\",\"linecolor\":\"white\",\"ticks\":\"\"},\"radialaxis\":{\"gridcolor\":\"white\",\"linecolor\":\"white\",\"ticks\":\"\"}},\"ternary\":{\"bgcolor\":\"#E5ECF6\",\"aaxis\":{\"gridcolor\":\"white\",\"linecolor\":\"white\",\"ticks\":\"\"},\"baxis\":{\"gridcolor\":\"white\",\"linecolor\":\"white\",\"ticks\":\"\"},\"caxis\":{\"gridcolor\":\"white\",\"linecolor\":\"white\",\"ticks\":\"\"}},\"coloraxis\":{\"colorbar\":{\"outlinewidth\":0,\"ticks\":\"\"}},\"colorscale\":{\"sequential\":[[0.0,\"#0d0887\"],[0.1111111111111111,\"#46039f\"],[0.2222222222222222,\"#7201a8\"],[0.3333333333333333,\"#9c179e\"],[0.4444444444444444,\"#bd3786\"],[0.5555555555555556,\"#d8576b\"],[0.6666666666666666,\"#ed7953\"],[0.7777777777777778,\"#fb9f3a\"],[0.8888888888888888,\"#fdca26\"],[1.0,\"#f0f921\"]],\"sequentialminus\":[[0.0,\"#0d0887\"],[0.1111111111111111,\"#46039f\"],[0.2222222222222222,\"#7201a8\"],[0.3333333333333333,\"#9c179e\"],[0.4444444444444444,\"#bd3786\"],[0.5555555555555556,\"#d8576b\"],[0.6666666666666666,\"#ed7953\"],[0.7777777777777778,\"#fb9f3a\"],[0.8888888888888888,\"#fdca26\"],[1.0,\"#f0f921\"]],\"diverging\":[[0,\"#8e0152\"],[0.1,\"#c51b7d\"],[0.2,\"#de77ae\"],[0.3,\"#f1b6da\"],[0.4,\"#fde0ef\"],[0.5,\"#f7f7f7\"],[0.6,\"#e6f5d0\"],[0.7,\"#b8e186\"],[0.8,\"#7fbc41\"],[0.9,\"#4d9221\"],[1,\"#276419\"]]},\"xaxis\":{\"gridcolor\":\"white\",\"linecolor\":\"white\",\"ticks\":\"\",\"title\":{\"standoff\":15},\"zerolinecolor\":\"white\",\"automargin\":true,\"zerolinewidth\":2},\"yaxis\":{\"gridcolor\":\"white\",\"linecolor\":\"white\",\"ticks\":\"\",\"title\":{\"standoff\":15},\"zerolinecolor\":\"white\",\"automargin\":true,\"zerolinewidth\":2},\"scene\":{\"xaxis\":{\"backgroundcolor\":\"#E5ECF6\",\"gridcolor\":\"white\",\"linecolor\":\"white\",\"showbackground\":true,\"ticks\":\"\",\"zerolinecolor\":\"white\",\"gridwidth\":2},\"yaxis\":{\"backgroundcolor\":\"#E5ECF6\",\"gridcolor\":\"white\",\"linecolor\":\"white\",\"showbackground\":true,\"ticks\":\"\",\"zerolinecolor\":\"white\",\"gridwidth\":2},\"zaxis\":{\"backgroundcolor\":\"#E5ECF6\",\"gridcolor\":\"white\",\"linecolor\":\"white\",\"showbackground\":true,\"ticks\":\"\",\"zerolinecolor\":\"white\",\"gridwidth\":2}},\"shapedefaults\":{\"line\":{\"color\":\"#2a3f5f\"}},\"annotationdefaults\":{\"arrowcolor\":\"#2a3f5f\",\"arrowhead\":0,\"arrowwidth\":1},\"geo\":{\"bgcolor\":\"white\",\"landcolor\":\"#E5ECF6\",\"subunitcolor\":\"white\",\"showland\":true,\"showlakes\":true,\"lakecolor\":\"white\"},\"title\":{\"x\":0.05},\"mapbox\":{\"style\":\"light\"}}},\"xaxis\":{\"anchor\":\"y\",\"domain\":[0.26,0.74],\"tickangle\":45},\"yaxis\":{\"anchor\":\"x\",\"domain\":[0.625,1.0],\"autorange\":\"reversed\"},\"xaxis2\":{\"anchor\":\"y2\",\"domain\":[0.0,0.45],\"tickangle\":45},\"yaxis2\":{\"anchor\":\"x2\",\"domain\":[0.0,0.375],\"autorange\":\"reversed\"},\"xaxis3\":{\"anchor\":\"y3\",\"domain\":[0.55,1.0],\"tickangle\":45,\"matches\":\"x2\"},\"yaxis3\":{\"anchor\":\"x3\",\"domain\":[0.0,0.375],\"visible\":false,\"matches\":\"y2\",\"autorange\":\"reversed\"},\"annotations\":[{\"font\":{\"size\":16},\"showarrow\":false,\"text\":\"Real vs. Synthetic Similarity\",\"x\":0.5,\"xanchor\":\"center\",\"xref\":\"paper\",\"y\":1.0,\"yanchor\":\"bottom\",\"yref\":\"paper\"},{\"font\":{\"size\":16},\"showarrow\":false,\"text\":\"Numerical Correlation (Real Data)\",\"x\":0.225,\"xanchor\":\"center\",\"xref\":\"paper\",\"y\":0.375,\"yanchor\":\"bottom\",\"yref\":\"paper\"},{\"font\":{\"size\":16},\"showarrow\":false,\"text\":\"Numerical Correlation (Synthetic Data)\",\"x\":0.775,\"xanchor\":\"center\",\"xref\":\"paper\",\"y\":0.375,\"yanchor\":\"bottom\",\"yref\":\"paper\"}],\"title\":{\"text\":\"Data Quality: Column Pair Trends (Average Score=0.81)\"},\"coloraxis\":{\"colorbar\":{\"len\":0.5,\"x\":0.8,\"y\":0.8},\"cmin\":0,\"cmax\":1,\"colorscale\":[[0.0,\"#FF0000\"],[0.5,\"#F16141\"],[1.0,\"#36B37E\"]]},\"coloraxis2\":{\"colorbar\":{\"len\":0.5,\"y\":0.2},\"cmin\":-1,\"cmax\":1,\"colorscale\":[[0.0,\"#03AFF1\"],[0.5,\"#000036\"],[1.0,\"#01E0C9\"]]},\"font\":{\"size\":18},\"height\":900,\"width\":900},                        {\"responsive\": true}                    ).then(function(){\n",
       "                            \n",
       "var gd = document.getElementById('95860ebf-a4cd-4b07-becd-e5a78b214ae3');\n",
       "var x = new MutationObserver(function (mutations, observer) {{\n",
       "        var display = window.getComputedStyle(gd).display;\n",
       "        if (!display || display === 'none') {{\n",
       "            console.log([gd, 'removed!']);\n",
       "            Plotly.purge(gd);\n",
       "            observer.disconnect();\n",
       "        }}\n",
       "}});\n",
       "\n",
       "// Listen for the removal of the full notebook cells\n",
       "var notebookContainer = gd.closest('#notebook-container');\n",
       "if (notebookContainer) {{\n",
       "    x.observe(notebookContainer, {childList: true});\n",
       "}}\n",
       "\n",
       "// Listen for the clearing of the current output cell\n",
       "var outputEl = gd.closest('.output');\n",
       "if (outputEl) {{\n",
       "    x.observe(outputEl, {childList: true});\n",
       "}}\n",
       "\n",
       "                        })                };                });            </script>        </div>"
      ]
     },
     "metadata": {},
     "output_type": "display_data"
    }
   ],
   "source": [
    "quality_report.get_visualization('Column Pair Trends')"
   ]
  },
  {
   "cell_type": "code",
   "execution_count": null,
   "id": "935ecead",
   "metadata": {},
   "outputs": [],
   "source": []
  }
 ],
 "metadata": {
  "kernelspec": {
   "display_name": "Python 3 (ipykernel)",
   "language": "python",
   "name": "python3"
  },
  "language_info": {
   "codemirror_mode": {
    "name": "ipython",
    "version": 3
   },
   "file_extension": ".py",
   "mimetype": "text/x-python",
   "name": "python",
   "nbconvert_exporter": "python",
   "pygments_lexer": "ipython3",
   "version": "3.11.4"
  }
 },
 "nbformat": 4,
 "nbformat_minor": 5
}
